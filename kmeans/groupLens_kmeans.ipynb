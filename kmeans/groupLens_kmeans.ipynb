{
 "cells": [
  {
   "cell_type": "code",
   "execution_count": 1,
   "metadata": {},
   "outputs": [],
   "source": [
    "import pandas as pd\n",
    "import numpy as np"
   ]
  },
  {
   "cell_type": "code",
   "execution_count": 2,
   "metadata": {},
   "outputs": [],
   "source": [
    "data_folder = \"../../Dataset/Movie/\""
   ]
  },
  {
   "cell_type": "code",
   "execution_count": 3,
   "metadata": {},
   "outputs": [],
   "source": [
    "rating = pd.read_csv(f\"{data_folder}ratings.csv\").drop([\"timestamp\"], axis=1)\n",
    "movie = pd.read_csv(f\"{data_folder}movies.csv\")\n",
    "#tag = pd.read_csv(f\"{data_folder}tags.csv\").drop([\"timestamp\"], axis=1)\n",
    "data = pd.merge(movie, rating, on=\"movieId\")"
   ]
  },
  {
   "cell_type": "code",
   "execution_count": 4,
   "metadata": {},
   "outputs": [
    {
     "name": "stdout",
     "output_type": "stream",
     "text": [
      "Toy Story (1995)------------------------ 0 : Kept\n",
      "Jumanji (1995)-------------------------- 157 : Removed\n",
      "Grumpier Old Men (1995)----------------- 164 : Removed\n",
      "Waiting to Exhale (1995)---------------- 196 : Removed\n",
      "Father of the Bride Part II (1995)------ 170 : Removed\n"
     ]
    }
   ],
   "source": [
    "N = 5\n",
    "ids = data.userId.unique()[0:200]\n",
    "titles = data.title.unique()[:N]\n",
    "tresh = int(len(ids)*0.4)\n",
    "\n",
    "pv = pd.DataFrame(index=ids, columns=titles)\n",
    "\n",
    "for title in titles:\n",
    "    for id in ids:\n",
    "        tmp_df = data[data[\"userId\"] == id]\n",
    "        tmp_df = tmp_df[tmp_df[\"title\"] == title]\n",
    "\n",
    "        if len(tmp_df) != 0:\n",
    "            pv.loc[id][title] = tmp_df[\"rating\"].values[0]\n",
    "\n",
    "    nb = np.sum(pv[title].isna(), axis=0)\n",
    "    if (nb > tresh):\n",
    "        txt = \"Removed\" \n",
    "        pv = pv.drop([title], axis=1)\n",
    "    else: \n",
    "        txt = \"Kept\"\n",
    "        \n",
    "    print(f\"{title:-<40} {nb} : {txt}\")\n"
   ]
  },
  {
   "cell_type": "code",
   "execution_count": 5,
   "metadata": {},
   "outputs": [],
   "source": [
    "def add_only_new_elem(base_list:list, adding_list:list)->list:\n",
    "    commun = [elem for elem in adding_list if elem in base_list]\n",
    "    for elem in commun:\n",
    "        adding_list.remove(elem)\n",
    "    return adding_list"
   ]
  },
  {
   "cell_type": "code",
   "execution_count": 6,
   "metadata": {},
   "outputs": [],
   "source": [
    "genre = []\n",
    "for g in data.genres.value_counts().index:\n",
    "    genre = genre + add_only_new_elem(genre, g.split(\"|\"))\n",
    "genre.remove(\"IMAX\")\n",
    "genre.remove('(no genres listed)')"
   ]
  }
 ],
 "metadata": {
  "interpreter": {
   "hash": "74a981a46e37d63b82983f5b77d7c74cce8983549ccfc8d083c110a6dffce6c1"
  },
  "kernelspec": {
   "display_name": "Python 3.10.4 64-bit",
   "language": "python",
   "name": "python3"
  },
  "language_info": {
   "codemirror_mode": {
    "name": "ipython",
    "version": 3
   },
   "file_extension": ".py",
   "mimetype": "text/x-python",
   "name": "python",
   "nbconvert_exporter": "python",
   "pygments_lexer": "ipython3",
   "version": "3.10.4"
  },
  "orig_nbformat": 4
 },
 "nbformat": 4,
 "nbformat_minor": 2
}
