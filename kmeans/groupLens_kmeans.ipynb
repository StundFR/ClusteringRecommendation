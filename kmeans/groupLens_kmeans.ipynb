{
 "cells": [
  {
   "cell_type": "code",
   "execution_count": 1,
   "metadata": {},
   "outputs": [],
   "source": [
    "import pandas as pd\n",
    "import numpy as np"
   ]
  },
  {
   "cell_type": "code",
   "execution_count": 2,
   "metadata": {},
   "outputs": [],
   "source": [
    "data_folder = \"../../Dataset/Movie/\""
   ]
  },
  {
   "cell_type": "code",
   "execution_count": 3,
   "metadata": {},
   "outputs": [],
   "source": [
    "rating = pd.read_csv(f\"{data_folder}ratings.csv\").drop([\"timestamp\"], axis=1)\n",
    "movie = pd.read_csv(f\"{data_folder}movies.csv\")\n",
    "#tag = pd.read_csv(f\"{data_folder}tags.csv\").drop([\"timestamp\"], axis=1)\n",
    "data = pd.merge(movie, rating, on=\"movieId\")"
   ]
  },
  {
   "cell_type": "code",
   "execution_count": 6,
   "metadata": {},
   "outputs": [],
   "source": [
    "cdata = data.copy()\n",
    "N = 10**3\n",
    "\n",
    "ids = cdata[\"userId\"].value_counts()[:N].index\n",
    "cdata = cdata[cdata[\"userId\"].isin(ids)]\n",
    "\n",
    "titles = cdata[\"title\"].value_counts()[:N].index\n",
    "cdata = cdata[cdata[\"title\"].isin(titles)]\n",
    "\n",
    "pv = cdata.pivot_table(index=\"userId\", columns=\"title\", values=\"rating\")"
   ]
  },
  {
   "cell_type": "code",
   "execution_count": null,
   "metadata": {},
   "outputs": [],
   "source": [
    "def add_only_new_elem(base_list:list, adding_list:list)->list:\n",
    "    commun = [elem for elem in adding_list if elem in base_list]\n",
    "    for elem in commun:\n",
    "        adding_list.remove(elem)\n",
    "    return adding_list"
   ]
  },
  {
   "cell_type": "code",
   "execution_count": null,
   "metadata": {},
   "outputs": [],
   "source": [
    "genre = []\n",
    "for g in data.genres.value_counts().index:\n",
    "    genre = genre + add_only_new_elem(genre, g.split(\"|\"))\n",
    "genre.remove(\"IMAX\")\n",
    "genre.remove('(no genres listed)')"
   ]
  }
 ],
 "metadata": {
  "interpreter": {
   "hash": "74a981a46e37d63b82983f5b77d7c74cce8983549ccfc8d083c110a6dffce6c1"
  },
  "kernelspec": {
   "display_name": "Python 3.10.4 64-bit",
   "language": "python",
   "name": "python3"
  },
  "language_info": {
   "codemirror_mode": {
    "name": "ipython",
    "version": 3
   },
   "file_extension": ".py",
   "mimetype": "text/x-python",
   "name": "python",
   "nbconvert_exporter": "python",
   "pygments_lexer": "ipython3",
   "version": "3.10.4"
  },
  "orig_nbformat": 4
 },
 "nbformat": 4,
 "nbformat_minor": 2
}
