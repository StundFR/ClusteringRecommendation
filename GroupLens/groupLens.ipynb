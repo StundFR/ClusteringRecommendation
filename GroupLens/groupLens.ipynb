{
 "cells": [
  {
   "cell_type": "markdown",
   "metadata": {},
   "source": [
    "# 0 - Instalation of modules"
   ]
  },
  {
   "cell_type": "markdown",
   "metadata": {},
   "source": [
    "#Run this cell to have the progress bar\n",
    "!pip install tqdm\n",
    "!pip install ipywidgets\n",
    "!jupyter nbextension enable --py widgetsnbextension"
   ]
  },
  {
   "cell_type": "markdown",
   "metadata": {},
   "source": [
    "# 1 - Importing modules"
   ]
  },
  {
   "cell_type": "code",
   "execution_count": 2,
   "metadata": {},
   "outputs": [],
   "source": [
    "import pandas as pd\n",
    "import numpy as np\n",
    "from tqdm.notebook import tqdm\n",
    "from sklearn.metrics.pairwise import cosine_similarity\n",
    "import matplotlib.pyplot as plt"
   ]
  },
  {
   "cell_type": "markdown",
   "metadata": {},
   "source": [
    "# 2 - Get all files needed"
   ]
  },
  {
   "cell_type": "code",
   "execution_count": 3,
   "metadata": {},
   "outputs": [],
   "source": [
    "data_folder = \"../../Dataset/Movie/\""
   ]
  },
  {
   "cell_type": "code",
   "execution_count": 3,
   "metadata": {},
   "outputs": [
    {
     "data": {
      "text/plain": [
       "(25000095, 3)"
      ]
     },
     "execution_count": 3,
     "metadata": {},
     "output_type": "execute_result"
    }
   ],
   "source": [
    "rating = pd.read_csv(f\"{data_folder}ratings.csv\").drop([\"timestamp\"], axis=1)\n",
    "movie = pd.read_csv(f\"{data_folder}movies.csv\")\n",
    "\n",
    "data = pd.merge(movie, rating, on=\"movieId\").drop([\"genres\", \"movieId\"], axis=1)\n",
    "data.shape"
   ]
  },
  {
   "cell_type": "markdown",
   "metadata": {},
   "source": [
    "# 3 - Transforming data"
   ]
  },
  {
   "cell_type": "code",
   "execution_count": 4,
   "metadata": {},
   "outputs": [
    {
     "data": {
      "text/plain": [
       "(10944751, 3)"
      ]
     },
     "execution_count": 4,
     "metadata": {},
     "output_type": "execute_result"
    }
   ],
   "source": [
    "#On garde les NB_FILM films les plus notés\n",
    "NB_FILM = 500\n",
    "keep_title = data[\"title\"].value_counts().sort_values(ascending=0)[:NB_FILM].index\n",
    "data_title = data[data[\"title\"].isin(keep_title)]\n",
    "data_title.shape"
   ]
  },
  {
   "cell_type": "code",
   "execution_count": 5,
   "metadata": {},
   "outputs": [],
   "source": [
    "#On garde les users qui ont données une note sur au moins THRESH_USER % des films\n",
    "THRESH_USER = 0.3\n",
    "keep_user = data_title[\"userId\"].value_counts()/NB_FILM >= THRESH_USER\n",
    "data_title_user = data_title[data_title[\"userId\"].isin(keep_user[keep_user].index)]"
   ]
  },
  {
   "cell_type": "code",
   "execution_count": 89,
   "metadata": {},
   "outputs": [
    {
     "data": {
      "text/plain": [
       "(18391, 500)"
      ]
     },
     "execution_count": 89,
     "metadata": {},
     "output_type": "execute_result"
    }
   ],
   "source": [
    "#On fait notre pivot table\n",
    "user_title_df = data_title_user.pivot_table(index=\"userId\", columns=\"title\", values=\"rating\")\n",
    "user_title_df.to_csv(f\"{data_folder}user_title.csv\")\n",
    "user_title_df.shape"
   ]
  },
  {
   "cell_type": "markdown",
   "metadata": {},
   "source": [
    "# 4 - Colaborative filtering"
   ]
  },
  {
   "cell_type": "code",
   "execution_count": 27,
   "metadata": {},
   "outputs": [],
   "source": [
    "#Récupérer les données si elles sont en local\n",
    "user_title_df = pd.read_csv(f\"{data_folder}user_title.csv\")\n",
    "\n",
    "cluster = pd.read_csv(f\"{data_folder}cluster.csv\", index_col=0).T.to_dict()\n",
    "for k in cluster.keys():\n",
    "    for k2 in cluster[k].keys():\n",
    "        l = []\n",
    "\n",
    "        if (cluster[k][k2] != \"[]\"):\n",
    "            tmp = cluster[k][k2].split(\",\")\n",
    "            \n",
    "            for elem in tmp:\n",
    "                if (elem == tmp[-1]):\n",
    "                    l.append(int(elem[1:-1]))\n",
    "                else:\n",
    "                    l.append(int(elem[1:]))\n",
    "\n",
    "        cluster[k][k2] = l"
   ]
  },
  {
   "cell_type": "code",
   "execution_count": 4,
   "metadata": {},
   "outputs": [
    {
     "data": {
      "text/plain": [
       "(18391, 501)"
      ]
     },
     "execution_count": 4,
     "metadata": {},
     "output_type": "execute_result"
    }
   ],
   "source": [
    "#Standardisation des lignes pour supprimer les biais\n",
    "def standardize(row):\n",
    "    return row - np.mean(row)\n",
    "\n",
    "user_title_std = user_title_df.apply(standardize, axis=1).fillna(0)\n",
    "user_title_std.shape"
   ]
  },
  {
   "cell_type": "code",
   "execution_count": 5,
   "metadata": {},
   "outputs": [],
   "source": [
    "#Création de la matrice de cosinus distance\n",
    "cos = cosine_similarity(user_title_std)\n",
    "cos_df = pd.DataFrame(cos, index=user_title_std.index, columns=user_title_std.index)"
   ]
  },
  {
   "cell_type": "code",
   "execution_count": 6,
   "metadata": {},
   "outputs": [],
   "source": [
    "#On garde les candidats similaire et complétement opposé\n",
    "if (\"cluster\" not in locals()):    \n",
    "    eps = 0.7\n",
    "    cluster = {user : {\"+\" : [], \"-\" : []} for user in user_title_df.index}\n",
    "    L = len(cos_df)\n",
    "\n",
    "    i = 1\n",
    "    for user1 in tqdm(user_title_df.index):\n",
    "        for user2 in user_title_df.index[i:]:\n",
    "            tmp = cos_df.loc[user1, user2]\n",
    "\n",
    "            if (tmp >= eps):\n",
    "                cluster[user1][\"+\"].append(user2)\n",
    "                cluster[user2][\"+\"].append(user1)\n",
    "            elif (tmp <= -eps):\n",
    "                cluster[user1][\"-\"].append(user2)\n",
    "                cluster[user2][\"-\"].append(user1)\n",
    "\n",
    "        i += 1\n",
    "\n",
    "    pd.DataFrame.from_dict(cluster).T.to_csv(f\"{data_folder}cluster.csv\")"
   ]
  },
  {
   "cell_type": "code",
   "execution_count": 5,
   "metadata": {},
   "outputs": [
    {
     "data": {
      "text/plain": [
       "87"
      ]
     },
     "execution_count": 5,
     "metadata": {},
     "output_type": "execute_result"
    }
   ],
   "source": [
    "cluster_non_vide = []\n",
    "for k in cluster.keys():\n",
    "    if (len(cluster[k][\"+\"]) > 20):\n",
    "        cluster_non_vide.append(k)\n",
    "len(cluster_non_vide)"
   ]
  },
  {
   "cell_type": "code",
   "execution_count": 28,
   "metadata": {},
   "outputs": [],
   "source": [
    "#On devine la note en fonction des candidtats similaires\n",
    "def guess_rate_cluster(user, title):\n",
    "    rate = 0\n",
    "    coeff = 0\n",
    "\n",
    "    for u in cluster[user][\"+\"]:\n",
    "        if not (pd.isnull(user_title_df.loc[u, title])):\n",
    "            rate += cos_df.loc[user, u]*user_title_df.loc[u, title]\n",
    "            coeff += cos_df.loc[user, u]\n",
    "\n",
    "    if (coeff == 0):\n",
    "        return 2.5\n",
    "    else:   \n",
    "        return rate/coeff"
   ]
  },
  {
   "cell_type": "code",
   "execution_count": 29,
   "metadata": {},
   "outputs": [],
   "source": [
    "#On devine la note en fonction de tous les candidats\n",
    "def guess_rate_all(user, title):\n",
    "    rate = 0\n",
    "    coef = 0\n",
    "\n",
    "    for i in user_title_df.index:\n",
    "        if (i != user) and not (pd.isnull(user_title_df.loc[i, title])):\n",
    "            rate += cos_df.loc[user, i]*user_title_df.loc[i, title]\n",
    "            coef += cos_df.loc[user, i]\n",
    "\n",
    "    if (coef == 0):\n",
    "            return 2.5\n",
    "    else:   \n",
    "        return rate/coef"
   ]
  },
  {
   "cell_type": "code",
   "execution_count": 14,
   "metadata": {},
   "outputs": [
    {
     "data": {
      "application/vnd.jupyter.widget-view+json": {
       "model_id": "9b8ae6e7c5c145fca4c8b5e917d4fb98",
       "version_major": 2,
       "version_minor": 0
      },
      "text/plain": [
       "  0%|          | 0/500 [00:00<?, ?it/s]"
      ]
     },
     "metadata": {},
     "output_type": "display_data"
    }
   ],
   "source": [
    "#On compare les deux méthodes\n",
    "from time import time\n",
    "\n",
    "user = cluster_non_vide\n",
    "titles = user_title_df.columns\n",
    "\n",
    "deltaT = []\n",
    "t_cluster = []\n",
    "t_all = []\n",
    "positif = 0\n",
    "\n",
    "deltaN = []\n",
    "n_cluster = []\n",
    "n_all = []\n",
    "sup = 0\n",
    "\n",
    "for title in tqdm(titles):\n",
    "    start = time()\n",
    "    n_cluster.append(guess_rate_cluster(user, title))\n",
    "    t_cluster.append(time() - start)\n",
    "\n",
    "    start = time()\n",
    "    n_all.append(guess_rate_all(user, title))\n",
    "    t_all.append(time() - start)\n",
    "    \n",
    "    dN = n_cluster[-1]-n_all[-1]\n",
    "    deltaN.append(np.abs(dN))\n",
    "    sup += 1 if (dN > 0) else 0 \n",
    "\n",
    "    dT = t_all[-1]-t_cluster[-1]\n",
    "    deltaT.append(np.abs(dT))\n",
    "    positif += 1 if (dT > 0) else 0"
   ]
  },
  {
   "cell_type": "code",
   "execution_count": 15,
   "metadata": {},
   "outputs": [
    {
     "data": {
      "image/png": "[encoded data removed]",
      "text/plain": [
       "<Figure size 1800x720 with 6 Axes>"
      ]
     },
     "metadata": {
      "needs_background": "light"
     },
     "output_type": "display_data"
    }
   ],
   "source": [
    "#On affiche graphiquement le comparatif\n",
    "plt.figure(figsize=(25,10))\n",
    "\n",
    "j = 0\n",
    "plots_pie = [[positif, len(t_cluster)-positif], [sup, len(n_cluster)-sup]]\n",
    "labels_pie = [[\"+ Rapide\", \"- Rapide\"], [\"+ Haute\", \"- Haute\"]]\n",
    "titles_pie = [\"Nb de fois on Cluster est plus rapide que All\", \"Nb de fois que Cluster à données une note plus haute\"]\n",
    "\n",
    "k = 0\n",
    "plots_box = [[t_cluster, t_all], deltaT, [n_cluster, n_all], deltaN]\n",
    "labels_box = [[\"Cluster\", \"All\"], [\"Delta\"], [\"Cluster\", \"All\"], [\"Delta\"]]\n",
    "titles_box = [\"Temps d'éxécution\", \"Différence de temps\", \"Notes\", \"Différence de note\"]\n",
    "\n",
    "for i in range(6):\n",
    "    plt.subplot(2, 3, i+1)\n",
    "\n",
    "    if i+1 in [1, 4]:\n",
    "        plt.pie(plots_pie[j], labels=labels_pie[j], autopct='%.0f%%')\n",
    "        plt.title(titles_pie[j])\n",
    "        j += 1\n",
    "    else:\n",
    "        plt.boxplot(plots_box[k], labels=labels_box[k])\n",
    "        plt.title(titles_box[k])\n",
    "        k += 1\n",
    "\n",
    "plt.show()"
   ]
  },
  {
   "cell_type": "code",
   "execution_count": 111,
   "metadata": {},
   "outputs": [
    {
     "data": {
      "application/vnd.jupyter.widget-view+json": {
       "model_id": "3a33c101bc524d3ca629779cff9c1f7f",
       "version_major": 2,
       "version_minor": 0
      },
      "text/plain": [
       "  0%|          | 0/8 [00:00<?, ?it/s]"
      ]
     },
     "metadata": {},
     "output_type": "display_data"
    },
    {
     "data": {
      "application/vnd.jupyter.widget-view+json": {
       "model_id": "6c8d73c730ed4142809f33212ba00df7",
       "version_major": 2,
       "version_minor": 0
      },
      "text/plain": [
       "  0%|          | 0/267 [00:00<?, ?it/s]"
      ]
     },
     "metadata": {},
     "output_type": "display_data"
    },
    {
     "data": {
      "application/vnd.jupyter.widget-view+json": {
       "model_id": "d1e1b20335c6434898afd8388f1b9236",
       "version_major": 2,
       "version_minor": 0
      },
      "text/plain": [
       "  0%|          | 0/287 [00:00<?, ?it/s]"
      ]
     },
     "metadata": {},
     "output_type": "display_data"
    },
    {
     "data": {
      "application/vnd.jupyter.widget-view+json": {
       "model_id": "c053442201f44f35856ba73499d1e257",
       "version_major": 2,
       "version_minor": 0
      },
      "text/plain": [
       "  0%|          | 0/258 [00:00<?, ?it/s]"
      ]
     },
     "metadata": {},
     "output_type": "display_data"
    },
    {
     "data": {
      "application/vnd.jupyter.widget-view+json": {
       "model_id": "5b091acb2a034f31aaf688bdcdf83e17",
       "version_major": 2,
       "version_minor": 0
      },
      "text/plain": [
       "  0%|          | 0/299 [00:00<?, ?it/s]"
      ]
     },
     "metadata": {},
     "output_type": "display_data"
    },
    {
     "data": {
      "application/vnd.jupyter.widget-view+json": {
       "model_id": "13dcdf87a1474095a6518ebf4b6c90a2",
       "version_major": 2,
       "version_minor": 0
      },
      "text/plain": [
       "  0%|          | 0/266 [00:00<?, ?it/s]"
      ]
     },
     "metadata": {},
     "output_type": "display_data"
    },
    {
     "data": {
      "application/vnd.jupyter.widget-view+json": {
       "model_id": "0fc06ae93d5a480a992b7bf5722dd73b",
       "version_major": 2,
       "version_minor": 0
      },
      "text/plain": [
       "  0%|          | 0/292 [00:00<?, ?it/s]"
      ]
     },
     "metadata": {},
     "output_type": "display_data"
    },
    {
     "data": {
      "application/vnd.jupyter.widget-view+json": {
       "model_id": "abc1aefe04fb4c24a5305c78b7cbd726",
       "version_major": 2,
       "version_minor": 0
      },
      "text/plain": [
       "  0%|          | 0/250 [00:00<?, ?it/s]"
      ]
     },
     "metadata": {},
     "output_type": "display_data"
    },
    {
     "data": {
      "application/vnd.jupyter.widget-view+json": {
       "model_id": "8f437d74e77e4970a18924d8175d9181",
       "version_major": 2,
       "version_minor": 0
      },
      "text/plain": [
       "  0%|          | 0/286 [00:00<?, ?it/s]"
      ]
     },
     "metadata": {},
     "output_type": "display_data"
    }
   ],
   "source": [
    "users = cluster_non_vide\n",
    "\n",
    "n_cluster = []\n",
    "n_all = []\n",
    "delta = []\n",
    "n_true = []\n",
    "\n",
    "for user in tqdm(users):\n",
    "    all_rated_film = user_title_df.loc[user].dropna(axis=0)\n",
    "    n_true += all_rated_film.values.tolist()\n",
    "    \n",
    "    for movie in tqdm(all_rated_film.index, leave=False):\n",
    "        clust = guess_rate_cluster(user, movie)\n",
    "        all = guess_rate_all(user, movie)\n",
    "\n",
    "        delta.append(np.abs(all-clust))\n",
    "        n_cluster.append(clust)\n",
    "        n_all.append(all)"
   ]
  },
  {
   "cell_type": "code",
   "execution_count": 112,
   "metadata": {},
   "outputs": [
    {
     "data": {
      "image/png": "[encoded data removed]",
      "text/plain": [
       "<Figure size 1080x432 with 2 Axes>"
      ]
     },
     "metadata": {
      "needs_background": "light"
     },
     "output_type": "display_data"
    }
   ],
   "source": [
    "delta_cluster = []\n",
    "delta_all = []\n",
    "for i in range(len(n_true)):\n",
    "    delta_cluster.append(n_cluster[i]-n_true[i])\n",
    "    delta_all.append(n_all[i]-n_true[i])\n",
    "\n",
    "plots = [[delta_cluster, delta_all], delta]\n",
    "labels = [[\"Cluster\", \"All\"], [\"Delta\"]]\n",
    "titles = [\"Différence des notes avec les vrais notes\", \"Diférence des notes entre la méthodes Cluster et All\"]\n",
    "\n",
    "plt.figure(figsize=(15,6))\n",
    "for i in range(2):\n",
    "    plt.subplot(1, 2, i+1)\n",
    "    plt.boxplot(plots[i], labels=labels[i])\n",
    "    plt.title(titles[i])\n",
    "\n",
    "plt.show()"
   ]
  }
 ],
 "metadata": {
  "kernelspec": {
   "display_name": "Python 3.10.4 64-bit",
   "language": "python",
   "name": "python3"
  },
  "language_info": {
   "codemirror_mode": {
    "name": "ipython",
    "version": 3
   },
   "file_extension": ".py",
   "mimetype": "text/x-python",
   "name": "python",
   "nbconvert_exporter": "python",
   "pygments_lexer": "ipython3",
   "version": "3.10.4"
  },
  "orig_nbformat": 4,
  "vscode": {
   "interpreter": {
    "hash": "74a981a46e37d63b82983f5b77d7c74cce8983549ccfc8d083c110a6dffce6c1"
   }
  }
 },
 "nbformat": 4,
 "nbformat_minor": 2
}
