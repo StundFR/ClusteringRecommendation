{
 "cells": [
  {
   "cell_type": "markdown",
   "metadata": {},
   "source": [
    "# 0 - Instalation of modules"
   ]
  },
  {
   "cell_type": "markdown",
   "metadata": {},
   "source": [
    "#Run this cell to have the progress bar\n",
    "!pip install tqdm\n",
    "!pip install ipywidgets\n",
    "!jupyter nbextension enable --py widgetsnbextension"
   ]
  },
  {
   "cell_type": "code",
   "execution_count": 33,
   "metadata": {},
   "outputs": [],
   "source": [
    "%reset"
   ]
  },
  {
   "cell_type": "markdown",
   "metadata": {},
   "source": [
    "# 1 - Importing modules"
   ]
  },
  {
   "cell_type": "code",
   "execution_count": 1,
   "metadata": {},
   "outputs": [],
   "source": [
    "import pandas as pd\n",
    "import numpy as np\n",
    "from tqdm.notebook import tqdm\n",
    "from sklearn.metrics.pairwise import cosine_similarity\n",
    "import matplotlib.pyplot as plt"
   ]
  },
  {
   "cell_type": "markdown",
   "metadata": {},
   "source": [
    "# 2 - Get all files needed"
   ]
  },
  {
   "cell_type": "code",
   "execution_count": 2,
   "metadata": {},
   "outputs": [],
   "source": [
    "data_folder = \"../../Dataset/Movie/\""
   ]
  },
  {
   "cell_type": "code",
   "execution_count": 3,
   "metadata": {},
   "outputs": [
    {
     "data": {
      "text/plain": [
       "(25000095, 3)"
      ]
     },
     "execution_count": 3,
     "metadata": {},
     "output_type": "execute_result"
    }
   ],
   "source": [
    "rating = pd.read_csv(f\"{data_folder}ratings.csv\").drop([\"timestamp\"], axis=1)\n",
    "movie = pd.read_csv(f\"{data_folder}movies.csv\")\n",
    "\n",
    "data = pd.merge(movie, rating, on=\"movieId\").drop([\"genres\", \"movieId\"], axis=1)\n",
    "data.shape"
   ]
  },
  {
   "cell_type": "markdown",
   "metadata": {},
   "source": [
    "# 3 - Transforming data"
   ]
  },
  {
   "cell_type": "code",
   "execution_count": 4,
   "metadata": {},
   "outputs": [
    {
     "data": {
      "text/plain": [
       "(24409923, 3)"
      ]
     },
     "execution_count": 4,
     "metadata": {},
     "output_type": "execute_result"
    }
   ],
   "source": [
    "#On garde les NB_FILM films les plus notés\n",
    "NB_FILM = 10000\n",
    "keep_title = data[\"title\"].value_counts().sort_values(ascending=False)[:NB_FILM].index\n",
    "data_title = data[data[\"title\"].isin(keep_title)]\n",
    "data_title.shape"
   ]
  },
  {
   "cell_type": "code",
   "execution_count": 5,
   "metadata": {},
   "outputs": [],
   "source": [
    "#On garde les users qui ont données une note sur au moins THRESH_USER % des films\n",
    "THRESH_USER = 0.05\n",
    "keep_user = data_title[\"userId\"].value_counts()/NB_FILM >= THRESH_USER\n",
    "data_title_user = data_title[data_title[\"userId\"].isin(keep_user[keep_user].index)]"
   ]
  },
  {
   "cell_type": "code",
   "execution_count": 6,
   "metadata": {},
   "outputs": [
    {
     "data": {
      "text/plain": [
       "(9441, 10000)"
      ]
     },
     "execution_count": 6,
     "metadata": {},
     "output_type": "execute_result"
    }
   ],
   "source": [
    "#On fait notre pivot table\n",
    "user_title_df = data_title_user.pivot_table(index=\"userId\", columns=\"title\", values=\"rating\")\n",
    "#user_title_df.to_csv(f\"{data_folder}user_title.csv\")\n",
    "user_title_df.shape"
   ]
  },
  {
   "cell_type": "markdown",
   "metadata": {},
   "source": [
    "# 4 - Colaborative filtering"
   ]
  },
  {
   "cell_type": "code",
   "execution_count": 3,
   "metadata": {},
   "outputs": [],
   "source": [
    "#Récupérer les données si elles sont en local\n",
    "user_title_df = pd.read_csv(f\"{data_folder}user_title.csv\", index_col=0)"
   ]
  },
  {
   "cell_type": "code",
   "execution_count": 108,
   "metadata": {},
   "outputs": [],
   "source": [
    "#Standardisation des lignes pour supprimer les biais\n",
    "def standardize(row):\n",
    "    return row - np.mean(row)"
   ]
  },
  {
   "cell_type": "markdown",
   "metadata": {},
   "source": [
    "## 4.1 - Users to users"
   ]
  },
  {
   "cell_type": "code",
   "execution_count": null,
   "metadata": {},
   "outputs": [],
   "source": [
    "user_title_std = user_title_df.apply(standardize, axis=1).fillna(0)\n",
    "user_title_std.shape"
   ]
  },
  {
   "cell_type": "code",
   "execution_count": 35,
   "metadata": {},
   "outputs": [],
   "source": [
    "#Création de la matrice de cosinus distance\n",
    "cos = cosine_similarity(user_title_std)\n",
    "cos_users_df = pd.DataFrame(cos, index=user_title_std.index, columns=user_title_std.index)\n",
    "del(cos)"
   ]
  },
  {
   "cell_type": "code",
   "execution_count": 193,
   "metadata": {},
   "outputs": [],
   "source": [
    "#On devine la note en fonction des candidtats similaires\n",
    "def guess_rate_cluster(user, title, N):\n",
    "    rate = 0\n",
    "    coeff = 0\n",
    "\n",
    "    for i in cos_users_df.index[:N]:\n",
    "        r = user_title_df.loc[i, title]\n",
    "        if not (pd.isnull(r)) and (i != user):\n",
    "            c = cos_users_df.loc[i, user]\n",
    "            rate += r*c\n",
    "            coeff += c\n",
    "    \n",
    "    if (coeff != 0):\n",
    "        return rate/coeff\n",
    "    else:\n",
    "        return 2.5"
   ]
  },
  {
   "cell_type": "code",
   "execution_count": 100,
   "metadata": {},
   "outputs": [],
   "source": [
    "#On devine la note en fonction de tous les candidats\n",
    "def guess_rate_all(user, title):\n",
    "    rate = 0\n",
    "    coef = 0\n",
    "\n",
    "    for i in user_title_std.index:\n",
    "        r = user_title_df.loc[i, title]\n",
    "        if not (pd.isnull(r)) and (i != user):\n",
    "            c = cos_users_df.loc[user, i]\n",
    "            rate += c*r\n",
    "            coef += c\n",
    "\n",
    "    if (coef == 0):\n",
    "            return 2.5\n",
    "    else:   \n",
    "        return rate/coef"
   ]
  },
  {
   "cell_type": "code",
   "execution_count": 74,
   "metadata": {},
   "outputs": [
    {
     "data": {
      "text/plain": [
       "(99, 99)"
      ]
     },
     "execution_count": 74,
     "metadata": {},
     "output_type": "execute_result"
    }
   ],
   "source": [
    "#Création\n",
    "eps = 0.7\n",
    "thresh = cos_users_df[((cos_users_df >= eps) & (cos_users_df < 0.999999999)) | (cos_users_df <= -eps)]\n",
    "thresh = thresh.dropna(axis=1, thresh=1).dropna(axis=0, thresh=1)\n",
    "thresh.shape"
   ]
  },
  {
   "cell_type": "code",
   "execution_count": 105,
   "metadata": {},
   "outputs": [
    {
     "data": {
      "application/vnd.jupyter.widget-view+json": {
       "model_id": "ce47ac9a84354185a094bc36898c58a0",
       "version_major": 2,
       "version_minor": 0
      },
      "text/plain": [
       "  0%|          | 0/4 [00:00<?, ?it/s]"
      ]
     },
     "metadata": {},
     "output_type": "display_data"
    },
    {
     "data": {
      "application/vnd.jupyter.widget-view+json": {
       "model_id": "b41d06606c8d406caf357632c93215b2",
       "version_major": 2,
       "version_minor": 0
      },
      "text/plain": [
       "  0%|          | 0/10 [00:00<?, ?it/s]"
      ]
     },
     "metadata": {},
     "output_type": "display_data"
    },
    {
     "data": {
      "application/vnd.jupyter.widget-view+json": {
       "model_id": "b2b5f2f315c74a47b9b07be7bc0976ef",
       "version_major": 2,
       "version_minor": 0
      },
      "text/plain": [
       "  0%|          | 0/10 [00:00<?, ?it/s]"
      ]
     },
     "metadata": {},
     "output_type": "display_data"
    },
    {
     "data": {
      "application/vnd.jupyter.widget-view+json": {
       "model_id": "a2c1c92ac1974a0eb6f8e6aa01bed668",
       "version_major": 2,
       "version_minor": 0
      },
      "text/plain": [
       "  0%|          | 0/10 [00:00<?, ?it/s]"
      ]
     },
     "metadata": {},
     "output_type": "display_data"
    },
    {
     "data": {
      "application/vnd.jupyter.widget-view+json": {
       "model_id": "0de03f7aa0dc429b88ac7f2b50cbbc65",
       "version_major": 2,
       "version_minor": 0
      },
      "text/plain": [
       "  0%|          | 0/10 [00:00<?, ?it/s]"
      ]
     },
     "metadata": {},
     "output_type": "display_data"
    }
   ],
   "source": [
    "#On compare les deux méthodes\n",
    "from time import time\n",
    "\n",
    "compare_time = {}\n",
    "\n",
    "for N in tqdm([5, 10, 15, 20]):\n",
    "    compare_time[f\"Cluster {N}\"] = {\"Cluster\" : {\"Times\" : [], \"Rates\" : []}, \"All\" : {\"Times\" : [], \"Rates\" : []}}\n",
    "\n",
    "    users = cos_users_df.index[:10]\n",
    "    titles = user_title_df.columns\n",
    "    sup = []\n",
    "    positif = []\n",
    "\n",
    "    for user in tqdm(users, leave=False):\n",
    "        for title in titles[:100]:\n",
    "            start = time()\n",
    "            cluster_rate = guess_rate_cluster(user, title, N)\n",
    "            cluster_time = time() - start\n",
    "            compare_time[f\"Cluster {N}\"][\"Cluster\"][\"Rates\"].append(cluster_rate)\n",
    "            compare_time[f\"Cluster {N}\"][\"Cluster\"][\"Times\"].append(cluster_time)\n",
    "\n",
    "            start = time()\n",
    "            all_rate = guess_rate_all(user, title)\n",
    "            all_time = time() - start\n",
    "            compare_time[f\"Cluster {N}\"][\"All\"][\"Rates\"].append(all_rate)\n",
    "            compare_time[f\"Cluster {N}\"][\"All\"][\"Times\"].append(all_time)\n",
    "            \n",
    "            sup.append(1) if (cluster_rate - all_rate < 0) else sup.append(0) \n",
    "            positif.append(1) if (cluster_time - all_time > 0) else positif.append(0)"
   ]
  },
  {
   "cell_type": "code",
   "execution_count": 106,
   "metadata": {},
   "outputs": [
    {
     "data": {
      "image/png": "[encoded data removed]",
      "text/plain": [
       "<Figure size 1800x720 with 6 Axes>"
      ]
     },
     "metadata": {
      "needs_background": "light"
     },
     "output_type": "display_data"
    }
   ],
   "source": [
    "#On affiche graphiquement le comparatif\n",
    "plt.figure(figsize=(25,10))\n",
    "\n",
    "k = 1\n",
    "for stat in [\"Times\", \"Rates\"]:\n",
    "    plt.subplot(2, 3, k)\n",
    "    if (k == 1):\n",
    "        n = np.sum(positif)\n",
    "        plt.pie([n, len(positif)-n], labels=[\"Faster\", \"Slower\"], autopct='%.0f%%')\n",
    "        plt.title(\"Each time Cluster is faster than All\")\n",
    "    elif (k == 4):\n",
    "        n = np.sum(sup)\n",
    "        plt.pie([n, len(sup)-n], labels=[\"Higher\", \"Lower\"], autopct='%.0f%%')\n",
    "        plt.title(\"Each time Cluster gives biggest rates than All\")\n",
    "    k += 1\n",
    "\n",
    "    for method in [\"Cluster\", \"All\"]:\n",
    "        plots = []\n",
    "        labels = []\n",
    "\n",
    "        for key in compare_time.keys():\n",
    "            labels.append(key)\n",
    "            plots.append(compare_time[key][method][stat])\n",
    "\n",
    "        plt.subplot(2, 3, k)\n",
    "        plt.boxplot(plots, labels=labels)\n",
    "        plt.title(f\"{stat} - {method}\")\n",
    "\n",
    "        k += 1\n",
    "\n",
    "plt.show()"
   ]
  },
  {
   "cell_type": "code",
   "execution_count": null,
   "metadata": {},
   "outputs": [],
   "source": [
    "compare = {}\n",
    "\n",
    "for N in [5, 10, 15, 20]:\n",
    "    compare[f\"Cluster {N}\"] = {\"True\" : [], \"Cluster\" : [], \"All\" : []}\n",
    "\n",
    "    for user in tqdm(cos_users_df.index[:10]):\n",
    "        all_rated_film = user_title_df.loc[user].dropna(axis=0)\n",
    "        compare[f\"Cluster {N}\"][\"True\"] += all_rated_film.values.tolist()\n",
    "        \n",
    "        for movie in all_rated_film.index:\n",
    "            compare[f\"Cluster {N}\"][\"Cluster\"].append(guess_rate_cluster(user, movie, N))\n",
    "            compare[f\"Cluster {N}\"][\"All\"].append(guess_rate_all(user, movie))\n",
    "\n",
    "compare_df = pd.DataFrame.from_dict(compare)\n",
    "compare_df.to_csv(f\"{data_folder}compare_true_cluster_all.csv\")\n",
    "del(compare)\n",
    "\n",
    "\n",
    "delta = {\"Cluster\" : {}, \"All\" : {}}\n",
    "\n",
    "for col in compare_df.columns:\n",
    "    delta[\"Cluster\"][col] = []\n",
    "    delta[\"All\"][col] = []\n",
    "\n",
    "    for i in range(len(compare_df[col][\"Cluster\"])):\n",
    "        delta[\"Cluster\"][col].append(compare_df[col][\"True\"][i]-compare_df[col][\"Cluster\"][i])\n",
    "        delta[\"All\"][col].append(compare_df[col][\"True\"][i]-compare_df[col][\"All\"][i])\n",
    "\n",
    "compare_delta_df = pd.DataFrame.from_dict(delta)"
   ]
  },
  {
   "cell_type": "code",
   "execution_count": 48,
   "metadata": {},
   "outputs": [
    {
     "data": {
      "image/png": "[encoded data removed]",
      "text/plain": [
       "<Figure size 1440x720 with 2 Axes>"
      ]
     },
     "metadata": {
      "needs_background": "light"
     },
     "output_type": "display_data"
    }
   ],
   "source": [
    "plt.figure(figsize=(20,10))\n",
    "\n",
    "k = 1\n",
    "for col in compare_delta_df.columns:\n",
    "    plt.subplot(2, 2, k)\n",
    "\n",
    "    plots = []\n",
    "    labels = []\n",
    "    for ind in compare_delta_df[col].index:\n",
    "        plots.append(compare_delta_df[col][ind])\n",
    "        labels.append(ind)\n",
    "\n",
    "    plt.boxplot(plots, labels=labels)\n",
    "    plt.title(col)\n",
    "\n",
    "    k += 1\n",
    "\n",
    "plt.savefig(\"img/compare_true_cluster_all.jpg\", dpi=200)\n",
    "plt.show()"
   ]
  },
  {
   "cell_type": "code",
   "execution_count": 194,
   "metadata": {},
   "outputs": [],
   "source": [
    "def get_similar_movies_from_users(user_id):\n",
    "    all_rates = []\n",
    "    keep_movies = []\n",
    "\n",
    "    for movie in tqdm(user_title_df.columns):\n",
    "        if (pd.isnull(user_title_df.loc[user_id, movie])):\n",
    "            all_rates.append(guess_rate_cluster(user_id, movie, 250))\n",
    "            keep_movies.append(movie)\n",
    "\n",
    "    return pd.Series(all_rates, keep_movies).sort_values(ascending=False)"
   ]
  },
  {
   "cell_type": "code",
   "execution_count": 200,
   "metadata": {},
   "outputs": [
    {
     "data": {
      "text/plain": [
       "13.295164732785869"
      ]
     },
     "execution_count": 200,
     "metadata": {},
     "output_type": "execute_result"
    }
   ],
   "source": [
    "guess_rate_cluster(3, \"Young Master, The (Shi di chu ma) (1980)\", 250)"
   ]
  },
  {
   "cell_type": "code",
   "execution_count": 195,
   "metadata": {},
   "outputs": [
    {
     "data": {
      "application/vnd.jupyter.widget-view+json": {
       "model_id": "f675c1d067054042b79af6c30906ace8",
       "version_major": 2,
       "version_minor": 0
      },
      "text/plain": [
       "  0%|          | 0/10000 [00:00<?, ?it/s]"
      ]
     },
     "metadata": {},
     "output_type": "display_data"
    },
    {
     "data": {
      "text/plain": [
       "Young Master, The (Shi di chu ma) (1980)                                     13.295165\n",
       "Short Film About Killing, A (Krótki film o zabijaniu) (1988)                  5.391275\n",
       "Murder on a Sunday Morning (Un coupable idéal) (2001)                         5.302689\n",
       "Shop on Main Street, The (Obchod na korze) (1965)                             5.196197\n",
       "Germany Year Zero (Germania anno zero) (Deutschland im Jahre Null) (1948)     5.176498\n",
       "                                                                               ...    \n",
       "Dumbo (2019)                                                                  0.466960\n",
       "Paranormal Activity: The Ghost Dimension (2015)                               0.463022\n",
       "Citizen X (1995)                                                              0.383914\n",
       "Kickboxer 2: The Road Back (1991)                                            -1.540954\n",
       "Gone Fishin' (1997)                                                          -2.024664\n",
       "Length: 9346, dtype: float64"
      ]
     },
     "execution_count": 195,
     "metadata": {},
     "output_type": "execute_result"
    }
   ],
   "source": [
    "get_similar_movies_from_users(3)"
   ]
  },
  {
   "cell_type": "markdown",
   "metadata": {},
   "source": [
    "## 4.2 - Movie to movie"
   ]
  },
  {
   "cell_type": "code",
   "execution_count": 109,
   "metadata": {},
   "outputs": [
    {
     "data": {
      "text/plain": [
       "(9441, 10000)"
      ]
     },
     "execution_count": 109,
     "metadata": {},
     "output_type": "execute_result"
    }
   ],
   "source": [
    "user_title_std = user_title_df.apply(standardize, axis=0).fillna(0)\n",
    "user_title_std.shape"
   ]
  },
  {
   "cell_type": "code",
   "execution_count": 110,
   "metadata": {},
   "outputs": [],
   "source": [
    "#Création de la matrice de cosinus distance\n",
    "cos = cosine_similarity(user_title_std.T)\n",
    "cos_movies_df = pd.DataFrame(cos, index=user_title_std.columns, columns=user_title_std.columns)\n",
    "del(cos)"
   ]
  },
  {
   "cell_type": "code",
   "execution_count": 118,
   "metadata": {},
   "outputs": [],
   "source": [
    "def get_similar_movies_from_movies(user_id):\n",
    "    similar_movies = pd.DataFrame()\n",
    "\n",
    "    movies_rates = user_title_df.loc[user_id].dropna()\n",
    "    movies = movies_rates.index\n",
    "    rates = movies_rates.values\n",
    "    user = [(movies[i], rates[i]) for i in range(len(rates))]\n",
    "\n",
    "    for movie, rate in tqdm(user):\n",
    "        movie_list = (cos_movies_df.loc[:, movie]*(rate-2.5)).sort_values(ascending=False)\n",
    "        similar_movies = similar_movies.append(movie_list)\n",
    "\n",
    "    \n",
    "    similar_movies = similar_movies.T.drop([movie for movie, rate in user], axis=0)\n",
    "    return similar_movies.sum(axis=1).sort_values(ascending=False)"
   ]
  },
  {
   "cell_type": "code",
   "execution_count": 172,
   "metadata": {},
   "outputs": [
    {
     "data": {
      "application/vnd.jupyter.widget-view+json": {
       "model_id": "f1e31bfeb8184689b8b0468062d075f2",
       "version_major": 2,
       "version_minor": 0
      },
      "text/plain": [
       "  0%|          | 0/654 [00:00<?, ?it/s]"
      ]
     },
     "metadata": {},
     "output_type": "display_data"
    },
    {
     "data": {
      "text/plain": [
       "Spider-Man 2 (2004)                                                                               105.501590\n",
       "Ocean's Thirteen (2007)                                                                            99.012323\n",
       "National Treasure (2004)                                                                           98.338923\n",
       "Harry Potter and the Sorcerer's Stone (a.k.a. Harry Potter and the Philosopher's Stone) (2001)     96.549589\n",
       "Up (2009)                                                                                          95.769170\n",
       "                                                                                                     ...    \n",
       "Secret Agent, The (1996)                                                                           -0.101597\n",
       "Fire Within, The (Feu follet, Le) (1963)                                                           -0.221729\n",
       "Shanghai Surprise (1986)                                                                           -0.381326\n",
       "Distant (Uzak) (2002)                                                                              -0.999149\n",
       "The Wolfpack (2015)                                                                                -1.120033\n",
       "Length: 9346, dtype: float64"
      ]
     },
     "execution_count": 172,
     "metadata": {},
     "output_type": "execute_result"
    }
   ],
   "source": [
    "get_similar_movies_from_movies(3)"
   ]
  },
  {
   "cell_type": "markdown",
   "metadata": {},
   "source": [
    "## 4.3 - Mix"
   ]
  },
  {
   "cell_type": "code",
   "execution_count": null,
   "metadata": {},
   "outputs": [],
   "source": []
  }
 ],
 "metadata": {
  "kernelspec": {
   "display_name": "Python 3.8.3 64-bit",
   "language": "python",
   "name": "python3"
  },
  "language_info": {
   "codemirror_mode": {
    "name": "ipython",
    "version": 3
   },
   "file_extension": ".py",
   "mimetype": "text/x-python",
   "name": "python",
   "nbconvert_exporter": "python",
   "pygments_lexer": "ipython3",
   "version": "3.8.3"
  },
  "orig_nbformat": 4,
  "vscode": {
   "interpreter": {
    "hash": "570feb405e2e27c949193ac68f46852414290d515b0ba6e5d90d076ed2284471"
   }
  }
 },
 "nbformat": 4,
 "nbformat_minor": 2
}
