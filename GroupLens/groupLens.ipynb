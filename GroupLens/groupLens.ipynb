{
 "cells": [
  {
   "cell_type": "markdown",
   "metadata": {},
   "source": [
    "# 0 - Instalation of modules"
   ]
  },
  {
   "cell_type": "markdown",
   "metadata": {},
   "source": [
    "#Run this cell to have the progress bar\n",
    "!pip install tqdm\n",
    "!pip install ipywidgets\n",
    "!jupyter nbextension enable --py widgetsnbextension"
   ]
  },
  {
   "cell_type": "code",
   "execution_count": 33,
   "metadata": {},
   "outputs": [],
   "source": [
    "%reset"
   ]
  },
  {
   "cell_type": "markdown",
   "metadata": {},
   "source": [
    "# 1 - Importing modules"
   ]
  },
  {
   "cell_type": "code",
   "execution_count": 1,
   "metadata": {},
   "outputs": [],
   "source": [
    "import pandas as pd\n",
    "import numpy as np\n",
    "from tqdm.notebook import tqdm\n",
    "from sklearn.metrics.pairwise import cosine_similarity\n",
    "import matplotlib.pyplot as plt"
   ]
  },
  {
   "cell_type": "markdown",
   "metadata": {},
   "source": [
    "# 2 - Get all files needed"
   ]
  },
  {
   "cell_type": "code",
   "execution_count": 2,
   "metadata": {},
   "outputs": [],
   "source": [
    "data_folder = \"../../Dataset/Movie/\""
   ]
  },
  {
   "cell_type": "code",
   "execution_count": 4,
   "metadata": {},
   "outputs": [
    {
     "data": {
      "text/plain": [
       "(25000095, 3)"
      ]
     },
     "execution_count": 4,
     "metadata": {},
     "output_type": "execute_result"
    }
   ],
   "source": [
    "rating = pd.read_csv(f\"{data_folder}ratings.csv\").drop([\"timestamp\"], axis=1)\n",
    "movie = pd.read_csv(f\"{data_folder}movies.csv\")\n",
    "\n",
    "data = pd.merge(movie, rating, on=\"movieId\").drop([\"genres\", \"movieId\"], axis=1)\n",
    "data.shape"
   ]
  },
  {
   "cell_type": "markdown",
   "metadata": {},
   "source": [
    "# 3 - Transforming data"
   ]
  },
  {
   "cell_type": "code",
   "execution_count": 7,
   "metadata": {},
   "outputs": [
    {
     "data": {
      "text/plain": [
       "(10944751, 3)"
      ]
     },
     "execution_count": 7,
     "metadata": {},
     "output_type": "execute_result"
    }
   ],
   "source": [
    "#On garde les NB_FILM films les plus notés\n",
    "NB_FILM = 500\n",
    "keep_title = data[\"title\"].value_counts().sort_values(ascending=False)[:NB_FILM].index\n",
    "data_title = data[data[\"title\"].isin(keep_title)]\n",
    "data_title.shape"
   ]
  },
  {
   "cell_type": "code",
   "execution_count": 8,
   "metadata": {},
   "outputs": [],
   "source": [
    "#On garde les users qui ont données une note sur au moins THRESH_USER % des films\n",
    "THRESH_USER = 0.3\n",
    "keep_user = data_title[\"userId\"].value_counts()/NB_FILM >= THRESH_USER\n",
    "data_title_user = data_title[data_title[\"userId\"].isin(keep_user[keep_user].index)]"
   ]
  },
  {
   "cell_type": "code",
   "execution_count": 10,
   "metadata": {},
   "outputs": [
    {
     "data": {
      "text/plain": [
       "(18391, 500)"
      ]
     },
     "execution_count": 10,
     "metadata": {},
     "output_type": "execute_result"
    }
   ],
   "source": [
    "#On fait notre pivot table\n",
    "user_title_df = data_title_user.pivot_table(index=\"userId\", columns=\"title\", values=\"rating\")\n",
    "user_title_df.to_csv(f\"{data_folder}user_title.csv\")\n",
    "user_title_df.shape"
   ]
  },
  {
   "cell_type": "markdown",
   "metadata": {},
   "source": [
    "# 4 - Colaborative filtering"
   ]
  },
  {
   "cell_type": "code",
   "execution_count": 3,
   "metadata": {},
   "outputs": [],
   "source": [
    "#Récupérer les données si elles sont en local\n",
    "user_title_df = pd.read_csv(f\"{data_folder}user_title.csv\", index_col=0)"
   ]
  },
  {
   "cell_type": "code",
   "execution_count": 4,
   "metadata": {},
   "outputs": [
    {
     "data": {
      "text/plain": [
       "(18391, 500)"
      ]
     },
     "execution_count": 4,
     "metadata": {},
     "output_type": "execute_result"
    }
   ],
   "source": [
    "#Standardisation des lignes pour supprimer les biais\n",
    "def standardize(row):\n",
    "    return row - np.mean(row)\n",
    "\n",
    "user_title_std = user_title_df.apply(standardize, axis=1).fillna(0)\n",
    "user_title_std.shape"
   ]
  },
  {
   "cell_type": "code",
   "execution_count": 5,
   "metadata": {},
   "outputs": [],
   "source": [
    "#Création de la matrice de cosinus distance\n",
    "cos = cosine_similarity(user_title_std)\n",
    "cos_df = pd.DataFrame(cos, index=user_title_std.index, columns=user_title_std.index)\n",
    "del(cos)"
   ]
  },
  {
   "cell_type": "code",
   "execution_count": 6,
   "metadata": {},
   "outputs": [
    {
     "data": {
      "text/plain": [
       "(338, 338)"
      ]
     },
     "execution_count": 6,
     "metadata": {},
     "output_type": "execute_result"
    }
   ],
   "source": [
    "#Création\n",
    "thresh = cos_df[(cos_df >= 0.7) & (cos_df < 0.999999999)]\n",
    "thresh = thresh.dropna(axis=1, thresh=1).dropna(axis=0, thresh=1)\n",
    "thresh.shape"
   ]
  },
  {
   "cell_type": "code",
   "execution_count": 7,
   "metadata": {},
   "outputs": [
    {
     "data": {
      "application/vnd.jupyter.widget-view+json": {
       "model_id": "93e26b753df845d98f00bce12058f6b4",
       "version_major": 2,
       "version_minor": 0
      },
      "text/plain": [
       "  0%|          | 0/338 [00:00<?, ?it/s]"
      ]
     },
     "metadata": {},
     "output_type": "display_data"
    }
   ],
   "source": [
    "#On garde les candidats similaire et complétement opposé\n",
    "all_users = thresh.index\n",
    "eps = 0.7\n",
    "cluster = {user : {\"+\" : [], \"-\" : []} for user in all_users}\n",
    "\n",
    "i = 1\n",
    "for user1 in tqdm(all_users):\n",
    "    for user2 in all_users[i:]:\n",
    "        tmp = thresh.loc[user1, user2]\n",
    "\n",
    "        if (tmp >= eps):\n",
    "            cluster[user1][\"+\"].append(user2)\n",
    "            cluster[user2][\"+\"].append(user1)\n",
    "        elif (tmp <= -eps):\n",
    "            cluster[user1][\"-\"].append(user2)\n",
    "            cluster[user2][\"-\"].append(user1)\n",
    "\n",
    "    i += 1\n",
    "\n",
    "pd.DataFrame.from_dict(cluster).T.to_csv(f\"{data_folder}cluster.csv\")"
   ]
  },
  {
   "cell_type": "code",
   "execution_count": 29,
   "metadata": {},
   "outputs": [
    {
     "data": {
      "text/plain": [
       "11"
      ]
     },
     "execution_count": 29,
     "metadata": {},
     "output_type": "execute_result"
    }
   ],
   "source": [
    "N = 20\n",
    "all_none_empty_cluster = []\n",
    "\n",
    "for k in cluster.keys():\n",
    "    if (len(cluster[k][\"+\"]) >= N):\n",
    "        all_none_empty_cluster.append(k)\n",
    "len(all_none_empty_cluster)"
   ]
  },
  {
   "cell_type": "code",
   "execution_count": 9,
   "metadata": {},
   "outputs": [],
   "source": [
    "#On devine la note en fonction des candidtats similaires\n",
    "def guess_rate_cluster(user, title):\n",
    "    rate = 0\n",
    "    coeff = 0\n",
    "\n",
    "    for u in cluster[user][\"+\"]:\n",
    "        if not (pd.isnull(user_title_df.loc[u, title])):\n",
    "            rate += cos_df.loc[user, u]*user_title_df.loc[u, title]\n",
    "            coeff += cos_df.loc[user, u]\n",
    "\n",
    "    if (coeff == 0):\n",
    "        return 2.5\n",
    "    else:   \n",
    "        return rate/coeff"
   ]
  },
  {
   "cell_type": "code",
   "execution_count": 10,
   "metadata": {},
   "outputs": [],
   "source": [
    "#On devine la note en fonction de tous les candidats\n",
    "def guess_rate_all(user, title):\n",
    "    rate = 0\n",
    "    coef = 0\n",
    "\n",
    "    for i in user_title_df.index:\n",
    "        if (i != user) and not (pd.isnull(user_title_df.loc[i, title])):\n",
    "            rate += cos_df.loc[user, i]*user_title_df.loc[i, title]\n",
    "            coef += cos_df.loc[user, i]\n",
    "\n",
    "    if (coef == 0):\n",
    "            return 2.5\n",
    "    else:   \n",
    "        return rate/coef"
   ]
  },
  {
   "cell_type": "code",
   "execution_count": 11,
   "metadata": {},
   "outputs": [
    {
     "data": {
      "application/vnd.jupyter.widget-view+json": {
       "model_id": "d387f80c84e54d379c3a4eef6ed93b99",
       "version_major": 2,
       "version_minor": 0
      },
      "text/plain": [
       "  0%|          | 0/11 [00:00<?, ?it/s]"
      ]
     },
     "metadata": {},
     "output_type": "display_data"
    }
   ],
   "source": [
    "#On compare les deux méthodes\n",
    "from time import time\n",
    "\n",
    "users = all_none_empty_cluster\n",
    "titles = user_title_df.columns\n",
    "\n",
    "deltaT = []\n",
    "t_cluster = []\n",
    "t_all = []\n",
    "positif = 0\n",
    "\n",
    "deltaN = []\n",
    "n_cluster = []\n",
    "n_all = []\n",
    "sup = 0\n",
    "\n",
    "for user in tqdm(users):\n",
    "    for title in titles:\n",
    "        start = time()\n",
    "        n_cluster.append(guess_rate_cluster(user, title))\n",
    "        t_cluster.append(time() - start)\n",
    "\n",
    "        start = time()\n",
    "        n_all.append(guess_rate_all(user, title))\n",
    "        t_all.append(time() - start)\n",
    "        \n",
    "        dN = n_cluster[-1]-n_all[-1]\n",
    "        deltaN.append(np.abs(dN))\n",
    "        sup += 1 if (dN > 0) else 0 \n",
    "\n",
    "        dT = t_all[-1]-t_cluster[-1]\n",
    "        deltaT.append(np.abs(dT))\n",
    "        positif += 1 if (dT > 0) else 0"
   ]
  },
  {
   "cell_type": "code",
   "execution_count": 12,
   "metadata": {},
   "outputs": [
    {
     "data": {
      "image/png": "[encoded data removed]",
      "text/plain": [
       "<Figure size 1800x720 with 6 Axes>"
      ]
     },
     "metadata": {
      "needs_background": "light"
     },
     "output_type": "display_data"
    }
   ],
   "source": [
    "#On affiche graphiquement le comparatif\n",
    "plt.figure(figsize=(25,10))\n",
    "\n",
    "j = 0\n",
    "plots_pie = [[positif, len(t_cluster)-positif], [sup, len(n_cluster)-sup]]\n",
    "labels_pie = [\"Faster\", \"Slower\"], [\"Bigger\", \"Lower\"]\n",
    "titles_pie = [\"Each time Cluster is faster than All\", \"Each time Cluster gives biggest rates than All\"]\n",
    "\n",
    "k = 0\n",
    "plots_box = [[t_cluster, t_all], deltaT, [n_cluster, n_all], deltaN]\n",
    "labels_box = [[\"Cluster\", \"All\"], [\"Delta\"], [\"Cluster\", \"All\"], [\"Delta\"]]\n",
    "titles_box = [\"Running times\", \"Time differences\", \"Rates\", \"Rate differences\"]\n",
    "\n",
    "for i in range(6):\n",
    "    plt.subplot(2, 3, i+1)\n",
    "\n",
    "    if i+1 in [1, 4]:\n",
    "        plt.pie(plots_pie[j], labels=labels_pie[j], autopct='%.0f%%')\n",
    "        plt.title(titles_pie[j])\n",
    "        j += 1\n",
    "    else:\n",
    "        plt.boxplot(plots_box[k], labels=labels_box[k])\n",
    "        plt.title(titles_box[k])\n",
    "        k += 1\n",
    "\n",
    "plt.savefig(\"img/stats_4clusters.jpg\", dpi=150)\n",
    "plt.show()"
   ]
  },
  {
   "cell_type": "code",
   "execution_count": 11,
   "metadata": {},
   "outputs": [
    {
     "data": {
      "application/vnd.jupyter.widget-view+json": {
       "model_id": "7fa59ffbff154f47ad432989ee83d9e0",
       "version_major": 2,
       "version_minor": 0
      },
      "text/plain": [
       "  0%|          | 0/10 [00:00<?, ?it/s]"
      ]
     },
     "metadata": {},
     "output_type": "display_data"
    },
    {
     "data": {
      "application/vnd.jupyter.widget-view+json": {
       "model_id": "75e81c7e68a545d69ab888acb05f0a38",
       "version_major": 2,
       "version_minor": 0
      },
      "text/plain": [
       "  0%|          | 0/10 [00:00<?, ?it/s]"
      ]
     },
     "metadata": {},
     "output_type": "display_data"
    },
    {
     "data": {
      "application/vnd.jupyter.widget-view+json": {
       "model_id": "1f1120ae9e62433c8755ca349c88e835",
       "version_major": 2,
       "version_minor": 0
      },
      "text/plain": [
       "  0%|          | 0/2 [00:00<?, ?it/s]"
      ]
     },
     "metadata": {},
     "output_type": "display_data"
    },
    {
     "data": {
      "application/vnd.jupyter.widget-view+json": {
       "model_id": "1a07a21994a54e498b68a108cd1d62e1",
       "version_major": 2,
       "version_minor": 0
      },
      "text/plain": [
       "  0%|          | 0/7 [00:00<?, ?it/s]"
      ]
     },
     "metadata": {},
     "output_type": "display_data"
    }
   ],
   "source": [
    "compare = {}\n",
    "\n",
    "for N in [5, 10, 15, 20]:\n",
    "    all_none_empty_cluster = []\n",
    "    compare[f\"Cluster {N}\"] = {\"True\" : [], \"Cluster\" : [], \"All\" : []}\n",
    "\n",
    "    for k in cluster.keys():\n",
    "        if (len(cluster[k][\"+\"]) >= N-1 and len(cluster[k][\"+\"]) <= N+1):\n",
    "            all_none_empty_cluster.append(k)\n",
    "\n",
    "    for user in tqdm(all_none_empty_cluster[:10]):\n",
    "        all_rated_film = user_title_df.loc[user].dropna(axis=0)\n",
    "        compare[f\"Cluster {N}\"][\"True\"] += all_rated_film.values.tolist()\n",
    "        \n",
    "        for movie in all_rated_film.index:\n",
    "            compare[f\"Cluster {N}\"][\"Cluster\"].append(guess_rate_cluster(user, movie))\n",
    "            compare[f\"Cluster {N}\"][\"All\"].append(guess_rate_all(user, movie))\n",
    "\n",
    "compare_df = pd.DataFrame.from_dict(compare)\n",
    "compare_df.to_csv(f\"{data_folder}compare_true_cluster_all.csv\")\n",
    "del(compare)"
   ]
  },
  {
   "cell_type": "code",
   "execution_count": 49,
   "metadata": {},
   "outputs": [
    {
     "data": {
      "text/html": [
       "<div>\n",
       "<style scoped>\n",
       "    .dataframe tbody tr th:only-of-type {\n",
       "        vertical-align: middle;\n",
       "    }\n",
       "\n",
       "    .dataframe tbody tr th {\n",
       "        vertical-align: top;\n",
       "    }\n",
       "\n",
       "    .dataframe thead th {\n",
       "        text-align: right;\n",
       "    }\n",
       "</style>\n",
       "<table border=\"1\" class=\"dataframe\">\n",
       "  <thead>\n",
       "    <tr style=\"text-align: right;\">\n",
       "      <th></th>\n",
       "      <th>Cluster</th>\n",
       "      <th>All</th>\n",
       "    </tr>\n",
       "  </thead>\n",
       "  <tbody>\n",
       "    <tr>\n",
       "      <th>Cluster 5</th>\n",
       "      <td>[0.0, 4.440892098500626e-16, -4.44089209850062...</td>\n",
       "      <td>[-1.5798980686813229, -0.5444986008938333, -0....</td>\n",
       "    </tr>\n",
       "    <tr>\n",
       "      <th>Cluster 10</th>\n",
       "      <td>[-0.32483813504706127, 4.440892098500626e-16, ...</td>\n",
       "      <td>[-1.1098783759986226, -1.2356887022923875, 0.1...</td>\n",
       "    </tr>\n",
       "    <tr>\n",
       "      <th>Cluster 15</th>\n",
       "      <td>[0.3167079285419736, -0.1565254062055388, 0.07...</td>\n",
       "      <td>[-0.10002708048379638, -1.2088542788678875, -0...</td>\n",
       "    </tr>\n",
       "    <tr>\n",
       "      <th>Cluster 20</th>\n",
       "      <td>[0.3714860180533135, -0.11220968164270984, 0.0...</td>\n",
       "      <td>[-0.1469722002835785, -1.2090746903721534, -0....</td>\n",
       "    </tr>\n",
       "  </tbody>\n",
       "</table>\n",
       "</div>"
      ],
      "text/plain": [
       "                                                      Cluster  \\\n",
       "Cluster 5   [0.0, 4.440892098500626e-16, -4.44089209850062...   \n",
       "Cluster 10  [-0.32483813504706127, 4.440892098500626e-16, ...   \n",
       "Cluster 15  [0.3167079285419736, -0.1565254062055388, 0.07...   \n",
       "Cluster 20  [0.3714860180533135, -0.11220968164270984, 0.0...   \n",
       "\n",
       "                                                          All  \n",
       "Cluster 5   [-1.5798980686813229, -0.5444986008938333, -0....  \n",
       "Cluster 10  [-1.1098783759986226, -1.2356887022923875, 0.1...  \n",
       "Cluster 15  [-0.10002708048379638, -1.2088542788678875, -0...  \n",
       "Cluster 20  [-0.1469722002835785, -1.2090746903721534, -0....  "
      ]
     },
     "execution_count": 49,
     "metadata": {},
     "output_type": "execute_result"
    }
   ],
   "source": [
    "delta = {\"Cluster\" : {}, \"All\" : {}}\n",
    "\n",
    "for col in compare_df.columns:\n",
    "    delta[\"Cluster\"][col] = []\n",
    "    delta[\"All\"][col] = []\n",
    "\n",
    "    for i in range(len(compare_df[col][\"Cluster\"])):\n",
    "        delta[\"Cluster\"][col].append(compare_df[col][\"True\"][i]-compare_df[col][\"Cluster\"][i])\n",
    "        delta[\"All\"][col].append(compare_df[col][\"True\"][i]-compare_df[col][\"All\"][i])\n",
    "\n",
    "compare_delta_df = pd.DataFrame.from_dict(delta)\n",
    "compare_delta_df"
   ]
  },
  {
   "cell_type": "code",
   "execution_count": 48,
   "metadata": {},
   "outputs": [
    {
     "data": {
      "image/png": "[encoded data removed]",
      "text/plain": [
       "<Figure size 1440x720 with 2 Axes>"
      ]
     },
     "metadata": {
      "needs_background": "light"
     },
     "output_type": "display_data"
    }
   ],
   "source": [
    "plt.figure(figsize=(20,10))\n",
    "\n",
    "k = 1\n",
    "for col in compare_delta_df.columns:\n",
    "    plt.subplot(2, 2, k)\n",
    "\n",
    "    plots = []\n",
    "    labels = []\n",
    "    for ind in compare_delta_df[col].index:\n",
    "        plots.append(compare_delta_df[col][ind])\n",
    "        labels.append(ind)\n",
    "\n",
    "    plt.boxplot(plots, labels=labels)\n",
    "    plt.title(col)\n",
    "\n",
    "    k += 1\n",
    "\n",
    "plt.savefig(\"img/compare_true_cluster_all.jpg\", dpi=200)\n",
    "plt.show()"
   ]
  },
  {
   "cell_type": "code",
   "execution_count": null,
   "metadata": {},
   "outputs": [],
   "source": []
  }
 ],
 "metadata": {
  "kernelspec": {
   "display_name": "Python 3.8.3 64-bit",
   "language": "python",
   "name": "python3"
  },
  "language_info": {
   "codemirror_mode": {
    "name": "ipython",
    "version": 3
   },
   "file_extension": ".py",
   "mimetype": "text/x-python",
   "name": "python",
   "nbconvert_exporter": "python",
   "pygments_lexer": "ipython3",
   "version": "3.8.3"
  },
  "orig_nbformat": 4,
  "vscode": {
   "interpreter": {
    "hash": "570feb405e2e27c949193ac68f46852414290d515b0ba6e5d90d076ed2284471"
   }
  }
 },
 "nbformat": 4,
 "nbformat_minor": 2
}
