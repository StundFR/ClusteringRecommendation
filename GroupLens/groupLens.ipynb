{
 "cells": [
  {
   "cell_type": "markdown",
   "metadata": {},
   "source": [
    "# 0 - Instalation of modules"
   ]
  },
  {
   "cell_type": "code",
   "execution_count": null,
   "metadata": {},
   "outputs": [],
   "source": [
    "#Run this cell to have the progress bar\n",
    "!pip install tqdm\n",
    "!pip install ipywidgets\n",
    "!jupyter nbextension enable --py widgetsnbextension"
   ]
  },
  {
   "cell_type": "markdown",
   "metadata": {},
   "source": [
    "# 1 - Importing modules"
   ]
  },
  {
   "cell_type": "code",
   "execution_count": 3,
   "metadata": {},
   "outputs": [],
   "source": [
    "import pandas as pd\n",
    "import numpy as np\n",
    "from tqdm.notebook import tqdm\n",
    "from sklearn.metrics.pairwise import cosine_similarity\n",
    "import matplotlib.pyplot as plt"
   ]
  },
  {
   "cell_type": "markdown",
   "metadata": {},
   "source": [
    "# 2 - Get all files needed"
   ]
  },
  {
   "cell_type": "code",
   "execution_count": 4,
   "metadata": {},
   "outputs": [],
   "source": [
    "data_folder = \"../../Dataset/Movie/\""
   ]
  },
  {
   "cell_type": "code",
   "execution_count": 15,
   "metadata": {},
   "outputs": [],
   "source": [
    "rating = pd.read_csv(f\"{data_folder}ratings.csv\").drop([\"timestamp\"], axis=1)\n",
    "movie = pd.read_csv(f\"{data_folder}movies.csv\")\n",
    "\n",
    "data = pd.merge(movie, rating, on=\"movieId\")"
   ]
  },
  {
   "cell_type": "markdown",
   "metadata": {},
   "source": [
    "# 3 - Transforming data"
   ]
  },
  {
   "cell_type": "code",
   "execution_count": 16,
   "metadata": {},
   "outputs": [],
   "source": [
    "#Séparation en ligne du dataframe en petits dataframe\n",
    "N = 1000\n",
    "data_list = []\n",
    "L = data.shape[0]\n",
    "\n",
    "for i in range(1,N+1):\n",
    "    debut = int((i-1)*L/N)\n",
    "    fin = int(i*L/N)\n",
    "    data_list.append(data.iloc[debut:fin, :])"
   ]
  },
  {
   "cell_type": "code",
   "execution_count": 17,
   "metadata": {},
   "outputs": [
    {
     "data": {
      "application/vnd.jupyter.widget-view+json": {
       "model_id": "35ac0cf1e9894c81989800e2182e435d",
       "version_major": 2,
       "version_minor": 0
      },
      "text/plain": [
       "  0%|          | 0/1000 [00:00<?, ?it/s]"
      ]
     },
     "metadata": {},
     "output_type": "display_data"
    }
   ],
   "source": [
    "#pivot table de chaque petits dataframe\n",
    "pv_list = []\n",
    "N = len(data_list)\n",
    "\n",
    "i = 0\n",
    "for d in tqdm(data_list):\n",
    "    pv_list.append(d.pivot_table(index=\"userId\", columns=\"title\", values=\"rating\", dropna=False))"
   ]
  },
  {
   "cell_type": "code",
   "execution_count": 18,
   "metadata": {},
   "outputs": [],
   "source": [
    "#Réunir tous les pivots tables selon le film\n",
    "titles = data.title.unique()\n",
    "dico = {title : [] for title in titles}\n",
    "\n",
    "for pv in pv_list:\n",
    "    for title in pv:\n",
    "        dico[title].append(pv[title])"
   ]
  },
  {
   "cell_type": "code",
   "execution_count": 19,
   "metadata": {},
   "outputs": [
    {
     "data": {
      "application/vnd.jupyter.widget-view+json": {
       "model_id": "0a9359aed3ff496bafd08644e7b3b139",
       "version_major": 2,
       "version_minor": 0
      },
      "text/plain": [
       "  0%|          | 0/58958 [00:00<?, ?it/s]"
      ]
     },
     "metadata": {},
     "output_type": "display_data"
    }
   ],
   "source": [
    "#Concatener tous les pivots tables selon leur film et on les gardes uniquement si ils ont pas trop d'éléments manquant.\n",
    "all_df = []\n",
    "keep_title = []\n",
    "thresh = 0.3\n",
    "\n",
    "i = 0\n",
    "for title in tqdm(titles):\n",
    "    tmp = pd.concat(dico[title], axis=0)\n",
    "    if not (np.sum(tmp.isna(), axis=0) > tmp.shape[0]*thresh):\n",
    "        all_df.append(tmp)\n",
    "        keep_title.append(title)"
   ]
  },
  {
   "cell_type": "code",
   "execution_count": null,
   "metadata": {},
   "outputs": [],
   "source": [
    "#On met tous les données dans un seul dataframe\n",
    "userId_title_df = pd.DataFrame(index=np.sort(data.userId.unique()), columns=keep_title)\n",
    "\n",
    "for df in tqdm(all_df):\n",
    "    index = df.index\n",
    "    values = df.values\n",
    "    title = df.name\n",
    "\n",
    "    for i in range(len(index)):\n",
    "        userId_title_df.iloc[index[i]-1][title] = values[i]\n",
    "\n",
    "userId_title_df.to_csv(f\"{data_folder}userId_title_df.csv\", sep=\";\")"
   ]
  },
  {
   "cell_type": "code",
   "execution_count": 22,
   "metadata": {},
   "outputs": [],
   "source": [
    "del(userId_title_df)\n",
    "#Si la dataframe a déjà été exporté, on peut le récupérer localement\n",
    "if not (\"userId_title_df\" in locals()):\n",
    "    userId_title_df = pd.read_csv(f\"{data_folder}userId_title_df.csv\", sep=\";\")\n",
    "\n",
    "#On supprime les utilisateurs qui n'ont pas assez donnés de notes\n",
    "userId_title_df = userId_title_df.dropna(axis=0, thresh=60).drop(userId_title_df.columns[0], axis=1)"
   ]
  },
  {
   "cell_type": "markdown",
   "metadata": {},
   "source": [
    "# 4 - Colaborative filtering"
   ]
  },
  {
   "cell_type": "code",
   "execution_count": 24,
   "metadata": {},
   "outputs": [
    {
     "data": {
      "text/plain": [
       "(10013, 131)"
      ]
     },
     "execution_count": 24,
     "metadata": {},
     "output_type": "execute_result"
    }
   ],
   "source": [
    "#Standardisation des lignes pour supprimer les biais\n",
    "def standardize(row):\n",
    "    return row - np.mean(row)\n",
    "\n",
    "userId_title_std = userId_title_df.apply(standardize, axis=1).fillna(0)\n",
    "userId_title_std.shape"
   ]
  },
  {
   "cell_type": "code",
   "execution_count": 74,
   "metadata": {},
   "outputs": [],
   "source": [
    "#Création de la matrice de cosinus distance\n",
    "cos = cosine_similarity(userId_title_std)"
   ]
  },
  {
   "cell_type": "code",
   "execution_count": 26,
   "metadata": {},
   "outputs": [
    {
     "data": {
      "application/vnd.jupyter.widget-view+json": {
       "model_id": "80746b6a916d41d3a53bb60efa017c39",
       "version_major": 2,
       "version_minor": 0
      },
      "text/plain": [
       "  0%|          | 0/10013 [00:00<?, ?it/s]"
      ]
     },
     "metadata": {},
     "output_type": "display_data"
    }
   ],
   "source": [
    "#On garde les candidats similaire et complétement opposé\n",
    "eps = 0.8\n",
    "L = len(cos)\n",
    "cluster = []\n",
    "\n",
    "for i in tqdm(range(L)):\n",
    "    cluster.append({\"+\" : [], \"-\" : []})\n",
    "    for j in range(i+1, L):\n",
    "        tmp = cos[i,j]\n",
    "        if (tmp >= eps):\n",
    "            cluster[i][\"+\"].append(j)\n",
    "        elif (tmp <= -eps):\n",
    "            cluster[i][\"-\"].append(j)"
   ]
  },
  {
   "cell_type": "code",
   "execution_count": 60,
   "metadata": {},
   "outputs": [],
   "source": [
    "#On devine la note en fonction des candidtats similaires\n",
    "def guess_rate_cluster(user, title):\n",
    "    if (len(cluster[user][\"+\"]) == 0):\n",
    "        return 2.5\n",
    "    else:\n",
    "        rate = 0\n",
    "        coeff = 0\n",
    "\n",
    "        for u in cluster[user][\"+\"]:\n",
    "            if not (pd.isnull(userId_title_df.iloc[u][title])):\n",
    "                rate += cos[user, u]*userId_title_df.iloc[u][title]\n",
    "                coeff += cos[user, u]\n",
    "\n",
    "        if (coeff == 0):\n",
    "            return 2.5\n",
    "        else:   \n",
    "            return rate/coeff"
   ]
  },
  {
   "cell_type": "code",
   "execution_count": 61,
   "metadata": {},
   "outputs": [],
   "source": [
    "#On devine la note en fonction de tous les candidats\n",
    "def guess_rate_all(user, title):\n",
    "    L = len(cos)\n",
    "    rate = 0\n",
    "    coef = 0\n",
    "\n",
    "    for i in range(L):\n",
    "        if (i != user) and not (pd.isnull(userId_title_df.iloc[i][title])):\n",
    "            rate += cos[user, i]*userId_title_df.iloc[i][title]\n",
    "            coef += cos[user, i]\n",
    "\n",
    "    if (coef == 0):\n",
    "            return 2.5\n",
    "    else:   \n",
    "        return rate/coef"
   ]
  },
  {
   "cell_type": "code",
   "execution_count": 69,
   "metadata": {},
   "outputs": [
    {
     "data": {
      "application/vnd.jupyter.widget-view+json": {
       "model_id": "572bc2931654437c879445f4798d2bac",
       "version_major": 2,
       "version_minor": 0
      },
      "text/plain": [
       "  0%|          | 0/131 [00:00<?, ?it/s]"
      ]
     },
     "metadata": {},
     "output_type": "display_data"
    }
   ],
   "source": [
    "#On compare les deux méthodes\n",
    "from time import time\n",
    "\n",
    "user = 12\n",
    "titles = userId_title_df.columns\n",
    "\n",
    "deltaT = []\n",
    "t_cluster = []\n",
    "t_all = []\n",
    "positif = 0\n",
    "\n",
    "deltaN = []\n",
    "n_cluster = []\n",
    "n_all = []\n",
    "sup = 0\n",
    "\n",
    "for title in tqdm(titles):\n",
    "    start = time()\n",
    "    n_cluster.append(guess_rate_cluster(user, title))\n",
    "    t_cluster.append(time() - start)\n",
    "\n",
    "    start = time()\n",
    "    n_all.append(guess_rate_all(user, title))\n",
    "    t_all.append(time() - start)\n",
    "    \n",
    "    dN = n_cluster[-1]-n_all[-1]\n",
    "    deltaN.append(np.abs(dN))\n",
    "    sup += 1 if (dN > 0) else 0 \n",
    "\n",
    "    dT = t_all[-1]-t_cluster[-1]\n",
    "    deltaT.append(np.abs(dT))\n",
    "    positif += 1 if (dT > 0) else 0"
   ]
  },
  {
   "cell_type": "code",
   "execution_count": 70,
   "metadata": {},
   "outputs": [
    {
     "data": {
      "image/png": "[encoded data removed]",
      "text/plain": [
       "<Figure size 2160x720 with 8 Axes>"
      ]
     },
     "metadata": {
      "needs_background": "light"
     },
     "output_type": "display_data"
    }
   ],
   "source": [
    "#On affiche graphiquement le comparatif\n",
    "plt.figure(figsize=(30,10))\n",
    "\n",
    "j = 0\n",
    "plots_pie = [[positif, len(t1)-positif], [sup, len(n1)-sup]]\n",
    "labels_pie = [[\"+ Rapide\", \"- Rapide\"], [\"+ Haute\", \"- Haute\"]]\n",
    "titles_pie = [\"Nb de fois on Cluster est plus rapide que All\", \"Nb de fois que Cluster à données une note plus haute\"]\n",
    "\n",
    "k = 0\n",
    "plots_box = [t1, t2, deltaT, n1, n2, deltaN]\n",
    "titles_box = [\"Temps d'éxécution du Cluster\", \"Temps d'éxécution du All\", \"Différence de temps\", \"Notes de Cluster\", \"Notes de All\", \"Différence de note\"]\n",
    "\n",
    "for i in range(8):\n",
    "    plt.subplot(2, 4, i+1)\n",
    "\n",
    "    if i+1 in [1, 5]:\n",
    "        plt.pie(plots_pie[j], labels=labels_pie[j], autopct='%.0f%%')\n",
    "        plt.title(titles_pie[j])\n",
    "        j += 1\n",
    "    else:\n",
    "        plt.boxplot(plots_box[k])\n",
    "        plt.title(titles_box[k])\n",
    "        k += 1\n",
    "\n",
    "plt.show()"
   ]
  },
  {
   "cell_type": "code",
   "execution_count": 114,
   "metadata": {},
   "outputs": [
    {
     "data": {
      "text/plain": [
       "[1, 1, 2]"
      ]
     },
     "execution_count": 114,
     "metadata": {},
     "output_type": "execute_result"
    }
   ],
   "source": [
    "c = [1] \n",
    "c += [1, 2]\n",
    "c"
   ]
  },
  {
   "cell_type": "code",
   "execution_count": 116,
   "metadata": {},
   "outputs": [
    {
     "data": {
      "application/vnd.jupyter.widget-view+json": {
       "model_id": "5444fee155e14f319592bf9f82b5b18d",
       "version_major": 2,
       "version_minor": 0
      },
      "text/plain": [
       "  0%|          | 0/10 [00:00<?, ?it/s]"
      ]
     },
     "metadata": {},
     "output_type": "display_data"
    },
    {
     "data": {
      "application/vnd.jupyter.widget-view+json": {
       "model_id": "2aae043619a3408c946b0449a0c92025",
       "version_major": 2,
       "version_minor": 0
      },
      "text/plain": [
       "  0%|          | 0/60 [00:00<?, ?it/s]"
      ]
     },
     "metadata": {},
     "output_type": "display_data"
    },
    {
     "data": {
      "application/vnd.jupyter.widget-view+json": {
       "model_id": "03b4248e82874ee9b14e2d7efcec3bab",
       "version_major": 2,
       "version_minor": 0
      },
      "text/plain": [
       "  0%|          | 0/60 [00:00<?, ?it/s]"
      ]
     },
     "metadata": {},
     "output_type": "display_data"
    },
    {
     "data": {
      "application/vnd.jupyter.widget-view+json": {
       "model_id": "41b7c8bdacbe4c1f82470568e16e1485",
       "version_major": 2,
       "version_minor": 0
      },
      "text/plain": [
       "  0%|          | 0/63 [00:00<?, ?it/s]"
      ]
     },
     "metadata": {},
     "output_type": "display_data"
    },
    {
     "data": {
      "application/vnd.jupyter.widget-view+json": {
       "model_id": "1b1a498891954486a7987f292381c42c",
       "version_major": 2,
       "version_minor": 0
      },
      "text/plain": [
       "  0%|          | 0/65 [00:00<?, ?it/s]"
      ]
     },
     "metadata": {},
     "output_type": "display_data"
    },
    {
     "data": {
      "application/vnd.jupyter.widget-view+json": {
       "model_id": "b667a36f50e942309a0ce69a906807ca",
       "version_major": 2,
       "version_minor": 0
      },
      "text/plain": [
       "  0%|          | 0/69 [00:00<?, ?it/s]"
      ]
     },
     "metadata": {},
     "output_type": "display_data"
    },
    {
     "data": {
      "application/vnd.jupyter.widget-view+json": {
       "model_id": "2b593e650a8f43d6b4cb39fedfa21516",
       "version_major": 2,
       "version_minor": 0
      },
      "text/plain": [
       "  0%|          | 0/75 [00:00<?, ?it/s]"
      ]
     },
     "metadata": {},
     "output_type": "display_data"
    },
    {
     "data": {
      "application/vnd.jupyter.widget-view+json": {
       "model_id": "9c14c9919d334d2b801b26927adc1742",
       "version_major": 2,
       "version_minor": 0
      },
      "text/plain": [
       "  0%|          | 0/70 [00:00<?, ?it/s]"
      ]
     },
     "metadata": {},
     "output_type": "display_data"
    },
    {
     "data": {
      "application/vnd.jupyter.widget-view+json": {
       "model_id": "fa70ff98dc4448fe839c62f8561936db",
       "version_major": 2,
       "version_minor": 0
      },
      "text/plain": [
       "  0%|          | 0/65 [00:00<?, ?it/s]"
      ]
     },
     "metadata": {},
     "output_type": "display_data"
    },
    {
     "data": {
      "application/vnd.jupyter.widget-view+json": {
       "model_id": "19ef41d887d24f7199422cb1844d00f4",
       "version_major": 2,
       "version_minor": 0
      },
      "text/plain": [
       "  0%|          | 0/73 [00:00<?, ?it/s]"
      ]
     },
     "metadata": {},
     "output_type": "display_data"
    },
    {
     "data": {
      "application/vnd.jupyter.widget-view+json": {
       "model_id": "ff536b73be6849f7865dfe0c070680fd",
       "version_major": 2,
       "version_minor": 0
      },
      "text/plain": [
       "  0%|          | 0/63 [00:00<?, ?it/s]"
      ]
     },
     "metadata": {},
     "output_type": "display_data"
    }
   ],
   "source": [
    "users = userId_title_df.index[:10]\n",
    "\n",
    "n_cluster = []\n",
    "n_all = []\n",
    "delta = []\n",
    "n_true = []\n",
    "\n",
    "for user in tqdm(users):\n",
    "    all_rated_film = userId_title_df.loc[user].dropna(axis=0)\n",
    "    n_true += all_rated_film.values.tolist()\n",
    "    \n",
    "    for movie in tqdm(all_rated_film.index):\n",
    "        clust = guess_rate_cluster(user, movie)\n",
    "        all = guess_rate_all(user, movie)\n",
    "\n",
    "        delta.append(np.abs(all-clust))\n",
    "        n_cluster.append(clust)\n",
    "        n_all.append(all)"
   ]
  },
  {
   "cell_type": "code",
   "execution_count": 123,
   "metadata": {},
   "outputs": [
    {
     "ename": "TypeError",
     "evalue": "unsupported operand type(s) for -: 'list' and 'list'",
     "output_type": "error",
     "traceback": [
      "\u001b[1;31m---------------------------------------------------------------------------\u001b[0m",
      "\u001b[1;31mTypeError\u001b[0m                                 Traceback (most recent call last)",
      "\u001b[1;32mc:\\Users\\csis7\\Documents\\ClusteringRecommendation\\GroupLens\\groupLens.ipynb Cell 25'\u001b[0m in \u001b[0;36m<cell line: 1>\u001b[1;34m()\u001b[0m\n\u001b[1;32m----> <a href='vscode-notebook-cell:/c%3A/Users/csis7/Documents/ClusteringRecommendation/GroupLens/groupLens.ipynb#ch0000037?line=0'>1</a>\u001b[0m n_cluster\u001b[39m-\u001b[39;49mn_true\n",
      "\u001b[1;31mTypeError\u001b[0m: unsupported operand type(s) for -: 'list' and 'list'"
     ]
    }
   ],
   "source": [
    "n_cluster-n_true"
   ]
  },
  {
   "cell_type": "code",
   "execution_count": 124,
   "metadata": {},
   "outputs": [
    {
     "data": {
      "image/png": "[encoded data removed]",
      "text/plain": [
       "<Figure size 1440x432 with 3 Axes>"
      ]
     },
     "metadata": {
      "needs_background": "light"
     },
     "output_type": "display_data"
    }
   ],
   "source": [
    "plt.figure(figsize=(20,6))\n",
    "\n",
    "delta_cluster = []\n",
    "delta_all = []\n",
    "for i in range(len(n_true)):\n",
    "    delta_cluster.append(n_cluster[i]-n_true[i])\n",
    "    delta_all.append(n_all[i]-n_true[i])\n",
    "\n",
    "plots = [delta_cluster, delta_all, delta]\n",
    "titles = [\"Différence des notes entre la méthode Cluster et les vrais notes\", \"Différence des notes entre la méthode All et les vrais notes\", \"Diférence des notes entre la méthodes Cluster et All\"]\n",
    "\n",
    "for i in range(3):\n",
    "    plt.subplot(1, 3, i+1)\n",
    "    plt.boxplot(plots[i])\n",
    "    plt.title(titles[i])\n",
    "\n",
    "plt.show()"
   ]
  }
 ],
 "metadata": {
  "interpreter": {
   "hash": "74a981a46e37d63b82983f5b77d7c74cce8983549ccfc8d083c110a6dffce6c1"
  },
  "kernelspec": {
   "display_name": "Python 3.10.4 64-bit",
   "language": "python",
   "name": "python3"
  },
  "language_info": {
   "codemirror_mode": {
    "name": "ipython",
    "version": 3
   },
   "file_extension": ".py",
   "mimetype": "text/x-python",
   "name": "python",
   "nbconvert_exporter": "python",
   "pygments_lexer": "ipython3",
   "version": "3.10.4"
  },
  "orig_nbformat": 4
 },
 "nbformat": 4,
 "nbformat_minor": 2
}
