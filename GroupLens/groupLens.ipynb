{
 "cells": [
  {
   "cell_type": "markdown",
   "metadata": {},
   "source": [
    "# 0 - Instalation of modules"
   ]
  },
  {
   "cell_type": "markdown",
   "metadata": {},
   "source": [
    "#Run this cell to have the progress bar\n",
    "!pip install tqdm\n",
    "!pip install ipywidgets\n",
    "!jupyter nbextension enable --py widgetsnbextension"
   ]
  },
  {
   "cell_type": "code",
   "execution_count": 33,
   "metadata": {},
   "outputs": [],
   "source": [
    "%reset"
   ]
  },
  {
   "cell_type": "markdown",
   "metadata": {},
   "source": [
    "# 1 - Importing modules"
   ]
  },
  {
   "cell_type": "code",
   "execution_count": 3,
   "metadata": {},
   "outputs": [],
   "source": [
    "import pandas as pd\n",
    "import numpy as np\n",
    "from tqdm.notebook import tqdm\n",
    "from sklearn.metrics.pairwise import cosine_similarity\n",
    "import matplotlib.pyplot as plt"
   ]
  },
  {
   "cell_type": "markdown",
   "metadata": {},
   "source": [
    "# 2 - Get all files needed"
   ]
  },
  {
   "cell_type": "code",
   "execution_count": 4,
   "metadata": {},
   "outputs": [],
   "source": [
    "data_folder = \"../../Dataset/Movie/\""
   ]
  },
  {
   "cell_type": "code",
   "execution_count": 4,
   "metadata": {},
   "outputs": [
    {
     "data": {
      "text/plain": [
       "(25000095, 3)"
      ]
     },
     "execution_count": 4,
     "metadata": {},
     "output_type": "execute_result"
    }
   ],
   "source": [
    "rating = pd.read_csv(f\"{data_folder}ratings.csv\").drop([\"timestamp\"], axis=1)\n",
    "movie = pd.read_csv(f\"{data_folder}movies.csv\")\n",
    "\n",
    "data = pd.merge(movie, rating, on=\"movieId\").drop([\"genres\", \"movieId\"], axis=1)\n",
    "data.shape"
   ]
  },
  {
   "cell_type": "markdown",
   "metadata": {},
   "source": [
    "# 3 - Transforming data"
   ]
  },
  {
   "cell_type": "code",
   "execution_count": 7,
   "metadata": {},
   "outputs": [
    {
     "data": {
      "text/plain": [
       "(10944751, 3)"
      ]
     },
     "execution_count": 7,
     "metadata": {},
     "output_type": "execute_result"
    }
   ],
   "source": [
    "#On garde les NB_FILM films les plus notés\n",
    "NB_FILM = 500\n",
    "keep_title = data[\"title\"].value_counts().sort_values(ascending=False)[:NB_FILM].index\n",
    "data_title = data[data[\"title\"].isin(keep_title)]\n",
    "data_title.shape"
   ]
  },
  {
   "cell_type": "code",
   "execution_count": 8,
   "metadata": {},
   "outputs": [],
   "source": [
    "#On garde les users qui ont données une note sur au moins THRESH_USER % des films\n",
    "THRESH_USER = 0.3\n",
    "keep_user = data_title[\"userId\"].value_counts()/NB_FILM >= THRESH_USER\n",
    "data_title_user = data_title[data_title[\"userId\"].isin(keep_user[keep_user].index)]"
   ]
  },
  {
   "cell_type": "code",
   "execution_count": 10,
   "metadata": {},
   "outputs": [
    {
     "data": {
      "text/plain": [
       "(18391, 500)"
      ]
     },
     "execution_count": 10,
     "metadata": {},
     "output_type": "execute_result"
    }
   ],
   "source": [
    "#On fait notre pivot table\n",
    "user_title_df = data_title_user.pivot_table(index=\"userId\", columns=\"title\", values=\"rating\")\n",
    "user_title_df.to_csv(f\"{data_folder}user_title.csv\")\n",
    "user_title_df.shape"
   ]
  },
  {
   "cell_type": "markdown",
   "metadata": {},
   "source": [
    "# 4 - Colaborative filtering"
   ]
  },
  {
   "cell_type": "code",
   "execution_count": 5,
   "metadata": {},
   "outputs": [],
   "source": [
    "#Récupérer les données si elles sont en local\n",
    "user_title_df = pd.read_csv(f\"{data_folder}user_title.csv\", index_col=0)"
   ]
  },
  {
   "cell_type": "code",
   "execution_count": 6,
   "metadata": {},
   "outputs": [
    {
     "data": {
      "text/plain": [
       "(18391, 500)"
      ]
     },
     "execution_count": 6,
     "metadata": {},
     "output_type": "execute_result"
    }
   ],
   "source": [
    "#Standardisation des lignes pour supprimer les biais\n",
    "def standardize(row):\n",
    "    return row - np.mean(row)\n",
    "\n",
    "user_title_std = user_title_df.apply(standardize, axis=1).fillna(0)\n",
    "user_title_std.shape"
   ]
  },
  {
   "cell_type": "code",
   "execution_count": 7,
   "metadata": {},
   "outputs": [],
   "source": [
    "#Création de la matrice de cosinus distance\n",
    "cos = cosine_similarity(user_title_std)\n",
    "cos_df = pd.DataFrame(cos, index=user_title_std.index, columns=user_title_std.index)\n",
    "del(cos)"
   ]
  },
  {
   "cell_type": "code",
   "execution_count": 8,
   "metadata": {},
   "outputs": [
    {
     "data": {
      "text/plain": [
       "(338, 338)"
      ]
     },
     "execution_count": 8,
     "metadata": {},
     "output_type": "execute_result"
    }
   ],
   "source": [
    "#Création\n",
    "thresh = cos_df[(cos_df >= 0.7) & (cos_df < 0.999999999)]\n",
    "thresh = thresh.dropna(axis=1, thresh=1).dropna(axis=0, thresh=1)\n",
    "thresh.shape"
   ]
  },
  {
   "cell_type": "code",
   "execution_count": 13,
   "metadata": {},
   "outputs": [
    {
     "data": {
      "application/vnd.jupyter.widget-view+json": {
       "model_id": "9a8d396f34d747609525173495211630",
       "version_major": 2,
       "version_minor": 0
      },
      "text/plain": [
       "  0%|          | 0/338 [00:00<?, ?it/s]"
      ]
     },
     "metadata": {},
     "output_type": "display_data"
    }
   ],
   "source": [
    "#On garde les candidats similaire et complétement opposé\n",
    "all_users = thresh.index\n",
    "eps = 0.7\n",
    "cluster = {user : {\"+\" : [], \"-\" : []} for user in all_users}\n",
    "\n",
    "i = 1\n",
    "for user1 in tqdm(all_users):\n",
    "    for user2 in all_users[i:]:\n",
    "        tmp = thresh.loc[user1, user2]\n",
    "\n",
    "        if (tmp >= eps):\n",
    "            cluster[user1][\"+\"].append(user2)\n",
    "            cluster[user2][\"+\"].append(user1)\n",
    "        elif (tmp <= -eps):\n",
    "            cluster[user1][\"-\"].append(user2)\n",
    "            cluster[user2][\"-\"].append(user1)\n",
    "\n",
    "    i += 1\n",
    "\n",
    "pd.DataFrame.from_dict(cluster).T.to_csv(f\"{data_folder}cluster.csv\")"
   ]
  },
  {
   "cell_type": "code",
   "execution_count": 73,
   "metadata": {},
   "outputs": [
    {
     "data": {
      "text/plain": [
       "11"
      ]
     },
     "execution_count": 73,
     "metadata": {},
     "output_type": "execute_result"
    }
   ],
   "source": [
    "N = 4\n",
    "all_none_empty_cluster = []\n",
    "\n",
    "for k in cluster.keys():\n",
    "    if (len(cluster[k][\"+\"]) == N):\n",
    "        all_none_empty_cluster.append(k)\n",
    "len(all_none_empty_cluster)"
   ]
  },
  {
   "cell_type": "code",
   "execution_count": 14,
   "metadata": {},
   "outputs": [],
   "source": [
    "#On devine la note en fonction des candidtats similaires\n",
    "def guess_rate_cluster(user, title):\n",
    "    rate = 0\n",
    "    coeff = 0\n",
    "\n",
    "    for u in cluster[user][\"+\"]:\n",
    "        if not (pd.isnull(user_title_df.loc[u, title])):\n",
    "            rate += cos_df.loc[user, u]*user_title_df.loc[u, title]\n",
    "            coeff += cos_df.loc[user, u]\n",
    "\n",
    "    if (coeff == 0):\n",
    "        return 2.5\n",
    "    else:   \n",
    "        return rate/coeff"
   ]
  },
  {
   "cell_type": "code",
   "execution_count": 15,
   "metadata": {},
   "outputs": [],
   "source": [
    "#On devine la note en fonction de tous les candidats\n",
    "def guess_rate_all(user, title):\n",
    "    rate = 0\n",
    "    coef = 0\n",
    "\n",
    "    for i in user_title_df.index:\n",
    "        if (i != user) and not (pd.isnull(user_title_df.loc[i, title])):\n",
    "            rate += cos_df.loc[user, i]*user_title_df.loc[i, title]\n",
    "            coef += cos_df.loc[user, i]\n",
    "\n",
    "    if (coef == 0):\n",
    "            return 2.5\n",
    "    else:   \n",
    "        return rate/coef"
   ]
  },
  {
   "cell_type": "code",
   "execution_count": 75,
   "metadata": {},
   "outputs": [
    {
     "data": {
      "application/vnd.jupyter.widget-view+json": {
       "model_id": "bc50f38ad9834c7dba1c988edca4ba5a",
       "version_major": 2,
       "version_minor": 0
      },
      "text/plain": [
       "  0%|          | 0/11 [00:00<?, ?it/s]"
      ]
     },
     "metadata": {},
     "output_type": "display_data"
    },
    {
     "ename": "KeyboardInterrupt",
     "evalue": "",
     "output_type": "error",
     "traceback": [
      "\u001b[1;31m---------------------------------------------------------------------------\u001b[0m",
      "\u001b[1;31mKeyboardInterrupt\u001b[0m                         Traceback (most recent call last)",
      "\u001b[1;32mC:\\Users\\CYTECH~1\\AppData\\Local\\Temp/ipykernel_7316/181249784.py\u001b[0m in \u001b[0;36m<module>\u001b[1;34m\u001b[0m\n\u001b[0;32m     22\u001b[0m \u001b[1;33m\u001b[0m\u001b[0m\n\u001b[0;32m     23\u001b[0m         \u001b[0mstart\u001b[0m \u001b[1;33m=\u001b[0m \u001b[0mtime\u001b[0m\u001b[1;33m(\u001b[0m\u001b[1;33m)\u001b[0m\u001b[1;33m\u001b[0m\u001b[1;33m\u001b[0m\u001b[0m\n\u001b[1;32m---> 24\u001b[1;33m         \u001b[0mn_all\u001b[0m\u001b[1;33m.\u001b[0m\u001b[0mappend\u001b[0m\u001b[1;33m(\u001b[0m\u001b[0mguess_rate_all\u001b[0m\u001b[1;33m(\u001b[0m\u001b[0muser\u001b[0m\u001b[1;33m,\u001b[0m \u001b[0mtitle\u001b[0m\u001b[1;33m)\u001b[0m\u001b[1;33m)\u001b[0m\u001b[1;33m\u001b[0m\u001b[1;33m\u001b[0m\u001b[0m\n\u001b[0m\u001b[0;32m     25\u001b[0m         \u001b[0mt_all\u001b[0m\u001b[1;33m.\u001b[0m\u001b[0mappend\u001b[0m\u001b[1;33m(\u001b[0m\u001b[0mtime\u001b[0m\u001b[1;33m(\u001b[0m\u001b[1;33m)\u001b[0m \u001b[1;33m-\u001b[0m \u001b[0mstart\u001b[0m\u001b[1;33m)\u001b[0m\u001b[1;33m\u001b[0m\u001b[1;33m\u001b[0m\u001b[0m\n\u001b[0;32m     26\u001b[0m \u001b[1;33m\u001b[0m\u001b[0m\n",
      "\u001b[1;32mC:\\Users\\CYTECH~1\\AppData\\Local\\Temp/ipykernel_7316/303070047.py\u001b[0m in \u001b[0;36mguess_rate_all\u001b[1;34m(user, title)\u001b[0m\n\u001b[0;32m      6\u001b[0m     \u001b[1;32mfor\u001b[0m \u001b[0mi\u001b[0m \u001b[1;32min\u001b[0m \u001b[0muser_title_df\u001b[0m\u001b[1;33m.\u001b[0m\u001b[0mindex\u001b[0m\u001b[1;33m:\u001b[0m\u001b[1;33m\u001b[0m\u001b[1;33m\u001b[0m\u001b[0m\n\u001b[0;32m      7\u001b[0m         \u001b[1;32mif\u001b[0m \u001b[1;33m(\u001b[0m\u001b[0mi\u001b[0m \u001b[1;33m!=\u001b[0m \u001b[0muser\u001b[0m\u001b[1;33m)\u001b[0m \u001b[1;32mand\u001b[0m \u001b[1;32mnot\u001b[0m \u001b[1;33m(\u001b[0m\u001b[0mpd\u001b[0m\u001b[1;33m.\u001b[0m\u001b[0misnull\u001b[0m\u001b[1;33m(\u001b[0m\u001b[0muser_title_df\u001b[0m\u001b[1;33m.\u001b[0m\u001b[0mloc\u001b[0m\u001b[1;33m[\u001b[0m\u001b[0mi\u001b[0m\u001b[1;33m,\u001b[0m \u001b[0mtitle\u001b[0m\u001b[1;33m]\u001b[0m\u001b[1;33m)\u001b[0m\u001b[1;33m)\u001b[0m\u001b[1;33m:\u001b[0m\u001b[1;33m\u001b[0m\u001b[1;33m\u001b[0m\u001b[0m\n\u001b[1;32m----> 8\u001b[1;33m             \u001b[0mrate\u001b[0m \u001b[1;33m+=\u001b[0m \u001b[0mcos_df\u001b[0m\u001b[1;33m.\u001b[0m\u001b[0mloc\u001b[0m\u001b[1;33m[\u001b[0m\u001b[0muser\u001b[0m\u001b[1;33m,\u001b[0m \u001b[0mi\u001b[0m\u001b[1;33m]\u001b[0m\u001b[1;33m*\u001b[0m\u001b[0muser_title_df\u001b[0m\u001b[1;33m.\u001b[0m\u001b[0mloc\u001b[0m\u001b[1;33m[\u001b[0m\u001b[0mi\u001b[0m\u001b[1;33m,\u001b[0m \u001b[0mtitle\u001b[0m\u001b[1;33m]\u001b[0m\u001b[1;33m\u001b[0m\u001b[1;33m\u001b[0m\u001b[0m\n\u001b[0m\u001b[0;32m      9\u001b[0m             \u001b[0mcoef\u001b[0m \u001b[1;33m+=\u001b[0m \u001b[0mcos_df\u001b[0m\u001b[1;33m.\u001b[0m\u001b[0mloc\u001b[0m\u001b[1;33m[\u001b[0m\u001b[0muser\u001b[0m\u001b[1;33m,\u001b[0m \u001b[0mi\u001b[0m\u001b[1;33m]\u001b[0m\u001b[1;33m\u001b[0m\u001b[1;33m\u001b[0m\u001b[0m\n\u001b[0;32m     10\u001b[0m \u001b[1;33m\u001b[0m\u001b[0m\n",
      "\u001b[1;32m~\\AppData\\Roaming\\Python\\Python38\\site-packages\\pandas\\core\\indexing.py\u001b[0m in \u001b[0;36m__getitem__\u001b[1;34m(self, key)\u001b[0m\n\u001b[0;32m    922\u001b[0m             \u001b[1;32mif\u001b[0m \u001b[0mself\u001b[0m\u001b[1;33m.\u001b[0m\u001b[0m_is_scalar_access\u001b[0m\u001b[1;33m(\u001b[0m\u001b[0mkey\u001b[0m\u001b[1;33m)\u001b[0m\u001b[1;33m:\u001b[0m\u001b[1;33m\u001b[0m\u001b[1;33m\u001b[0m\u001b[0m\n\u001b[0;32m    923\u001b[0m                 \u001b[1;32mwith\u001b[0m \u001b[0msuppress\u001b[0m\u001b[1;33m(\u001b[0m\u001b[0mKeyError\u001b[0m\u001b[1;33m,\u001b[0m \u001b[0mIndexError\u001b[0m\u001b[1;33m)\u001b[0m\u001b[1;33m:\u001b[0m\u001b[1;33m\u001b[0m\u001b[1;33m\u001b[0m\u001b[0m\n\u001b[1;32m--> 924\u001b[1;33m                     \u001b[1;32mreturn\u001b[0m \u001b[0mself\u001b[0m\u001b[1;33m.\u001b[0m\u001b[0mobj\u001b[0m\u001b[1;33m.\u001b[0m\u001b[0m_get_value\u001b[0m\u001b[1;33m(\u001b[0m\u001b[1;33m*\u001b[0m\u001b[0mkey\u001b[0m\u001b[1;33m,\u001b[0m \u001b[0mtakeable\u001b[0m\u001b[1;33m=\u001b[0m\u001b[0mself\u001b[0m\u001b[1;33m.\u001b[0m\u001b[0m_takeable\u001b[0m\u001b[1;33m)\u001b[0m\u001b[1;33m\u001b[0m\u001b[1;33m\u001b[0m\u001b[0m\n\u001b[0m\u001b[0;32m    925\u001b[0m             \u001b[1;32mreturn\u001b[0m \u001b[0mself\u001b[0m\u001b[1;33m.\u001b[0m\u001b[0m_getitem_tuple\u001b[0m\u001b[1;33m(\u001b[0m\u001b[0mkey\u001b[0m\u001b[1;33m)\u001b[0m\u001b[1;33m\u001b[0m\u001b[1;33m\u001b[0m\u001b[0m\n\u001b[0;32m    926\u001b[0m         \u001b[1;32melse\u001b[0m\u001b[1;33m:\u001b[0m\u001b[1;33m\u001b[0m\u001b[1;33m\u001b[0m\u001b[0m\n",
      "\u001b[1;32m~\\AppData\\Roaming\\Python\\Python38\\site-packages\\pandas\\core\\frame.py\u001b[0m in \u001b[0;36m_get_value\u001b[1;34m(self, index, col, takeable)\u001b[0m\n\u001b[0;32m   3578\u001b[0m         \u001b[1;32mtry\u001b[0m\u001b[1;33m:\u001b[0m\u001b[1;33m\u001b[0m\u001b[1;33m\u001b[0m\u001b[0m\n\u001b[0;32m   3579\u001b[0m             \u001b[0mloc\u001b[0m \u001b[1;33m=\u001b[0m \u001b[0mengine\u001b[0m\u001b[1;33m.\u001b[0m\u001b[0mget_loc\u001b[0m\u001b[1;33m(\u001b[0m\u001b[0mindex\u001b[0m\u001b[1;33m)\u001b[0m\u001b[1;33m\u001b[0m\u001b[1;33m\u001b[0m\u001b[0m\n\u001b[1;32m-> 3580\u001b[1;33m             \u001b[1;32mreturn\u001b[0m \u001b[0mseries\u001b[0m\u001b[1;33m.\u001b[0m\u001b[0m_values\u001b[0m\u001b[1;33m[\u001b[0m\u001b[0mloc\u001b[0m\u001b[1;33m]\u001b[0m\u001b[1;33m\u001b[0m\u001b[1;33m\u001b[0m\u001b[0m\n\u001b[0m\u001b[0;32m   3581\u001b[0m         \u001b[1;32mexcept\u001b[0m \u001b[0mAttributeError\u001b[0m\u001b[1;33m:\u001b[0m\u001b[1;33m\u001b[0m\u001b[1;33m\u001b[0m\u001b[0m\n\u001b[0;32m   3582\u001b[0m             \u001b[1;31m# IntervalTree has no get_loc\u001b[0m\u001b[1;33m\u001b[0m\u001b[1;33m\u001b[0m\u001b[1;33m\u001b[0m\u001b[0m\n",
      "\u001b[1;32m~\\AppData\\Roaming\\Python\\Python38\\site-packages\\pandas\\core\\series.py\u001b[0m in \u001b[0;36m_values\u001b[1;34m(self)\u001b[0m\n\u001b[0;32m    704\u001b[0m \u001b[1;33m\u001b[0m\u001b[0m\n\u001b[0;32m    705\u001b[0m         \"\"\"\n\u001b[1;32m--> 706\u001b[1;33m         \u001b[1;32mreturn\u001b[0m \u001b[0mself\u001b[0m\u001b[1;33m.\u001b[0m\u001b[0m_mgr\u001b[0m\u001b[1;33m.\u001b[0m\u001b[0minternal_values\u001b[0m\u001b[1;33m(\u001b[0m\u001b[1;33m)\u001b[0m\u001b[1;33m\u001b[0m\u001b[1;33m\u001b[0m\u001b[0m\n\u001b[0m\u001b[0;32m    707\u001b[0m \u001b[1;33m\u001b[0m\u001b[0m\n\u001b[0;32m    708\u001b[0m     \u001b[1;31m# error: Decorated property not supported\u001b[0m\u001b[1;33m\u001b[0m\u001b[1;33m\u001b[0m\u001b[1;33m\u001b[0m\u001b[0m\n",
      "\u001b[1;32m~\\AppData\\Roaming\\Python\\Python38\\site-packages\\pandas\\core\\internals\\managers.py\u001b[0m in \u001b[0;36minternal_values\u001b[1;34m(self)\u001b[0m\n\u001b[0;32m   1674\u001b[0m     \u001b[1;32mdef\u001b[0m \u001b[0minternal_values\u001b[0m\u001b[1;33m(\u001b[0m\u001b[0mself\u001b[0m\u001b[1;33m)\u001b[0m\u001b[1;33m:\u001b[0m\u001b[1;33m\u001b[0m\u001b[1;33m\u001b[0m\u001b[0m\n\u001b[0;32m   1675\u001b[0m         \u001b[1;34m\"\"\"The array that Series._values returns\"\"\"\u001b[0m\u001b[1;33m\u001b[0m\u001b[1;33m\u001b[0m\u001b[0m\n\u001b[1;32m-> 1676\u001b[1;33m         \u001b[1;32mreturn\u001b[0m \u001b[0mself\u001b[0m\u001b[1;33m.\u001b[0m\u001b[0m_block\u001b[0m\u001b[1;33m.\u001b[0m\u001b[0mvalues\u001b[0m\u001b[1;33m\u001b[0m\u001b[1;33m\u001b[0m\u001b[0m\n\u001b[0m\u001b[0;32m   1677\u001b[0m \u001b[1;33m\u001b[0m\u001b[0m\n\u001b[0;32m   1678\u001b[0m     \u001b[1;32mdef\u001b[0m \u001b[0marray_values\u001b[0m\u001b[1;33m(\u001b[0m\u001b[0mself\u001b[0m\u001b[1;33m)\u001b[0m\u001b[1;33m:\u001b[0m\u001b[1;33m\u001b[0m\u001b[1;33m\u001b[0m\u001b[0m\n",
      "\u001b[1;31mKeyboardInterrupt\u001b[0m: "
     ]
    }
   ],
   "source": [
    "#On compare les deux méthodes\n",
    "from time import time\n",
    "\n",
    "users = all_none_empty_cluster\n",
    "titles = user_title_df.columns\n",
    "\n",
    "deltaT = []\n",
    "t_cluster = []\n",
    "t_all = []\n",
    "positif = 0\n",
    "\n",
    "deltaN = []\n",
    "n_cluster = []\n",
    "n_all = []\n",
    "sup = 0\n",
    "\n",
    "for user in tqdm(users):\n",
    "    for title in titles:\n",
    "        start = time()\n",
    "        n_cluster.append(guess_rate_cluster(user, title))\n",
    "        t_cluster.append(time() - start)\n",
    "\n",
    "        start = time()\n",
    "        n_all.append(guess_rate_all(user, title))\n",
    "        t_all.append(time() - start)\n",
    "        \n",
    "        dN = n_cluster[-1]-n_all[-1]\n",
    "        deltaN.append(np.abs(dN))\n",
    "        sup += 1 if (dN > 0) else 0 \n",
    "\n",
    "        dT = t_all[-1]-t_cluster[-1]\n",
    "        deltaT.append(np.abs(dT))\n",
    "        positif += 1 if (dT > 0) else 0"
   ]
  },
  {
   "cell_type": "code",
   "execution_count": 74,
   "metadata": {},
   "outputs": [
    {
     "data": {
      "image/png": "[encoded data removed]",
      "text/plain": [
       "<Figure size 1800x720 with 6 Axes>"
      ]
     },
     "metadata": {
      "needs_background": "light"
     },
     "output_type": "display_data"
    }
   ],
   "source": [
    "#On affiche graphiquement le comparatif\n",
    "plt.figure(figsize=(25,10))\n",
    "\n",
    "j = 0\n",
    "plots_pie = [[positif, len(t_cluster)-positif], [sup, len(n_cluster)-sup]]\n",
    "labels_pie = [\"Faster\", \"Slower\"], [\"Bigger\", \"Lower\"]\n",
    "titles_pie = [\"Each time Cluster is faster than All\", \"Each time Cluster gives biggest rates than All\"]\n",
    "\n",
    "k = 0\n",
    "plots_box = [[t_cluster, t_all], deltaT, [n_cluster, n_all], deltaN]\n",
    "labels_box = [[\"Cluster\", \"All\"], [\"Delta\"], [\"Cluster\", \"All\"], [\"Delta\"]]\n",
    "titles_box = [\"Running times\", \"Time differences\", \"Rates\", \"Rate differences\"]\n",
    "\n",
    "for i in range(6):\n",
    "    plt.subplot(2, 3, i+1)\n",
    "\n",
    "    if i+1 in [1, 4]:\n",
    "        plt.pie(plots_pie[j], labels=labels_pie[j], autopct='%.0f%%')\n",
    "        plt.title(titles_pie[j])\n",
    "        j += 1\n",
    "    else:\n",
    "        plt.boxplot(plots_box[k], labels=labels_box[k])\n",
    "        plt.title(titles_box[k])\n",
    "        k += 1\n",
    "\n",
    "plt.savefig(\"img/stats_4clusters.jpg\", dpi=150)\n",
    "plt.show()"
   ]
  },
  {
   "cell_type": "code",
   "execution_count": null,
   "metadata": {},
   "outputs": [],
   "source": [
    "cluster_non_vide = []\n",
    "for k in cluster.keys():\n",
    "    if (len(cluster[k][\"+\"]) < 5) and (len(cluster[k][\"+\"]) > 0):\n",
    "        cluster_non_vide.append(k)\n",
    "len(cluster_non_vide)"
   ]
  },
  {
   "cell_type": "code",
   "execution_count": null,
   "metadata": {},
   "outputs": [],
   "source": [
    "users = cluster_non_vide[:10]\n",
    "\n",
    "n_cluster = []\n",
    "n_all = []\n",
    "delta = []\n",
    "n_true = []\n",
    "\n",
    "for user in tqdm(users):\n",
    "    all_rated_film = user_title_df.loc[user].dropna(axis=0)\n",
    "    n_true += all_rated_film.values.tolist()\n",
    "    \n",
    "    for movie in tqdm(all_rated_film.index, leave=False):\n",
    "        clust = guess_rate_cluster(user, movie)\n",
    "        all = guess_rate_all(user, movie)\n",
    "\n",
    "        delta.append(np.abs(all-clust))\n",
    "        n_cluster.append(clust)\n",
    "        n_all.append(all)"
   ]
  },
  {
   "cell_type": "code",
   "execution_count": null,
   "metadata": {},
   "outputs": [],
   "source": [
    "delta_cluster = []\n",
    "delta_all = []\n",
    "for i in range(len(n_true)):\n",
    "    delta_cluster.append(n_cluster[i]-n_true[i])\n",
    "    delta_all.append(n_all[i]-n_true[i])\n",
    "\n",
    "plots = [[delta_cluster, delta_all], delta]\n",
    "labels = [[\"Cluster\", \"All\"], [\"Delta\"]]\n",
    "titles = [\"Différence des notes avec les vrais notes\", \"Diférence des notes entre la méthodes Cluster et All\"]\n",
    "\n",
    "plt.figure(figsize=(15,6))\n",
    "for i in range(2):\n",
    "    plt.subplot(1, 2, i+1)\n",
    "    plt.boxplot(plots[i], labels=labels[i])\n",
    "    plt.title(titles[i])\n",
    "\n",
    "plt.show()"
   ]
  },
  {
   "cell_type": "code",
   "execution_count": null,
   "metadata": {},
   "outputs": [],
   "source": [
    "cluster_non_vide[1]"
   ]
  },
  {
   "cell_type": "code",
   "execution_count": null,
   "metadata": {},
   "outputs": [],
   "source": [
    "cluster[cluster_non_vide[1]]"
   ]
  },
  {
   "cell_type": "code",
   "execution_count": null,
   "metadata": {},
   "outputs": [],
   "source": [
    "cos_df.loc[48508]"
   ]
  },
  {
   "cell_type": "code",
   "execution_count": null,
   "metadata": {},
   "outputs": [],
   "source": [
    "guess_rate_cluster(cluster_non_vide[1], movie)"
   ]
  },
  {
   "cell_type": "code",
   "execution_count": null,
   "metadata": {},
   "outputs": [],
   "source": [
    "cluster[cluster_non_vide[0]]"
   ]
  }
 ],
 "metadata": {
  "kernelspec": {
   "display_name": "Python 3.8.3 64-bit",
   "language": "python",
   "name": "python3"
  },
  "language_info": {
   "codemirror_mode": {
    "name": "ipython",
    "version": 3
   },
   "file_extension": ".py",
   "mimetype": "text/x-python",
   "name": "python",
   "nbconvert_exporter": "python",
   "pygments_lexer": "ipython3",
   "version": "3.8.3"
  },
  "orig_nbformat": 4,
  "vscode": {
   "interpreter": {
    "hash": "570feb405e2e27c949193ac68f46852414290d515b0ba6e5d90d076ed2284471"
   }
  }
 },
 "nbformat": 4,
 "nbformat_minor": 2
}
