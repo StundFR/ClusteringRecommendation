{
 "cells": [
  {
   "cell_type": "markdown",
   "metadata": {},
   "source": [
    "# 0 - Instalation of modules"
   ]
  },
  {
   "cell_type": "code",
   "execution_count": null,
   "metadata": {},
   "outputs": [],
   "source": [
    "#Run this cell to have the progress bar\n",
    "!pip install tqdm\n",
    "!pip install ipywidgets\n",
    "!jupyter nbextension enable --py widgetsnbextension"
   ]
  },
  {
   "cell_type": "code",
   "execution_count": 123,
   "metadata": {},
   "outputs": [],
   "source": [
    "%reset"
   ]
  },
  {
   "cell_type": "markdown",
   "metadata": {},
   "source": [
    "# 1 - Importing modules"
   ]
  },
  {
   "cell_type": "code",
   "execution_count": 1,
   "metadata": {},
   "outputs": [],
   "source": [
    "import pandas as pd\n",
    "import numpy as np\n",
    "from tqdm.notebook import tqdm\n",
    "from sklearn.metrics.pairwise import cosine_similarity\n",
    "import matplotlib.pyplot as plt"
   ]
  },
  {
   "cell_type": "markdown",
   "metadata": {},
   "source": [
    "# 2 - Get all files needed"
   ]
  },
  {
   "cell_type": "code",
   "execution_count": 2,
   "metadata": {},
   "outputs": [],
   "source": [
    "data_folder = \"../../Dataset/Movie/\""
   ]
  },
  {
   "cell_type": "code",
   "execution_count": 22,
   "metadata": {},
   "outputs": [
    {
     "data": {
      "text/plain": [
       "(25000095, 3)"
      ]
     },
     "execution_count": 22,
     "metadata": {},
     "output_type": "execute_result"
    }
   ],
   "source": [
    "rating = pd.read_csv(f\"{data_folder}ratings.csv\").drop([\"timestamp\"], axis=1)\n",
    "movie = pd.read_csv(f\"{data_folder}movies.csv\")\n",
    "\n",
    "data = pd.merge(movie, rating, on=\"movieId\").drop([\"genres\", \"movieId\"], axis=1)\n",
    "data.shape"
   ]
  },
  {
   "cell_type": "markdown",
   "metadata": {},
   "source": [
    "# 3 - Transforming data"
   ]
  },
  {
   "cell_type": "code",
   "execution_count": 23,
   "metadata": {},
   "outputs": [
    {
     "data": {
      "text/plain": [
       "(10944751, 3)"
      ]
     },
     "execution_count": 23,
     "metadata": {},
     "output_type": "execute_result"
    }
   ],
   "source": [
    "#On garde les NB_FILM films les plus notés\n",
    "NB_FILM = 500\n",
    "keep_title = data[\"title\"].value_counts().sort_values(ascending=False)[:NB_FILM].index\n",
    "data_title = data[data[\"title\"].isin(keep_title)]\n",
    "data_title.shape"
   ]
  },
  {
   "cell_type": "code",
   "execution_count": 28,
   "metadata": {},
   "outputs": [],
   "source": [
    "#On garde les users qui ont données une note sur au moins THRESH_USER % des films\n",
    "THRESH_USER = 0.40\n",
    "keep_user = data_title[\"userId\"].value_counts()/NB_FILM >= THRESH_USER\n",
    "data_title_user = data_title[data_title[\"userId\"].isin(keep_user[keep_user].index)]"
   ]
  },
  {
   "cell_type": "code",
   "execution_count": 29,
   "metadata": {},
   "outputs": [
    {
     "data": {
      "text/plain": [
       "(10103, 500)"
      ]
     },
     "execution_count": 29,
     "metadata": {},
     "output_type": "execute_result"
    }
   ],
   "source": [
    "#On fait notre pivot table\n",
    "user_title_df = data_title_user.pivot_table(index=\"userId\", columns=\"title\", values=\"rating\")\n",
    "user_title_df.to_csv(f\"{data_folder}test_for_users.csv\")\n",
    "user_title_df.shape"
   ]
  },
  {
   "cell_type": "markdown",
   "metadata": {},
   "source": [
    "# 4 - Colaborative filtering"
   ]
  },
  {
   "cell_type": "code",
   "execution_count": 3,
   "metadata": {},
   "outputs": [
    {
     "data": {
      "text/plain": [
       "(10103, 500)"
      ]
     },
     "execution_count": 3,
     "metadata": {},
     "output_type": "execute_result"
    }
   ],
   "source": [
    "#Récupérer les données si elles sont en local\n",
    "user_title_df = pd.read_csv(f\"{data_folder}test_for_users.csv\", index_col=0)\n",
    "user_title_df.shape"
   ]
  },
  {
   "cell_type": "code",
   "execution_count": 4,
   "metadata": {},
   "outputs": [],
   "source": [
    "#Standardisation des lignes pour supprimer les biais\n",
    "def normalization_mean(row):\n",
    "    return row - row.mean()\n",
    "\n",
    "def normalization_min_max(row):\n",
    "    return (row - row.mean())/(row.max() - row.min())\n",
    "\n",
    "def normalization_std(row):\n",
    "    return (row - row.mean())/row.std()  "
   ]
  },
  {
   "cell_type": "markdown",
   "metadata": {},
   "source": [
    "## 4.1 - Users to users"
   ]
  },
  {
   "cell_type": "code",
   "execution_count": 5,
   "metadata": {},
   "outputs": [],
   "source": [
    "user_title = {}\n",
    "user_title[\"min_max\"] = user_title_df.fillna(0).apply(normalization_min_max, axis=1)\n",
    "user_title[\"mean\"] = user_title_df.fillna(0).apply(normalization_mean, axis=1)\n",
    "user_title[\"std\"] = user_title_df.fillna(0).apply(normalization_std, axis=1)"
   ]
  },
  {
   "cell_type": "code",
   "execution_count": 6,
   "metadata": {},
   "outputs": [],
   "source": [
    "#Création de la matrice de cosinus distance\n",
    "all_users = user_title_df.index\n",
    "similarity_users = {\"Cosinus\" : {}, \"Pearson\" : {}}\n",
    "\n",
    "for method in user_title.keys():\n",
    "    cos = cosine_similarity(user_title[method])\n",
    "    similarity_users[\"Cosinus\"][method] = pd.DataFrame(cos, index=all_users, columns=all_users)\n",
    "    np.fill_diagonal(similarity_users[\"Cosinus\"][method].values, 0)\n",
    "\n",
    "    corr = np.corrcoef(user_title[method])\n",
    "    similarity_users[\"Pearson\"][method] = pd.DataFrame(corr, index=all_users, columns=all_users)\n",
    "    np.fill_diagonal(similarity_users[\"Pearson\"][method].values, 0)\n",
    "\n",
    "del(cos)\n",
    "del(corr)"
   ]
  },
  {
   "cell_type": "code",
   "execution_count": 7,
   "metadata": {},
   "outputs": [],
   "source": [
    "#On devine la note en fonction des candidtats similaires\n",
    "def guess_rate(user, title, distance, method, N):\n",
    "    similar_mat = similarity_users[distance][method]\n",
    "    all_similar_users = similar_mat.loc[user].sort_values(ascending=False).index\n",
    "    user_title_mat = user_title[method]\n",
    "    \n",
    "    rate = 0\n",
    "    weight = 0\n",
    "    k = 0\n",
    "    i = 0\n",
    "\n",
    "    while (k < N):\n",
    "        similar_user = all_similar_users[i]\n",
    "        r = user_title_mat.loc[similar_user, title]\n",
    "\n",
    "        if not (pd.isnull(r)):\n",
    "            w = similar_mat.loc[similar_user, user]\n",
    "            rate += w*r\n",
    "            weight += w\n",
    "            k += 1\n",
    "\n",
    "        i += 1\n",
    "\n",
    "    return rate/weight"
   ]
  },
  {
   "cell_type": "code",
   "execution_count": 8,
   "metadata": {},
   "outputs": [],
   "source": [
    "def get_similar_movies_from_users(user_id, distance, method, N):\n",
    "    all_rates = []\n",
    "    keep_movies = []\n",
    "\n",
    "    for movie in tqdm(user_title_df.columns):\n",
    "        if (pd.isnull(user_title_df.loc[user_id, movie])):\n",
    "            all_rates.append(guess_rate(user_id, movie, distance, method, N))\n",
    "            keep_movies.append(movie)\n",
    "\n",
    "    return pd.Series(all_rates, keep_movies).sort_values(ascending=False)"
   ]
  },
  {
   "cell_type": "code",
   "execution_count": 9,
   "metadata": {},
   "outputs": [
    {
     "data": {
      "application/vnd.jupyter.widget-view+json": {
       "model_id": "f30a649fbfb742ea801f8d18c88e2cd2",
       "version_major": 2,
       "version_minor": 0
      },
      "text/plain": [
       "  0%|          | 0/500 [00:00<?, ?it/s]"
      ]
     },
     "metadata": {},
     "output_type": "display_data"
    },
    {
     "data": {
      "application/vnd.jupyter.widget-view+json": {
       "model_id": "f343c9c202bb427bb109c1d0eed3ddd2",
       "version_major": 2,
       "version_minor": 0
      },
      "text/plain": [
       "  0%|          | 0/500 [00:00<?, ?it/s]"
      ]
     },
     "metadata": {},
     "output_type": "display_data"
    },
    {
     "data": {
      "application/vnd.jupyter.widget-view+json": {
       "model_id": "79df17ff1f864241a9fac6cf82d4ed24",
       "version_major": 2,
       "version_minor": 0
      },
      "text/plain": [
       "  0%|          | 0/500 [00:00<?, ?it/s]"
      ]
     },
     "metadata": {},
     "output_type": "display_data"
    },
    {
     "data": {
      "application/vnd.jupyter.widget-view+json": {
       "model_id": "35c2d33c11f04591b1975ae597ecb019",
       "version_major": 2,
       "version_minor": 0
      },
      "text/plain": [
       "  0%|          | 0/500 [00:00<?, ?it/s]"
      ]
     },
     "metadata": {},
     "output_type": "display_data"
    },
    {
     "data": {
      "application/vnd.jupyter.widget-view+json": {
       "model_id": "a04fe2b02ba8436bbdc1a4cce2da0b0c",
       "version_major": 2,
       "version_minor": 0
      },
      "text/plain": [
       "  0%|          | 0/500 [00:00<?, ?it/s]"
      ]
     },
     "metadata": {},
     "output_type": "display_data"
    },
    {
     "data": {
      "application/vnd.jupyter.widget-view+json": {
       "model_id": "d82a2557592544b7b24424653722039e",
       "version_major": 2,
       "version_minor": 0
      },
      "text/plain": [
       "  0%|          | 0/500 [00:00<?, ?it/s]"
      ]
     },
     "metadata": {},
     "output_type": "display_data"
    }
   ],
   "source": [
    "recommanded_movies = {\"Cosinus\" : {\"min_max\" : [], \"mean\" : [], \"std\" : []}, \"Pearson\" : {\"min_max\" : [], \"mean\" : [], \"std\" : []}}\n",
    "\n",
    "for distance in recommanded_movies.keys():\n",
    "    for method in recommanded_movies[distance].keys():\n",
    "        recommanded_movies[distance][method] = get_similar_movies_from_users(12, distance, method, 10).index"
   ]
  },
  {
   "cell_type": "code",
   "execution_count": 19,
   "metadata": {},
   "outputs": [
    {
     "data": {
      "text/plain": [
       "True"
      ]
     },
     "execution_count": 19,
     "metadata": {},
     "output_type": "execute_result"
    }
   ],
   "source": [
    "cos_recommanded = pd.DataFrame.from_dict(recommanded_movies[\"Cosinus\"])\n",
    "corr_recommanded = pd.DataFrame.from_dict(recommanded_movies[\"Pearson\"])\n",
    "((cos_recommanded == corr_recommanded).all()).all()\n",
    "#Aucune différence entre Cosinus et Pearson"
   ]
  },
  {
   "cell_type": "code",
   "execution_count": 51,
   "metadata": {},
   "outputs": [
    {
     "data": {
      "text/plain": [
       "39.91935483870967"
      ]
     },
     "execution_count": 51,
     "metadata": {},
     "output_type": "execute_result"
    }
   ],
   "source": [
    "(cos_recommanded[\"min_max\"] == cos_recommanded[\"mean\"]).all()       #100% pareil\n",
    "np.mean(cos_recommanded[\"min_max\"] == cos_recommanded[\"std\"])*100   #39.91% pareil"
   ]
  },
  {
   "cell_type": "code",
   "execution_count": 50,
   "metadata": {},
   "outputs": [
    {
     "data": {
      "text/plain": [
       "2.4563758389261743"
      ]
     },
     "execution_count": 50,
     "metadata": {},
     "output_type": "execute_result"
    }
   ],
   "source": [
    "k = 0\n",
    "arg_diff = []\n",
    "for movie in cos_recommanded[\"mean\"].values:\n",
    "    arg = np.where(cos_recommanded[\"std\"] == movie)[0][0]\n",
    "    if (arg != k):\n",
    "        arg_diff.append(abs(k-arg))\n",
    "    k += 1\n",
    "np.mean(arg_diff)\n",
    "#Il n'y a que 2/3 places de différences entre chaque films"
   ]
  },
  {
   "cell_type": "code",
   "execution_count": 77,
   "metadata": {},
   "outputs": [
    {
     "data": {
      "application/vnd.jupyter.widget-view+json": {
       "model_id": "5a90728ae9c640dba0bad901ecfa02ea",
       "version_major": 2,
       "version_minor": 0
      },
      "text/plain": [
       "  0%|          | 0/10 [00:00<?, ?it/s]"
      ]
     },
     "metadata": {},
     "output_type": "display_data"
    }
   ],
   "source": [
    "#On compare les deux méthodes\n",
    "from time import time\n",
    "\n",
    "NB_USER = 20\n",
    "NB_MOVIE = 20\n",
    "MAX = 11\n",
    "STEP = 2\n",
    "\n",
    "stats = {}\n",
    "\n",
    "for N in tqdm([i*STEP for i in range(1, MAX)]):\n",
    "    stats[f\"N = {N}\"] = {}\n",
    "\n",
    "    for distance in [\"Cosinus\", \"Pearson\"]:\n",
    "        stats[f\"N = {N}\"][distance] = {\"min_max\" : [], \"mean\" : [], \"std\" : []}\n",
    "\n",
    "        for user_id in user_title_df.index[:NB_USER]:\n",
    "            all_rated_movies = user_title_df.loc[user_id].dropna()[:NB_MOVIE]\n",
    "\n",
    "            for movie in all_rated_movies.index:\n",
    "                for method in [\"min_max\", \"mean\", \"std\"]:\n",
    "                    start = time()\n",
    "                    rate = guess_rate(user_id, movie, distance, method, N)\n",
    "                    stats[f\"N = {N}\"][distance][method].append(time() - start)"
   ]
  },
  {
   "cell_type": "code",
   "execution_count": 78,
   "metadata": {},
   "outputs": [
    {
     "data": {
      "image/png": "[encoded data removed]",
      "text/plain": [
       "<Figure size 1800x1080 with 10 Axes>"
      ]
     },
     "metadata": {
      "needs_background": "light"
     },
     "output_type": "display_data"
    }
   ],
   "source": [
    "plt.figure(figsize=(25, 15))\n",
    "\n",
    "k = 1\n",
    "for key_N in stats.keys():\n",
    "    plt.subplot(int((MAX-1)/3)+1, 3, k)  \n",
    "    plots = []\n",
    "    labels = []\n",
    "\n",
    "    for distance in stats[key_N].keys():\n",
    "        for method in stats[key_N][distance].keys():\n",
    "            plots.append(stats[key_N][distance][method])\n",
    "            labels.append(f\"{distance[:3]}-{method}\")\n",
    "\n",
    "    plt.boxplot(plots, labels=labels, showfliers=False)\n",
    "    plt.title(f\"Times for {key_N}\")\n",
    "    k += 1\n",
    "\n",
    "plt.show()"
   ]
  },
  {
   "cell_type": "code",
   "execution_count": 85,
   "metadata": {},
   "outputs": [
    {
     "data": {
      "application/vnd.jupyter.widget-view+json": {
       "model_id": "d09c9c42935e40b189414ac44e0dc35c",
       "version_major": 2,
       "version_minor": 0
      },
      "text/plain": [
       "  0%|          | 0/99 [00:00<?, ?it/s]"
      ]
     },
     "metadata": {},
     "output_type": "display_data"
    }
   ],
   "source": [
    "#On compare les deux méthodes\n",
    "from time import time\n",
    "\n",
    "NB_USER = 20\n",
    "NB_MOVIE = 20\n",
    "MAX = 100\n",
    "STEP = 2\n",
    "\n",
    "stats = {}\n",
    "\n",
    "for N in tqdm([i*STEP for i in range(1, MAX)]):\n",
    "    for distance in [\"Cosinus\", \"Pearson\"]:\n",
    "        stats[distance] = {\"min_max\" : [], \"mean\" : [], \"std\" : []}\n",
    "\n",
    "        for user_id in user_title_df.index[:NB_USER]:\n",
    "            all_rated_movies = user_title_df.loc[user_id].dropna()[:NB_MOVIE]\n",
    "\n",
    "            for movie in all_rated_movies.index:\n",
    "                for method in [\"min_max\", \"mean\", \"std\"]:\n",
    "                    start = time()\n",
    "                    rate = guess_rate(user_id, movie, distance, method, N)\n",
    "                    stats[distance][method].append(time() - start)"
   ]
  },
  {
   "cell_type": "code",
   "execution_count": 87,
   "metadata": {},
   "outputs": [
    {
     "data": {
      "image/png": "[encoded data removed]",
      "text/plain": [
       "<Figure size 1080x360 with 1 Axes>"
      ]
     },
     "metadata": {
      "needs_background": "light"
     },
     "output_type": "display_data"
    }
   ],
   "source": [
    "plt.figure(figsize=(15, 5))\n",
    "\n",
    "plots = []\n",
    "labels = []\n",
    "\n",
    "for distance in stats.keys():\n",
    "    for method in stats[distance].keys():\n",
    "        plots.append(stats[distance][method])\n",
    "        labels.append(f\"{distance[:3]}-{method}\")\n",
    "\n",
    "plt.boxplot(plots, labels=labels, showfliers=False)\n",
    "plt.title(f\"Times\")\n",
    "plt.show()"
   ]
  },
  {
   "cell_type": "markdown",
   "metadata": {},
   "source": [
    "## 4.2 - Movie to movie"
   ]
  },
  {
   "cell_type": "code",
   "execution_count": 16,
   "metadata": {},
   "outputs": [
    {
     "data": {
      "text/plain": [
       "(24710, 500)"
      ]
     },
     "execution_count": 16,
     "metadata": {},
     "output_type": "execute_result"
    }
   ],
   "source": [
    "user_title_std = user_title_df.apply(standardize, axis=0).fillna(0)\n",
    "user_title_std.shape"
   ]
  },
  {
   "cell_type": "code",
   "execution_count": 17,
   "metadata": {},
   "outputs": [],
   "source": [
    "#Création de la matrice de cosinus distance\n",
    "cos = cosine_similarity(user_title_std.T)\n",
    "cos_movies_df = pd.DataFrame(cos, index=user_title_std.columns, columns=user_title_std.columns)\n",
    "np.fill_diagonal(cos_movies_df.values, 0)\n",
    "del(cos)"
   ]
  },
  {
   "cell_type": "code",
   "execution_count": 18,
   "metadata": {},
   "outputs": [],
   "source": [
    "def get_similar_movies_from_movies(user_id):\n",
    "    similar_movies = pd.DataFrame()\n",
    "\n",
    "    movies_rates = user_title_df.loc[user_id].dropna()\n",
    "    movies = movies_rates.index\n",
    "    rates = movies_rates.values\n",
    "    user = [(movies[i], rates[i]) for i in range(len(rates))]\n",
    "\n",
    "    for movie, rate in tqdm(user):\n",
    "        movie_list = (cos_movies_df.loc[:, movie]*(rate-2.5)).sort_values(ascending=False)\n",
    "        similar_movies = similar_movies.append(movie_list)\n",
    "\n",
    "    \n",
    "    similar_movies = similar_movies.T.drop([movie for movie, rate in user], axis=0)\n",
    "    return similar_movies.sum(axis=1).sort_values(ascending=False)"
   ]
  },
  {
   "cell_type": "code",
   "execution_count": 19,
   "metadata": {},
   "outputs": [
    {
     "data": {
      "application/vnd.jupyter.widget-view+json": {
       "model_id": "8b6cd1327f6b4a2f955b0fe5fd3e0906",
       "version_major": 2,
       "version_minor": 0
      },
      "text/plain": [
       "  0%|          | 0/199 [00:00<?, ?it/s]"
      ]
     },
     "metadata": {},
     "output_type": "display_data"
    },
    {
     "data": {
      "text/plain": [
       "Saving Private Ryan (1998)                             40.106259\n",
       "Spider-Man 2 (2004)                                    39.596884\n",
       "Sixth Sense, The (1999)                                38.783319\n",
       "Indiana Jones and the Last Crusade (1989)              38.465264\n",
       "Up (2009)                                              37.900991\n",
       "                                                         ...    \n",
       "City Slickers II: The Legend of Curly's Gold (1994)    11.547058\n",
       "Congo (1995)                                           11.474667\n",
       "French Kiss (1995)                                     11.226061\n",
       "Executive Decision (1996)                              10.659839\n",
       "Disclosure (1994)                                       9.076215\n",
       "Length: 301, dtype: float64"
      ]
     },
     "execution_count": 19,
     "metadata": {},
     "output_type": "execute_result"
    }
   ],
   "source": [
    "get_similar_movies_from_movies(3)"
   ]
  },
  {
   "cell_type": "markdown",
   "metadata": {},
   "source": [
    "## 4.3 - Mix"
   ]
  },
  {
   "cell_type": "code",
   "execution_count": 20,
   "metadata": {},
   "outputs": [],
   "source": [
    "def recommanded_movies(user_id):\n",
    "    get_users = get_similar_movies_from_users(user_id).index\n",
    "    get_movies = get_similar_movies_from_movies(user_id).index\n",
    "\n",
    "    arg_movies = []\n",
    "    for title in get_users:\n",
    "        arg_movies.append(int(np.argwhere(get_movies == title)))\n",
    "\n",
    "    recommanded = pd.DataFrame(index=get_users, columns=[\"Arg Users\", \"Arg Movies\"], data=np.array([range(len(arg_movies)), arg_movies]).T)\n",
    "    recommanded[\"Mean\"] = recommanded.mean(axis=1)\n",
    "\n",
    "    return recommanded.sort_values(by=\"Mean\")[\"Mean\"]"
   ]
  },
  {
   "cell_type": "code",
   "execution_count": 21,
   "metadata": {},
   "outputs": [
    {
     "data": {
      "application/vnd.jupyter.widget-view+json": {
       "model_id": "53be4e1a683b4025b53ca8b683870e67",
       "version_major": 2,
       "version_minor": 0
      },
      "text/plain": [
       "  0%|          | 0/500 [00:00<?, ?it/s]"
      ]
     },
     "metadata": {},
     "output_type": "display_data"
    },
    {
     "data": {
      "application/vnd.jupyter.widget-view+json": {
       "model_id": "6c930e287e45460d800a07c7ba5b83ce",
       "version_major": 2,
       "version_minor": 0
      },
      "text/plain": [
       "  0%|          | 0/286 [00:00<?, ?it/s]"
      ]
     },
     "metadata": {},
     "output_type": "display_data"
    },
    {
     "data": {
      "text/plain": [
       "Star Wars: Episode VI - Return of the Jedi (1983)                  5.5\n",
       "Memento (2000)                                                    10.0\n",
       "X-Men (2000)                                                      10.5\n",
       "Pirates of the Caribbean: The Curse of the Black Pearl (2003)     12.0\n",
       "Die Hard (1988)                                                   13.5\n",
       "                                                                 ...  \n",
       "Ed Wood (1994)                                                   196.0\n",
       "Fantasia (1940)                                                  197.5\n",
       "Johnny Mnemonic (1995)                                           197.5\n",
       "First Knight (1995)                                              202.5\n",
       "French Kiss (1995)                                               206.0\n",
       "Name: Mean, Length: 214, dtype: float64"
      ]
     },
     "execution_count": 21,
     "metadata": {},
     "output_type": "execute_result"
    }
   ],
   "source": [
    "user = cluster.index[1]\n",
    "recommanded_movies(user)"
   ]
  },
  {
   "cell_type": "code",
   "execution_count": 27,
   "metadata": {},
   "outputs": [
    {
     "data": {
      "application/vnd.jupyter.widget-view+json": {
       "model_id": "bfff06d1fcef4cbe967dcc9de81a0dcd",
       "version_major": 2,
       "version_minor": 0
      },
      "text/plain": [
       "  0%|          | 0/500 [00:00<?, ?it/s]"
      ]
     },
     "metadata": {},
     "output_type": "display_data"
    },
    {
     "data": {
      "application/vnd.jupyter.widget-view+json": {
       "model_id": "907288e45b2c4a95b86c0f08cc197028",
       "version_major": 2,
       "version_minor": 0
      },
      "text/plain": [
       "  0%|          | 0/286 [00:00<?, ?it/s]"
      ]
     },
     "metadata": {},
     "output_type": "display_data"
    }
   ],
   "source": [
    "user = cluster.index[1]\n",
    "t = recommanded_movies(user)"
   ]
  },
  {
   "cell_type": "code",
   "execution_count": 33,
   "metadata": {},
   "outputs": [
    {
     "data": {
      "text/plain": [
       "15.0"
      ]
     },
     "execution_count": 33,
     "metadata": {},
     "output_type": "execute_result"
    }
   ],
   "source": [
    "t[\"X-Men (2000)\"]"
   ]
  }
 ],
 "metadata": {
  "kernelspec": {
   "display_name": "Python 3.8.3 64-bit",
   "language": "python",
   "name": "python3"
  },
  "language_info": {
   "codemirror_mode": {
    "name": "ipython",
    "version": 3
   },
   "file_extension": ".py",
   "mimetype": "text/x-python",
   "name": "python",
   "nbconvert_exporter": "python",
   "pygments_lexer": "ipython3",
   "version": "3.8.3"
  },
  "orig_nbformat": 4,
  "vscode": {
   "interpreter": {
    "hash": "570feb405e2e27c949193ac68f46852414290d515b0ba6e5d90d076ed2284471"
   }
  }
 },
 "nbformat": 4,
 "nbformat_minor": 2
}
