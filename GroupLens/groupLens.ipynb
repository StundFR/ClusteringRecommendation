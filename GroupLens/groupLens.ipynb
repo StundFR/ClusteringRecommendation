{
 "cells": [
  {
   "cell_type": "markdown",
   "metadata": {},
   "source": [
    "# 0 - Instalation of modules"
   ]
  },
  {
   "cell_type": "markdown",
   "metadata": {},
   "source": [
    "#Run this cell to have the progress bar\n",
    "!pip install tqdm\n",
    "!pip install ipywidgets\n",
    "!jupyter nbextension enable --py widgetsnbextension"
   ]
  },
  {
   "cell_type": "code",
   "execution_count": 117,
   "metadata": {},
   "outputs": [],
   "source": [
    "%reset"
   ]
  },
  {
   "cell_type": "markdown",
   "metadata": {},
   "source": [
    "# 1 - Importing modules"
   ]
  },
  {
   "cell_type": "code",
   "execution_count": 1,
   "metadata": {},
   "outputs": [],
   "source": [
    "import pandas as pd\n",
    "import numpy as np\n",
    "from tqdm.notebook import tqdm\n",
    "from sklearn.metrics.pairwise import cosine_similarity\n",
    "import matplotlib.pyplot as plt"
   ]
  },
  {
   "cell_type": "markdown",
   "metadata": {},
   "source": [
    "# 2 - Get all files needed"
   ]
  },
  {
   "cell_type": "code",
   "execution_count": 2,
   "metadata": {},
   "outputs": [],
   "source": [
    "data_folder = \"../../Dataset/Movie/\""
   ]
  },
  {
   "cell_type": "code",
   "execution_count": 122,
   "metadata": {},
   "outputs": [
    {
     "data": {
      "text/plain": [
       "(25000095, 3)"
      ]
     },
     "execution_count": 122,
     "metadata": {},
     "output_type": "execute_result"
    }
   ],
   "source": [
    "rating = pd.read_csv(f\"{data_folder}ratings.csv\").drop([\"timestamp\"], axis=1)\n",
    "movie = pd.read_csv(f\"{data_folder}movies.csv\")\n",
    "\n",
    "data = pd.merge(movie, rating, on=\"movieId\").drop([\"genres\", \"movieId\"], axis=1)\n",
    "data.shape"
   ]
  },
  {
   "cell_type": "markdown",
   "metadata": {},
   "source": [
    "# 3 - Transforming data"
   ]
  },
  {
   "cell_type": "code",
   "execution_count": 123,
   "metadata": {},
   "outputs": [
    {
     "data": {
      "text/plain": [
       "(10944751, 3)"
      ]
     },
     "execution_count": 123,
     "metadata": {},
     "output_type": "execute_result"
    }
   ],
   "source": [
    "#On garde les NB_FILM films les plus notés\n",
    "NB_FILM = 500\n",
    "keep_title = data[\"title\"].value_counts().sort_values(ascending=False)[:NB_FILM].index\n",
    "data_title = data[data[\"title\"].isin(keep_title)]\n",
    "data_title.shape"
   ]
  },
  {
   "cell_type": "code",
   "execution_count": 124,
   "metadata": {},
   "outputs": [],
   "source": [
    "#On garde les users qui ont données une note sur au moins THRESH_USER % des films\n",
    "THRESH_USER = 0.25\n",
    "keep_user = data_title[\"userId\"].value_counts()/NB_FILM >= THRESH_USER\n",
    "data_title_user = data_title[data_title[\"userId\"].isin(keep_user[keep_user].index)]"
   ]
  },
  {
   "cell_type": "code",
   "execution_count": 125,
   "metadata": {},
   "outputs": [
    {
     "data": {
      "text/plain": [
       "(24710, 500)"
      ]
     },
     "execution_count": 125,
     "metadata": {},
     "output_type": "execute_result"
    }
   ],
   "source": [
    "#On fait notre pivot table\n",
    "user_title_df = data_title_user.pivot_table(index=\"userId\", columns=\"title\", values=\"rating\")\n",
    "user_title_df.to_csv(f\"{data_folder}test_for_users.csv\")\n",
    "user_title_df.shape"
   ]
  },
  {
   "cell_type": "markdown",
   "metadata": {},
   "source": [
    "# 4 - Colaborative filtering"
   ]
  },
  {
   "cell_type": "code",
   "execution_count": 3,
   "metadata": {},
   "outputs": [
    {
     "data": {
      "text/plain": [
       "(24710, 500)"
      ]
     },
     "execution_count": 3,
     "metadata": {},
     "output_type": "execute_result"
    }
   ],
   "source": [
    "#Récupérer les données si elles sont en local\n",
    "user_title_df = pd.read_csv(f\"{data_folder}test_for_users.csv\", index_col=0)\n",
    "user_title_df.shape"
   ]
  },
  {
   "cell_type": "code",
   "execution_count": 4,
   "metadata": {},
   "outputs": [],
   "source": [
    "#Standardisation des lignes pour supprimer les biais\n",
    "def standardize(row):\n",
    "    return (row - row.mean())/row.std()"
   ]
  },
  {
   "cell_type": "code",
   "execution_count": 5,
   "metadata": {},
   "outputs": [],
   "source": [
    "def keep_efficiant_values(cos_df, eps):\n",
    "    cos_users_thresh = cos_df[(cos_df>=eps) | (cos_df<=-eps)]\n",
    "    return cos_users_thresh.dropna(thresh=1, axis=0).dropna(thresh=1, axis=1)"
   ]
  },
  {
   "cell_type": "markdown",
   "metadata": {},
   "source": [
    "## 4.1 - Users to users"
   ]
  },
  {
   "cell_type": "code",
   "execution_count": 6,
   "metadata": {},
   "outputs": [
    {
     "data": {
      "text/plain": [
       "(24710, 500)"
      ]
     },
     "execution_count": 6,
     "metadata": {},
     "output_type": "execute_result"
    }
   ],
   "source": [
    "user_title_std = user_title_df.apply(standardize, axis=1).fillna(0)\n",
    "user_title_std.shape"
   ]
  },
  {
   "cell_type": "code",
   "execution_count": 7,
   "metadata": {},
   "outputs": [],
   "source": [
    "#Création de la matrice de cosinus distance\n",
    "cos = cosine_similarity(user_title_std)\n",
    "cos_users_df = pd.DataFrame(cos, index=user_title_std.index, columns=user_title_std.index)\n",
    "np.fill_diagonal(cos_users_df.values, 0)\n",
    "del(cos)"
   ]
  },
  {
   "cell_type": "code",
   "execution_count": 66,
   "metadata": {},
   "outputs": [],
   "source": [
    "#On devine la note en fonction des candidtats similaires\n",
    "def guess_rate_cluster_normal(user, title, N):\n",
    "    rate = 0\n",
    "    weight = 0\n",
    "\n",
    "    for i in cos_users_df.loc[user].sort_values(ascending=False).drop(user).index[:N]:\n",
    "        r = user_title_df.loc[i, title]\n",
    "        if not (pd.isnull(r)):\n",
    "            w = cos_users_df.loc[i, user]\n",
    "            rate += r*w\n",
    "            weight += w\n",
    "    \n",
    "    if (weight != 0):\n",
    "        return rate/weight\n",
    "    else:\n",
    "        return 2.5"
   ]
  },
  {
   "cell_type": "code",
   "execution_count": 41,
   "metadata": {},
   "outputs": [],
   "source": [
    "def guess_rate_cluster_gauss(user, title, N):\n",
    "    rate = 0\n",
    "    weight = 0\n",
    "\n",
    "    for i in cos_users_df.loc[user].sort_values(ascending=False).drop(user).index[:N]:\n",
    "        r = user_title_std.loc[i, title]\n",
    "        if not (pd.isnull(r)):\n",
    "            w = cos_users_df.loc[i, user]\n",
    "            rate += r*w\n",
    "            weight += w\n",
    "    \n",
    "    if (weight != 0):\n",
    "        return rate*user_title_df[title].std()/weight + user_title_df[title].mean()\n",
    "    else:\n",
    "        return 2.5"
   ]
  },
  {
   "cell_type": "code",
   "execution_count": 87,
   "metadata": {},
   "outputs": [],
   "source": [
    "def guess_rate_cluster_standardization(user, title, N):\n",
    "    rate = 0\n",
    "    weight = 0\n",
    "\n",
    "    for i in cos_users_df.loc[user].sort_values(ascending=False).drop(user).index[:N]:\n",
    "        r = user_title_df.loc[i, title]\n",
    "        if not (pd.isnull(r)):\n",
    "            w = cos_users_df.loc[i, user]\n",
    "            rate += (r-user_title_df.loc[i].mean())*w\n",
    "            weight += w\n",
    "    \n",
    "    if (weight != 0):\n",
    "        return rate/weight + user_title_df[title].mean()\n",
    "    else:\n",
    "        return 2.5"
   ]
  },
  {
   "cell_type": "code",
   "execution_count": 63,
   "metadata": {},
   "outputs": [],
   "source": [
    "def guess_rate_mode(user, title, N, method):\n",
    "    if (method == \"Normal\"):\n",
    "        return guess_rate_cluster_normal(user, title, N)\n",
    "    elif (method == \"Normal\"):\n",
    "        return guess_rate_cluster_gauss(user, title, N)\n",
    "    else:\n",
    "        return guess_rate_cluster_standardization(user, title, N)"
   ]
  },
  {
   "cell_type": "code",
   "execution_count": 10,
   "metadata": {},
   "outputs": [],
   "source": [
    "cos_users_thresh = keep_efficiant_values(cos_users_df, 0.75)\n",
    "cluster = len(cos_users_thresh) - np.sum(cos_users_thresh.isna(), axis=0).sort_values()"
   ]
  },
  {
   "cell_type": "code",
   "execution_count": 98,
   "metadata": {},
   "outputs": [
    {
     "data": {
      "application/vnd.jupyter.widget-view+json": {
       "model_id": "0f864ca468514ffba206177faa3ba1dc",
       "version_major": 2,
       "version_minor": 0
      },
      "text/plain": [
       "  0%|          | 0/5 [00:00<?, ?it/s]"
      ]
     },
     "metadata": {},
     "output_type": "display_data"
    }
   ],
   "source": [
    "#On compare les deux méthodes\n",
    "from time import time\n",
    "\n",
    "NB_USER = 20\n",
    "NB_MOVIE = 20\n",
    "MAX = 6\n",
    "STEP = 300\n",
    "\n",
    "stats = {}\n",
    "\n",
    "for N in tqdm([i*STEP for i in range(1, MAX)]):\n",
    "    stats[f\"N = {N}\"] = {\"Times\" : {\"Normal\" : [], \"Gauss\" : [], \"Standard\" : []}, \n",
    "                        \"Rates\" : {\"Normal\" : [], \"Gauss\" : [], \"Standard\" : []}, \n",
    "                        \"Delta\" : {\"Normal\" : [], \"Gauss\" : [], \"Standard\" : []}}\n",
    "\n",
    "    for user_id in cos_users_df.index[:NB_USER]:\n",
    "        all_rated_movies = user_title_df.loc[user_id].dropna()[:NB_MOVIE]\n",
    "\n",
    "        for movie in all_rated_movies.index:\n",
    "            for method in [\"Normal\", \"Gauss\", \"Standard\"]:\n",
    "                start = time()\n",
    "                rate = guess_rate_mode(user_id, movie, N, method)\n",
    "                tmps = time() - start\n",
    "                true = user_title_df.loc[user_id, movie]\n",
    "\n",
    "                stats[f\"N = {N}\"][\"Times\"][method].append(tmps)\n",
    "                stats[f\"N = {N}\"][\"Rates\"][method].append(rate)\n",
    "                stats[f\"N = {N}\"][\"Delta\"][method].append(true - rate)"
   ]
  },
  {
   "cell_type": "code",
   "execution_count": 99,
   "metadata": {},
   "outputs": [
    {
     "data": {
      "image/png": "[encoded data removed]",
      "text/plain": [
       "<Figure size 1800x1440 with 15 Axes>"
      ]
     },
     "metadata": {
      "needs_background": "light"
     },
     "output_type": "display_data"
    }
   ],
   "source": [
    "plt.figure(figsize=(25, 20))\n",
    "\n",
    "k = 1\n",
    "for key_N in stats.keys():\n",
    "\n",
    "    for key_stat in stats[key_N].keys():\n",
    "        plt.subplot(MAX-1, 3, k)\n",
    "\n",
    "        plots = []\n",
    "        labels = []\n",
    "\n",
    "        for key_method in stats[key_N][key_stat].keys():\n",
    "            plots.append(stats[key_N][key_stat][key_method])\n",
    "            labels.append(key_method)\n",
    "\n",
    "        plt.boxplot(plots, labels=labels, showfliers=False)\n",
    "        plt.title(f\"{key_N} - {key_stat}\")\n",
    "        k += 1"
   ]
  },
  {
   "cell_type": "code",
   "execution_count": 13,
   "metadata": {},
   "outputs": [
    {
     "data": {
      "image/png": "[encoded data removed]",
      "text/plain": [
       "<Figure size 1800x720 with 6 Axes>"
      ]
     },
     "metadata": {
      "needs_background": "light"
     },
     "output_type": "display_data"
    }
   ],
   "source": [
    "#On affiche graphiquement le comparatif\n",
    "plt.figure(figsize=(25,10))\n",
    "\n",
    "k = 1\n",
    "for stat in [\"Times\", \"Rates\"]:\n",
    "    plt.subplot(2, 3, k)\n",
    "    if (k == 1):\n",
    "        n = np.sum(positif)\n",
    "        plt.pie([n, len(positif)-n], labels=[\"Faster\", \"Slower\"], autopct='%.0f%%')\n",
    "        plt.title(\"Each time Cluster is faster than All\")\n",
    "    elif (k == 4):\n",
    "        n = np.sum(sup)\n",
    "        plt.pie([n, len(sup)-n], labels=[\"Higher\", \"Lower\"], autopct='%.0f%%')\n",
    "        plt.title(\"Each time Cluster gives biggest rates than All\")\n",
    "    k += 1\n",
    "\n",
    "    for method in [\"Cluster\", \"All\"]:\n",
    "        plots = []\n",
    "        labels = []\n",
    "\n",
    "        for key in compare_time.keys():\n",
    "            labels.append(key)\n",
    "            plots.append(compare_time[key][method][stat])\n",
    "\n",
    "        plt.subplot(2, 3, k)\n",
    "        plt.boxplot(plots, labels=labels, showfliers=False)\n",
    "        plt.title(f\"{stat} - {method}\")\n",
    "\n",
    "        k += 1\n",
    "\n",
    "plt.show()"
   ]
  },
  {
   "cell_type": "code",
   "execution_count": 43,
   "metadata": {},
   "outputs": [
    {
     "data": {
      "application/vnd.jupyter.widget-view+json": {
       "model_id": "38e0bafda1064f218ed22a725cd74dbc",
       "version_major": 2,
       "version_minor": 0
      },
      "text/plain": [
       "  0%|          | 0/4 [00:00<?, ?it/s]"
      ]
     },
     "metadata": {},
     "output_type": "display_data"
    },
    {
     "data": {
      "application/vnd.jupyter.widget-view+json": {
       "model_id": "c52c881d07fd4e9abd0a8c8dd85319d3",
       "version_major": 2,
       "version_minor": 0
      },
      "text/plain": [
       "  0%|          | 0/20 [00:00<?, ?it/s]"
      ]
     },
     "metadata": {},
     "output_type": "display_data"
    },
    {
     "data": {
      "application/vnd.jupyter.widget-view+json": {
       "model_id": "790e3d15729946f9a5cb62cd14f5a01e",
       "version_major": 2,
       "version_minor": 0
      },
      "text/plain": [
       "  0%|          | 0/14 [00:00<?, ?it/s]"
      ]
     },
     "metadata": {},
     "output_type": "display_data"
    },
    {
     "data": {
      "application/vnd.jupyter.widget-view+json": {
       "model_id": "20c0825270cd4c17b021ace97740845d",
       "version_major": 2,
       "version_minor": 0
      },
      "text/plain": [
       "  0%|          | 0/10 [00:00<?, ?it/s]"
      ]
     },
     "metadata": {},
     "output_type": "display_data"
    },
    {
     "data": {
      "application/vnd.jupyter.widget-view+json": {
       "model_id": "f11706af96b448be9f3104b1c7bc96ea",
       "version_major": 2,
       "version_minor": 0
      },
      "text/plain": [
       "  0%|          | 0/7 [00:00<?, ?it/s]"
      ]
     },
     "metadata": {},
     "output_type": "display_data"
    }
   ],
   "source": [
    "compare = {}\n",
    "\n",
    "for N in tqdm([1, 5, 10 , 15]):\n",
    "    compare[f\"Cluster {N}\"] = {\"True\" : [], \"Cluster\" : [], \"All\" : []}\n",
    "\n",
    "    keep_index = cluster[(cluster == N) | (cluster == N+1) | (cluster == N-1)].index[:20]\n",
    "    for user in tqdm(keep_index, leave=False):\n",
    "        all_rated_film = user_title_df.loc[user].dropna(axis=0)[:50]\n",
    "        compare[f\"Cluster {N}\"][\"True\"] += all_rated_film.values.tolist()\n",
    "        \n",
    "        for movie in all_rated_film.index:\n",
    "            compare[f\"Cluster {N}\"][\"Cluster\"].append(guess_rate_cluster(user, movie, N))\n",
    "            compare[f\"Cluster {N}\"][\"All\"].append(guess_rate_all(user, movie))\n",
    "\n",
    "compare_df = pd.DataFrame.from_dict(compare)\n",
    "#compare_df.to_csv(f\"{data_folder}compare_true_cluster_all.csv\")\n",
    "del(compare)\n",
    "\n",
    "\n",
    "delta = {\"Cluster\" : {}, \"All\" : {}}\n",
    "\n",
    "for col in compare_df.columns:\n",
    "    delta[\"Cluster\"][col] = []\n",
    "    delta[\"All\"][col] = []\n",
    "\n",
    "    for i in range(len(compare_df[col][\"Cluster\"])):\n",
    "        delta[\"Cluster\"][col].append(compare_df[col][\"True\"][i]-compare_df[col][\"Cluster\"][i])\n",
    "        delta[\"All\"][col].append(compare_df[col][\"True\"][i]-compare_df[col][\"All\"][i])\n",
    "\n",
    "compare_delta_df = pd.DataFrame.from_dict(delta)\n",
    "del(delta)"
   ]
  },
  {
   "cell_type": "code",
   "execution_count": 45,
   "metadata": {},
   "outputs": [
    {
     "data": {
      "image/png": "[encoded data removed]",
      "text/plain": [
       "<Figure size 1440x360 with 2 Axes>"
      ]
     },
     "metadata": {
      "needs_background": "light"
     },
     "output_type": "display_data"
    },
    {
     "data": {
      "image/png": "[encoded data removed]",
      "text/plain": [
       "<Figure size 1800x288 with 4 Axes>"
      ]
     },
     "metadata": {
      "needs_background": "light"
     },
     "output_type": "display_data"
    }
   ],
   "source": [
    "plt.figure(figsize=(20,5))\n",
    "\n",
    "k = 1\n",
    "for col in compare_delta_df.columns:\n",
    "    plt.subplot(1, 2, k)\n",
    "\n",
    "    plots = []\n",
    "    labels = []\n",
    "    for ind in compare_delta_df[col].index:\n",
    "        plots.append(compare_delta_df[col][ind])\n",
    "        labels.append(ind)\n",
    "\n",
    "    plt.boxplot(plots, labels=labels, showfliers=True)\n",
    "    plt.title(col)\n",
    "\n",
    "    k += 1\n",
    "\n",
    "plt.figure(figsize=(25,4))\n",
    "\n",
    "k = 1\n",
    "for clust in compare_delta_df.index:\n",
    "    plt.subplot(1, 4, k)\n",
    "    plt.boxplot([elem for elem in compare_delta_df.loc[clust]], labels=[\"Cluster\", \"All\"], showfliers=False)\n",
    "    plt.title(clust)\n",
    "    k += 1\n",
    "\n",
    "#plt.savefig(\"img/compare_cluster_all_by_cluster.jpg\", dpi=200)\n",
    "plt.show()"
   ]
  },
  {
   "cell_type": "code",
   "execution_count": 16,
   "metadata": {},
   "outputs": [
    {
     "data": {
      "application/vnd.jupyter.widget-view+json": {
       "model_id": "66639dd9f81e4e9f95eeaf7e6d91c6a3",
       "version_major": 2,
       "version_minor": 0
      },
      "text/plain": [
       "  0%|          | 0/6 [00:00<?, ?it/s]"
      ]
     },
     "metadata": {},
     "output_type": "display_data"
    },
    {
     "data": {
      "application/vnd.jupyter.widget-view+json": {
       "model_id": "b3dacf73ed454eccae4f60928284d163",
       "version_major": 2,
       "version_minor": 0
      },
      "text/plain": [
       "  0%|          | 0/20 [00:00<?, ?it/s]"
      ]
     },
     "metadata": {},
     "output_type": "display_data"
    },
    {
     "data": {
      "application/vnd.jupyter.widget-view+json": {
       "model_id": "f34d079d889f4891bd75b3b0dce557f3",
       "version_major": 2,
       "version_minor": 0
      },
      "text/plain": [
       "  0%|          | 0/20 [00:00<?, ?it/s]"
      ]
     },
     "metadata": {},
     "output_type": "display_data"
    },
    {
     "data": {
      "application/vnd.jupyter.widget-view+json": {
       "model_id": "d8df96ba60f8424db705d84e966e15fa",
       "version_major": 2,
       "version_minor": 0
      },
      "text/plain": [
       "  0%|          | 0/20 [00:00<?, ?it/s]"
      ]
     },
     "metadata": {},
     "output_type": "display_data"
    },
    {
     "data": {
      "application/vnd.jupyter.widget-view+json": {
       "model_id": "47c9a5b153e14734811a1d7df935ea53",
       "version_major": 2,
       "version_minor": 0
      },
      "text/plain": [
       "  0%|          | 0/20 [00:00<?, ?it/s]"
      ]
     },
     "metadata": {},
     "output_type": "display_data"
    },
    {
     "data": {
      "application/vnd.jupyter.widget-view+json": {
       "model_id": "1a021a4d92e0401cbd127a36fe7d4128",
       "version_major": 2,
       "version_minor": 0
      },
      "text/plain": [
       "  0%|          | 0/20 [00:00<?, ?it/s]"
      ]
     },
     "metadata": {},
     "output_type": "display_data"
    },
    {
     "data": {
      "application/vnd.jupyter.widget-view+json": {
       "model_id": "02ce97af8c824279876ae868a5ab10cc",
       "version_major": 2,
       "version_minor": 0
      },
      "text/plain": [
       "  0%|          | 0/20 [00:00<?, ?it/s]"
      ]
     },
     "metadata": {},
     "output_type": "display_data"
    }
   ],
   "source": [
    "non_cluster = cos_users_df.index[~cos_users_df.index.isin(cluster.index)][:20]\n",
    "\n",
    "compare = {}\n",
    "\n",
    "for N in tqdm([5, 10, 25, 50, 100, 1000]):\n",
    "    compare[f\"Cluster {N}\"] = {\"True\" : [], \"Cluster\" : [], \"All\" : []}\n",
    "\n",
    "    for user in tqdm(non_cluster, leave=False):\n",
    "        all_rated_film = user_title_df.loc[user].dropna(axis=0)[:50]\n",
    "        compare[f\"Cluster {N}\"][\"True\"] += all_rated_film.values.tolist()\n",
    "        \n",
    "        for movie in all_rated_film.index:\n",
    "            compare[f\"Cluster {N}\"][\"Cluster\"].append(guess_rate_cluster(user, movie, N))\n",
    "            compare[f\"Cluster {N}\"][\"All\"].append(guess_rate_all(user, movie))\n",
    "\n",
    "compare_df = pd.DataFrame.from_dict(compare)\n",
    "#compare_df.to_csv(f\"{data_folder}compare_true_cluster_all.csv\")\n",
    "del(compare)\n",
    "\n",
    "\n",
    "delta = {\"Cluster\" : {}, \"All\" : {}}\n",
    "\n",
    "for col in compare_df.columns:\n",
    "    delta[\"Cluster\"][col] = []\n",
    "    delta[\"All\"][col] = []\n",
    "\n",
    "    for i in range(len(compare_df[col][\"Cluster\"])):\n",
    "        delta[\"Cluster\"][col].append(compare_df[col][\"True\"][i]-compare_df[col][\"Cluster\"][i])\n",
    "        delta[\"All\"][col].append(compare_df[col][\"True\"][i]-compare_df[col][\"All\"][i])\n",
    "\n",
    "compare_delta_df = pd.DataFrame.from_dict(delta)\n",
    "del(delta)"
   ]
  },
  {
   "cell_type": "code",
   "execution_count": 17,
   "metadata": {},
   "outputs": [
    {
     "data": {
      "image/png": "[encoded data removed]",
      "text/plain": [
       "<Figure size 1440x360 with 2 Axes>"
      ]
     },
     "metadata": {
      "needs_background": "light"
     },
     "output_type": "display_data"
    },
    {
     "data": {
      "image/png": "[encoded data removed]",
      "text/plain": [
       "<Figure size 1800x288 with 6 Axes>"
      ]
     },
     "metadata": {
      "needs_background": "light"
     },
     "output_type": "display_data"
    }
   ],
   "source": [
    "plt.figure(figsize=(20,5))\n",
    "\n",
    "k = 1\n",
    "for col in compare_delta_df.columns:\n",
    "    plt.subplot(1, 2, k)\n",
    "\n",
    "    plots = []\n",
    "    labels = []\n",
    "    for ind in compare_delta_df[col].index:\n",
    "        plots.append(compare_delta_df[col][ind])\n",
    "        labels.append(ind)\n",
    "\n",
    "    plt.boxplot(plots, labels=labels, showfliers=False)\n",
    "    plt.title(col)\n",
    "\n",
    "    k += 1\n",
    "\n",
    "\n",
    "plt.figure(figsize=(25,4))\n",
    "\n",
    "k = 1\n",
    "for clust in compare_delta_df.index:\n",
    "    plt.subplot(1, 6, k)\n",
    "    plt.boxplot([elem for elem in compare_delta_df.loc[clust]], labels=[\"Cluster\", \"All\"], showfliers=False)\n",
    "    plt.title(clust)\n",
    "    k += 1\n",
    "\n",
    "#plt.savefig(\"img/compare_cluster_all_by_cluster.jpg\", dpi=200)\n",
    "plt.show()"
   ]
  },
  {
   "cell_type": "code",
   "execution_count": 14,
   "metadata": {},
   "outputs": [],
   "source": [
    "def guess_rate(user_id, title):\n",
    "    L = len(cos_users_df[user_id][cos_users_df[user_id] > 0.75].index)\n",
    "    if (L >= 3):\n",
    "        return guess_rate_cluster(user_id, title, L)\n",
    "    else:\n",
    "        return guess_rate_cluster(user_id, title, 50)"
   ]
  },
  {
   "cell_type": "code",
   "execution_count": 86,
   "metadata": {},
   "outputs": [
    {
     "data": {
      "application/vnd.jupyter.widget-view+json": {
       "model_id": "63db3ba6a88a46a3befe76b230e9365a",
       "version_major": 2,
       "version_minor": 0
      },
      "text/plain": [
       "  0%|          | 0/100 [00:00<?, ?it/s]"
      ]
     },
     "metadata": {},
     "output_type": "display_data"
    }
   ],
   "source": [
    "users = cos_users_df.index[:100]\n",
    "rates = {\"true\" : [], \"guess\" : [], \"clust\" : []}\n",
    "delta = {\"guess\" : [], \"clust\" : []}\n",
    "\n",
    "for user in tqdm(users):\n",
    "    all_rated_film = user_title_df.loc[user].dropna(axis=0)[:150]\n",
    "    rates[\"true\"] += all_rated_film.values.tolist()\n",
    "\n",
    "    for movie in all_rated_film.index:\n",
    "        rates[\"guess\"].append(guess_rate(user, movie))\n",
    "        rates[\"clust\"].append(guess_rate_cluster(user, movie, 100))\n",
    "\n",
    "for i in range(len(rates[\"clust\"])):\n",
    "    r = rates[\"true\"][i]\n",
    "    delta[\"guess\"].append(r- rates[\"guess\"][i])\n",
    "    delta[\"clust\"].append(r- rates[\"clust\"][i])\n"
   ]
  },
  {
   "cell_type": "code",
   "execution_count": 92,
   "metadata": {},
   "outputs": [
    {
     "data": {
      "image/png": "[encoded data removed]",
      "text/plain": [
       "<Figure size 576x288 with 1 Axes>"
      ]
     },
     "metadata": {
      "needs_background": "light"
     },
     "output_type": "display_data"
    }
   ],
   "source": [
    "labels = []\n",
    "plots = []\n",
    "for key in delta.keys():\n",
    "    plots.append(delta[key])\n",
    "    labels.append(key)\n",
    "\n",
    "plt.figure(figsize=(8,4))\n",
    "plt.boxplot(plots, labels=labels, showfliers=False)\n",
    "plt.title(\"Comparative between Guess et Cluster\")\n",
    "plt.show()"
   ]
  },
  {
   "cell_type": "code",
   "execution_count": 12,
   "metadata": {},
   "outputs": [],
   "source": [
    "def get_similar_movies_from_users(user_id):\n",
    "    all_rates = []\n",
    "    keep_movies = []\n",
    "\n",
    "    for movie in tqdm(user_title_df.columns):\n",
    "        if (pd.isnull(user_title_df.loc[user_id, movie])):\n",
    "            all_rates.append(guess_rate(user_id, movie))\n",
    "            keep_movies.append(movie)\n",
    "\n",
    "    return pd.Series(all_rates, keep_movies).sort_values(ascending=False)"
   ]
  },
  {
   "cell_type": "code",
   "execution_count": 15,
   "metadata": {},
   "outputs": [
    {
     "data": {
      "application/vnd.jupyter.widget-view+json": {
       "model_id": "b66a6e1c39a04a3881f8e278bbf13438",
       "version_major": 2,
       "version_minor": 0
      },
      "text/plain": [
       "  0%|          | 0/500 [00:00<?, ?it/s]"
      ]
     },
     "metadata": {},
     "output_type": "display_data"
    },
    {
     "data": {
      "text/plain": [
       "One Flew Over the Cuckoo's Nest (1975)      4.521912\n",
       "Princess Mononoke (Mononoke-hime) (1997)    4.453064\n",
       "Fargo (1996)                                4.376970\n",
       "12 Angry Men (1957)                         4.340207\n",
       "Requiem for a Dream (2000)                  4.309277\n",
       "                                              ...   \n",
       "Truth About Cats & Dogs, The (1996)         1.655610\n",
       "Father of the Bride Part II (1995)          1.506951\n",
       "Wild Wild West (1999)                       1.497747\n",
       "First Knight (1995)                         1.490886\n",
       "Sabrina (1995)                              1.000000\n",
       "Length: 301, dtype: float64"
      ]
     },
     "execution_count": 15,
     "metadata": {},
     "output_type": "execute_result"
    }
   ],
   "source": [
    "get_similar_movies_from_users(3)"
   ]
  },
  {
   "cell_type": "code",
   "execution_count": 23,
   "metadata": {},
   "outputs": [
    {
     "data": {
      "application/vnd.jupyter.widget-view+json": {
       "model_id": "0034430a96924167b2f2d58a50813fe7",
       "version_major": 2,
       "version_minor": 0
      },
      "text/plain": [
       "  0%|          | 0/500 [00:00<?, ?it/s]"
      ]
     },
     "metadata": {},
     "output_type": "display_data"
    },
    {
     "data": {
      "text/plain": [
       "One Flew Over the Cuckoo's Nest (1975)                                         5.160403\n",
       "12 Angry Men (1957)                                                            4.978225\n",
       "Lawrence of Arabia (1962)                                                      4.935520\n",
       "Spirited Away (Sen to Chihiro no kamikakushi) (2001)                           4.929803\n",
       "Dr. Strangelove or: How I Learned to Stop Worrying and Love the Bomb (1964)    4.916378\n",
       "                                                                                 ...   \n",
       "Deep Impact (1998)                                                             1.228727\n",
       "First Knight (1995)                                                            1.145761\n",
       "Nutty Professor, The (1996)                                                    1.057379\n",
       "Congo (1995)                                                                   0.965035\n",
       "Wild Wild West (1999)                                                          0.383813\n",
       "Length: 301, dtype: float64"
      ]
     },
     "execution_count": 23,
     "metadata": {},
     "output_type": "execute_result"
    }
   ],
   "source": [
    "get_similar_movies_from_users(3)"
   ]
  },
  {
   "cell_type": "code",
   "execution_count": 39,
   "metadata": {},
   "outputs": [
    {
     "data": {
      "application/vnd.jupyter.widget-view+json": {
       "model_id": "d0346bfb74a1466b8c89f5b574936108",
       "version_major": 2,
       "version_minor": 0
      },
      "text/plain": [
       "  0%|          | 0/500 [00:00<?, ?it/s]"
      ]
     },
     "metadata": {},
     "output_type": "display_data"
    },
    {
     "data": {
      "text/plain": [
       "One Flew Over the Cuckoo's Nest (1975)                  4.445363\n",
       "Fargo (1996)                                            4.322068\n",
       "12 Angry Men (1957)                                     4.277933\n",
       "Spirited Away (Sen to Chihiro no kamikakushi) (2001)    4.253387\n",
       "Requiem for a Dream (2000)                              4.243485\n",
       "                                                          ...   \n",
       "Coneheads (1993)                                        2.391942\n",
       "Batman Forever (1995)                                   2.372907\n",
       "Nutty Professor, The (1996)                             2.308185\n",
       "Congo (1995)                                            2.282171\n",
       "Wild Wild West (1999)                                   2.009783\n",
       "Length: 301, dtype: float64"
      ]
     },
     "execution_count": 39,
     "metadata": {},
     "output_type": "execute_result"
    }
   ],
   "source": [
    "get_similar_movies_from_users(3)"
   ]
  },
  {
   "cell_type": "markdown",
   "metadata": {},
   "source": [
    "## 4.2 - Movie to movie"
   ]
  },
  {
   "cell_type": "code",
   "execution_count": 16,
   "metadata": {},
   "outputs": [
    {
     "data": {
      "text/plain": [
       "(24710, 500)"
      ]
     },
     "execution_count": 16,
     "metadata": {},
     "output_type": "execute_result"
    }
   ],
   "source": [
    "user_title_std = user_title_df.apply(standardize, axis=0).fillna(0)\n",
    "user_title_std.shape"
   ]
  },
  {
   "cell_type": "code",
   "execution_count": 17,
   "metadata": {},
   "outputs": [],
   "source": [
    "#Création de la matrice de cosinus distance\n",
    "cos = cosine_similarity(user_title_std.T)\n",
    "cos_movies_df = pd.DataFrame(cos, index=user_title_std.columns, columns=user_title_std.columns)\n",
    "np.fill_diagonal(cos_movies_df.values, 0)\n",
    "del(cos)"
   ]
  },
  {
   "cell_type": "code",
   "execution_count": 18,
   "metadata": {},
   "outputs": [],
   "source": [
    "def get_similar_movies_from_movies(user_id):\n",
    "    similar_movies = pd.DataFrame()\n",
    "\n",
    "    movies_rates = user_title_df.loc[user_id].dropna()\n",
    "    movies = movies_rates.index\n",
    "    rates = movies_rates.values\n",
    "    user = [(movies[i], rates[i]) for i in range(len(rates))]\n",
    "\n",
    "    for movie, rate in tqdm(user):\n",
    "        movie_list = (cos_movies_df.loc[:, movie]*(rate-2.5)).sort_values(ascending=False)\n",
    "        similar_movies = similar_movies.append(movie_list)\n",
    "\n",
    "    \n",
    "    similar_movies = similar_movies.T.drop([movie for movie, rate in user], axis=0)\n",
    "    return similar_movies.sum(axis=1).sort_values(ascending=False)"
   ]
  },
  {
   "cell_type": "code",
   "execution_count": 19,
   "metadata": {},
   "outputs": [
    {
     "data": {
      "application/vnd.jupyter.widget-view+json": {
       "model_id": "8b6cd1327f6b4a2f955b0fe5fd3e0906",
       "version_major": 2,
       "version_minor": 0
      },
      "text/plain": [
       "  0%|          | 0/199 [00:00<?, ?it/s]"
      ]
     },
     "metadata": {},
     "output_type": "display_data"
    },
    {
     "data": {
      "text/plain": [
       "Saving Private Ryan (1998)                             40.106259\n",
       "Spider-Man 2 (2004)                                    39.596884\n",
       "Sixth Sense, The (1999)                                38.783319\n",
       "Indiana Jones and the Last Crusade (1989)              38.465264\n",
       "Up (2009)                                              37.900991\n",
       "                                                         ...    \n",
       "City Slickers II: The Legend of Curly's Gold (1994)    11.547058\n",
       "Congo (1995)                                           11.474667\n",
       "French Kiss (1995)                                     11.226061\n",
       "Executive Decision (1996)                              10.659839\n",
       "Disclosure (1994)                                       9.076215\n",
       "Length: 301, dtype: float64"
      ]
     },
     "execution_count": 19,
     "metadata": {},
     "output_type": "execute_result"
    }
   ],
   "source": [
    "get_similar_movies_from_movies(3)"
   ]
  },
  {
   "cell_type": "markdown",
   "metadata": {},
   "source": [
    "## 4.3 - Mix"
   ]
  },
  {
   "cell_type": "code",
   "execution_count": 20,
   "metadata": {},
   "outputs": [],
   "source": [
    "def recommanded_movies(user_id):\n",
    "    get_users = get_similar_movies_from_users(user_id).index\n",
    "    get_movies = get_similar_movies_from_movies(user_id).index\n",
    "\n",
    "    arg_movies = []\n",
    "    for title in get_users:\n",
    "        arg_movies.append(int(np.argwhere(get_movies == title)))\n",
    "\n",
    "    recommanded = pd.DataFrame(index=get_users, columns=[\"Arg Users\", \"Arg Movies\"], data=np.array([range(len(arg_movies)), arg_movies]).T)\n",
    "    recommanded[\"Mean\"] = recommanded.mean(axis=1)\n",
    "\n",
    "    return recommanded.sort_values(by=\"Mean\")[\"Mean\"]"
   ]
  },
  {
   "cell_type": "code",
   "execution_count": 21,
   "metadata": {},
   "outputs": [
    {
     "data": {
      "application/vnd.jupyter.widget-view+json": {
       "model_id": "53be4e1a683b4025b53ca8b683870e67",
       "version_major": 2,
       "version_minor": 0
      },
      "text/plain": [
       "  0%|          | 0/500 [00:00<?, ?it/s]"
      ]
     },
     "metadata": {},
     "output_type": "display_data"
    },
    {
     "data": {
      "application/vnd.jupyter.widget-view+json": {
       "model_id": "6c930e287e45460d800a07c7ba5b83ce",
       "version_major": 2,
       "version_minor": 0
      },
      "text/plain": [
       "  0%|          | 0/286 [00:00<?, ?it/s]"
      ]
     },
     "metadata": {},
     "output_type": "display_data"
    },
    {
     "data": {
      "text/plain": [
       "Star Wars: Episode VI - Return of the Jedi (1983)                  5.5\n",
       "Memento (2000)                                                    10.0\n",
       "X-Men (2000)                                                      10.5\n",
       "Pirates of the Caribbean: The Curse of the Black Pearl (2003)     12.0\n",
       "Die Hard (1988)                                                   13.5\n",
       "                                                                 ...  \n",
       "Ed Wood (1994)                                                   196.0\n",
       "Fantasia (1940)                                                  197.5\n",
       "Johnny Mnemonic (1995)                                           197.5\n",
       "First Knight (1995)                                              202.5\n",
       "French Kiss (1995)                                               206.0\n",
       "Name: Mean, Length: 214, dtype: float64"
      ]
     },
     "execution_count": 21,
     "metadata": {},
     "output_type": "execute_result"
    }
   ],
   "source": [
    "user = cluster.index[1]\n",
    "recommanded_movies(user)"
   ]
  },
  {
   "cell_type": "code",
   "execution_count": 27,
   "metadata": {},
   "outputs": [
    {
     "data": {
      "application/vnd.jupyter.widget-view+json": {
       "model_id": "bfff06d1fcef4cbe967dcc9de81a0dcd",
       "version_major": 2,
       "version_minor": 0
      },
      "text/plain": [
       "  0%|          | 0/500 [00:00<?, ?it/s]"
      ]
     },
     "metadata": {},
     "output_type": "display_data"
    },
    {
     "data": {
      "application/vnd.jupyter.widget-view+json": {
       "model_id": "907288e45b2c4a95b86c0f08cc197028",
       "version_major": 2,
       "version_minor": 0
      },
      "text/plain": [
       "  0%|          | 0/286 [00:00<?, ?it/s]"
      ]
     },
     "metadata": {},
     "output_type": "display_data"
    }
   ],
   "source": [
    "user = cluster.index[1]\n",
    "t = recommanded_movies(user)"
   ]
  },
  {
   "cell_type": "code",
   "execution_count": 33,
   "metadata": {},
   "outputs": [
    {
     "data": {
      "text/plain": [
       "15.0"
      ]
     },
     "execution_count": 33,
     "metadata": {},
     "output_type": "execute_result"
    }
   ],
   "source": [
    "t[\"X-Men (2000)\"]"
   ]
  }
 ],
 "metadata": {
  "kernelspec": {
   "display_name": "Python 3.8.3 64-bit",
   "language": "python",
   "name": "python3"
  },
  "language_info": {
   "codemirror_mode": {
    "name": "ipython",
    "version": 3
   },
   "file_extension": ".py",
   "mimetype": "text/x-python",
   "name": "python",
   "nbconvert_exporter": "python",
   "pygments_lexer": "ipython3",
   "version": "3.8.3"
  },
  "orig_nbformat": 4,
  "vscode": {
   "interpreter": {
    "hash": "570feb405e2e27c949193ac68f46852414290d515b0ba6e5d90d076ed2284471"
   }
  }
 },
 "nbformat": 4,
 "nbformat_minor": 2
}
