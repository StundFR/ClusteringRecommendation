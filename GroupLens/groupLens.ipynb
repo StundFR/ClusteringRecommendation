{
 "cells": [
  {
   "cell_type": "markdown",
   "metadata": {},
   "source": [
    "# 0 - Instalation of modules"
   ]
  },
  {
   "cell_type": "markdown",
   "metadata": {},
   "source": [
    "#Run this cell to have the progress bar\n",
    "!pip install tqdm\n",
    "!pip install ipywidgets\n",
    "!jupyter nbextension enable --py widgetsnbextension"
   ]
  },
  {
   "cell_type": "code",
   "execution_count": 33,
   "metadata": {},
   "outputs": [],
   "source": [
    "%reset"
   ]
  },
  {
   "cell_type": "markdown",
   "metadata": {},
   "source": [
    "# 1 - Importing modules"
   ]
  },
  {
   "cell_type": "code",
   "execution_count": 1,
   "metadata": {},
   "outputs": [],
   "source": [
    "import pandas as pd\n",
    "import numpy as np\n",
    "from tqdm.notebook import tqdm\n",
    "from sklearn.metrics.pairwise import cosine_similarity\n",
    "import matplotlib.pyplot as plt"
   ]
  },
  {
   "cell_type": "markdown",
   "metadata": {},
   "source": [
    "# 2 - Get all files needed"
   ]
  },
  {
   "cell_type": "code",
   "execution_count": 2,
   "metadata": {},
   "outputs": [],
   "source": [
    "data_folder = \"../../Dataset/Movie/\""
   ]
  },
  {
   "cell_type": "code",
   "execution_count": 3,
   "metadata": {},
   "outputs": [
    {
     "data": {
      "text/plain": [
       "(25000095, 3)"
      ]
     },
     "execution_count": 3,
     "metadata": {},
     "output_type": "execute_result"
    }
   ],
   "source": [
    "rating = pd.read_csv(f\"{data_folder}ratings.csv\").drop([\"timestamp\"], axis=1)\n",
    "movie = pd.read_csv(f\"{data_folder}movies.csv\")\n",
    "\n",
    "data = pd.merge(movie, rating, on=\"movieId\").drop([\"genres\", \"movieId\"], axis=1)\n",
    "data.shape"
   ]
  },
  {
   "cell_type": "markdown",
   "metadata": {},
   "source": [
    "# 3 - Transforming data"
   ]
  },
  {
   "cell_type": "code",
   "execution_count": 4,
   "metadata": {},
   "outputs": [
    {
     "data": {
      "text/plain": [
       "(24409923, 3)"
      ]
     },
     "execution_count": 4,
     "metadata": {},
     "output_type": "execute_result"
    }
   ],
   "source": [
    "#On garde les NB_FILM films les plus notés\n",
    "NB_FILM = 10000\n",
    "keep_title = data[\"title\"].value_counts().sort_values(ascending=False)[:NB_FILM].index\n",
    "data_title = data[data[\"title\"].isin(keep_title)]\n",
    "data_title.shape"
   ]
  },
  {
   "cell_type": "code",
   "execution_count": 5,
   "metadata": {},
   "outputs": [],
   "source": [
    "#On garde les users qui ont données une note sur au moins THRESH_USER % des films\n",
    "THRESH_USER = 0.3\n",
    "keep_user = data_title[\"userId\"].value_counts()/NB_FILM >= THRESH_USER\n",
    "data_title_user = data_title[data_title[\"userId\"].isin(keep_user[keep_user].index)]"
   ]
  },
  {
   "cell_type": "code",
   "execution_count": 6,
   "metadata": {},
   "outputs": [
    {
     "data": {
      "text/plain": [
       "(66, 9996)"
      ]
     },
     "execution_count": 6,
     "metadata": {},
     "output_type": "execute_result"
    }
   ],
   "source": [
    "#On fait notre pivot table\n",
    "user_title_df = data_title_user.pivot_table(index=\"userId\", columns=\"title\", values=\"rating\")\n",
    "#user_title_df.to_csv(f\"{data_folder}user_title.csv\")\n",
    "user_title_df.shape"
   ]
  },
  {
   "cell_type": "markdown",
   "metadata": {},
   "source": [
    "# 4 - Colaborative filtering"
   ]
  },
  {
   "cell_type": "code",
   "execution_count": 3,
   "metadata": {},
   "outputs": [],
   "source": [
    "#Récupérer les données si elles sont en local\n",
    "user_title_df = pd.read_csv(f\"{data_folder}user_title.csv\", index_col=0)"
   ]
  },
  {
   "cell_type": "markdown",
   "metadata": {},
   "source": [
    "## 4.1 - General function"
   ]
  },
  {
   "cell_type": "code",
   "execution_count": 9,
   "metadata": {},
   "outputs": [],
   "source": [
    "#Standardisation des lignes pour supprimer les biais\n",
    "def standardize(row):\n",
    "    return row - np.mean(row)"
   ]
  },
  {
   "cell_type": "code",
   "execution_count": 13,
   "metadata": {},
   "outputs": [],
   "source": [
    "#On garde les candidats similaire et complétement opposé\n",
    "def create_cluster(feature, eps, save=False, name=None):\n",
    "    cluster = {feat : {\"+\" : [], \"-\" : []} for feat in feature}\n",
    "\n",
    "    i = 1\n",
    "    for feat1 in tqdm(feature):\n",
    "        for feat2 in feature[i:]:\n",
    "            tmp = thresh.loc[feat1, feat2]\n",
    "\n",
    "            if (tmp >= eps):\n",
    "                cluster[feat1][\"+\"].append(feat2)\n",
    "                cluster[feat2][\"+\"].append(feat1)\n",
    "            elif (tmp <= -eps):\n",
    "                cluster[feat1][\"-\"].append(feat2)\n",
    "                cluster[feat2][\"-\"].append(feat1)\n",
    "\n",
    "        i += 1\n",
    "\n",
    "    if save:\n",
    "        pd.DataFrame.from_dict(cluster).T.to_csv(f\"{data_folder}{name}.csv\")\n",
    "\n",
    "    return cluster"
   ]
  },
  {
   "cell_type": "markdown",
   "metadata": {},
   "source": [
    "## 4.2 - Users to users"
   ]
  },
  {
   "cell_type": "code",
   "execution_count": 9,
   "metadata": {},
   "outputs": [],
   "source": [
    "#On devine la note en fonction des candidtats similaires\n",
    "def guess_rate_cluster(user, title):\n",
    "    rate = 0\n",
    "    coeff = 0\n",
    "\n",
    "    for u in cluster[user][\"+\"]:\n",
    "        if not (pd.isnull(user_title_df.loc[u, title])):\n",
    "            rate += cos_df.loc[user, u]*user_title_df.loc[u, title]\n",
    "            coeff += cos_df.loc[user, u]\n",
    "\n",
    "    if (coeff == 0):\n",
    "        return 2.5\n",
    "    else:   \n",
    "        return rate/coeff"
   ]
  },
  {
   "cell_type": "code",
   "execution_count": 10,
   "metadata": {},
   "outputs": [],
   "source": [
    "#On devine la note en fonction de tous les candidats\n",
    "def guess_rate_all(user, title):\n",
    "    rate = 0\n",
    "    coef = 0\n",
    "\n",
    "    for i in user_title_df.index:\n",
    "        if (i != user) and not (pd.isnull(user_title_df.loc[i, title])):\n",
    "            rate += cos_df.loc[user, i]*user_title_df.loc[i, title]\n",
    "            coef += cos_df.loc[user, i]\n",
    "\n",
    "    if (coef == 0):\n",
    "            return 2.5\n",
    "    else:   \n",
    "        return rate/coef"
   ]
  },
  {
   "cell_type": "code",
   "execution_count": null,
   "metadata": {},
   "outputs": [],
   "source": [
    "user_title_std = user_title_df.apply(standardize, axis=1).fillna(0)\n",
    "user_title_std.shape"
   ]
  },
  {
   "cell_type": "code",
   "execution_count": 5,
   "metadata": {},
   "outputs": [],
   "source": [
    "#Création de la matrice de cosinus distance\n",
    "cos = cosine_similarity(user_title_std)\n",
    "cos_df = pd.DataFrame(cos, index=user_title_std.index, columns=user_title_std.index)\n",
    "del(cos)"
   ]
  },
  {
   "cell_type": "code",
   "execution_count": 7,
   "metadata": {},
   "outputs": [
    {
     "data": {
      "text/plain": [
       "(338, 338)"
      ]
     },
     "execution_count": 7,
     "metadata": {},
     "output_type": "execute_result"
    }
   ],
   "source": [
    "#Création\n",
    "thresh = cos_df[(cos_df >= 0.7) & (cos_df < 0.999999999)]\n",
    "thresh = thresh.dropna(axis=1, thresh=1).dropna(axis=0, thresh=1)\n",
    "thresh.shape"
   ]
  },
  {
   "cell_type": "code",
   "execution_count": null,
   "metadata": {},
   "outputs": [],
   "source": [
    "cluster = create_cluster(thresh.index, 0.7, True; \"cluster_users\")"
   ]
  },
  {
   "cell_type": "code",
   "execution_count": 17,
   "metadata": {},
   "outputs": [
    {
     "data": {
      "text/plain": [
       "11"
      ]
     },
     "execution_count": 17,
     "metadata": {},
     "output_type": "execute_result"
    }
   ],
   "source": [
    "N = 20\n",
    "all_none_empty_cluster = []\n",
    "\n",
    "for k in cluster.keys():\n",
    "    if (len(cluster[k][\"+\"]) >= N):\n",
    "        all_none_empty_cluster.append(k)\n",
    "len(all_none_empty_cluster)"
   ]
  },
  {
   "cell_type": "code",
   "execution_count": null,
   "metadata": {},
   "outputs": [],
   "source": [
    "#On compare les deux méthodes\n",
    "from time import time\n",
    "\n",
    "compare_time = {}\n",
    "\n",
    "for N in tqdm([5, 10, 15, 20]):\n",
    "    all_none_empty_cluster = []\n",
    "    compare_time[f\"Cluster {N}\"] = {\"Cluster\" : {\"Times\" : [], \"Rates\" : []}, \"All\" : {\"Times\" : [], \"Rates\" : []}}\n",
    "\n",
    "    for k in cluster.keys():\n",
    "        if (len(cluster[k][\"+\"]) >= N-1 and len(cluster[k][\"+\"]) <= N+1):\n",
    "            all_none_empty_cluster.append(k)\n",
    "\n",
    "    users = all_none_empty_cluster[:10]\n",
    "    titles = user_title_df.columns\n",
    "    sup = []\n",
    "    positif = []\n",
    "\n",
    "    for user in tqdm(users, leave=False):\n",
    "        for title in titles[:100]:\n",
    "            start = time()\n",
    "            cluster_rate = guess_rate_cluster(user, title)\n",
    "            cluster_time = time() - start\n",
    "            compare_time[f\"Cluster {N}\"][\"Cluster\"][\"Rates\"].append(cluster_rate)\n",
    "            compare_time[f\"Cluster {N}\"][\"Cluster\"][\"Times\"].append(cluster_time)\n",
    "\n",
    "            start = time()\n",
    "            all_rate = guess_rate_all(user, title)\n",
    "            all_time = time() - start\n",
    "            compare_time[f\"Cluster {N}\"][\"All\"][\"Rates\"].append(all_rate)\n",
    "            compare_time[f\"Cluster {N}\"][\"All\"][\"Times\"].append(all_time)\n",
    "            \n",
    "            sup.append(1) if (cluster_rate - all_rate < 0) else sup.append(0) \n",
    "            positif.append(1) if (cluster_time - all_time > 0) else positif.append(0)"
   ]
  },
  {
   "cell_type": "code",
   "execution_count": 34,
   "metadata": {},
   "outputs": [
    {
     "data": {
      "image/png": "[encoded data removed]",
      "text/plain": [
       "<Figure size 1800x720 with 6 Axes>"
      ]
     },
     "metadata": {
      "needs_background": "light"
     },
     "output_type": "display_data"
    }
   ],
   "source": [
    "#On affiche graphiquement le comparatif\n",
    "plt.figure(figsize=(25,10))\n",
    "\n",
    "k = 1\n",
    "for stat in [\"Times\", \"Rates\"]:\n",
    "    plt.subplot(2, 3, k)\n",
    "    if (k == 1):\n",
    "        n = np.sum(positif)\n",
    "        plt.pie([n, len(positif)-n], labels=[\"Faster\", \"Slower\"], autopct='%.0f%%')\n",
    "        plt.title(\"Each time Cluster is faster than All\")\n",
    "    elif (k == 4):\n",
    "        n = np.sum(sup)\n",
    "        plt.pie([n, len(sup)-n], labels=[\"Higher\", \"Lower\"], autopct='%.0f%%')\n",
    "        plt.title(\"Each time Cluster gives biggest rates than All\")\n",
    "    k += 1\n",
    "\n",
    "    for method in [\"Cluster\", \"All\"]:\n",
    "        plots = []\n",
    "        labels = []\n",
    "\n",
    "        for key in compare_time.keys():\n",
    "            labels.append(key)\n",
    "            plots.append(compare_time[key][method][stat])\n",
    "\n",
    "        plt.subplot(2, 3, k)\n",
    "        plt.boxplot(plots, labels=labels)\n",
    "        plt.title(f\"{stat} - {method}\")\n",
    "\n",
    "        k += 1\n",
    "\n",
    "plt.show()"
   ]
  },
  {
   "cell_type": "code",
   "execution_count": null,
   "metadata": {},
   "outputs": [],
   "source": [
    "compare = {}\n",
    "\n",
    "for N in [5, 10, 15, 20]:\n",
    "    all_none_empty_cluster = []\n",
    "    compare[f\"Cluster {N}\"] = {\"True\" : [], \"Cluster\" : [], \"All\" : []}\n",
    "\n",
    "    for k in cluster.keys():\n",
    "        if (len(cluster[k][\"+\"]) >= N-1 and len(cluster[k][\"+\"]) <= N+1):\n",
    "            all_none_empty_cluster.append(k)\n",
    "\n",
    "    for user in tqdm(all_none_empty_cluster[:10]):\n",
    "        all_rated_film = user_title_df.loc[user].dropna(axis=0)\n",
    "        compare[f\"Cluster {N}\"][\"True\"] += all_rated_film.values.tolist()\n",
    "        \n",
    "        for movie in all_rated_film.index:\n",
    "            compare[f\"Cluster {N}\"][\"Cluster\"].append(guess_rate_cluster(user, movie))\n",
    "            compare[f\"Cluster {N}\"][\"All\"].append(guess_rate_all(user, movie))\n",
    "\n",
    "compare_df = pd.DataFrame.from_dict(compare)\n",
    "compare_df.to_csv(f\"{data_folder}compare_true_cluster_all.csv\")\n",
    "del(compare)\n",
    "\n",
    "\n",
    "delta = {\"Cluster\" : {}, \"All\" : {}}\n",
    "\n",
    "for col in compare_df.columns:\n",
    "    delta[\"Cluster\"][col] = []\n",
    "    delta[\"All\"][col] = []\n",
    "\n",
    "    for i in range(len(compare_df[col][\"Cluster\"])):\n",
    "        delta[\"Cluster\"][col].append(compare_df[col][\"True\"][i]-compare_df[col][\"Cluster\"][i])\n",
    "        delta[\"All\"][col].append(compare_df[col][\"True\"][i]-compare_df[col][\"All\"][i])\n",
    "\n",
    "compare_delta_df = pd.DataFrame.from_dict(delta)"
   ]
  },
  {
   "cell_type": "code",
   "execution_count": 48,
   "metadata": {},
   "outputs": [
    {
     "data": {
      "image/png": "[encoded data removed]",
      "text/plain": [
       "<Figure size 1440x720 with 2 Axes>"
      ]
     },
     "metadata": {
      "needs_background": "light"
     },
     "output_type": "display_data"
    }
   ],
   "source": [
    "plt.figure(figsize=(20,10))\n",
    "\n",
    "k = 1\n",
    "for col in compare_delta_df.columns:\n",
    "    plt.subplot(2, 2, k)\n",
    "\n",
    "    plots = []\n",
    "    labels = []\n",
    "    for ind in compare_delta_df[col].index:\n",
    "        plots.append(compare_delta_df[col][ind])\n",
    "        labels.append(ind)\n",
    "\n",
    "    plt.boxplot(plots, labels=labels)\n",
    "    plt.title(col)\n",
    "\n",
    "    k += 1\n",
    "\n",
    "plt.savefig(\"img/compare_true_cluster_all.jpg\", dpi=200)\n",
    "plt.show()"
   ]
  },
  {
   "cell_type": "markdown",
   "metadata": {},
   "source": [
    "## 4.2 - Movie to movie"
   ]
  },
  {
   "cell_type": "code",
   "execution_count": 10,
   "metadata": {},
   "outputs": [
    {
     "data": {
      "text/plain": [
       "(66, 9996)"
      ]
     },
     "execution_count": 10,
     "metadata": {},
     "output_type": "execute_result"
    }
   ],
   "source": [
    "#Standardisation des lignes pour supprimer les biais\n",
    "user_title_std = user_title_df.apply(standardize, axis=0).fillna(0)\n",
    "user_title_std.shape"
   ]
  },
  {
   "cell_type": "code",
   "execution_count": 11,
   "metadata": {},
   "outputs": [],
   "source": [
    "#Création de la matrice de cosinus distance\n",
    "cos = cosine_similarity(user_title_std.T)\n",
    "cos_df = pd.DataFrame(cos, index=user_title_std.columns, columns=user_title_std.columns)\n",
    "del(cos)"
   ]
  },
  {
   "cell_type": "code",
   "execution_count": 12,
   "metadata": {},
   "outputs": [
    {
     "data": {
      "text/plain": [
       "(4962, 4962)"
      ]
     },
     "execution_count": 12,
     "metadata": {},
     "output_type": "execute_result"
    }
   ],
   "source": [
    "#Création\n",
    "thresh = cos_df[(cos_df >= 0.7) & (cos_df < 0.999999999)]\n",
    "thresh = thresh.dropna(axis=1, thresh=1).dropna(axis=0, thresh=1)\n",
    "thresh.shape"
   ]
  },
  {
   "cell_type": "code",
   "execution_count": 15,
   "metadata": {},
   "outputs": [
    {
     "data": {
      "application/vnd.jupyter.widget-view+json": {
       "model_id": "6a92bc29a60f455f917e5d515c1ee3d8",
       "version_major": 2,
       "version_minor": 0
      },
      "text/plain": [
       "  0%|          | 0/4962 [00:00<?, ?it/s]"
      ]
     },
     "metadata": {},
     "output_type": "display_data"
    }
   ],
   "source": [
    "cluster_movies = create_cluster(thresh.columns, 0.7, True, \"cluster_movies\")"
   ]
  }
 ],
 "metadata": {
  "kernelspec": {
   "display_name": "Python 3.10.4 64-bit",
   "language": "python",
   "name": "python3"
  },
  "language_info": {
   "codemirror_mode": {
    "name": "ipython",
    "version": 3
   },
   "file_extension": ".py",
   "mimetype": "text/x-python",
   "name": "python",
   "nbconvert_exporter": "python",
   "pygments_lexer": "ipython3",
   "version": "3.10.4"
  },
  "orig_nbformat": 4,
  "vscode": {
   "interpreter": {
    "hash": "74a981a46e37d63b82983f5b77d7c74cce8983549ccfc8d083c110a6dffce6c1"
   }
  }
 },
 "nbformat": 4,
 "nbformat_minor": 2
}
