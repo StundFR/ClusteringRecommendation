{
 "cells": [
  {
   "cell_type": "markdown",
   "metadata": {},
   "source": [
    "# 0 - Instalation of modules"
   ]
  },
  {
   "cell_type": "markdown",
   "metadata": {},
   "source": [
    "#Run this cell to have the progress bar\n",
    "!pip install tqdm\n",
    "!pip install ipywidgets\n",
    "!jupyter nbextension enable --py widgetsnbextension"
   ]
  },
  {
   "cell_type": "code",
   "execution_count": 117,
   "metadata": {},
   "outputs": [],
   "source": [
    "%reset"
   ]
  },
  {
   "cell_type": "markdown",
   "metadata": {},
   "source": [
    "# 1 - Importing modules"
   ]
  },
  {
   "cell_type": "code",
   "execution_count": 1,
   "metadata": {},
   "outputs": [],
   "source": [
    "import pandas as pd\n",
    "import numpy as np\n",
    "from tqdm.notebook import tqdm\n",
    "from sklearn.metrics.pairwise import cosine_similarity\n",
    "import matplotlib.pyplot as plt"
   ]
  },
  {
   "cell_type": "markdown",
   "metadata": {},
   "source": [
    "# 2 - Get all files needed"
   ]
  },
  {
   "cell_type": "code",
   "execution_count": 2,
   "metadata": {},
   "outputs": [],
   "source": [
    "data_folder = \"../../Dataset/Movie/\""
   ]
  },
  {
   "cell_type": "code",
   "execution_count": 122,
   "metadata": {},
   "outputs": [
    {
     "data": {
      "text/plain": [
       "(25000095, 3)"
      ]
     },
     "execution_count": 122,
     "metadata": {},
     "output_type": "execute_result"
    }
   ],
   "source": [
    "rating = pd.read_csv(f\"{data_folder}ratings.csv\").drop([\"timestamp\"], axis=1)\n",
    "movie = pd.read_csv(f\"{data_folder}movies.csv\")\n",
    "\n",
    "data = pd.merge(movie, rating, on=\"movieId\").drop([\"genres\", \"movieId\"], axis=1)\n",
    "data.shape"
   ]
  },
  {
   "cell_type": "markdown",
   "metadata": {},
   "source": [
    "# 3 - Transforming data"
   ]
  },
  {
   "cell_type": "code",
   "execution_count": 123,
   "metadata": {},
   "outputs": [
    {
     "data": {
      "text/plain": [
       "(10944751, 3)"
      ]
     },
     "execution_count": 123,
     "metadata": {},
     "output_type": "execute_result"
    }
   ],
   "source": [
    "#On garde les NB_FILM films les plus notés\n",
    "NB_FILM = 500\n",
    "keep_title = data[\"title\"].value_counts().sort_values(ascending=False)[:NB_FILM].index\n",
    "data_title = data[data[\"title\"].isin(keep_title)]\n",
    "data_title.shape"
   ]
  },
  {
   "cell_type": "code",
   "execution_count": 124,
   "metadata": {},
   "outputs": [],
   "source": [
    "#On garde les users qui ont données une note sur au moins THRESH_USER % des films\n",
    "THRESH_USER = 0.25\n",
    "keep_user = data_title[\"userId\"].value_counts()/NB_FILM >= THRESH_USER\n",
    "data_title_user = data_title[data_title[\"userId\"].isin(keep_user[keep_user].index)]"
   ]
  },
  {
   "cell_type": "code",
   "execution_count": 125,
   "metadata": {},
   "outputs": [
    {
     "data": {
      "text/plain": [
       "(24710, 500)"
      ]
     },
     "execution_count": 125,
     "metadata": {},
     "output_type": "execute_result"
    }
   ],
   "source": [
    "#On fait notre pivot table\n",
    "user_title_df = data_title_user.pivot_table(index=\"userId\", columns=\"title\", values=\"rating\")\n",
    "user_title_df.to_csv(f\"{data_folder}test_for_users.csv\")\n",
    "user_title_df.shape"
   ]
  },
  {
   "cell_type": "markdown",
   "metadata": {},
   "source": [
    "# 4 - Colaborative filtering"
   ]
  },
  {
   "cell_type": "code",
   "execution_count": 3,
   "metadata": {},
   "outputs": [
    {
     "data": {
      "text/plain": [
       "(24710, 500)"
      ]
     },
     "execution_count": 3,
     "metadata": {},
     "output_type": "execute_result"
    }
   ],
   "source": [
    "#Récupérer les données si elles sont en local\n",
    "user_title_df = pd.read_csv(f\"{data_folder}test_for_users.csv\", index_col=0)\n",
    "user_title_df.shape"
   ]
  },
  {
   "cell_type": "code",
   "execution_count": 4,
   "metadata": {},
   "outputs": [],
   "source": [
    "#Standardisation des lignes pour supprimer les biais\n",
    "def standardize(row):\n",
    "    return (row - row.mean())/row.std()"
   ]
  },
  {
   "cell_type": "code",
   "execution_count": 5,
   "metadata": {},
   "outputs": [],
   "source": [
    "def keep_efficiant_values(cos_df, eps):\n",
    "    cos_users_thresh = cos_df[(cos_df>=eps) | (cos_df<=-eps)]\n",
    "    return cos_users_thresh.dropna(thresh=1, axis=0).dropna(thresh=1, axis=1)"
   ]
  },
  {
   "cell_type": "markdown",
   "metadata": {},
   "source": [
    "## 4.1 - Users to users"
   ]
  },
  {
   "cell_type": "code",
   "execution_count": 6,
   "metadata": {},
   "outputs": [
    {
     "data": {
      "text/plain": [
       "(24710, 500)"
      ]
     },
     "execution_count": 6,
     "metadata": {},
     "output_type": "execute_result"
    }
   ],
   "source": [
    "user_title_std = user_title_df.apply(standardize, axis=1).fillna(0)\n",
    "user_title_std.shape"
   ]
  },
  {
   "cell_type": "code",
   "execution_count": 7,
   "metadata": {},
   "outputs": [],
   "source": [
    "#Création de la matrice de cosinus distance\n",
    "cos = cosine_similarity(user_title_std)\n",
    "cos_users_df = pd.DataFrame(cos, index=user_title_std.index, columns=user_title_std.index)\n",
    "np.fill_diagonal(cos_users_df.values, 0)\n",
    "del(cos)"
   ]
  },
  {
   "cell_type": "code",
   "execution_count": 41,
   "metadata": {},
   "outputs": [],
   "source": [
    "#On devine la note en fonction des candidtats similaires\n",
    "def guess_rate_cluster(user, title, N):\n",
    "    rate = 0\n",
    "    coeff = 0\n",
    "\n",
    "    for i in cos_users_df.loc[user].sort_values(ascending=False).drop(user).index[:N]:\n",
    "        r = user_title_df.loc[i, title]\n",
    "        if not (pd.isnull(r)):\n",
    "            c = cos_users_df.loc[i, user]\n",
    "            rate += r*c\n",
    "            coeff += c\n",
    "    \n",
    "    if (coeff != 0):\n",
    "        return rate/coeff\n",
    "    else:\n",
    "        return 2.5"
   ]
  },
  {
   "cell_type": "code",
   "execution_count": 27,
   "metadata": {},
   "outputs": [],
   "source": [
    "#On devine la note en fonction de tous les candidats\n",
    "def guess_rate_all(user, title):\n",
    "    rate = 0\n",
    "    coef = 0\n",
    "\n",
    "    for i in user_title_std.drop(user).index:\n",
    "        r = user_title_df.loc[i, title]\n",
    "        if not (pd.isnull(r)):\n",
    "            c = cos_users_df.loc[user, i]\n",
    "            rate += c*r\n",
    "            coef += c\n",
    "\n",
    "    if (coef == 0):\n",
    "            return 2.5\n",
    "    else:   \n",
    "        return rate/coef"
   ]
  },
  {
   "cell_type": "code",
   "execution_count": 10,
   "metadata": {},
   "outputs": [],
   "source": [
    "cos_users_thresh = keep_efficiant_values(cos_users_df, 0.75)\n",
    "cluster = len(cos_users_thresh) - np.sum(cos_users_thresh.isna(), axis=0).sort_values()"
   ]
  },
  {
   "cell_type": "code",
   "execution_count": 11,
   "metadata": {},
   "outputs": [
    {
     "data": {
      "application/vnd.jupyter.widget-view+json": {
       "model_id": "f741edb49e494219b63e55344bba7f0e",
       "version_major": 2,
       "version_minor": 0
      },
      "text/plain": [
       "  0%|          | 0/4 [00:00<?, ?it/s]"
      ]
     },
     "metadata": {},
     "output_type": "display_data"
    },
    {
     "data": {
      "application/vnd.jupyter.widget-view+json": {
       "model_id": "f2cf6ace05714e50a94dc6bbfd95c9ee",
       "version_major": 2,
       "version_minor": 0
      },
      "text/plain": [
       "  0%|          | 0/20 [00:00<?, ?it/s]"
      ]
     },
     "metadata": {},
     "output_type": "display_data"
    },
    {
     "data": {
      "application/vnd.jupyter.widget-view+json": {
       "model_id": "2ba35fd0d572495780004264d78cf837",
       "version_major": 2,
       "version_minor": 0
      },
      "text/plain": [
       "  0%|          | 0/14 [00:00<?, ?it/s]"
      ]
     },
     "metadata": {},
     "output_type": "display_data"
    },
    {
     "data": {
      "application/vnd.jupyter.widget-view+json": {
       "model_id": "1099af3df224429982b0372d1ea4f6cc",
       "version_major": 2,
       "version_minor": 0
      },
      "text/plain": [
       "  0%|          | 0/10 [00:00<?, ?it/s]"
      ]
     },
     "metadata": {},
     "output_type": "display_data"
    },
    {
     "data": {
      "application/vnd.jupyter.widget-view+json": {
       "model_id": "5b83b435c1054090ae9a4d48f3657a49",
       "version_major": 2,
       "version_minor": 0
      },
      "text/plain": [
       "  0%|          | 0/7 [00:00<?, ?it/s]"
      ]
     },
     "metadata": {},
     "output_type": "display_data"
    }
   ],
   "source": [
    "#On compare les deux méthodes\n",
    "from time import time\n",
    "\n",
    "compare_time = {}\n",
    "\n",
    "for N in tqdm([1, 5, 10 , 15]):\n",
    "    compare_time[f\"Cluster {N}\"] = {\"Cluster\" : {\"Times\" : [], \"Rates\" : []}, \"All\" : {\"Times\" : [], \"Rates\" : []}}\n",
    "\n",
    "    keep_index = cluster[(cluster == N) | (cluster == N+1) | (cluster == N-1)].index[:20]\n",
    "    titles = user_title_df.columns\n",
    "    sup = []\n",
    "    positif = []\n",
    "\n",
    "    for user in tqdm(keep_index, leave=False):\n",
    "        for title in titles[:100]:\n",
    "            start = time()\n",
    "            cluster_rate = guess_rate_cluster(user, title, N)\n",
    "            cluster_time = time() - start\n",
    "            compare_time[f\"Cluster {N}\"][\"Cluster\"][\"Rates\"].append(cluster_rate)\n",
    "            compare_time[f\"Cluster {N}\"][\"Cluster\"][\"Times\"].append(cluster_time)\n",
    "\n",
    "            start = time()\n",
    "            all_rate = guess_rate_all(user, title)\n",
    "            all_time = time() - start\n",
    "            compare_time[f\"Cluster {N}\"][\"All\"][\"Rates\"].append(all_rate)\n",
    "            compare_time[f\"Cluster {N}\"][\"All\"][\"Times\"].append(all_time)\n",
    "            \n",
    "            sup.append(1) if (cluster_rate - all_rate < 0) else sup.append(0) \n",
    "            positif.append(1) if (cluster_time - all_time > 0) else positif.append(0)"
   ]
  },
  {
   "cell_type": "code",
   "execution_count": 13,
   "metadata": {},
   "outputs": [
    {
     "data": {
      "image/png": "[encoded data removed]",
      "text/plain": [
       "<Figure size 1800x720 with 6 Axes>"
      ]
     },
     "metadata": {
      "needs_background": "light"
     },
     "output_type": "display_data"
    }
   ],
   "source": [
    "#On affiche graphiquement le comparatif\n",
    "plt.figure(figsize=(25,10))\n",
    "\n",
    "k = 1\n",
    "for stat in [\"Times\", \"Rates\"]:\n",
    "    plt.subplot(2, 3, k)\n",
    "    if (k == 1):\n",
    "        n = np.sum(positif)\n",
    "        plt.pie([n, len(positif)-n], labels=[\"Faster\", \"Slower\"], autopct='%.0f%%')\n",
    "        plt.title(\"Each time Cluster is faster than All\")\n",
    "    elif (k == 4):\n",
    "        n = np.sum(sup)\n",
    "        plt.pie([n, len(sup)-n], labels=[\"Higher\", \"Lower\"], autopct='%.0f%%')\n",
    "        plt.title(\"Each time Cluster gives biggest rates than All\")\n",
    "    k += 1\n",
    "\n",
    "    for method in [\"Cluster\", \"All\"]:\n",
    "        plots = []\n",
    "        labels = []\n",
    "\n",
    "        for key in compare_time.keys():\n",
    "            labels.append(key)\n",
    "            plots.append(compare_time[key][method][stat])\n",
    "\n",
    "        plt.subplot(2, 3, k)\n",
    "        plt.boxplot(plots, labels=labels, showfliers=False)\n",
    "        plt.title(f\"{stat} - {method}\")\n",
    "\n",
    "        k += 1\n",
    "\n",
    "plt.show()"
   ]
  },
  {
   "cell_type": "code",
   "execution_count": 43,
   "metadata": {},
   "outputs": [
    {
     "data": {
      "application/vnd.jupyter.widget-view+json": {
       "model_id": "38e0bafda1064f218ed22a725cd74dbc",
       "version_major": 2,
       "version_minor": 0
      },
      "text/plain": [
       "  0%|          | 0/4 [00:00<?, ?it/s]"
      ]
     },
     "metadata": {},
     "output_type": "display_data"
    },
    {
     "data": {
      "application/vnd.jupyter.widget-view+json": {
       "model_id": "c52c881d07fd4e9abd0a8c8dd85319d3",
       "version_major": 2,
       "version_minor": 0
      },
      "text/plain": [
       "  0%|          | 0/20 [00:00<?, ?it/s]"
      ]
     },
     "metadata": {},
     "output_type": "display_data"
    },
    {
     "data": {
      "application/vnd.jupyter.widget-view+json": {
       "model_id": "790e3d15729946f9a5cb62cd14f5a01e",
       "version_major": 2,
       "version_minor": 0
      },
      "text/plain": [
       "  0%|          | 0/14 [00:00<?, ?it/s]"
      ]
     },
     "metadata": {},
     "output_type": "display_data"
    },
    {
     "data": {
      "application/vnd.jupyter.widget-view+json": {
       "model_id": "20c0825270cd4c17b021ace97740845d",
       "version_major": 2,
       "version_minor": 0
      },
      "text/plain": [
       "  0%|          | 0/10 [00:00<?, ?it/s]"
      ]
     },
     "metadata": {},
     "output_type": "display_data"
    },
    {
     "data": {
      "application/vnd.jupyter.widget-view+json": {
       "model_id": "f11706af96b448be9f3104b1c7bc96ea",
       "version_major": 2,
       "version_minor": 0
      },
      "text/plain": [
       "  0%|          | 0/7 [00:00<?, ?it/s]"
      ]
     },
     "metadata": {},
     "output_type": "display_data"
    }
   ],
   "source": [
    "compare = {}\n",
    "\n",
    "for N in tqdm([1, 5, 10 , 15]):\n",
    "    compare[f\"Cluster {N}\"] = {\"True\" : [], \"Cluster\" : [], \"All\" : []}\n",
    "\n",
    "    keep_index = cluster[(cluster == N) | (cluster == N+1) | (cluster == N-1)].index[:20]\n",
    "    for user in tqdm(keep_index, leave=False):\n",
    "        all_rated_film = user_title_df.loc[user].dropna(axis=0)[:50]\n",
    "        compare[f\"Cluster {N}\"][\"True\"] += all_rated_film.values.tolist()\n",
    "        \n",
    "        for movie in all_rated_film.index:\n",
    "            compare[f\"Cluster {N}\"][\"Cluster\"].append(guess_rate_cluster(user, movie, N))\n",
    "            compare[f\"Cluster {N}\"][\"All\"].append(guess_rate_all(user, movie))\n",
    "\n",
    "compare_df = pd.DataFrame.from_dict(compare)\n",
    "#compare_df.to_csv(f\"{data_folder}compare_true_cluster_all.csv\")\n",
    "del(compare)\n",
    "\n",
    "\n",
    "delta = {\"Cluster\" : {}, \"All\" : {}}\n",
    "\n",
    "for col in compare_df.columns:\n",
    "    delta[\"Cluster\"][col] = []\n",
    "    delta[\"All\"][col] = []\n",
    "\n",
    "    for i in range(len(compare_df[col][\"Cluster\"])):\n",
    "        delta[\"Cluster\"][col].append(compare_df[col][\"True\"][i]-compare_df[col][\"Cluster\"][i])\n",
    "        delta[\"All\"][col].append(compare_df[col][\"True\"][i]-compare_df[col][\"All\"][i])\n",
    "\n",
    "compare_delta_df = pd.DataFrame.from_dict(delta)\n",
    "del(delta)"
   ]
  },
  {
   "cell_type": "code",
   "execution_count": 45,
   "metadata": {},
   "outputs": [
    {
     "data": {
      "image/png": "[encoded data removed]",
      "text/plain": [
       "<Figure size 1440x360 with 2 Axes>"
      ]
     },
     "metadata": {
      "needs_background": "light"
     },
     "output_type": "display_data"
    },
    {
     "data": {
      "image/png": "[encoded data removed]",
      "text/plain": [
       "<Figure size 1800x288 with 4 Axes>"
      ]
     },
     "metadata": {
      "needs_background": "light"
     },
     "output_type": "display_data"
    }
   ],
   "source": [
    "plt.figure(figsize=(20,5))\n",
    "\n",
    "k = 1\n",
    "for col in compare_delta_df.columns:\n",
    "    plt.subplot(1, 2, k)\n",
    "\n",
    "    plots = []\n",
    "    labels = []\n",
    "    for ind in compare_delta_df[col].index:\n",
    "        plots.append(compare_delta_df[col][ind])\n",
    "        labels.append(ind)\n",
    "\n",
    "    plt.boxplot(plots, labels=labels, showfliers=True)\n",
    "    plt.title(col)\n",
    "\n",
    "    k += 1\n",
    "\n",
    "plt.figure(figsize=(25,4))\n",
    "\n",
    "k = 1\n",
    "for clust in compare_delta_df.index:\n",
    "    plt.subplot(1, 4, k)\n",
    "    plt.boxplot([elem for elem in compare_delta_df.loc[clust]], labels=[\"Cluster\", \"All\"], showfliers=False)\n",
    "    plt.title(clust)\n",
    "    k += 1\n",
    "\n",
    "#plt.savefig(\"img/compare_cluster_all_by_cluster.jpg\", dpi=200)\n",
    "plt.show()"
   ]
  },
  {
   "cell_type": "code",
   "execution_count": 16,
   "metadata": {},
   "outputs": [
    {
     "data": {
      "application/vnd.jupyter.widget-view+json": {
       "model_id": "66639dd9f81e4e9f95eeaf7e6d91c6a3",
       "version_major": 2,
       "version_minor": 0
      },
      "text/plain": [
       "  0%|          | 0/6 [00:00<?, ?it/s]"
      ]
     },
     "metadata": {},
     "output_type": "display_data"
    },
    {
     "data": {
      "application/vnd.jupyter.widget-view+json": {
       "model_id": "b3dacf73ed454eccae4f60928284d163",
       "version_major": 2,
       "version_minor": 0
      },
      "text/plain": [
       "  0%|          | 0/20 [00:00<?, ?it/s]"
      ]
     },
     "metadata": {},
     "output_type": "display_data"
    },
    {
     "data": {
      "application/vnd.jupyter.widget-view+json": {
       "model_id": "f34d079d889f4891bd75b3b0dce557f3",
       "version_major": 2,
       "version_minor": 0
      },
      "text/plain": [
       "  0%|          | 0/20 [00:00<?, ?it/s]"
      ]
     },
     "metadata": {},
     "output_type": "display_data"
    },
    {
     "data": {
      "application/vnd.jupyter.widget-view+json": {
       "model_id": "d8df96ba60f8424db705d84e966e15fa",
       "version_major": 2,
       "version_minor": 0
      },
      "text/plain": [
       "  0%|          | 0/20 [00:00<?, ?it/s]"
      ]
     },
     "metadata": {},
     "output_type": "display_data"
    },
    {
     "data": {
      "application/vnd.jupyter.widget-view+json": {
       "model_id": "47c9a5b153e14734811a1d7df935ea53",
       "version_major": 2,
       "version_minor": 0
      },
      "text/plain": [
       "  0%|          | 0/20 [00:00<?, ?it/s]"
      ]
     },
     "metadata": {},
     "output_type": "display_data"
    },
    {
     "data": {
      "application/vnd.jupyter.widget-view+json": {
       "model_id": "1a021a4d92e0401cbd127a36fe7d4128",
       "version_major": 2,
       "version_minor": 0
      },
      "text/plain": [
       "  0%|          | 0/20 [00:00<?, ?it/s]"
      ]
     },
     "metadata": {},
     "output_type": "display_data"
    },
    {
     "data": {
      "application/vnd.jupyter.widget-view+json": {
       "model_id": "02ce97af8c824279876ae868a5ab10cc",
       "version_major": 2,
       "version_minor": 0
      },
      "text/plain": [
       "  0%|          | 0/20 [00:00<?, ?it/s]"
      ]
     },
     "metadata": {},
     "output_type": "display_data"
    }
   ],
   "source": [
    "non_cluster = cos_users_df.index[~cos_users_df.index.isin(cluster.index)][:20]\n",
    "\n",
    "compare = {}\n",
    "\n",
    "for N in tqdm([5, 10, 25, 50, 100, 1000]):\n",
    "    compare[f\"Cluster {N}\"] = {\"True\" : [], \"Cluster\" : [], \"All\" : []}\n",
    "\n",
    "    for user in tqdm(non_cluster, leave=False):\n",
    "        all_rated_film = user_title_df.loc[user].dropna(axis=0)[:50]\n",
    "        compare[f\"Cluster {N}\"][\"True\"] += all_rated_film.values.tolist()\n",
    "        \n",
    "        for movie in all_rated_film.index:\n",
    "            compare[f\"Cluster {N}\"][\"Cluster\"].append(guess_rate_cluster(user, movie, N))\n",
    "            compare[f\"Cluster {N}\"][\"All\"].append(guess_rate_all(user, movie))\n",
    "\n",
    "compare_df = pd.DataFrame.from_dict(compare)\n",
    "#compare_df.to_csv(f\"{data_folder}compare_true_cluster_all.csv\")\n",
    "del(compare)\n",
    "\n",
    "\n",
    "delta = {\"Cluster\" : {}, \"All\" : {}}\n",
    "\n",
    "for col in compare_df.columns:\n",
    "    delta[\"Cluster\"][col] = []\n",
    "    delta[\"All\"][col] = []\n",
    "\n",
    "    for i in range(len(compare_df[col][\"Cluster\"])):\n",
    "        delta[\"Cluster\"][col].append(compare_df[col][\"True\"][i]-compare_df[col][\"Cluster\"][i])\n",
    "        delta[\"All\"][col].append(compare_df[col][\"True\"][i]-compare_df[col][\"All\"][i])\n",
    "\n",
    "compare_delta_df = pd.DataFrame.from_dict(delta)\n",
    "del(delta)"
   ]
  },
  {
   "cell_type": "code",
   "execution_count": 17,
   "metadata": {},
   "outputs": [
    {
     "data": {
      "image/png": "[encoded data removed]",
      "text/plain": [
       "<Figure size 1440x360 with 2 Axes>"
      ]
     },
     "metadata": {
      "needs_background": "light"
     },
     "output_type": "display_data"
    },
    {
     "data": {
      "image/png": "[encoded data removed]",
      "text/plain": [
       "<Figure size 1800x288 with 6 Axes>"
      ]
     },
     "metadata": {
      "needs_background": "light"
     },
     "output_type": "display_data"
    }
   ],
   "source": [
    "plt.figure(figsize=(20,5))\n",
    "\n",
    "k = 1\n",
    "for col in compare_delta_df.columns:\n",
    "    plt.subplot(1, 2, k)\n",
    "\n",
    "    plots = []\n",
    "    labels = []\n",
    "    for ind in compare_delta_df[col].index:\n",
    "        plots.append(compare_delta_df[col][ind])\n",
    "        labels.append(ind)\n",
    "\n",
    "    plt.boxplot(plots, labels=labels, showfliers=False)\n",
    "    plt.title(col)\n",
    "\n",
    "    k += 1\n",
    "\n",
    "\n",
    "plt.figure(figsize=(25,4))\n",
    "\n",
    "k = 1\n",
    "for clust in compare_delta_df.index:\n",
    "    plt.subplot(1, 6, k)\n",
    "    plt.boxplot([elem for elem in compare_delta_df.loc[clust]], labels=[\"Cluster\", \"All\"], showfliers=False)\n",
    "    plt.title(clust)\n",
    "    k += 1\n",
    "\n",
    "#plt.savefig(\"img/compare_cluster_all_by_cluster.jpg\", dpi=200)\n",
    "plt.show()"
   ]
  },
  {
   "cell_type": "code",
   "execution_count": 62,
   "metadata": {},
   "outputs": [],
   "source": [
    "def guess_rate(user_id, title):\n",
    "    L = len(cos_users_df[user_id][cos_users_df[user_id] > 0.75].index)\n",
    "    if (L >= 3):\n",
    "        return guess_rate_cluster(user_id, title, L)\n",
    "    else:\n",
    "        return guess_rate_cluster(user_id, title, 50)"
   ]
  },
  {
   "cell_type": "code",
   "execution_count": 86,
   "metadata": {},
   "outputs": [
    {
     "data": {
      "application/vnd.jupyter.widget-view+json": {
       "model_id": "63db3ba6a88a46a3befe76b230e9365a",
       "version_major": 2,
       "version_minor": 0
      },
      "text/plain": [
       "  0%|          | 0/100 [00:00<?, ?it/s]"
      ]
     },
     "metadata": {},
     "output_type": "display_data"
    }
   ],
   "source": [
    "users = cos_users_df.index[:100]\n",
    "rates = {\"true\" : [], \"guess\" : [], \"clust\" : []}\n",
    "delta = {\"guess\" : [], \"clust\" : []}\n",
    "\n",
    "for user in tqdm(users):\n",
    "    all_rated_film = user_title_df.loc[user].dropna(axis=0)[:150]\n",
    "    rates[\"true\"] += all_rated_film.values.tolist()\n",
    "\n",
    "    for movie in all_rated_film.index:\n",
    "        rates[\"guess\"].append(guess_rate(user, movie))\n",
    "        rates[\"clust\"].append(guess_rate_cluster(user, movie, 100))\n",
    "\n",
    "for i in range(len(rates[\"clust\"])):\n",
    "    r = rates[\"true\"][i]\n",
    "    delta[\"guess\"].append(r- rates[\"guess\"][i])\n",
    "    delta[\"clust\"].append(r- rates[\"clust\"][i])\n"
   ]
  },
  {
   "cell_type": "code",
   "execution_count": 92,
   "metadata": {},
   "outputs": [
    {
     "data": {
      "image/png": "[encoded data removed]",
      "text/plain": [
       "<Figure size 576x288 with 1 Axes>"
      ]
     },
     "metadata": {
      "needs_background": "light"
     },
     "output_type": "display_data"
    }
   ],
   "source": [
    "labels = []\n",
    "plots = []\n",
    "for key in delta.keys():\n",
    "    plots.append(delta[key])\n",
    "    labels.append(key)\n",
    "\n",
    "plt.figure(figsize=(8,4))\n",
    "plt.boxplot(plots, labels=labels, showfliers=False)\n",
    "plt.title(\"Comparative between Guess et Cluster\")\n",
    "plt.show()"
   ]
  },
  {
   "cell_type": "code",
   "execution_count": 93,
   "metadata": {},
   "outputs": [],
   "source": [
    "def get_similar_movies_from_users(user_id):\n",
    "    all_rates = []\n",
    "    keep_movies = []\n",
    "\n",
    "    for movie in tqdm(user_title_df.columns):\n",
    "        if (pd.isnull(user_title_df.loc[user_id, movie])):\n",
    "            all_rates.append(guess_rate(user_id, movie))\n",
    "            keep_movies.append(movie)\n",
    "\n",
    "    return pd.Series(all_rates, keep_movies).sort_values(ascending=False)"
   ]
  },
  {
   "cell_type": "code",
   "execution_count": 95,
   "metadata": {},
   "outputs": [
    {
     "data": {
      "application/vnd.jupyter.widget-view+json": {
       "model_id": "f92c4f8dd1d642a5a54506254de977a8",
       "version_major": 2,
       "version_minor": 0
      },
      "text/plain": [
       "  0%|          | 0/500 [00:00<?, ?it/s]"
      ]
     },
     "metadata": {},
     "output_type": "display_data"
    },
    {
     "data": {
      "text/plain": [
       "One Flew Over the Cuckoo's Nest (1975)      4.521912\n",
       "Princess Mononoke (Mononoke-hime) (1997)    4.453064\n",
       "Fargo (1996)                                4.376970\n",
       "12 Angry Men (1957)                         4.340207\n",
       "Requiem for a Dream (2000)                  4.309277\n",
       "                                              ...   \n",
       "Truth About Cats & Dogs, The (1996)         1.655610\n",
       "Father of the Bride Part II (1995)          1.506951\n",
       "Wild Wild West (1999)                       1.497747\n",
       "First Knight (1995)                         1.490886\n",
       "Sabrina (1995)                              1.000000\n",
       "Length: 301, dtype: float64"
      ]
     },
     "execution_count": 95,
     "metadata": {},
     "output_type": "execute_result"
    }
   ],
   "source": [
    "get_similar_movies_from_users(3)"
   ]
  },
  {
   "cell_type": "markdown",
   "metadata": {},
   "source": [
    "## 4.2 - Movie to movie"
   ]
  },
  {
   "cell_type": "code",
   "execution_count": 97,
   "metadata": {},
   "outputs": [
    {
     "data": {
      "text/plain": [
       "(24710, 500)"
      ]
     },
     "execution_count": 97,
     "metadata": {},
     "output_type": "execute_result"
    }
   ],
   "source": [
    "user_title_std = user_title_df.apply(standardize, axis=0).fillna(0)\n",
    "user_title_std.shape"
   ]
  },
  {
   "cell_type": "code",
   "execution_count": 98,
   "metadata": {},
   "outputs": [],
   "source": [
    "#Création de la matrice de cosinus distance\n",
    "cos = cosine_similarity(user_title_std.T)\n",
    "cos_movies_df = pd.DataFrame(cos, index=user_title_std.columns, columns=user_title_std.columns)\n",
    "np.fill_diagonal(cos_movies_df.values, 0)\n",
    "del(cos)"
   ]
  },
  {
   "cell_type": "code",
   "execution_count": 99,
   "metadata": {},
   "outputs": [],
   "source": [
    "def get_similar_movies_from_movies(user_id):\n",
    "    similar_movies = pd.DataFrame()\n",
    "\n",
    "    movies_rates = user_title_df.loc[user_id].dropna()\n",
    "    movies = movies_rates.index\n",
    "    rates = movies_rates.values\n",
    "    user = [(movies[i], rates[i]) for i in range(len(rates))]\n",
    "\n",
    "    for movie, rate in tqdm(user):\n",
    "        movie_list = (cos_movies_df.loc[:, movie]*(rate-2.5)).sort_values(ascending=False)\n",
    "        similar_movies = similar_movies.append(movie_list)\n",
    "\n",
    "    \n",
    "    similar_movies = similar_movies.T.drop([movie for movie, rate in user], axis=0)\n",
    "    return similar_movies.sum(axis=1).sort_values(ascending=False)"
   ]
  },
  {
   "cell_type": "code",
   "execution_count": 100,
   "metadata": {},
   "outputs": [
    {
     "data": {
      "application/vnd.jupyter.widget-view+json": {
       "model_id": "eb8bf98f76f146e08cb0d757fdd55f4e",
       "version_major": 2,
       "version_minor": 0
      },
      "text/plain": [
       "  0%|          | 0/199 [00:00<?, ?it/s]"
      ]
     },
     "metadata": {},
     "output_type": "display_data"
    },
    {
     "data": {
      "text/plain": [
       "Saving Private Ryan (1998)                             40.106259\n",
       "Spider-Man 2 (2004)                                    39.596884\n",
       "Sixth Sense, The (1999)                                38.783319\n",
       "Indiana Jones and the Last Crusade (1989)              38.465264\n",
       "Up (2009)                                              37.900991\n",
       "                                                         ...    \n",
       "City Slickers II: The Legend of Curly's Gold (1994)    11.547058\n",
       "Congo (1995)                                           11.474667\n",
       "French Kiss (1995)                                     11.226061\n",
       "Executive Decision (1996)                              10.659839\n",
       "Disclosure (1994)                                       9.076215\n",
       "Length: 301, dtype: float64"
      ]
     },
     "execution_count": 100,
     "metadata": {},
     "output_type": "execute_result"
    }
   ],
   "source": [
    "get_similar_movies_from_movies(3)"
   ]
  },
  {
   "cell_type": "markdown",
   "metadata": {},
   "source": [
    "## 4.3 - Mix"
   ]
  },
  {
   "cell_type": "code",
   "execution_count": 150,
   "metadata": {},
   "outputs": [
    {
     "data": {
      "application/vnd.jupyter.widget-view+json": {
       "model_id": "c61de4837f974a4b87c65845c6cc20bc",
       "version_major": 2,
       "version_minor": 0
      },
      "text/plain": [
       "  0%|          | 0/500 [00:00<?, ?it/s]"
      ]
     },
     "metadata": {},
     "output_type": "display_data"
    },
    {
     "data": {
      "application/vnd.jupyter.widget-view+json": {
       "model_id": "0ea1fc468d224e98bfba8572a47133d1",
       "version_major": 2,
       "version_minor": 0
      },
      "text/plain": [
       "  0%|          | 0/286 [00:00<?, ?it/s]"
      ]
     },
     "metadata": {},
     "output_type": "display_data"
    },
    {
     "data": {
      "text/html": [
       "<div>\n",
       "<style scoped>\n",
       "    .dataframe tbody tr th:only-of-type {\n",
       "        vertical-align: middle;\n",
       "    }\n",
       "\n",
       "    .dataframe tbody tr th {\n",
       "        vertical-align: top;\n",
       "    }\n",
       "\n",
       "    .dataframe thead th {\n",
       "        text-align: right;\n",
       "    }\n",
       "</style>\n",
       "<table border=\"1\" class=\"dataframe\">\n",
       "  <thead>\n",
       "    <tr style=\"text-align: right;\">\n",
       "      <th></th>\n",
       "      <th>Arg Users</th>\n",
       "      <th>Arg Movies</th>\n",
       "      <th>Mean</th>\n",
       "    </tr>\n",
       "  </thead>\n",
       "  <tbody>\n",
       "    <tr>\n",
       "      <th>Star Wars: Episode VI - Return of the Jedi (1983)</th>\n",
       "      <td>6</td>\n",
       "      <td>5</td>\n",
       "      <td>5.5</td>\n",
       "    </tr>\n",
       "    <tr>\n",
       "      <th>Memento (2000)</th>\n",
       "      <td>11</td>\n",
       "      <td>9</td>\n",
       "      <td>10.0</td>\n",
       "    </tr>\n",
       "    <tr>\n",
       "      <th>X-Men (2000)</th>\n",
       "      <td>15</td>\n",
       "      <td>6</td>\n",
       "      <td>10.5</td>\n",
       "    </tr>\n",
       "    <tr>\n",
       "      <th>Pirates of the Caribbean: The Curse of the Black Pearl (2003)</th>\n",
       "      <td>16</td>\n",
       "      <td>8</td>\n",
       "      <td>12.0</td>\n",
       "    </tr>\n",
       "    <tr>\n",
       "      <th>Die Hard (1988)</th>\n",
       "      <td>26</td>\n",
       "      <td>1</td>\n",
       "      <td>13.5</td>\n",
       "    </tr>\n",
       "    <tr>\n",
       "      <th>...</th>\n",
       "      <td>...</td>\n",
       "      <td>...</td>\n",
       "      <td>...</td>\n",
       "    </tr>\n",
       "    <tr>\n",
       "      <th>Ed Wood (1994)</th>\n",
       "      <td>190</td>\n",
       "      <td>202</td>\n",
       "      <td>196.0</td>\n",
       "    </tr>\n",
       "    <tr>\n",
       "      <th>Fantasia (1940)</th>\n",
       "      <td>195</td>\n",
       "      <td>200</td>\n",
       "      <td>197.5</td>\n",
       "    </tr>\n",
       "    <tr>\n",
       "      <th>Johnny Mnemonic (1995)</th>\n",
       "      <td>185</td>\n",
       "      <td>210</td>\n",
       "      <td>197.5</td>\n",
       "    </tr>\n",
       "    <tr>\n",
       "      <th>First Knight (1995)</th>\n",
       "      <td>200</td>\n",
       "      <td>205</td>\n",
       "      <td>202.5</td>\n",
       "    </tr>\n",
       "    <tr>\n",
       "      <th>French Kiss (1995)</th>\n",
       "      <td>201</td>\n",
       "      <td>211</td>\n",
       "      <td>206.0</td>\n",
       "    </tr>\n",
       "  </tbody>\n",
       "</table>\n",
       "<p>214 rows × 3 columns</p>\n",
       "</div>"
      ],
      "text/plain": [
       "                                                    Arg Users  Arg Movies  \\\n",
       "Star Wars: Episode VI - Return of the Jedi (1983)           6           5   \n",
       "Memento (2000)                                             11           9   \n",
       "X-Men (2000)                                               15           6   \n",
       "Pirates of the Caribbean: The Curse of the Blac...         16           8   \n",
       "Die Hard (1988)                                            26           1   \n",
       "...                                                       ...         ...   \n",
       "Ed Wood (1994)                                            190         202   \n",
       "Fantasia (1940)                                           195         200   \n",
       "Johnny Mnemonic (1995)                                    185         210   \n",
       "First Knight (1995)                                       200         205   \n",
       "French Kiss (1995)                                        201         211   \n",
       "\n",
       "                                                     Mean  \n",
       "Star Wars: Episode VI - Return of the Jedi (1983)     5.5  \n",
       "Memento (2000)                                       10.0  \n",
       "X-Men (2000)                                         10.5  \n",
       "Pirates of the Caribbean: The Curse of the Blac...   12.0  \n",
       "Die Hard (1988)                                      13.5  \n",
       "...                                                   ...  \n",
       "Ed Wood (1994)                                      196.0  \n",
       "Fantasia (1940)                                     197.5  \n",
       "Johnny Mnemonic (1995)                              197.5  \n",
       "First Knight (1995)                                 202.5  \n",
       "French Kiss (1995)                                  206.0  \n",
       "\n",
       "[214 rows x 3 columns]"
      ]
     },
     "execution_count": 150,
     "metadata": {},
     "output_type": "execute_result"
    }
   ],
   "source": [
    "user = cluster.index[1]\n",
    "\n",
    "get_users = get_similar_movies_from_users(user).index\n",
    "get_movies = get_similar_movies_from_movies(user).index\n",
    "\n",
    "arg_movies = []\n",
    "for title in get_users:\n",
    "    arg_movies.append(int(np.argwhere(get_movies == title)))\n",
    "\n",
    "recommanded = pd.DataFrame(index=get_users, columns=[\"Arg Users\", \"Arg Movies\"], data=np.array([range(len(arg_movies)), arg_movies]).T)\n",
    "recommanded[\"Mean\"] = recommanded.mean(axis=1)\n",
    "\n",
    "recommanded.sort_values(by=\"Mean\")"
   ]
  }
 ],
 "metadata": {
  "kernelspec": {
   "display_name": "Python 3.8.3 64-bit",
   "language": "python",
   "name": "python3"
  },
  "language_info": {
   "codemirror_mode": {
    "name": "ipython",
    "version": 3
   },
   "file_extension": ".py",
   "mimetype": "text/x-python",
   "name": "python",
   "nbconvert_exporter": "python",
   "pygments_lexer": "ipython3",
   "version": "3.8.3"
  },
  "orig_nbformat": 4,
  "vscode": {
   "interpreter": {
    "hash": "570feb405e2e27c949193ac68f46852414290d515b0ba6e5d90d076ed2284471"
   }
  }
 },
 "nbformat": 4,
 "nbformat_minor": 2
}
