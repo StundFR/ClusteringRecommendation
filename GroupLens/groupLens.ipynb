{
 "cells": [
  {
   "cell_type": "markdown",
   "metadata": {},
   "source": [
    "# 0 - Instalation of modules"
   ]
  },
  {
   "cell_type": "markdown",
   "metadata": {},
   "source": [
    "#Run this cell to have the progress bar\n",
    "!pip install tqdm\n",
    "!pip install ipywidgets\n",
    "!jupyter nbextension enable --py widgetsnbextension"
   ]
  },
  {
   "cell_type": "markdown",
   "metadata": {},
   "source": [
    "# 1 - Importing modules"
   ]
  },
  {
   "cell_type": "code",
   "execution_count": 309,
   "metadata": {},
   "outputs": [],
   "source": [
    "import pandas as pd\n",
    "import numpy as np\n",
    "from tqdm.notebook import tqdm\n",
    "from sklearn.metrics.pairwise import cosine_similarity\n",
    "import matplotlib.pyplot as plt"
   ]
  },
  {
   "cell_type": "markdown",
   "metadata": {},
   "source": [
    "# 2 - Get all files needed"
   ]
  },
  {
   "cell_type": "code",
   "execution_count": 310,
   "metadata": {},
   "outputs": [],
   "source": [
    "data_folder = \"../../Dataset/Movie/\""
   ]
  },
  {
   "cell_type": "code",
   "execution_count": 311,
   "metadata": {},
   "outputs": [
    {
     "data": {
      "text/plain": [
       "(25000095, 3)"
      ]
     },
     "execution_count": 311,
     "metadata": {},
     "output_type": "execute_result"
    }
   ],
   "source": [
    "rating = pd.read_csv(f\"{data_folder}ratings.csv\").drop([\"timestamp\"], axis=1)\n",
    "movie = pd.read_csv(f\"{data_folder}movies.csv\")\n",
    "\n",
    "data = pd.merge(movie, rating, on=\"movieId\").drop([\"genres\", \"movieId\"], axis=1)\n",
    "data.shape"
   ]
  },
  {
   "cell_type": "markdown",
   "metadata": {},
   "source": [
    "# 3 - Transforming data"
   ]
  },
  {
   "cell_type": "code",
   "execution_count": 318,
   "metadata": {},
   "outputs": [
    {
     "data": {
      "text/plain": [
       "(10944751, 3)"
      ]
     },
     "execution_count": 318,
     "metadata": {},
     "output_type": "execute_result"
    }
   ],
   "source": [
    "#On garde les NB_FILM films les plus notés\n",
    "NB_FILM = 500\n",
    "keep_title = data[\"title\"].value_counts().sort_values(ascending=0)[:NB_FILM].index\n",
    "data_title = data[data[\"title\"].isin(keep_title)]\n",
    "data_title.shape"
   ]
  },
  {
   "cell_type": "code",
   "execution_count": 319,
   "metadata": {},
   "outputs": [],
   "source": [
    "#On garde les users qui ont données une note sur au moins THRESH_USER % des films\n",
    "THRESH_USER = 0.3\n",
    "keep_user = data_title[\"userId\"].value_counts()/NB_FILM >= THRESH_USER\n",
    "data_title_user = data_title[data_title[\"userId\"].isin(keep_user[keep_user].index)]"
   ]
  },
  {
   "cell_type": "code",
   "execution_count": 320,
   "metadata": {},
   "outputs": [
    {
     "data": {
      "text/plain": [
       "(18391, 500)"
      ]
     },
     "execution_count": 320,
     "metadata": {},
     "output_type": "execute_result"
    }
   ],
   "source": [
    "#On fait notre pivot table\n",
    "user_title_df = data_title_user.pivot_table(index=\"userId\", columns=\"title\", values=\"rating\")\n",
    "user_title_df.to_csv(f\"{data_folder}user_title.csv\", sep=\";\")\n",
    "user_title_df.shape"
   ]
  },
  {
   "cell_type": "code",
   "execution_count": 323,
   "metadata": {},
   "outputs": [],
   "source": [
    "#Si la dataframe a déjà été exporté, on peut le récupérer localement\n",
    "if not (\"user_title_df\" in locals()):\n",
    "    user_title_df = pd.read_csv(f\"{data_folder}user_title.csv\", sep=\";\")"
   ]
  },
  {
   "cell_type": "markdown",
   "metadata": {},
   "source": [
    "# 4 - Colaborative filtering"
   ]
  },
  {
   "cell_type": "code",
   "execution_count": 325,
   "metadata": {},
   "outputs": [
    {
     "data": {
      "text/plain": [
       "(18391, 500)"
      ]
     },
     "execution_count": 325,
     "metadata": {},
     "output_type": "execute_result"
    }
   ],
   "source": [
    "#Standardisation des lignes pour supprimer les biais\n",
    "def standardize(row):\n",
    "    return row - np.mean(row)\n",
    "\n",
    "user_title_std = user_title_df.apply(standardize, axis=1).fillna(0)\n",
    "user_title_std.shape"
   ]
  },
  {
   "cell_type": "code",
   "execution_count": 37,
   "metadata": {},
   "outputs": [],
   "source": [
    "#Création de la matrice de cosinus distance\n",
    "cos = cosine_similarity(user_title_std)\n",
    "cos_df = pd.DataFrame(cos, index=user_title_std.index, columns=user_title_std.index)"
   ]
  },
  {
   "cell_type": "code",
   "execution_count": 38,
   "metadata": {},
   "outputs": [
    {
     "data": {
      "application/vnd.jupyter.widget-view+json": {
       "model_id": "2e404c4268154caab0fc56439b1fed8c",
       "version_major": 2,
       "version_minor": 0
      },
      "text/plain": [
       "  0%|          | 0/26733 [00:00<?, ?it/s]"
      ]
     },
     "metadata": {},
     "output_type": "display_data"
    }
   ],
   "source": [
    "#On garde les candidats similaire et complétement opposé\n",
    "eps = 0.8\n",
    "cluster = {user : {\"+\" : [], \"-\" : []} for user in user_title_df.index}\n",
    "L = len(cos_df)\n",
    "\n",
    "i = 1\n",
    "for user1 in tqdm(user_title_df.index):\n",
    "    for user2 in user_title_df.index[i:]:\n",
    "        tmp = cos_df.loc[user1, user2]\n",
    "\n",
    "        if (tmp >= eps):\n",
    "            cluster[user1][\"+\"].append(user2)\n",
    "            cluster[user2][\"+\"].append(user1)\n",
    "        elif (tmp <= -eps):\n",
    "            cluster[user1][\"-\"].append(user2)\n",
    "            cluster[user2][\"-\"].append(user1)\n",
    "\n",
    "    i += 1"
   ]
  },
  {
   "cell_type": "code",
   "execution_count": 39,
   "metadata": {},
   "outputs": [],
   "source": [
    "#On devine la note en fonction des candidtats similaires\n",
    "def guess_rate_cluster(user, title):\n",
    "    rate = 0\n",
    "    coeff = 0\n",
    "\n",
    "    for u in cluster[user][\"+\"]:\n",
    "        if not (pd.isnull(user_title_df.loc[u, title])):\n",
    "            rate += cos_df.loc[user, u]*user_title_df.loc[u, title]\n",
    "            coeff += cos_df.loc[user, u]\n",
    "\n",
    "    if (coeff == 0):\n",
    "        return 2.5\n",
    "    else:   \n",
    "        return rate/coeff"
   ]
  },
  {
   "cell_type": "code",
   "execution_count": 40,
   "metadata": {},
   "outputs": [],
   "source": [
    "#On devine la note en fonction de tous les candidats\n",
    "def guess_rate_all(user, title):\n",
    "    rate = 0\n",
    "    coef = 0\n",
    "\n",
    "    for i in user_title_df.index:\n",
    "        if (i != user) and not (pd.isnull(user_title_df.loc[i, title])):\n",
    "            rate += cos_df.loc[user, i]*user_title_df.loc[i, title]\n",
    "            coef += cos_df.loc[user, i]\n",
    "\n",
    "    if (coef == 0):\n",
    "            return 2.5\n",
    "    else:   \n",
    "        return rate/coef"
   ]
  },
  {
   "cell_type": "code",
   "execution_count": 41,
   "metadata": {},
   "outputs": [
    {
     "data": {
      "application/vnd.jupyter.widget-view+json": {
       "model_id": "0966cba98aea40f3bb7511dd67aa0ea4",
       "version_major": 2,
       "version_minor": 0
      },
      "text/plain": [
       "  0%|          | 0/131 [00:00<?, ?it/s]"
      ]
     },
     "metadata": {},
     "output_type": "display_data"
    }
   ],
   "source": [
    "#On compare les deux méthodes\n",
    "from time import time\n",
    "\n",
    "user = 12\n",
    "titles = user_title_df.columns\n",
    "\n",
    "deltaT = []\n",
    "t_cluster = []\n",
    "t_all = []\n",
    "positif = 0\n",
    "\n",
    "deltaN = []\n",
    "n_cluster = []\n",
    "n_all = []\n",
    "sup = 0\n",
    "\n",
    "for title in tqdm(titles):\n",
    "    start = time()\n",
    "    n_cluster.append(guess_rate_cluster(user, title))\n",
    "    t_cluster.append(time() - start)\n",
    "\n",
    "    start = time()\n",
    "    n_all.append(guess_rate_all(user, title))\n",
    "    t_all.append(time() - start)\n",
    "    \n",
    "    dN = n_cluster[-1]-n_all[-1]\n",
    "    deltaN.append(np.abs(dN))\n",
    "    sup += 1 if (dN > 0) else 0 \n",
    "\n",
    "    dT = t_all[-1]-t_cluster[-1]\n",
    "    deltaT.append(np.abs(dT))\n",
    "    positif += 1 if (dT > 0) else 0"
   ]
  },
  {
   "cell_type": "code",
   "execution_count": 42,
   "metadata": {},
   "outputs": [
    {
     "data": {
      "image/png": "[encoded data removed]",
      "text/plain": [
       "<Figure size 1800x720 with 6 Axes>"
      ]
     },
     "metadata": {
      "needs_background": "light"
     },
     "output_type": "display_data"
    }
   ],
   "source": [
    "#On affiche graphiquement le comparatif\n",
    "plt.figure(figsize=(25,10))\n",
    "\n",
    "j = 0\n",
    "plots_pie = [[positif, len(t_cluster)-positif], [sup, len(n_cluster)-sup]]\n",
    "labels_pie = [[\"+ Rapide\", \"- Rapide\"], [\"+ Haute\", \"- Haute\"]]\n",
    "titles_pie = [\"Nb de fois on Cluster est plus rapide que All\", \"Nb de fois que Cluster à données une note plus haute\"]\n",
    "\n",
    "k = 0\n",
    "plots_box = [[t_cluster, t_all], deltaT, [n_cluster, n_all], deltaN]\n",
    "labels_box = [[\"Cluster\", \"All\"], [\"Delta\"], [\"Cluster\", \"All\"], [\"Delta\"]]\n",
    "titles_box = [\"Temps d'éxécution\", \"Différence de temps\", \"Notes\", \"Différence de note\"]\n",
    "\n",
    "for i in range(6):\n",
    "    plt.subplot(2, 3, i+1)\n",
    "\n",
    "    if i+1 in [1, 4]:\n",
    "        plt.pie(plots_pie[j], labels=labels_pie[j], autopct='%.0f%%')\n",
    "        plt.title(titles_pie[j])\n",
    "        j += 1\n",
    "    else:\n",
    "        plt.boxplot(plots_box[k], labels=labels_box[k])\n",
    "        plt.title(titles_box[k])\n",
    "        k += 1\n",
    "\n",
    "plt.show()"
   ]
  },
  {
   "cell_type": "code",
   "execution_count": 169,
   "metadata": {},
   "outputs": [
    {
     "data": {
      "application/vnd.jupyter.widget-view+json": {
       "model_id": "974d1213567047bab21e26a3f7327d2a",
       "version_major": 2,
       "version_minor": 0
      },
      "text/plain": [
       "  0%|          | 0/1 [00:00<?, ?it/s]"
      ]
     },
     "metadata": {},
     "output_type": "display_data"
    },
    {
     "data": {
      "application/vnd.jupyter.widget-view+json": {
       "model_id": "85262d0564084b5ca1a37961eeaef518",
       "version_major": 2,
       "version_minor": 0
      },
      "text/plain": [
       "  0%|          | 0/60 [00:00<?, ?it/s]"
      ]
     },
     "metadata": {},
     "output_type": "display_data"
    }
   ],
   "source": [
    "users = user_title_df.index[:1]\n",
    "\n",
    "n_cluster = []\n",
    "n_all = []\n",
    "delta = []\n",
    "n_true = []\n",
    "\n",
    "for user in tqdm(users):\n",
    "    all_rated_film = user_title_df.loc[user].dropna(axis=0)\n",
    "    n_true += all_rated_film.values.tolist()\n",
    "    \n",
    "    for movie in tqdm(all_rated_film.index):\n",
    "        clust = guess_rate_cluster(user, movie)\n",
    "        all = guess_rate_all(user, movie)\n",
    "\n",
    "        delta.append(np.abs(all-clust))\n",
    "        n_cluster.append(clust)\n",
    "        n_all.append(all)"
   ]
  },
  {
   "cell_type": "code",
   "execution_count": 174,
   "metadata": {},
   "outputs": [
    {
     "data": {
      "image/png": "[encoded data removed]",
      "text/plain": [
       "<Figure size 1080x432 with 2 Axes>"
      ]
     },
     "metadata": {
      "needs_background": "light"
     },
     "output_type": "display_data"
    }
   ],
   "source": [
    "delta_cluster = []\n",
    "delta_all = []\n",
    "for i in range(len(n_true)):\n",
    "    delta_cluster.append(n_cluster[i]-n_true[i])\n",
    "    delta_all.append(n_all[i]-n_true[i])\n",
    "\n",
    "plots = [[delta_cluster, delta_all], delta]\n",
    "labels = [[\"Cluster\", \"All\"], [\"Delta\"]]\n",
    "titles = [\"Différence des notes avec les vrais notes\", \"Diférence des notes entre la méthodes Cluster et All\"]\n",
    "\n",
    "plt.figure(figsize=(15,6))\n",
    "for i in range(2):\n",
    "    plt.subplot(1, 2, i+1)\n",
    "    plt.boxplot(plots[i], labels=labels[i])\n",
    "    plt.title(titles[i])\n",
    "\n",
    "plt.show()"
   ]
  },
  {
   "cell_type": "code",
   "execution_count": 142,
   "metadata": {},
   "outputs": [
    {
     "data": {
      "text/plain": [
       "American Beauty (1999)                              5.0\n",
       "Usual Suspects, The (1995)                          5.0\n",
       "Kill Bill: Vol. 1 (2003)                            5.0\n",
       "Pulp Fiction (1994)                                 5.0\n",
       "Shawshank Redemption, The (1994)                    5.0\n",
       "                                                   ... \n",
       "Face/Off (1997)                                     3.0\n",
       "Star Trek: First Contact (1996)                     3.0\n",
       "Pan's Labyrinth (Laberinto del fauno, El) (2006)    3.0\n",
       "Harry Potter and the Chamber of Secrets (2002)      2.5\n",
       "Full Monty, The (1997)                              2.5\n",
       "Name: 42, Length: 63, dtype: float64"
      ]
     },
     "execution_count": 142,
     "metadata": {},
     "output_type": "execute_result"
    }
   ],
   "source": [
    "user_title_df.iloc[2].dropna(axis=0).sort_values(ascending=0)"
   ]
  },
  {
   "cell_type": "code",
   "execution_count": 157,
   "metadata": {},
   "outputs": [
    {
     "data": {
      "application/vnd.jupyter.widget-view+json": {
       "model_id": "a7208d2c86ba4ec48ef53e89d611de31",
       "version_major": 2,
       "version_minor": 0
      },
      "text/plain": [
       "  0%|          | 0/131 [00:00<?, ?it/s]"
      ]
     },
     "metadata": {},
     "output_type": "display_data"
    }
   ],
   "source": [
    "movies = user_title_df.columns\n",
    "user = 2\n",
    "rates = []\n",
    "\n",
    "for movie in tqdm(movies):\n",
    "    rates.append(guess_rate_cluster(user, movie))\n",
    "\n",
    "ndf = pd.DataFrame(index=movies, columns=[\"rates\"])\n",
    "ndf[\"rates\"] = rates"
   ]
  },
  {
   "cell_type": "code",
   "execution_count": 158,
   "metadata": {},
   "outputs": [
    {
     "data": {
      "text/plain": [
       "Toy Story (1995)                                                 2.5\n",
       "Pirates of the Caribbean: The Curse of the Black Pearl (2003)    2.5\n",
       "Bruce Almighty (2003)                                            2.5\n",
       "Matrix Reloaded, The (2003)                                      2.5\n",
       "Lord of the Rings: The Two Towers, The (2002)                    2.5\n",
       "                                                                ... \n",
       "Mary Poppins (1964)                                              2.5\n",
       "It's a Wonderful Life (1946)                                     2.5\n",
       "Vertigo (1958)                                                   2.5\n",
       "Godfather, The (1972)                                            2.5\n",
       "Arrival (2016)                                                   2.5\n",
       "Name: rates, Length: 131, dtype: float64"
      ]
     },
     "execution_count": 158,
     "metadata": {},
     "output_type": "execute_result"
    }
   ],
   "source": [
    "ndf[\"rates\"].sort_values(ascending=0)"
   ]
  },
  {
   "cell_type": "code",
   "execution_count": null,
   "metadata": {},
   "outputs": [],
   "source": []
  }
 ],
 "metadata": {
  "kernelspec": {
   "display_name": "Python 3.10.4 64-bit",
   "language": "python",
   "name": "python3"
  },
  "language_info": {
   "codemirror_mode": {
    "name": "ipython",
    "version": 3
   },
   "file_extension": ".py",
   "mimetype": "text/x-python",
   "name": "python",
   "nbconvert_exporter": "python",
   "pygments_lexer": "ipython3",
   "version": "3.10.4"
  },
  "orig_nbformat": 4,
  "vscode": {
   "interpreter": {
    "hash": "74a981a46e37d63b82983f5b77d7c74cce8983549ccfc8d083c110a6dffce6c1"
   }
  }
 },
 "nbformat": 4,
 "nbformat_minor": 2
}
