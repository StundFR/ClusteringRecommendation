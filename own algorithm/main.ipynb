{
 "cells": [
  {
   "cell_type": "markdown",
   "metadata": {},
   "source": [
    "# Importing modules"
   ]
  },
  {
   "cell_type": "code",
   "execution_count": 1,
   "metadata": {},
   "outputs": [],
   "source": [
    "import matplotlib.pyplot as plt\n",
    "import seaborn as sbn\n",
    "\n",
    "import numpy as np\n",
    "import pandas as pd\n",
    "\n",
    "from tqdm.notebook import tqdm\n",
    "\n",
    "from sklearn.cluster import KMeans\n",
    "from skfuzzy.cluster import cmeans, cmeans_predict\n",
    "from sklearn.metrics.pairwise import cosine_similarity"
   ]
  },
  {
   "cell_type": "markdown",
   "metadata": {},
   "source": [
    "# Fuzzy C means Class"
   ]
  },
  {
   "cell_type": "code",
   "execution_count": 2,
   "metadata": {},
   "outputs": [],
   "source": [
    "class Pas_comme_ça_zinedine(ValueError, AttributeError):\n",
    "    pass\n",
    "\n",
    "class FCmeans():\n",
    "    #Constructor\n",
    "    def __init__(self, n_clusters : int, m : int = 2, error : float = 10**-3, max_iter : int = 10**3, init = \"k-means++\", seed : int = None):\n",
    "        self.n_clusters = n_clusters    #Number of cluster\n",
    "        self.m = m                      #Array exponentiation applied to the membership function u_old at each iteration, where U_new = u_old ** m.\n",
    "        self.error = error              #Stopping criterion; stop early if the norm of (u[p] - u[p-1]) < error\n",
    "        self.max_iter = max_iter        #Maximum number of iterations allowed.\n",
    "        self.init = init                #Initial fuzzy c-partitioned matrix. If none provided, algorithm is randomly initialized.\n",
    "        self.seed = seed                #Sets random seed of init\n",
    "        self.train = False\n",
    "\n",
    "\n",
    "    def fit(self, X : np.ndarray):\n",
    "        km = KMeans(self.n_clusters, max_iter=self.max_iter, random_state=self.seed, init=self.init)\n",
    "        km.fit(X)\n",
    "        self.centers = km.cluster_centers_\n",
    "        self.inertia = km.inertia_\n",
    "        self.n_iter = km.n_iter_\n",
    "        self.train = True\n",
    "\n",
    "\n",
    "\n",
    "    def soft_predict(self, X: np.ndarray) -> np.ndarray:\n",
    "        if self.train:\n",
    "            return cmeans_predict(X.T, self.centers, self.m, self.error, self.max_iter, init=None, seed=None)[0].T\n",
    "        else:\n",
    "            raise Pas_comme_ça_zinedine(\"Il faut fit avant ! Eh ouai le bouf...\")\n",
    "                \n",
    "\n",
    "    def predict(self, X : np.ndarray):\n",
    "        return self.soft_predict(X).argmax(axis=-1)"
   ]
  },
  {
   "cell_type": "markdown",
   "metadata": {},
   "source": [
    "# 2 - Get all files needed"
   ]
  },
  {
   "cell_type": "code",
   "execution_count": 3,
   "metadata": {},
   "outputs": [],
   "source": [
    "data_folder = \"../../Dataset/Movie/\""
   ]
  },
  {
   "cell_type": "code",
   "execution_count": 4,
   "metadata": {},
   "outputs": [
    {
     "data": {
      "text/plain": [
       "(25000095, 3)"
      ]
     },
     "execution_count": 4,
     "metadata": {},
     "output_type": "execute_result"
    }
   ],
   "source": [
    "rating = pd.read_csv(f\"{data_folder}ratings.csv\").drop([\"timestamp\"], axis=1)\n",
    "movie = pd.read_csv(f\"{data_folder}movies.csv\")\n",
    "\n",
    "data = pd.merge(movie, rating, on=\"movieId\").drop([\"genres\", \"movieId\"], axis=1)\n",
    "data.shape"
   ]
  },
  {
   "cell_type": "markdown",
   "metadata": {},
   "source": [
    "# 3 - Transforming data"
   ]
  },
  {
   "cell_type": "code",
   "execution_count": 5,
   "metadata": {},
   "outputs": [
    {
     "data": {
      "text/plain": [
       "(10944751, 3)"
      ]
     },
     "execution_count": 5,
     "metadata": {},
     "output_type": "execute_result"
    }
   ],
   "source": [
    "#On garde les NB_FILM films les plus notés\n",
    "NB_FILM = 500\n",
    "keep_title = data[\"title\"].value_counts().sort_values(ascending=False)[:NB_FILM].index\n",
    "data_title = data[data[\"title\"].isin(keep_title)]\n",
    "data_title.shape"
   ]
  },
  {
   "cell_type": "code",
   "execution_count": 6,
   "metadata": {},
   "outputs": [],
   "source": [
    "#On garde les users qui ont données une note sur au moins THRESH_USER % des films\n",
    "THRESH_USER = 0.40\n",
    "keep_user = data_title[\"userId\"].value_counts()/NB_FILM >= THRESH_USER\n",
    "data_title_user = data_title[data_title[\"userId\"].isin(keep_user[keep_user].index)]"
   ]
  },
  {
   "cell_type": "code",
   "execution_count": 7,
   "metadata": {},
   "outputs": [
    {
     "data": {
      "text/plain": [
       "(10103, 500)"
      ]
     },
     "execution_count": 7,
     "metadata": {},
     "output_type": "execute_result"
    }
   ],
   "source": [
    "#On fait notre pivot table\n",
    "user_title_df = data_title_user.pivot_table(index=\"userId\", columns=\"title\", values=\"rating\")\n",
    "user_title_df.to_csv(f\"{data_folder}test_for_users.csv\")\n",
    "user_title_df.shape"
   ]
  },
  {
   "cell_type": "markdown",
   "metadata": {},
   "source": [
    "# Mis en forme des données"
   ]
  },
  {
   "cell_type": "code",
   "execution_count": 8,
   "metadata": {},
   "outputs": [],
   "source": [
    "def normalization_min_max(row):\n",
    "    return (row - row.mean())/(row.max() - row.min())"
   ]
  },
  {
   "cell_type": "code",
   "execution_count": 9,
   "metadata": {},
   "outputs": [],
   "source": [
    "for_users_data = user_title_df.fillna(0).apply(normalization_min_max, axis=1)\n",
    "for_movies_data = user_title_df.fillna(0).apply(normalization_min_max, axis=0)"
   ]
  },
  {
   "cell_type": "code",
   "execution_count": 128,
   "metadata": {},
   "outputs": [],
   "source": [
    "#Création de la matrice de cosinus distance\n",
    "all_users = user_title_df.index\n",
    "cos = cosine_similarity(for_users_data)\n",
    "similarity_users = pd.DataFrame(cos, index=all_users, columns=all_users)\n",
    "np.fill_diagonal(similarity_users.values, 0)\n",
    "\n",
    "\n",
    "#Création de la matrice de cosinus distance\n",
    "all_movies = user_title_df.columns\n",
    "cos = cosine_similarity(for_movies_data.T)\n",
    "similarity_movies= pd.DataFrame(cos, index=all_movies, columns=all_movies)\n",
    "np.fill_diagonal(similarity_movies.values, 0)\n",
    "\n",
    "\n",
    "del(cos)"
   ]
  },
  {
   "cell_type": "markdown",
   "metadata": {},
   "source": [
    "# Guess Algo"
   ]
  },
  {
   "cell_type": "code",
   "execution_count": 138,
   "metadata": {},
   "outputs": [],
   "source": [
    "#On devine la note en fonction des candidtats similaires\n",
    "def guess_rate(user, title, N, similarity_users):\n",
    "    all_similar_users = similarity_users.loc[user].sort_values(ascending=False).index\n",
    "    user_title_mat = for_users_data\n",
    "    \n",
    "    rate = 0\n",
    "    weight = 0\n",
    "    k = 0\n",
    "    i = 0\n",
    "\n",
    "    while (k < N):\n",
    "        similar_user = all_similar_users[i]\n",
    "        r = user_title_mat.loc[similar_user, title]\n",
    "\n",
    "        if not (pd.isnull(r)):\n",
    "            w = similarity_users.loc[similar_user, user]\n",
    "            rate += w*r\n",
    "            weight += w\n",
    "            k += 1\n",
    "\n",
    "        i += 1\n",
    "\n",
    "    return rate/weight"
   ]
  },
  {
   "cell_type": "code",
   "execution_count": 139,
   "metadata": {},
   "outputs": [],
   "source": [
    "def get_similar_movies_from_users(user_id, N, similarity_users):\n",
    "    all_rates = []\n",
    "    keep_movies = []\n",
    "\n",
    "    for movie in tqdm(user_title_df.columns):\n",
    "        if (pd.isnull(user_title_df.loc[user_id, movie])):\n",
    "            all_rates.append(guess_rate(user_id, movie, N, similarity_users))\n",
    "            keep_movies.append(movie)\n",
    "\n",
    "    return pd.Series(all_rates, keep_movies).sort_values(ascending=False)"
   ]
  },
  {
   "cell_type": "code",
   "execution_count": 140,
   "metadata": {},
   "outputs": [],
   "source": [
    "def get_similar_movies_from_movies(user_id, similarity_movies):\n",
    "    similar_movies = []\n",
    "\n",
    "    movies_rates = user_title_df.loc[user_id].dropna()\n",
    "    movies = movies_rates.index\n",
    "    rates = movies_rates.values\n",
    "    user = [(movies[i], rates[i]) for i in range(len(rates))]\n",
    "\n",
    "    for movie, rate in tqdm(user):\n",
    "        movie_list = (similarity_movies.loc[:, movie]*(rate-2.5)).sort_values(ascending=False)\n",
    "        similar_movies.append(movie_list)\n",
    "\n",
    "    similar_movies = pd.concat(similar_movies, axis=1)\n",
    "    similar_movies = similar_movies.drop([movie for movie, rate in user], axis=0)\n",
    "    return similar_movies.sum(axis=1).sort_values(ascending=False)"
   ]
  },
  {
   "cell_type": "code",
   "execution_count": 141,
   "metadata": {},
   "outputs": [],
   "source": [
    "def recommanded_movies(user_id, similarity_users, similarity_movies):\n",
    "    get_users = get_similar_movies_from_users(user_id, 15, similarity_users)\n",
    "    get_movies = get_similar_movies_from_movies(user_id, similarity_movies)\n",
    "\n",
    "    arg_movies = []\n",
    "    for title in get_users.index:\n",
    "        arg_movies.append(int(np.argwhere(get_movies.index == title)))\n",
    "\n",
    "    recommanded = pd.DataFrame(index=get_users.index, columns=[\"Arg Users\", \"Arg Movies\"], data=np.array([range(len(arg_movies)), arg_movies]).T)\n",
    "    recommanded[\"Mean\"] = recommanded.mean(axis=1)\n",
    "\n",
    "    return recommanded.sort_values(by=\"Mean\")"
   ]
  },
  {
   "cell_type": "markdown",
   "metadata": {},
   "source": [
    "# Find K"
   ]
  },
  {
   "cell_type": "code",
   "execution_count": 85,
   "metadata": {},
   "outputs": [
    {
     "data": {
      "application/vnd.jupyter.widget-view+json": {
       "model_id": "becd8c4ba8d540f7838f28d014ed5054",
       "version_major": 2,
       "version_minor": 0
      },
      "text/plain": [
       "  0%|          | 0/9 [00:00<?, ?it/s]"
      ]
     },
     "metadata": {},
     "output_type": "display_data"
    },
    {
     "data": {
      "application/vnd.jupyter.widget-view+json": {
       "model_id": "85e63f2535dc432c8b06ba5745b5e472",
       "version_major": 2,
       "version_minor": 0
      },
      "text/plain": [
       "  0%|          | 0/9 [00:00<?, ?it/s]"
      ]
     },
     "metadata": {},
     "output_type": "display_data"
    }
   ],
   "source": [
    "N = 10\n",
    "K_RANGE = range(2, N+1)\n",
    "all_inertia = {\"Users\" : [], \"Movies\" : []}\n",
    "data = {\"Users\" : for_users_data.values, \"Movies\" : for_movies_data.T.values}\n",
    "\n",
    "for key in all_inertia.keys():\n",
    "    for k in tqdm(K_RANGE):\n",
    "        fcm = FCmeans(k)\n",
    "        fcm.fit(data[key])\n",
    "        all_inertia[key].append(fcm.inertia)"
   ]
  },
  {
   "cell_type": "code",
   "execution_count": 86,
   "metadata": {},
   "outputs": [
    {
     "data": {
      "image/png": "[encoded data removed]",
      "text/plain": [
       "<Figure size 864x360 with 1 Axes>"
      ]
     },
     "metadata": {
      "needs_background": "light"
     },
     "output_type": "display_data"
    }
   ],
   "source": [
    "plt.figure(figsize=(12,5))\n",
    "\n",
    "i = 0\n",
    "for key in all_inertia.keys():\n",
    "    plt.plot(K_RANGE, all_inertia[key], label=key)\n",
    "\n",
    "plt.xticks(K_RANGE)\n",
    "plt.xlabel(\"Number of clusters\")\n",
    "plt.ylabel(\"Inertia\")\n",
    "\n",
    "plt.title(\"Inertia as a function of number of clusters\")\n",
    "plt.legend()\n",
    "\n",
    "plt.show()"
   ]
  },
  {
   "cell_type": "markdown",
   "metadata": {},
   "source": [
    "# 1er méthode : similarité entre les appartenance aux clusters"
   ]
  },
  {
   "cell_type": "code",
   "execution_count": 12,
   "metadata": {},
   "outputs": [],
   "source": [
    "fcm = FCmeans(3)\n",
    "fcm.fit(for_users_data.values)\n",
    "soft_pred = fcm.soft_predict(for_users_data.values)"
   ]
  },
  {
   "cell_type": "code",
   "execution_count": 13,
   "metadata": {},
   "outputs": [
    {
     "data": {
      "text/html": [
       "<div>\n",
       "<style scoped>\n",
       "    .dataframe tbody tr th:only-of-type {\n",
       "        vertical-align: middle;\n",
       "    }\n",
       "\n",
       "    .dataframe tbody tr th {\n",
       "        vertical-align: top;\n",
       "    }\n",
       "\n",
       "    .dataframe thead th {\n",
       "        text-align: right;\n",
       "    }\n",
       "</style>\n",
       "<table border=\"1\" class=\"dataframe\">\n",
       "  <thead>\n",
       "    <tr style=\"text-align: right;\">\n",
       "      <th></th>\n",
       "      <th>% Cluster 1</th>\n",
       "      <th>% Cluster 2</th>\n",
       "      <th>% Cluster 3</th>\n",
       "      <th>Final Cluster</th>\n",
       "    </tr>\n",
       "    <tr>\n",
       "      <th>userId</th>\n",
       "      <th></th>\n",
       "      <th></th>\n",
       "      <th></th>\n",
       "      <th></th>\n",
       "    </tr>\n",
       "  </thead>\n",
       "  <tbody>\n",
       "    <tr>\n",
       "      <th>12</th>\n",
       "      <td>0.342618</td>\n",
       "      <td>0.291434</td>\n",
       "      <td>0.365947</td>\n",
       "      <td>3</td>\n",
       "    </tr>\n",
       "    <tr>\n",
       "      <th>31</th>\n",
       "      <td>0.376884</td>\n",
       "      <td>0.30941</td>\n",
       "      <td>0.313706</td>\n",
       "      <td>1</td>\n",
       "    </tr>\n",
       "    <tr>\n",
       "      <th>43</th>\n",
       "      <td>0.39494</td>\n",
       "      <td>0.286816</td>\n",
       "      <td>0.318245</td>\n",
       "      <td>1</td>\n",
       "    </tr>\n",
       "    <tr>\n",
       "      <th>72</th>\n",
       "      <td>0.308963</td>\n",
       "      <td>0.221426</td>\n",
       "      <td>0.469611</td>\n",
       "      <td>3</td>\n",
       "    </tr>\n",
       "    <tr>\n",
       "      <th>120</th>\n",
       "      <td>0.331027</td>\n",
       "      <td>0.245507</td>\n",
       "      <td>0.423467</td>\n",
       "      <td>3</td>\n",
       "    </tr>\n",
       "    <tr>\n",
       "      <th>...</th>\n",
       "      <td>...</td>\n",
       "      <td>...</td>\n",
       "      <td>...</td>\n",
       "      <td>...</td>\n",
       "    </tr>\n",
       "    <tr>\n",
       "      <th>162512</th>\n",
       "      <td>0.370603</td>\n",
       "      <td>0.343831</td>\n",
       "      <td>0.285566</td>\n",
       "      <td>1</td>\n",
       "    </tr>\n",
       "    <tr>\n",
       "      <th>162516</th>\n",
       "      <td>0.312428</td>\n",
       "      <td>0.438186</td>\n",
       "      <td>0.249386</td>\n",
       "      <td>2</td>\n",
       "    </tr>\n",
       "    <tr>\n",
       "      <th>162519</th>\n",
       "      <td>0.31992</td>\n",
       "      <td>0.264577</td>\n",
       "      <td>0.415503</td>\n",
       "      <td>3</td>\n",
       "    </tr>\n",
       "    <tr>\n",
       "      <th>162533</th>\n",
       "      <td>0.346008</td>\n",
       "      <td>0.368533</td>\n",
       "      <td>0.285459</td>\n",
       "      <td>2</td>\n",
       "    </tr>\n",
       "    <tr>\n",
       "      <th>162534</th>\n",
       "      <td>0.298352</td>\n",
       "      <td>0.454792</td>\n",
       "      <td>0.246856</td>\n",
       "      <td>2</td>\n",
       "    </tr>\n",
       "  </tbody>\n",
       "</table>\n",
       "<p>10103 rows × 4 columns</p>\n",
       "</div>"
      ],
      "text/plain": [
       "       % Cluster 1 % Cluster 2 % Cluster 3  Final Cluster\n",
       "userId                                                   \n",
       "12        0.342618    0.291434    0.365947              3\n",
       "31        0.376884     0.30941    0.313706              1\n",
       "43         0.39494    0.286816    0.318245              1\n",
       "72        0.308963    0.221426    0.469611              3\n",
       "120       0.331027    0.245507    0.423467              3\n",
       "...            ...         ...         ...            ...\n",
       "162512    0.370603    0.343831    0.285566              1\n",
       "162516    0.312428    0.438186    0.249386              2\n",
       "162519     0.31992    0.264577    0.415503              3\n",
       "162533    0.346008    0.368533    0.285459              2\n",
       "162534    0.298352    0.454792    0.246856              2\n",
       "\n",
       "[10103 rows x 4 columns]"
      ]
     },
     "execution_count": 13,
     "metadata": {},
     "output_type": "execute_result"
    }
   ],
   "source": [
    "users = for_users_data.index\n",
    "membership_users = pd.DataFrame(index=users, columns=[f\"% Cluster {i+1}\" for i in range(soft_pred.shape[1])])\n",
    "membership_users.iloc[:, :] = soft_pred\n",
    "membership_users[\"Final Cluster\"] = membership_users.loc[:,:].values.argmax(axis=-1) + 1\n",
    "\n",
    "membership_users"
   ]
  },
  {
   "cell_type": "code",
   "execution_count": 20,
   "metadata": {},
   "outputs": [],
   "source": [
    "fcm = FCmeans(3)\n",
    "fcm.fit(for_movies_data.T.values)\n",
    "soft_pred = fcm.soft_predict(for_movies_data.T.values)"
   ]
  },
  {
   "cell_type": "code",
   "execution_count": 21,
   "metadata": {},
   "outputs": [
    {
     "data": {
      "text/html": [
       "<div>\n",
       "<style scoped>\n",
       "    .dataframe tbody tr th:only-of-type {\n",
       "        vertical-align: middle;\n",
       "    }\n",
       "\n",
       "    .dataframe tbody tr th {\n",
       "        vertical-align: top;\n",
       "    }\n",
       "\n",
       "    .dataframe thead th {\n",
       "        text-align: right;\n",
       "    }\n",
       "</style>\n",
       "<table border=\"1\" class=\"dataframe\">\n",
       "  <thead>\n",
       "    <tr style=\"text-align: right;\">\n",
       "      <th></th>\n",
       "      <th>% Cluster 1</th>\n",
       "      <th>% Cluster 2</th>\n",
       "      <th>% Cluster 3</th>\n",
       "      <th>Final Cluster</th>\n",
       "    </tr>\n",
       "    <tr>\n",
       "      <th>title</th>\n",
       "      <th></th>\n",
       "      <th></th>\n",
       "      <th></th>\n",
       "      <th></th>\n",
       "    </tr>\n",
       "  </thead>\n",
       "  <tbody>\n",
       "    <tr>\n",
       "      <th>(500) Days of Summer (2009)</th>\n",
       "      <td>0.258565</td>\n",
       "      <td>0.468075</td>\n",
       "      <td>0.27336</td>\n",
       "      <td>2</td>\n",
       "    </tr>\n",
       "    <tr>\n",
       "      <th>10 Things I Hate About You (1999)</th>\n",
       "      <td>0.292762</td>\n",
       "      <td>0.311075</td>\n",
       "      <td>0.396162</td>\n",
       "      <td>3</td>\n",
       "    </tr>\n",
       "    <tr>\n",
       "      <th>12 Angry Men (1957)</th>\n",
       "      <td>0.379303</td>\n",
       "      <td>0.314561</td>\n",
       "      <td>0.306136</td>\n",
       "      <td>1</td>\n",
       "    </tr>\n",
       "    <tr>\n",
       "      <th>2001: A Space Odyssey (1968)</th>\n",
       "      <td>0.41977</td>\n",
       "      <td>0.270368</td>\n",
       "      <td>0.309862</td>\n",
       "      <td>1</td>\n",
       "    </tr>\n",
       "    <tr>\n",
       "      <th>28 Days Later (2002)</th>\n",
       "      <td>0.287724</td>\n",
       "      <td>0.404127</td>\n",
       "      <td>0.30815</td>\n",
       "      <td>2</td>\n",
       "    </tr>\n",
       "    <tr>\n",
       "      <th>...</th>\n",
       "      <td>...</td>\n",
       "      <td>...</td>\n",
       "      <td>...</td>\n",
       "      <td>...</td>\n",
       "    </tr>\n",
       "    <tr>\n",
       "      <th>X-Men (2000)</th>\n",
       "      <td>0.269397</td>\n",
       "      <td>0.328337</td>\n",
       "      <td>0.402266</td>\n",
       "      <td>3</td>\n",
       "    </tr>\n",
       "    <tr>\n",
       "      <th>X2: X-Men United (2003)</th>\n",
       "      <td>0.2599</td>\n",
       "      <td>0.386079</td>\n",
       "      <td>0.354021</td>\n",
       "      <td>2</td>\n",
       "    </tr>\n",
       "    <tr>\n",
       "      <th>You've Got Mail (1998)</th>\n",
       "      <td>0.30883</td>\n",
       "      <td>0.269126</td>\n",
       "      <td>0.422044</td>\n",
       "      <td>3</td>\n",
       "    </tr>\n",
       "    <tr>\n",
       "      <th>Young Frankenstein (1974)</th>\n",
       "      <td>0.415293</td>\n",
       "      <td>0.241389</td>\n",
       "      <td>0.343318</td>\n",
       "      <td>1</td>\n",
       "    </tr>\n",
       "    <tr>\n",
       "      <th>Zombieland (2009)</th>\n",
       "      <td>0.234282</td>\n",
       "      <td>0.501833</td>\n",
       "      <td>0.263884</td>\n",
       "      <td>2</td>\n",
       "    </tr>\n",
       "  </tbody>\n",
       "</table>\n",
       "<p>500 rows × 4 columns</p>\n",
       "</div>"
      ],
      "text/plain": [
       "                                  % Cluster 1 % Cluster 2 % Cluster 3  \\\n",
       "title                                                                   \n",
       "(500) Days of Summer (2009)          0.258565    0.468075     0.27336   \n",
       "10 Things I Hate About You (1999)    0.292762    0.311075    0.396162   \n",
       "12 Angry Men (1957)                  0.379303    0.314561    0.306136   \n",
       "2001: A Space Odyssey (1968)          0.41977    0.270368    0.309862   \n",
       "28 Days Later (2002)                 0.287724    0.404127     0.30815   \n",
       "...                                       ...         ...         ...   \n",
       "X-Men (2000)                         0.269397    0.328337    0.402266   \n",
       "X2: X-Men United (2003)                0.2599    0.386079    0.354021   \n",
       "You've Got Mail (1998)                0.30883    0.269126    0.422044   \n",
       "Young Frankenstein (1974)            0.415293    0.241389    0.343318   \n",
       "Zombieland (2009)                    0.234282    0.501833    0.263884   \n",
       "\n",
       "                                   Final Cluster  \n",
       "title                                             \n",
       "(500) Days of Summer (2009)                    2  \n",
       "10 Things I Hate About You (1999)              3  \n",
       "12 Angry Men (1957)                            1  \n",
       "2001: A Space Odyssey (1968)                   1  \n",
       "28 Days Later (2002)                           2  \n",
       "...                                          ...  \n",
       "X-Men (2000)                                   3  \n",
       "X2: X-Men United (2003)                        2  \n",
       "You've Got Mail (1998)                         3  \n",
       "Young Frankenstein (1974)                      1  \n",
       "Zombieland (2009)                              2  \n",
       "\n",
       "[500 rows x 4 columns]"
      ]
     },
     "execution_count": 21,
     "metadata": {},
     "output_type": "execute_result"
    }
   ],
   "source": [
    "movies = for_movies_data.columns\n",
    "membership_movies = pd.DataFrame(index=movies, columns=[f\"% Cluster {i+1}\" for i in range(soft_pred.shape[1])])\n",
    "membership_movies.iloc[:, :] = soft_pred\n",
    "membership_movies[\"Final Cluster\"] = membership_movies.loc[:,:].values.argmax(axis=-1) + 1\n",
    "\n",
    "membership_movies"
   ]
  },
  {
   "cell_type": "code",
   "execution_count": 127,
   "metadata": {},
   "outputs": [],
   "source": [
    "cos = cosine_similarity(membership_users.iloc[:,:-1])\n",
    "similarity_users_cluster = pd.DataFrame(cos, index=users, columns=users)\n",
    "cos = cosine_similarity(membership_movies.iloc[:,:-1])\n",
    "similarity_movies_cluster = pd.DataFrame(cos, index=movies, columns=movies)\n",
    "del(cos)"
   ]
  },
  {
   "cell_type": "code",
   "execution_count": 142,
   "metadata": {},
   "outputs": [
    {
     "data": {
      "application/vnd.jupyter.widget-view+json": {
       "model_id": "33b81ca94ea848d08c8711b6f83bbc31",
       "version_major": 2,
       "version_minor": 0
      },
      "text/plain": [
       "  0%|          | 0/500 [00:00<?, ?it/s]"
      ]
     },
     "metadata": {},
     "output_type": "display_data"
    },
    {
     "data": {
      "application/vnd.jupyter.widget-view+json": {
       "model_id": "256d588ac265406194f958fa4bbcae75",
       "version_major": 2,
       "version_minor": 0
      },
      "text/plain": [
       "  0%|          | 0/252 [00:00<?, ?it/s]"
      ]
     },
     "metadata": {},
     "output_type": "display_data"
    },
    {
     "data": {
      "application/vnd.jupyter.widget-view+json": {
       "model_id": "5e35c0be6ff84d1ba980a6f73ac9a31d",
       "version_major": 2,
       "version_minor": 0
      },
      "text/plain": [
       "  0%|          | 0/500 [00:00<?, ?it/s]"
      ]
     },
     "metadata": {},
     "output_type": "display_data"
    },
    {
     "data": {
      "application/vnd.jupyter.widget-view+json": {
       "model_id": "f5780ec4b29c417d9a17efc21a92401c",
       "version_major": 2,
       "version_minor": 0
      },
      "text/plain": [
       "  0%|          | 0/252 [00:00<?, ?it/s]"
      ]
     },
     "metadata": {},
     "output_type": "display_data"
    }
   ],
   "source": [
    "test_cluster = recommanded_movies(12, similarity_users_cluster, similarity_movies_cluster)\n",
    "test = recommanded_movies(12, similarity_users, similarity_movies)"
   ]
  },
  {
   "cell_type": "code",
   "execution_count": 143,
   "metadata": {},
   "outputs": [
    {
     "data": {
      "text/plain": [
       "4.548387096774194"
      ]
     },
     "execution_count": 143,
     "metadata": {},
     "output_type": "execute_result"
    }
   ],
   "source": [
    "np.abs(test_cluster[\"Mean\"].values - test[\"Mean\"].values).mean()"
   ]
  }
 ],
 "metadata": {
  "kernelspec": {
   "display_name": "Python 3.8.3 64-bit",
   "language": "python",
   "name": "python3"
  },
  "language_info": {
   "codemirror_mode": {
    "name": "ipython",
    "version": 3
   },
   "file_extension": ".py",
   "mimetype": "text/x-python",
   "name": "python",
   "nbconvert_exporter": "python",
   "pygments_lexer": "ipython3",
   "version": "3.8.3"
  },
  "orig_nbformat": 4,
  "vscode": {
   "interpreter": {
    "hash": "570feb405e2e27c949193ac68f46852414290d515b0ba6e5d90d076ed2284471"
   }
  }
 },
 "nbformat": 4,
 "nbformat_minor": 2
}
