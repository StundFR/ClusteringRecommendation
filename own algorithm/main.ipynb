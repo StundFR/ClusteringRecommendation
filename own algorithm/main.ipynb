{
 "cells": [
  {
   "cell_type": "markdown",
   "metadata": {},
   "source": [
    "# Importing modules"
   ]
  },
  {
   "cell_type": "code",
   "execution_count": 1,
   "metadata": {},
   "outputs": [],
   "source": [
    "import matplotlib.pyplot as plt\n",
    "import seaborn as sbn\n",
    "\n",
    "import numpy as np\n",
    "import pandas as pd\n",
    "\n",
    "from tqdm.notebook import tqdm\n",
    "\n",
    "from sklearn.cluster import KMeans\n",
    "from skfuzzy.cluster import cmeans_predict\n",
    "from sklearn.metrics.pairwise import cosine_similarity as cos_dist\n",
    "from kPOD import k_pod"
   ]
  },
  {
   "cell_type": "markdown",
   "metadata": {},
   "source": [
    "# Fuzzy C means Class"
   ]
  },
  {
   "cell_type": "code",
   "execution_count": 2,
   "metadata": {},
   "outputs": [],
   "source": [
    "class Pas_comme_ca_zinedine(ValueError, AttributeError):\n",
    "    pass\n",
    "\n",
    "class FCmeans():\n",
    "    #Constructor\n",
    "    def __init__(self, n_clusters : int, m : int = 2, error : float = 10**-3, max_iter : int = 10**3, init = \"k-means++\", seed : int = None):\n",
    "        self.n_clusters = n_clusters    #Number of cluster\n",
    "        self.m = m                      #Array exponentiation applied to the membership function u_old at each iteration, where U_new = u_old ** m.\n",
    "        self.error = error              #Stopping criterion; stop early if the norm of (u[p] - u[p-1]) < error\n",
    "        self.max_iter = max_iter        #Maximum number of iterations allowed.\n",
    "        self.init = init                #Initial fuzzy c-partitioned matrix. If none provided, algorithm is randomly initialized.\n",
    "        self.seed = seed                #Sets random seed of init\n",
    "        self.train = False\n",
    "\n",
    "\n",
    "    def fit(self, X : np.ndarray):\n",
    "        km = KMeans(self.n_clusters, max_iter=self.max_iter, random_state=self.seed, init=self.init)\n",
    "        km.fit(X)\n",
    "        self.centers = km.cluster_centers_\n",
    "        self.inertia = km.inertia_\n",
    "        self.n_iter = km.n_iter_\n",
    "        self.train = True\n",
    "\n",
    "\n",
    "\n",
    "    def soft_predict(self, X: np.ndarray) -> np.ndarray:\n",
    "        if self.train:\n",
    "            return cmeans_predict(X.T, self.centers, self.m, self.error, self.max_iter, init=None, seed=None)[0].T\n",
    "        else:\n",
    "            raise Pas_comme_ca_zinedine(\"Il faut fit avant ! Eh ouai le bouf...\")\n",
    "                \n",
    "\n",
    "    def predict(self, X : np.ndarray):\n",
    "        return self.soft_predict(X).argmax(axis=-1)"
   ]
  },
  {
   "cell_type": "code",
   "execution_count": 167,
   "metadata": {},
   "outputs": [],
   "source": [
    "class Pas_comme_ca_zinedine(ValueError, AttributeError):\n",
    "    pass\n",
    "\n",
    "class FCM_missing():\n",
    "    #Constructor\n",
    "    def __init__(self, n_clusters : int, m : int = 2, error : float = 10**-3, max_iter : int = 10**3, init = \"k-means++\", seed : int = None):\n",
    "        self.n_clusters = n_clusters    #Number of cluster\n",
    "        self.m = m                      #Array exponentiation applied to the membership function u_old at each iteration, where U_new = u_old ** m.\n",
    "        self.error = error              #Stopping criterion; stop early if the norm of (u[p] - u[p-1]) < error\n",
    "        self.max_iter = max_iter        #Maximum number of iterations allowed.\n",
    "        self.init = init                #Initial fuzzy c-partitioned matrix. If none provided, algorithm is randomly initialized.\n",
    "        self.seed = seed                #Sets random seed of init\n",
    "        self.train = False\n",
    "        self.inertia = 0\n",
    "\n",
    "\n",
    "    def fit(self, X : pd.DataFrame):\n",
    "        km = k_pod(X.values, self.n_clusters, self.max_iter)\n",
    "        self.label = km[0]\n",
    "        self.centers = np.array(km[1]).reshape(-1, self.n_clusters)\n",
    "        self.train = True\n",
    "\n",
    "        self.soft_predict(X)\n",
    "\n",
    "    def distance_2(self, c, i, X):\n",
    "        return np.sum(self.h[i,:]*(X.iloc[i,:] - self.centers[:,c])**2)\n",
    "\n",
    "    def soft_predict(self, data: pd.DataFrame) -> np.ndarray:\n",
    "        if self.train:\n",
    "            self.h = (~data.isna().values).astype(int)\n",
    "            self.u = np.zeros((data.shape[0], self.n_clusters))\n",
    "\n",
    "            X = data.copy()\n",
    "            X.fillna(0, inplace=True)\n",
    "\n",
    "            for c in range(self.n_clusters):\n",
    "                for i in range(X.shape[0]):\n",
    "                    self.u[i,c] = 0\n",
    "                    for l in range(self.n_clusters):\n",
    "                        self.u[i,c] += (self.distance_2(c, i, X) / self.distance_2(l, i, X))**(1/(self.m - 1))\n",
    "                    self.u[i,c] = self.u[i,c]**(-1)\n",
    "\n",
    "                    self.inertia += self.u[i,c]*self.distance_2(c, i, X)\n",
    "        else:\n",
    "            raise Pas_comme_ca_zinedine(\"Il faut fit avant ! Eh ouai le bouf...\")\n",
    "                \n",
    "\n",
    "    def predict(self, X : np.ndarray):\n",
    "        return self.soft_predict(X).argmax(axis=-1)"
   ]
  },
  {
   "cell_type": "code",
   "execution_count": 148,
   "metadata": {},
   "outputs": [],
   "source": [
    "class Ceci_est_un_essaie_rate():\n",
    "    def __init__(self, n_clusters : int, m : int = 2, error : float = 10**-3, max_iter : int = 10**3):\n",
    "        self.n_clusters = n_clusters    #Number of cluster\n",
    "        self.m = m                      #Array exponentiation applied to the membership function u_old at each iteration, where U_new = u_old ** m.\n",
    "        self.error = error              #Stopping criterion; stop early if the norm of (u[p] - u[p-1]) < error\n",
    "        self.max_iter = max_iter        #Maximum number of iterations allowed.\n",
    "        self.train = False\n",
    "        self.inertia = [0]\n",
    "\n",
    "    #Square distance between center cluster c and i-th observation of X\n",
    "    def distance_2(self, c, i, X):\n",
    "        return np.sum(self.h[i,:]*(X.iloc[i,:] - self.centers[c,:])**2)\n",
    "\n",
    "    def fit(self, data : pd.DataFrame):\n",
    "        self.train = True\n",
    "        self.h = (~data.isna().values).astype(int)\n",
    "        self.u = np.zeros((self.n_clusters, data.shape[0]))\n",
    "        self.centers = np.random.random((self.n_clusters, data.shape[1]))\n",
    "\n",
    "        X = data.copy()\n",
    "        X.fillna(0, inplace=True)\n",
    "        convergence_criterion = False\n",
    "\n",
    "        t = 0\n",
    "        while (t < self.max_iter and not convergence_criterion):\n",
    "            self.L = 0\n",
    "            for c in range(self.n_clusters):\n",
    "                for i in range(X.shape[0]):\n",
    "\n",
    "                    self.u[c,i] = 0\n",
    "                    for l in range(self.n_clusters):\n",
    "                        self.u[c,i] += (self.distance_2(c, i, X) / self.distance_2(l, i, X))**(1/(self.m - 1))\n",
    "                    self.u[c,i] = self.u[c,i]**(-1)\n",
    "\n",
    "                    self.L += self.u[c,i]*self.distance_2(c, i, X)\n",
    "\n",
    "            for c in range(self.n_clusters):\n",
    "                for j in range(X.shape[1]):\n",
    "                    num = np.sum(self.u[c,:]*self.h[:,j]*X.iloc[:,j].values)\n",
    "                    den = np.sum(self.u[c,:]*self.h[:,j])\n",
    "                    self.centers[c,j] = num/den\n",
    "\n",
    "            self.inertia.append(self.L)\n",
    "            if len(self.inertia) > 1:\n",
    "                convergence = np.abs(self.inertia[-2] - self.L)\n",
    "                print(convergence)\n",
    "\n",
    "                if convergence <= self.error:\n",
    "                    convergence_criterion = True\n",
    "            \n",
    "            t += 1\n",
    "\n",
    "        self.n_iter = t"
   ]
  },
  {
   "cell_type": "markdown",
   "metadata": {},
   "source": [
    "# 2 - Get all files needed"
   ]
  },
  {
   "cell_type": "code",
   "execution_count": 6,
   "metadata": {},
   "outputs": [],
   "source": [
    "data_folder = \"../../Dataset/Movie/\""
   ]
  },
  {
   "cell_type": "code",
   "execution_count": 117,
   "metadata": {},
   "outputs": [
    {
     "data": {
      "text/plain": [
       "(25000095, 3)"
      ]
     },
     "execution_count": 117,
     "metadata": {},
     "output_type": "execute_result"
    }
   ],
   "source": [
    "rating = pd.read_csv(f\"{data_folder}ratings.csv\").drop([\"timestamp\"], axis=1)\n",
    "movie = pd.read_csv(f\"{data_folder}movies.csv\")\n",
    "\n",
    "data = pd.merge(movie, rating, on=\"movieId\").drop([\"genres\", \"movieId\"], axis=1)\n",
    "data.shape"
   ]
  },
  {
   "cell_type": "markdown",
   "metadata": {},
   "source": [
    "# 3 - Transforming data"
   ]
  },
  {
   "cell_type": "code",
   "execution_count": 118,
   "metadata": {},
   "outputs": [
    {
     "data": {
      "text/plain": [
       "(10944751, 3)"
      ]
     },
     "execution_count": 118,
     "metadata": {},
     "output_type": "execute_result"
    }
   ],
   "source": [
    "#On garde les NB_FILM films les plus notés\n",
    "NB_FILM = 500\n",
    "keep_title = data[\"title\"].value_counts().sort_values(ascending=False)[:NB_FILM].index\n",
    "data_title = data[data[\"title\"].isin(keep_title)]\n",
    "data_title.shape"
   ]
  },
  {
   "cell_type": "code",
   "execution_count": 119,
   "metadata": {},
   "outputs": [],
   "source": [
    "#On garde les users qui ont données une note sur au moins THRESH_USER % des films\n",
    "THRESH_USER = 0.40\n",
    "keep_user = data_title[\"userId\"].value_counts()/NB_FILM >= THRESH_USER\n",
    "data_title_user = data_title[data_title[\"userId\"].isin(keep_user[keep_user].index)]"
   ]
  },
  {
   "cell_type": "code",
   "execution_count": 120,
   "metadata": {},
   "outputs": [
    {
     "data": {
      "text/plain": [
       "(10103, 500)"
      ]
     },
     "execution_count": 120,
     "metadata": {},
     "output_type": "execute_result"
    }
   ],
   "source": [
    "#On fait notre pivot table\n",
    "user_title_df = data_title_user.pivot_table(index=\"userId\", columns=\"title\", values=\"rating\")\n",
    "user_title_df.to_csv(f\"{data_folder}test_for_users.csv\")\n",
    "user_title_df.shape"
   ]
  },
  {
   "cell_type": "code",
   "execution_count": 64,
   "metadata": {},
   "outputs": [],
   "source": [
    "user_title_df = pd.read_csv(f\"{data_folder}test_for_users.csv\", index_col=0).iloc[:250, :]"
   ]
  },
  {
   "cell_type": "code",
   "execution_count": 168,
   "metadata": {},
   "outputs": [
    {
     "data": {
      "text/plain": [
       "array([[3.57583581, 3.41631397, 4.00989688],\n",
       "       [3.94090707, 3.73097397, 3.42184168],\n",
       "       [3.49065564, 3.31395166, 3.65336853],\n",
       "       ...,\n",
       "       [3.58686389, 2.77171597, 2.77171597],\n",
       "       [3.58686389, 0.75      , 1.27171597],\n",
       "       [3.58686389, 2.39671597, 1.27171597]])"
      ]
     },
     "execution_count": 168,
     "metadata": {},
     "output_type": "execute_result"
    }
   ],
   "source": [
    "fcm_m = FCM_missing(3)\n",
    "fcm_m.fit(user_title_df)\n",
    "fcm_m.centers"
   ]
  },
  {
   "cell_type": "code",
   "execution_count": 146,
   "metadata": {},
   "outputs": [
    {
     "name": "stdout",
     "output_type": "stream",
     "text": [
      "(3, 500)\n",
      "94115.81540680822\n",
      "39877.49651689779\n",
      "721.41245645038\n",
      "24.125640513797407\n",
      "2.926050346788543\n",
      "0.37543376726534916\n",
      "0.04857260864082491\n",
      "0.006296337443927769\n",
      "0.0008166299157892354\n"
     ]
    }
   ],
   "source": [
    "fcm = Ceci_est_un_essaie_rate(3, max_iter=100)\n",
    "fcm.fit(user_title_df)"
   ]
  },
  {
   "cell_type": "code",
   "execution_count": 147,
   "metadata": {},
   "outputs": [
    {
     "data": {
      "text/plain": [
       "array([[3.48489222, 3.29415719, 4.28023347, ..., 2.97227756, 3.77319756,\n",
       "        3.65667312],\n",
       "       [3.48483084, 3.2941017 , 4.28021425, ..., 2.9721999 , 3.77312821,\n",
       "        3.6566077 ],\n",
       "       [3.4848224 , 3.29409405, 4.28021162, ..., 2.9721892 , 3.77311867,\n",
       "        3.6565987 ]])"
      ]
     },
     "execution_count": 147,
     "metadata": {},
     "output_type": "execute_result"
    }
   ],
   "source": [
    "fcm.centers"
   ]
  },
  {
   "cell_type": "code",
   "execution_count": 126,
   "metadata": {},
   "outputs": [
    {
     "data": {
      "text/plain": [
       "array([[0.33333342, 0.33331529, 0.33333477, 0.33334058, 0.33335711,\n",
       "        0.33336352, 0.33331857, 0.3333619 , 0.33334672, 0.33330869,\n",
       "        0.33333832, 0.33330936, 0.3333372 , 0.33332444, 0.33331443,\n",
       "        0.33332093, 0.33331492, 0.33332921, 0.33333666, 0.33332312,\n",
       "        0.33335439, 0.33333873, 0.33333147, 0.33336033, 0.33336455,\n",
       "        0.33336231, 0.33335248, 0.33334775, 0.33335474, 0.33334239,\n",
       "        0.33331923, 0.33335092, 0.33333681, 0.33332332, 0.33333197,\n",
       "        0.3333302 , 0.33333811, 0.33332047, 0.33333461, 0.3333105 ,\n",
       "        0.33331699, 0.33333446, 0.33332662, 0.33336072, 0.33331731,\n",
       "        0.33335299, 0.3333288 , 0.33331837, 0.33335652, 0.33335204,\n",
       "        0.3333244 , 0.33335731, 0.33335587, 0.33334065, 0.33331437,\n",
       "        0.33331195, 0.3333362 , 0.33332407, 0.33334596, 0.33334328,\n",
       "        0.33330889, 0.33335035, 0.33333247, 0.3333298 , 0.33332514,\n",
       "        0.33336756, 0.3333311 , 0.33333002, 0.33335904, 0.33334421,\n",
       "        0.33335481, 0.33332826, 0.33332153, 0.3333216 , 0.33334439,\n",
       "        0.33330062, 0.33331643, 0.33333858, 0.33332749, 0.33331882,\n",
       "        0.33332137, 0.33332173, 0.33332303, 0.333325  , 0.33332244,\n",
       "        0.33331355, 0.33336202, 0.33336191, 0.33332266, 0.33333069,\n",
       "        0.33335722, 0.33335702, 0.3333661 , 0.33332543, 0.33332781,\n",
       "        0.33335528, 0.33333753, 0.33332792, 0.33332927, 0.3333346 ,\n",
       "        0.33334772, 0.33332733, 0.33331673, 0.33335417, 0.33332552,\n",
       "        0.33335318, 0.33332039, 0.33333475, 0.33331994, 0.33333447,\n",
       "        0.33334729, 0.33332642, 0.33335589, 0.33331933, 0.33332501,\n",
       "        0.33332047, 0.33335671, 0.33335533, 0.33335134, 0.3333158 ,\n",
       "        0.33333512, 0.33336341, 0.33332247, 0.33333137, 0.33336095,\n",
       "        0.33332488, 0.3333342 , 0.33334014, 0.3333559 , 0.33334583,\n",
       "        0.33335627, 0.33335694, 0.33334163, 0.3333335 , 0.33332806,\n",
       "        0.33331675, 0.33331646, 0.33333277, 0.33331211, 0.3333347 ,\n",
       "        0.33335154, 0.333353  , 0.33333972, 0.33331869, 0.33334708,\n",
       "        0.33333421, 0.33331403, 0.33335757, 0.33333937, 0.33332281,\n",
       "        0.33334042, 0.33335097, 0.33333153, 0.33334929, 0.33336539,\n",
       "        0.33335639, 0.33334989, 0.3333397 , 0.33335373, 0.33332212,\n",
       "        0.33334441, 0.33332342, 0.33335368, 0.333343  , 0.33332607,\n",
       "        0.33332482, 0.33336302, 0.33332717, 0.3333377 , 0.33333557,\n",
       "        0.33331931, 0.33335612, 0.33334217, 0.33335846, 0.3333382 ,\n",
       "        0.33334596, 0.33333688, 0.33330906, 0.33334726, 0.33334573,\n",
       "        0.33332965, 0.33335124, 0.3333101 , 0.33333612, 0.33334701,\n",
       "        0.33334589, 0.33333929, 0.33333678, 0.33334538, 0.33335608,\n",
       "        0.33335008, 0.33333119, 0.33334922, 0.33333945, 0.33331906,\n",
       "        0.33335243, 0.33331243, 0.33333974, 0.3333156 , 0.3333167 ,\n",
       "        0.33334434, 0.33333137, 0.33330545, 0.33332973, 0.33335025,\n",
       "        0.33333332, 0.33332288, 0.33331415, 0.33336226, 0.33332446,\n",
       "        0.33332362, 0.33333153, 0.3333501 , 0.33334487, 0.33331921,\n",
       "        0.33332094, 0.33333614, 0.33333185, 0.33334703, 0.33333001,\n",
       "        0.33331112, 0.33332042, 0.33333365, 0.33333756, 0.33333041,\n",
       "        0.33331741, 0.33336326, 0.33335522, 0.33336076, 0.33334594,\n",
       "        0.33334347, 0.33334435, 0.3333293 , 0.33332468, 0.33332992,\n",
       "        0.33333324, 0.33332716, 0.33330908, 0.33334356, 0.33334409,\n",
       "        0.33335705, 0.33331928, 0.33335129, 0.33331798, 0.33335318,\n",
       "        0.3333507 , 0.3333426 , 0.33332368, 0.33333475, 0.3333373 ],\n",
       "       [0.33333471, 0.33335177, 0.3333321 , 0.33332573, 0.33330802,\n",
       "        0.3333016 , 0.33334917, 0.33330059, 0.33332447, 0.33336162,\n",
       "        0.33332697, 0.33335948, 0.33333177, 0.33334613, 0.3333521 ,\n",
       "        0.33334695, 0.33335323, 0.33334103, 0.33333311, 0.33334131,\n",
       "        0.33330888, 0.33332381, 0.33333461, 0.33330413, 0.33329898,\n",
       "        0.33330312, 0.33331418, 0.33331796, 0.33330688, 0.33332127,\n",
       "        0.33334783, 0.33331298, 0.33333143, 0.3333447 , 0.33333392,\n",
       "        0.3333337 , 0.33332719, 0.33334844, 0.33333377, 0.33335974,\n",
       "        0.33335183, 0.33333369, 0.33334212, 0.33330418, 0.33335092,\n",
       "        0.33331487, 0.33333796, 0.33334971, 0.33331136, 0.33331533,\n",
       "        0.33334056, 0.33331107, 0.33330674, 0.33332449, 0.33335403,\n",
       "        0.33335861, 0.33332861, 0.33334483, 0.33331628, 0.33332389,\n",
       "        0.33336209, 0.33331648, 0.33333303, 0.33333901, 0.33334234,\n",
       "        0.33329444, 0.33333693, 0.33333704, 0.33330806, 0.33331909,\n",
       "        0.33331451, 0.33333754, 0.33334545, 0.33334605, 0.33332338,\n",
       "        0.33337415, 0.33335097, 0.33332568, 0.33334093, 0.33334983,\n",
       "        0.3333478 , 0.33334561, 0.33334461, 0.33334406, 0.33334491,\n",
       "        0.33335576, 0.33330147, 0.333302  , 0.33334582, 0.3333341 ,\n",
       "        0.33331048, 0.33330797, 0.33329709, 0.33334311, 0.33333944,\n",
       "        0.33331119, 0.33332976, 0.33333784, 0.33333935, 0.33333387,\n",
       "        0.33331699, 0.33333941, 0.33334913, 0.33331258, 0.33334444,\n",
       "        0.33331089, 0.33334688, 0.33333037, 0.33334681, 0.33333449,\n",
       "        0.33331763, 0.33333894, 0.33330779, 0.33335335, 0.33334102,\n",
       "        0.33334566, 0.33330656, 0.33331066, 0.33330812, 0.33335305,\n",
       "        0.33333331, 0.33329694, 0.33334253, 0.33333307, 0.33330118,\n",
       "        0.33334056, 0.33333167, 0.33332544, 0.3333083 , 0.33331966,\n",
       "        0.33331082, 0.33330919, 0.33332753, 0.33333066, 0.33333821,\n",
       "        0.3333521 , 0.33335106, 0.33333373, 0.33335755, 0.33333129,\n",
       "        0.33330936, 0.33331255, 0.3333272 , 0.3333496 , 0.33332196,\n",
       "        0.33332969, 0.33335573, 0.33330816, 0.33332832, 0.33334472,\n",
       "        0.33332339, 0.33331314, 0.33333394, 0.33331326, 0.3332953 ,\n",
       "        0.33330681, 0.33331624, 0.33332443, 0.33330951, 0.33334772,\n",
       "        0.33332437, 0.33334544, 0.33331384, 0.33332127, 0.33334085,\n",
       "        0.33334292, 0.33330083, 0.33333797, 0.33332805, 0.33333147,\n",
       "        0.33334793, 0.33331027, 0.33332116, 0.33330499, 0.3333271 ,\n",
       "        0.33332002, 0.33332929, 0.33336016, 0.33331772, 0.3333178 ,\n",
       "        0.33333887, 0.33331471, 0.33335933, 0.33333022, 0.33331881,\n",
       "        0.3333214 , 0.33332615, 0.33333206, 0.33332182, 0.33331017,\n",
       "        0.33331266, 0.33333462, 0.33331402, 0.33332395, 0.33335168,\n",
       "        0.33331421, 0.33335806, 0.33332681, 0.33335429, 0.33335202,\n",
       "        0.33332309, 0.33333592, 0.3333644 , 0.33333932, 0.33331726,\n",
       "        0.33333609, 0.33334399, 0.33335477, 0.33330085, 0.33334228,\n",
       "        0.33334495, 0.33333885, 0.33331104, 0.33332251, 0.33335034,\n",
       "        0.33334448, 0.33332816, 0.33333526, 0.33331578, 0.33333672,\n",
       "        0.33335965, 0.33334681, 0.33333281, 0.33332968, 0.33333578,\n",
       "        0.33335102, 0.33330168, 0.33331027, 0.33330235, 0.33331808,\n",
       "        0.33331957, 0.3333228 , 0.33333831, 0.33334438, 0.33333423,\n",
       "        0.33333222, 0.33333823, 0.33335975, 0.33332639, 0.3333196 ,\n",
       "        0.33330991, 0.33334869, 0.33331628, 0.33334993, 0.33331401,\n",
       "        0.33331547, 0.33332534, 0.33334593, 0.33333247, 0.33333278],\n",
       "       [0.33333188, 0.33333294, 0.33333313, 0.33333369, 0.33333487,\n",
       "        0.33333488, 0.33333226, 0.3333375 , 0.33332882, 0.33332969,\n",
       "        0.3333347 , 0.33333116, 0.33333102, 0.33332943, 0.33333347,\n",
       "        0.33333211, 0.33333186, 0.33332976, 0.33333022, 0.33333557,\n",
       "        0.33333673, 0.33333746, 0.33333392, 0.33333554, 0.33333647,\n",
       "        0.33333457, 0.33333334, 0.33333428, 0.33333837, 0.33333634,\n",
       "        0.33333294, 0.3333361 , 0.33333176, 0.33333198, 0.3333341 ,\n",
       "        0.33333611, 0.3333347 , 0.33333109, 0.33333162, 0.33332975,\n",
       "        0.33333118, 0.33333186, 0.33333126, 0.3333351 , 0.33333177,\n",
       "        0.33333214, 0.33333324, 0.33333192, 0.33333212, 0.33333263,\n",
       "        0.33333505, 0.33333162, 0.33333739, 0.33333486, 0.33333161,\n",
       "        0.33332945, 0.33333519, 0.33333111, 0.33333776, 0.33333283,\n",
       "        0.33332902, 0.33333318, 0.3333345 , 0.33333119, 0.33333252,\n",
       "        0.333338  , 0.33333197, 0.33333294, 0.3333329 , 0.3333367 ,\n",
       "        0.33333068, 0.3333342 , 0.33333302, 0.33333235, 0.33333224,\n",
       "        0.33332523, 0.3333326 , 0.33333573, 0.33333157, 0.33333135,\n",
       "        0.33333083, 0.33333266, 0.33333236, 0.33333094, 0.33333265,\n",
       "        0.33333069, 0.3333365 , 0.33333608, 0.33333151, 0.33333521,\n",
       "        0.33333231, 0.33333501, 0.33333681, 0.33333146, 0.33333275,\n",
       "        0.33333353, 0.33333271, 0.33333423, 0.33333137, 0.33333153,\n",
       "        0.33333529, 0.33333326, 0.33333413, 0.33333325, 0.33333004,\n",
       "        0.33333593, 0.33333273, 0.33333488, 0.33333324, 0.33333104,\n",
       "        0.33333508, 0.33333464, 0.33333632, 0.33332732, 0.33333397,\n",
       "        0.33333388, 0.33333672, 0.33333402, 0.33334054, 0.33333114,\n",
       "        0.33333156, 0.33333965, 0.33333501, 0.33333556, 0.33333787,\n",
       "        0.33333455, 0.33333413, 0.33333442, 0.3333358 , 0.33333451,\n",
       "        0.3333329 , 0.33333387, 0.33333084, 0.33333585, 0.33333373,\n",
       "        0.33333115, 0.33333249, 0.33333351, 0.33333034, 0.33333401,\n",
       "        0.3333391 , 0.33333444, 0.33333309, 0.3333317 , 0.33333095,\n",
       "        0.3333361 , 0.33333024, 0.33333427, 0.33333231, 0.33333247,\n",
       "        0.33333619, 0.33333588, 0.33333453, 0.33333745, 0.33333931,\n",
       "        0.3333368 , 0.33333387, 0.33333587, 0.33333676, 0.33333016,\n",
       "        0.33333123, 0.33333114, 0.33333248, 0.33333574, 0.33333308,\n",
       "        0.33333226, 0.33333616, 0.33333486, 0.33333425, 0.33333296,\n",
       "        0.33333277, 0.33333361, 0.33333667, 0.33333655, 0.3333347 ,\n",
       "        0.33333403, 0.33333384, 0.33333078, 0.33333502, 0.33333646,\n",
       "        0.33333147, 0.33333405, 0.33333058, 0.33333366, 0.33333418,\n",
       "        0.33333271, 0.33333456, 0.33333117, 0.3333328 , 0.33333376,\n",
       "        0.33333726, 0.33333419, 0.33333676, 0.3333366 , 0.33332926,\n",
       "        0.33333335, 0.33332952, 0.33333345, 0.33333011, 0.33333128,\n",
       "        0.33333258, 0.33333272, 0.33333015, 0.33333095, 0.33333249,\n",
       "        0.33333058, 0.33333313, 0.33333108, 0.33333689, 0.33333326,\n",
       "        0.33333144, 0.33332962, 0.33333886, 0.33333262, 0.33333045,\n",
       "        0.33333458, 0.3333357 , 0.33333289, 0.33333719, 0.33333328,\n",
       "        0.33332923, 0.33333277, 0.33333354, 0.33333277, 0.33333381,\n",
       "        0.33333157, 0.33333506, 0.33333451, 0.33333689, 0.33333598,\n",
       "        0.33333696, 0.33333286, 0.33333239, 0.33333094, 0.33333585,\n",
       "        0.33333454, 0.3333346 , 0.33333116, 0.33333005, 0.33333632,\n",
       "        0.33333304, 0.33333203, 0.33333243, 0.33333208, 0.33333281,\n",
       "        0.33333382, 0.33333206, 0.33333039, 0.33333278, 0.33332992]])"
      ]
     },
     "execution_count": 126,
     "metadata": {},
     "output_type": "execute_result"
    }
   ],
   "source": [
    "fcm.u"
   ]
  },
  {
   "cell_type": "markdown",
   "metadata": {},
   "source": [
    "# Mis en forme des données"
   ]
  },
  {
   "cell_type": "code",
   "execution_count": 5,
   "metadata": {},
   "outputs": [],
   "source": [
    "def normalization_min_max(row):\n",
    "    return (row - row.mean())/(row.max() - row.min())"
   ]
  },
  {
   "cell_type": "code",
   "execution_count": 6,
   "metadata": {},
   "outputs": [],
   "source": [
    "def cosine_similarity(X):\n",
    "    return (cos_dist(X)+1)/2"
   ]
  },
  {
   "cell_type": "code",
   "execution_count": 7,
   "metadata": {},
   "outputs": [],
   "source": [
    "for_users_data = user_title_df.fillna(0).apply(normalization_min_max, axis=1)\n",
    "for_movies_data = user_title_df.fillna(0).apply(normalization_min_max, axis=0)"
   ]
  },
  {
   "cell_type": "code",
   "execution_count": 8,
   "metadata": {},
   "outputs": [],
   "source": [
    "#Création de la matrice de cosinus distance\n",
    "all_users = user_title_df.index\n",
    "cos = cosine_similarity(for_users_data)\n",
    "similarity_users = pd.DataFrame(cos, index=all_users, columns=all_users)\n",
    "np.fill_diagonal(similarity_users.values, 0)\n",
    "\n",
    "\n",
    "#Création de la matrice de cosinus distance\n",
    "all_movies = user_title_df.columns\n",
    "cos = cosine_similarity(for_movies_data.T)\n",
    "similarity_movies= pd.DataFrame(cos, index=all_movies, columns=all_movies)\n",
    "np.fill_diagonal(similarity_movies.values, 0)\n",
    "\n",
    "\n",
    "del(cos)"
   ]
  },
  {
   "cell_type": "markdown",
   "metadata": {},
   "source": [
    "# Guess Algo"
   ]
  },
  {
   "cell_type": "code",
   "execution_count": 9,
   "metadata": {},
   "outputs": [],
   "source": [
    "#On devine la note en fonction des candidtats similaires\n",
    "def guess_rate(user, title, N, similarity_users):\n",
    "    all_similar_users = similarity_users.loc[user].sort_values(ascending=False).index\n",
    "    user_title_mat = for_users_data\n",
    "    \n",
    "    rate = 0\n",
    "    weight = 0\n",
    "    k = 0\n",
    "    i = 0\n",
    "\n",
    "    while (k < N):\n",
    "        similar_user = all_similar_users[i]\n",
    "        r = user_title_mat.loc[similar_user, title]\n",
    "\n",
    "        if not (pd.isnull(r)):\n",
    "            w = similarity_users.loc[similar_user, user]\n",
    "            rate += w*r\n",
    "            weight += w\n",
    "            k += 1\n",
    "\n",
    "        i += 1\n",
    "\n",
    "    return rate/weight"
   ]
  },
  {
   "cell_type": "code",
   "execution_count": 10,
   "metadata": {},
   "outputs": [],
   "source": [
    "def get_similar_movies_from_users(user_id, N, similarity_users):\n",
    "    all_rates = []\n",
    "    keep_movies = []\n",
    "\n",
    "    for movie in tqdm(user_title_df.columns):\n",
    "        if (pd.isnull(user_title_df.loc[user_id, movie])):\n",
    "            all_rates.append(guess_rate(user_id, movie, N, similarity_users))\n",
    "            keep_movies.append(movie)\n",
    "\n",
    "    return pd.Series(all_rates, keep_movies).sort_values(ascending=False)"
   ]
  },
  {
   "cell_type": "code",
   "execution_count": 11,
   "metadata": {},
   "outputs": [],
   "source": [
    "def get_similar_movies_from_movies(user_id, similarity_movies):\n",
    "    similar_movies = []\n",
    "\n",
    "    movies_rates = user_title_df.loc[user_id].dropna()\n",
    "    movies = movies_rates.index\n",
    "    rates = movies_rates.values\n",
    "    user = [(movies[i], rates[i]) for i in range(len(rates))]\n",
    "\n",
    "    for movie, rate in tqdm(user):\n",
    "        movie_list = (similarity_movies.loc[:, movie]*(rate-2.5)).sort_values(ascending=False)\n",
    "        similar_movies.append(movie_list)\n",
    "\n",
    "    similar_movies = pd.concat(similar_movies, axis=1)\n",
    "    similar_movies = similar_movies.drop([movie for movie, rate in user], axis=0)\n",
    "    return similar_movies.sum(axis=1).sort_values(ascending=False)"
   ]
  },
  {
   "cell_type": "code",
   "execution_count": 12,
   "metadata": {},
   "outputs": [],
   "source": [
    "def recommanded_movies(user_id, similarity_users, similarity_movies):\n",
    "    get_users = get_similar_movies_from_users(user_id, 500, similarity_users)\n",
    "    get_movies = get_similar_movies_from_movies(user_id, similarity_movies)\n",
    "\n",
    "    arg_movies = []\n",
    "    for title in get_users.index:\n",
    "        arg_movies.append(int(np.argwhere(get_movies.index == title)))\n",
    "\n",
    "    recommanded = pd.DataFrame(index=get_users.index, columns=[\"Arg Users\", \"Arg Movies\"], data=np.array([range(len(arg_movies)), arg_movies]).T)\n",
    "    recommanded[\"Mean\"] = recommanded.mean(axis=1)\n",
    "\n",
    "    return recommanded.sort_values(by=\"Mean\")"
   ]
  },
  {
   "cell_type": "markdown",
   "metadata": {},
   "source": [
    "# Find K"
   ]
  },
  {
   "cell_type": "code",
   "execution_count": 15,
   "metadata": {},
   "outputs": [
    {
     "data": {
      "application/vnd.jupyter.widget-view+json": {
       "model_id": "d01e508302104335a6f4531737c0f4c8",
       "version_major": 2,
       "version_minor": 0
      },
      "text/plain": [
       "  0%|          | 0/9 [00:00<?, ?it/s]"
      ]
     },
     "metadata": {},
     "output_type": "display_data"
    },
    {
     "ename": "ValueError",
     "evalue": "Input X contains NaN.\nKMeans does not accept missing values encoded as NaN natively. For supervised learning, you might want to consider sklearn.ensemble.HistGradientBoostingClassifier and Regressor which accept missing values encoded as NaNs natively. Alternatively, it is possible to preprocess the data, for instance by using an imputer transformer in a pipeline or drop samples with missing values. See https://scikit-learn.org/stable/modules/impute.html You can find a list of all estimators that handle NaN values at the following page: https://scikit-learn.org/stable/modules/impute.html#estimators-that-handle-nan-values",
     "output_type": "error",
     "traceback": [
      "\u001b[1;31m---------------------------------------------------------------------------\u001b[0m",
      "\u001b[1;31mValueError\u001b[0m                                Traceback (most recent call last)",
      "\u001b[1;32mg:\\My Drive\\Dossier Stage\\Stages\\Laboratoire japon\\Codes\\own algorithm\\main.ipynb Cell 24\u001b[0m in \u001b[0;36m<cell line: 6>\u001b[1;34m()\u001b[0m\n\u001b[0;32m      <a href='vscode-notebook-cell:/g%3A/My%20Drive/Dossier%20Stage/Stages/Laboratoire%20japon/Codes/own%20algorithm/main.ipynb#ch0000023?line=6'>7</a>\u001b[0m \u001b[39mfor\u001b[39;00m k \u001b[39min\u001b[39;00m tqdm(K_RANGE):\n\u001b[0;32m      <a href='vscode-notebook-cell:/g%3A/My%20Drive/Dossier%20Stage/Stages/Laboratoire%20japon/Codes/own%20algorithm/main.ipynb#ch0000023?line=7'>8</a>\u001b[0m     fcm \u001b[39m=\u001b[39m FCmeans(k)\n\u001b[1;32m----> <a href='vscode-notebook-cell:/g%3A/My%20Drive/Dossier%20Stage/Stages/Laboratoire%20japon/Codes/own%20algorithm/main.ipynb#ch0000023?line=8'>9</a>\u001b[0m     fcm\u001b[39m.\u001b[39;49mfit(data[key])\n\u001b[0;32m     <a href='vscode-notebook-cell:/g%3A/My%20Drive/Dossier%20Stage/Stages/Laboratoire%20japon/Codes/own%20algorithm/main.ipynb#ch0000023?line=9'>10</a>\u001b[0m     all_inertia[key]\u001b[39m.\u001b[39mappend(fcm\u001b[39m.\u001b[39minertia)\n",
      "\u001b[1;32mg:\\My Drive\\Dossier Stage\\Stages\\Laboratoire japon\\Codes\\own algorithm\\main.ipynb Cell 24\u001b[0m in \u001b[0;36mFCmeans.fit\u001b[1;34m(self, X)\u001b[0m\n\u001b[0;32m     <a href='vscode-notebook-cell:/g%3A/My%20Drive/Dossier%20Stage/Stages/Laboratoire%20japon/Codes/own%20algorithm/main.ipynb#ch0000023?line=15'>16</a>\u001b[0m \u001b[39mdef\u001b[39;00m \u001b[39mfit\u001b[39m(\u001b[39mself\u001b[39m, X : np\u001b[39m.\u001b[39mndarray):\n\u001b[0;32m     <a href='vscode-notebook-cell:/g%3A/My%20Drive/Dossier%20Stage/Stages/Laboratoire%20japon/Codes/own%20algorithm/main.ipynb#ch0000023?line=16'>17</a>\u001b[0m     km \u001b[39m=\u001b[39m KMeans(\u001b[39mself\u001b[39m\u001b[39m.\u001b[39mn_clusters, max_iter\u001b[39m=\u001b[39m\u001b[39mself\u001b[39m\u001b[39m.\u001b[39mmax_iter, random_state\u001b[39m=\u001b[39m\u001b[39mself\u001b[39m\u001b[39m.\u001b[39mseed, init\u001b[39m=\u001b[39m\u001b[39mself\u001b[39m\u001b[39m.\u001b[39minit)\n\u001b[1;32m---> <a href='vscode-notebook-cell:/g%3A/My%20Drive/Dossier%20Stage/Stages/Laboratoire%20japon/Codes/own%20algorithm/main.ipynb#ch0000023?line=17'>18</a>\u001b[0m     km\u001b[39m.\u001b[39;49mfit(X)\n\u001b[0;32m     <a href='vscode-notebook-cell:/g%3A/My%20Drive/Dossier%20Stage/Stages/Laboratoire%20japon/Codes/own%20algorithm/main.ipynb#ch0000023?line=18'>19</a>\u001b[0m     \u001b[39mself\u001b[39m\u001b[39m.\u001b[39mcenters \u001b[39m=\u001b[39m km\u001b[39m.\u001b[39mcluster_centers_\n\u001b[0;32m     <a href='vscode-notebook-cell:/g%3A/My%20Drive/Dossier%20Stage/Stages/Laboratoire%20japon/Codes/own%20algorithm/main.ipynb#ch0000023?line=19'>20</a>\u001b[0m     \u001b[39mself\u001b[39m\u001b[39m.\u001b[39minertia \u001b[39m=\u001b[39m km\u001b[39m.\u001b[39minertia_\n",
      "File \u001b[1;32mc:\\Program Files\\Python38\\lib\\site-packages\\sklearn\\cluster\\_kmeans.py:1365\u001b[0m, in \u001b[0;36mKMeans.fit\u001b[1;34m(self, X, y, sample_weight)\u001b[0m\n\u001b[0;32m   1339\u001b[0m \u001b[39mdef\u001b[39;00m \u001b[39mfit\u001b[39m(\u001b[39mself\u001b[39m, X, y\u001b[39m=\u001b[39m\u001b[39mNone\u001b[39;00m, sample_weight\u001b[39m=\u001b[39m\u001b[39mNone\u001b[39;00m):\n\u001b[0;32m   1340\u001b[0m     \u001b[39m\"\"\"Compute k-means clustering.\u001b[39;00m\n\u001b[0;32m   1341\u001b[0m \n\u001b[0;32m   1342\u001b[0m \u001b[39m    Parameters\u001b[39;00m\n\u001b[1;32m   (...)\u001b[0m\n\u001b[0;32m   1363\u001b[0m \u001b[39m        Fitted estimator.\u001b[39;00m\n\u001b[0;32m   1364\u001b[0m \u001b[39m    \"\"\"\u001b[39;00m\n\u001b[1;32m-> 1365\u001b[0m     X \u001b[39m=\u001b[39m \u001b[39mself\u001b[39;49m\u001b[39m.\u001b[39;49m_validate_data(\n\u001b[0;32m   1366\u001b[0m         X,\n\u001b[0;32m   1367\u001b[0m         accept_sparse\u001b[39m=\u001b[39;49m\u001b[39m\"\u001b[39;49m\u001b[39mcsr\u001b[39;49m\u001b[39m\"\u001b[39;49m,\n\u001b[0;32m   1368\u001b[0m         dtype\u001b[39m=\u001b[39;49m[np\u001b[39m.\u001b[39;49mfloat64, np\u001b[39m.\u001b[39;49mfloat32],\n\u001b[0;32m   1369\u001b[0m         order\u001b[39m=\u001b[39;49m\u001b[39m\"\u001b[39;49m\u001b[39mC\u001b[39;49m\u001b[39m\"\u001b[39;49m,\n\u001b[0;32m   1370\u001b[0m         copy\u001b[39m=\u001b[39;49m\u001b[39mself\u001b[39;49m\u001b[39m.\u001b[39;49mcopy_x,\n\u001b[0;32m   1371\u001b[0m         accept_large_sparse\u001b[39m=\u001b[39;49m\u001b[39mFalse\u001b[39;49;00m,\n\u001b[0;32m   1372\u001b[0m     )\n\u001b[0;32m   1374\u001b[0m     \u001b[39mself\u001b[39m\u001b[39m.\u001b[39m_check_params(X)\n\u001b[0;32m   1375\u001b[0m     random_state \u001b[39m=\u001b[39m check_random_state(\u001b[39mself\u001b[39m\u001b[39m.\u001b[39mrandom_state)\n",
      "File \u001b[1;32mc:\\Program Files\\Python38\\lib\\site-packages\\sklearn\\base.py:577\u001b[0m, in \u001b[0;36mBaseEstimator._validate_data\u001b[1;34m(self, X, y, reset, validate_separately, **check_params)\u001b[0m\n\u001b[0;32m    575\u001b[0m     \u001b[39mraise\u001b[39;00m \u001b[39mValueError\u001b[39;00m(\u001b[39m\"\u001b[39m\u001b[39mValidation should be done on X, y or both.\u001b[39m\u001b[39m\"\u001b[39m)\n\u001b[0;32m    576\u001b[0m \u001b[39melif\u001b[39;00m \u001b[39mnot\u001b[39;00m no_val_X \u001b[39mand\u001b[39;00m no_val_y:\n\u001b[1;32m--> 577\u001b[0m     X \u001b[39m=\u001b[39m check_array(X, input_name\u001b[39m=\u001b[39;49m\u001b[39m\"\u001b[39;49m\u001b[39mX\u001b[39;49m\u001b[39m\"\u001b[39;49m, \u001b[39m*\u001b[39;49m\u001b[39m*\u001b[39;49mcheck_params)\n\u001b[0;32m    578\u001b[0m     out \u001b[39m=\u001b[39m X\n\u001b[0;32m    579\u001b[0m \u001b[39melif\u001b[39;00m no_val_X \u001b[39mand\u001b[39;00m \u001b[39mnot\u001b[39;00m no_val_y:\n",
      "File \u001b[1;32mc:\\Program Files\\Python38\\lib\\site-packages\\sklearn\\utils\\validation.py:899\u001b[0m, in \u001b[0;36mcheck_array\u001b[1;34m(array, accept_sparse, accept_large_sparse, dtype, order, copy, force_all_finite, ensure_2d, allow_nd, ensure_min_samples, ensure_min_features, estimator, input_name)\u001b[0m\n\u001b[0;32m    893\u001b[0m         \u001b[39mraise\u001b[39;00m \u001b[39mValueError\u001b[39;00m(\n\u001b[0;32m    894\u001b[0m             \u001b[39m\"\u001b[39m\u001b[39mFound array with dim \u001b[39m\u001b[39m%d\u001b[39;00m\u001b[39m. \u001b[39m\u001b[39m%s\u001b[39;00m\u001b[39m expected <= 2.\u001b[39m\u001b[39m\"\u001b[39m\n\u001b[0;32m    895\u001b[0m             \u001b[39m%\u001b[39m (array\u001b[39m.\u001b[39mndim, estimator_name)\n\u001b[0;32m    896\u001b[0m         )\n\u001b[0;32m    898\u001b[0m     \u001b[39mif\u001b[39;00m force_all_finite:\n\u001b[1;32m--> 899\u001b[0m         _assert_all_finite(\n\u001b[0;32m    900\u001b[0m             array,\n\u001b[0;32m    901\u001b[0m             input_name\u001b[39m=\u001b[39;49minput_name,\n\u001b[0;32m    902\u001b[0m             estimator_name\u001b[39m=\u001b[39;49mestimator_name,\n\u001b[0;32m    903\u001b[0m             allow_nan\u001b[39m=\u001b[39;49mforce_all_finite \u001b[39m==\u001b[39;49m \u001b[39m\"\u001b[39;49m\u001b[39mallow-nan\u001b[39;49m\u001b[39m\"\u001b[39;49m,\n\u001b[0;32m    904\u001b[0m         )\n\u001b[0;32m    906\u001b[0m \u001b[39mif\u001b[39;00m ensure_min_samples \u001b[39m>\u001b[39m \u001b[39m0\u001b[39m:\n\u001b[0;32m    907\u001b[0m     n_samples \u001b[39m=\u001b[39m _num_samples(array)\n",
      "File \u001b[1;32mc:\\Program Files\\Python38\\lib\\site-packages\\sklearn\\utils\\validation.py:146\u001b[0m, in \u001b[0;36m_assert_all_finite\u001b[1;34m(X, allow_nan, msg_dtype, estimator_name, input_name)\u001b[0m\n\u001b[0;32m    124\u001b[0m         \u001b[39mif\u001b[39;00m (\n\u001b[0;32m    125\u001b[0m             \u001b[39mnot\u001b[39;00m allow_nan\n\u001b[0;32m    126\u001b[0m             \u001b[39mand\u001b[39;00m estimator_name\n\u001b[1;32m   (...)\u001b[0m\n\u001b[0;32m    130\u001b[0m             \u001b[39m# Improve the error message on how to handle missing values in\u001b[39;00m\n\u001b[0;32m    131\u001b[0m             \u001b[39m# scikit-learn.\u001b[39;00m\n\u001b[0;32m    132\u001b[0m             msg_err \u001b[39m+\u001b[39m\u001b[39m=\u001b[39m (\n\u001b[0;32m    133\u001b[0m                 \u001b[39mf\u001b[39m\u001b[39m\"\u001b[39m\u001b[39m\\n\u001b[39;00m\u001b[39m{\u001b[39;00mestimator_name\u001b[39m}\u001b[39;00m\u001b[39m does not accept missing values\u001b[39m\u001b[39m\"\u001b[39m\n\u001b[0;32m    134\u001b[0m                 \u001b[39m\"\u001b[39m\u001b[39m encoded as NaN natively. For supervised learning, you might want\u001b[39m\u001b[39m\"\u001b[39m\n\u001b[1;32m   (...)\u001b[0m\n\u001b[0;32m    144\u001b[0m                 \u001b[39m\"\u001b[39m\u001b[39m#estimators-that-handle-nan-values\u001b[39m\u001b[39m\"\u001b[39m\n\u001b[0;32m    145\u001b[0m             )\n\u001b[1;32m--> 146\u001b[0m         \u001b[39mraise\u001b[39;00m \u001b[39mValueError\u001b[39;00m(msg_err)\n\u001b[0;32m    148\u001b[0m \u001b[39m# for object dtype data, we only check for NaNs (GH-13254)\u001b[39;00m\n\u001b[0;32m    149\u001b[0m \u001b[39melif\u001b[39;00m X\u001b[39m.\u001b[39mdtype \u001b[39m==\u001b[39m np\u001b[39m.\u001b[39mdtype(\u001b[39m\"\u001b[39m\u001b[39mobject\u001b[39m\u001b[39m\"\u001b[39m) \u001b[39mand\u001b[39;00m \u001b[39mnot\u001b[39;00m allow_nan:\n",
      "\u001b[1;31mValueError\u001b[0m: Input X contains NaN.\nKMeans does not accept missing values encoded as NaN natively. For supervised learning, you might want to consider sklearn.ensemble.HistGradientBoostingClassifier and Regressor which accept missing values encoded as NaNs natively. Alternatively, it is possible to preprocess the data, for instance by using an imputer transformer in a pipeline or drop samples with missing values. See https://scikit-learn.org/stable/modules/impute.html You can find a list of all estimators that handle NaN values at the following page: https://scikit-learn.org/stable/modules/impute.html#estimators-that-handle-nan-values"
     ]
    }
   ],
   "source": [
    "N = 10\n",
    "K_RANGE = range(2, N+1)\n",
    "all_inertia = {\"Users\" : [], \"Movies\" : []}\n",
    "data = {\"Users\" : user_title_df.values, \"Movies\" : user_title_df.T.values}\n",
    "\n",
    "for key in all_inertia.keys():\n",
    "    for k in tqdm(K_RANGE):\n",
    "        fcm = FCmeans(k)\n",
    "        fcm.fit(data[key])\n",
    "        all_inertia[key].append(fcm.inertia)"
   ]
  },
  {
   "cell_type": "code",
   "execution_count": 14,
   "metadata": {},
   "outputs": [
    {
     "data": {
      "image/png": "[encoded data removed]",
      "text/plain": [
       "<Figure size 864x360 with 1 Axes>"
      ]
     },
     "metadata": {
      "needs_background": "light"
     },
     "output_type": "display_data"
    }
   ],
   "source": [
    "plt.figure(figsize=(12,5))\n",
    "\n",
    "i = 0\n",
    "for key in all_inertia.keys():\n",
    "    plt.plot(K_RANGE, all_inertia[key], label=key)\n",
    "\n",
    "plt.xticks(K_RANGE)\n",
    "plt.xlabel(\"Number of clusters\")\n",
    "plt.ylabel(\"Inertia\")\n",
    "\n",
    "plt.title(\"Inertia as a function of number of clusters\")\n",
    "plt.legend()\n",
    "\n",
    "plt.savefig(\"img/find_K_own.jpg\", dpi=250)\n",
    "plt.show()"
   ]
  },
  {
   "cell_type": "markdown",
   "metadata": {},
   "source": [
    "# 1er méthode : similarité entre les appartenance aux clusters"
   ]
  },
  {
   "cell_type": "code",
   "execution_count": 120,
   "metadata": {},
   "outputs": [],
   "source": [
    "fcm = FCmeans(4)\n",
    "fcm.fit(for_users_data.values)\n",
    "soft_pred = fcm.soft_predict(for_users_data.values)"
   ]
  },
  {
   "cell_type": "code",
   "execution_count": 121,
   "metadata": {},
   "outputs": [
    {
     "data": {
      "text/html": [
       "<div>\n",
       "<style scoped>\n",
       "    .dataframe tbody tr th:only-of-type {\n",
       "        vertical-align: middle;\n",
       "    }\n",
       "\n",
       "    .dataframe tbody tr th {\n",
       "        vertical-align: top;\n",
       "    }\n",
       "\n",
       "    .dataframe thead th {\n",
       "        text-align: right;\n",
       "    }\n",
       "</style>\n",
       "<table border=\"1\" class=\"dataframe\">\n",
       "  <thead>\n",
       "    <tr style=\"text-align: right;\">\n",
       "      <th></th>\n",
       "      <th>% Cluster 1</th>\n",
       "      <th>% Cluster 2</th>\n",
       "      <th>% Cluster 3</th>\n",
       "      <th>% Cluster 4</th>\n",
       "      <th>Final Cluster</th>\n",
       "    </tr>\n",
       "    <tr>\n",
       "      <th>userId</th>\n",
       "      <th></th>\n",
       "      <th></th>\n",
       "      <th></th>\n",
       "      <th></th>\n",
       "      <th></th>\n",
       "    </tr>\n",
       "  </thead>\n",
       "  <tbody>\n",
       "    <tr>\n",
       "      <th>1</th>\n",
       "      <td>0.350748</td>\n",
       "      <td>0.238488</td>\n",
       "      <td>0.243582</td>\n",
       "      <td>0.167182</td>\n",
       "      <td>1</td>\n",
       "    </tr>\n",
       "    <tr>\n",
       "      <th>2</th>\n",
       "      <td>0.337602</td>\n",
       "      <td>0.234296</td>\n",
       "      <td>0.250126</td>\n",
       "      <td>0.177976</td>\n",
       "      <td>1</td>\n",
       "    </tr>\n",
       "    <tr>\n",
       "      <th>12</th>\n",
       "      <td>0.20388</td>\n",
       "      <td>0.263762</td>\n",
       "      <td>0.259621</td>\n",
       "      <td>0.272737</td>\n",
       "      <td>4</td>\n",
       "    </tr>\n",
       "    <tr>\n",
       "      <th>31</th>\n",
       "      <td>0.219915</td>\n",
       "      <td>0.287361</td>\n",
       "      <td>0.264305</td>\n",
       "      <td>0.228419</td>\n",
       "      <td>2</td>\n",
       "    </tr>\n",
       "    <tr>\n",
       "      <th>43</th>\n",
       "      <td>0.21171</td>\n",
       "      <td>0.308798</td>\n",
       "      <td>0.242651</td>\n",
       "      <td>0.23684</td>\n",
       "      <td>2</td>\n",
       "    </tr>\n",
       "    <tr>\n",
       "      <th>...</th>\n",
       "      <td>...</td>\n",
       "      <td>...</td>\n",
       "      <td>...</td>\n",
       "      <td>...</td>\n",
       "      <td>...</td>\n",
       "    </tr>\n",
       "    <tr>\n",
       "      <th>162512</th>\n",
       "      <td>0.274711</td>\n",
       "      <td>0.278178</td>\n",
       "      <td>0.238456</td>\n",
       "      <td>0.208656</td>\n",
       "      <td>2</td>\n",
       "    </tr>\n",
       "    <tr>\n",
       "      <th>162516</th>\n",
       "      <td>0.259274</td>\n",
       "      <td>0.222936</td>\n",
       "      <td>0.353056</td>\n",
       "      <td>0.164733</td>\n",
       "      <td>3</td>\n",
       "    </tr>\n",
       "    <tr>\n",
       "      <th>162519</th>\n",
       "      <td>0.183916</td>\n",
       "      <td>0.247833</td>\n",
       "      <td>0.238746</td>\n",
       "      <td>0.329505</td>\n",
       "      <td>4</td>\n",
       "    </tr>\n",
       "    <tr>\n",
       "      <th>162533</th>\n",
       "      <td>0.26021</td>\n",
       "      <td>0.253974</td>\n",
       "      <td>0.283575</td>\n",
       "      <td>0.202241</td>\n",
       "      <td>3</td>\n",
       "    </tr>\n",
       "    <tr>\n",
       "      <th>162534</th>\n",
       "      <td>0.31885</td>\n",
       "      <td>0.213021</td>\n",
       "      <td>0.298631</td>\n",
       "      <td>0.169498</td>\n",
       "      <td>1</td>\n",
       "    </tr>\n",
       "  </tbody>\n",
       "</table>\n",
       "<p>10105 rows × 5 columns</p>\n",
       "</div>"
      ],
      "text/plain": [
       "       % Cluster 1 % Cluster 2 % Cluster 3 % Cluster 4  Final Cluster\n",
       "userId                                                               \n",
       "1         0.350748    0.238488    0.243582    0.167182              1\n",
       "2         0.337602    0.234296    0.250126    0.177976              1\n",
       "12         0.20388    0.263762    0.259621    0.272737              4\n",
       "31        0.219915    0.287361    0.264305    0.228419              2\n",
       "43         0.21171    0.308798    0.242651     0.23684              2\n",
       "...            ...         ...         ...         ...            ...\n",
       "162512    0.274711    0.278178    0.238456    0.208656              2\n",
       "162516    0.259274    0.222936    0.353056    0.164733              3\n",
       "162519    0.183916    0.247833    0.238746    0.329505              4\n",
       "162533     0.26021    0.253974    0.283575    0.202241              3\n",
       "162534     0.31885    0.213021    0.298631    0.169498              1\n",
       "\n",
       "[10105 rows x 5 columns]"
      ]
     },
     "execution_count": 121,
     "metadata": {},
     "output_type": "execute_result"
    }
   ],
   "source": [
    "users = for_users_data.index\n",
    "membership_users = pd.DataFrame(index=users, columns=[f\"% Cluster {i+1}\" for i in range(soft_pred.shape[1])])\n",
    "membership_users.iloc[:, :] = soft_pred\n",
    "membership_users[\"Final Cluster\"] = membership_users.loc[:,:].values.argmax(axis=-1) + 1\n",
    "\n",
    "membership_users"
   ]
  },
  {
   "cell_type": "code",
   "execution_count": 122,
   "metadata": {},
   "outputs": [],
   "source": [
    "fcm = FCmeans(3)\n",
    "fcm.fit(for_movies_data.T.values)\n",
    "soft_pred = fcm.soft_predict(for_movies_data.T.values)"
   ]
  },
  {
   "cell_type": "code",
   "execution_count": 123,
   "metadata": {},
   "outputs": [
    {
     "data": {
      "text/html": [
       "<div>\n",
       "<style scoped>\n",
       "    .dataframe tbody tr th:only-of-type {\n",
       "        vertical-align: middle;\n",
       "    }\n",
       "\n",
       "    .dataframe tbody tr th {\n",
       "        vertical-align: top;\n",
       "    }\n",
       "\n",
       "    .dataframe thead th {\n",
       "        text-align: right;\n",
       "    }\n",
       "</style>\n",
       "<table border=\"1\" class=\"dataframe\">\n",
       "  <thead>\n",
       "    <tr style=\"text-align: right;\">\n",
       "      <th></th>\n",
       "      <th>% Cluster 1</th>\n",
       "      <th>% Cluster 2</th>\n",
       "      <th>% Cluster 3</th>\n",
       "      <th>Final Cluster</th>\n",
       "    </tr>\n",
       "  </thead>\n",
       "  <tbody>\n",
       "    <tr>\n",
       "      <th>(500) Days of Summer (2009)</th>\n",
       "      <td>0.257775</td>\n",
       "      <td>0.273912</td>\n",
       "      <td>0.468312</td>\n",
       "      <td>3</td>\n",
       "    </tr>\n",
       "    <tr>\n",
       "      <th>10 Things I Hate About You (1999)</th>\n",
       "      <td>0.289879</td>\n",
       "      <td>0.398735</td>\n",
       "      <td>0.311386</td>\n",
       "      <td>2</td>\n",
       "    </tr>\n",
       "    <tr>\n",
       "      <th>12 Angry Men (1957)</th>\n",
       "      <td>0.379814</td>\n",
       "      <td>0.306414</td>\n",
       "      <td>0.313773</td>\n",
       "      <td>1</td>\n",
       "    </tr>\n",
       "    <tr>\n",
       "      <th>2001: A Space Odyssey (1968)</th>\n",
       "      <td>0.421667</td>\n",
       "      <td>0.30937</td>\n",
       "      <td>0.268963</td>\n",
       "      <td>1</td>\n",
       "    </tr>\n",
       "    <tr>\n",
       "      <th>28 Days Later (2002)</th>\n",
       "      <td>0.288103</td>\n",
       "      <td>0.308718</td>\n",
       "      <td>0.40318</td>\n",
       "      <td>3</td>\n",
       "    </tr>\n",
       "    <tr>\n",
       "      <th>...</th>\n",
       "      <td>...</td>\n",
       "      <td>...</td>\n",
       "      <td>...</td>\n",
       "      <td>...</td>\n",
       "    </tr>\n",
       "    <tr>\n",
       "      <th>X-Men (2000)</th>\n",
       "      <td>0.268103</td>\n",
       "      <td>0.403177</td>\n",
       "      <td>0.328719</td>\n",
       "      <td>2</td>\n",
       "    </tr>\n",
       "    <tr>\n",
       "      <th>X2: X-Men United (2003)</th>\n",
       "      <td>0.258965</td>\n",
       "      <td>0.35459</td>\n",
       "      <td>0.386446</td>\n",
       "      <td>3</td>\n",
       "    </tr>\n",
       "    <tr>\n",
       "      <th>You've Got Mail (1998)</th>\n",
       "      <td>0.306872</td>\n",
       "      <td>0.423834</td>\n",
       "      <td>0.269294</td>\n",
       "      <td>2</td>\n",
       "    </tr>\n",
       "    <tr>\n",
       "      <th>Young Frankenstein (1974)</th>\n",
       "      <td>0.413412</td>\n",
       "      <td>0.34531</td>\n",
       "      <td>0.241277</td>\n",
       "      <td>1</td>\n",
       "    </tr>\n",
       "    <tr>\n",
       "      <th>Zombieland (2009)</th>\n",
       "      <td>0.233549</td>\n",
       "      <td>0.263763</td>\n",
       "      <td>0.502688</td>\n",
       "      <td>3</td>\n",
       "    </tr>\n",
       "  </tbody>\n",
       "</table>\n",
       "<p>500 rows × 4 columns</p>\n",
       "</div>"
      ],
      "text/plain": [
       "                                  % Cluster 1 % Cluster 2 % Cluster 3  \\\n",
       "(500) Days of Summer (2009)          0.257775    0.273912    0.468312   \n",
       "10 Things I Hate About You (1999)    0.289879    0.398735    0.311386   \n",
       "12 Angry Men (1957)                  0.379814    0.306414    0.313773   \n",
       "2001: A Space Odyssey (1968)         0.421667     0.30937    0.268963   \n",
       "28 Days Later (2002)                 0.288103    0.308718     0.40318   \n",
       "...                                       ...         ...         ...   \n",
       "X-Men (2000)                         0.268103    0.403177    0.328719   \n",
       "X2: X-Men United (2003)              0.258965     0.35459    0.386446   \n",
       "You've Got Mail (1998)               0.306872    0.423834    0.269294   \n",
       "Young Frankenstein (1974)            0.413412     0.34531    0.241277   \n",
       "Zombieland (2009)                    0.233549    0.263763    0.502688   \n",
       "\n",
       "                                   Final Cluster  \n",
       "(500) Days of Summer (2009)                    3  \n",
       "10 Things I Hate About You (1999)              2  \n",
       "12 Angry Men (1957)                            1  \n",
       "2001: A Space Odyssey (1968)                   1  \n",
       "28 Days Later (2002)                           3  \n",
       "...                                          ...  \n",
       "X-Men (2000)                                   2  \n",
       "X2: X-Men United (2003)                        3  \n",
       "You've Got Mail (1998)                         2  \n",
       "Young Frankenstein (1974)                      1  \n",
       "Zombieland (2009)                              3  \n",
       "\n",
       "[500 rows x 4 columns]"
      ]
     },
     "execution_count": 123,
     "metadata": {},
     "output_type": "execute_result"
    }
   ],
   "source": [
    "movies = for_movies_data.columns\n",
    "membership_movies = pd.DataFrame(index=movies, columns=[f\"% Cluster {i+1}\" for i in range(soft_pred.shape[1])])\n",
    "membership_movies.iloc[:, :] = soft_pred\n",
    "membership_movies[\"Final Cluster\"] = membership_movies.loc[:,:].values.argmax(axis=-1) + 1\n",
    "\n",
    "membership_movies"
   ]
  },
  {
   "cell_type": "code",
   "execution_count": 125,
   "metadata": {},
   "outputs": [],
   "source": [
    "cos = cosine_similarity(membership_users.iloc[:,:-1])\n",
    "similarity_users_cluster = pd.DataFrame(cos, index=users, columns=users)\n",
    "cos = cosine_similarity(membership_movies.iloc[:,:-1])\n",
    "similarity_movies_cluster = pd.DataFrame(cos, index=movies, columns=movies)\n",
    "del(cos)"
   ]
  },
  {
   "cell_type": "code",
   "execution_count": 139,
   "metadata": {},
   "outputs": [
    {
     "data": {
      "application/vnd.jupyter.widget-view+json": {
       "model_id": "ca5208c7dc2d4913bfeba8dabb00dd7f",
       "version_major": 2,
       "version_minor": 0
      },
      "text/plain": [
       "  0%|          | 0/500 [00:00<?, ?it/s]"
      ]
     },
     "metadata": {},
     "output_type": "display_data"
    },
    {
     "data": {
      "application/vnd.jupyter.widget-view+json": {
       "model_id": "c02d173338ae4184a9d1edae348a6962",
       "version_major": 2,
       "version_minor": 0
      },
      "text/plain": [
       "  0%|          | 0/252 [00:00<?, ?it/s]"
      ]
     },
     "metadata": {},
     "output_type": "display_data"
    },
    {
     "data": {
      "application/vnd.jupyter.widget-view+json": {
       "model_id": "ea90154dc7af47a8819a7b7116cb2b8e",
       "version_major": 2,
       "version_minor": 0
      },
      "text/plain": [
       "  0%|          | 0/500 [00:00<?, ?it/s]"
      ]
     },
     "metadata": {},
     "output_type": "display_data"
    },
    {
     "data": {
      "application/vnd.jupyter.widget-view+json": {
       "model_id": "b612d62af22e46019e972d777d1c8b1b",
       "version_major": 2,
       "version_minor": 0
      },
      "text/plain": [
       "  0%|          | 0/252 [00:00<?, ?it/s]"
      ]
     },
     "metadata": {},
     "output_type": "display_data"
    }
   ],
   "source": [
    "test_cluster = recommanded_movies(12, similarity_users_cluster, similarity_movies_cluster)\n",
    "test = recommanded_movies(12, similarity_users, similarity_movies)"
   ]
  },
  {
   "cell_type": "code",
   "execution_count": 127,
   "metadata": {},
   "outputs": [
    {
     "data": {
      "text/plain": [
       "5.088709677419355"
      ]
     },
     "execution_count": 127,
     "metadata": {},
     "output_type": "execute_result"
    }
   ],
   "source": [
    "np.abs(test_cluster[\"Mean\"].values - test[\"Mean\"].values).mean()"
   ]
  },
  {
   "cell_type": "code",
   "execution_count": 142,
   "metadata": {},
   "outputs": [],
   "source": [
    "test.to_csv(\"pourLeRapport.csv\")"
   ]
  },
  {
   "cell_type": "code",
   "execution_count": 128,
   "metadata": {},
   "outputs": [
    {
     "data": {
      "application/vnd.jupyter.widget-view+json": {
       "model_id": "11acd8e05a0d47c8bf47652cab5c3e02",
       "version_major": 2,
       "version_minor": 0
      },
      "text/plain": [
       "  0%|          | 0/500 [00:00<?, ?it/s]"
      ]
     },
     "metadata": {},
     "output_type": "display_data"
    },
    {
     "data": {
      "application/vnd.jupyter.widget-view+json": {
       "model_id": "4a5c2a3af9c640a7854c137baab61574",
       "version_major": 2,
       "version_minor": 0
      },
      "text/plain": [
       "  0%|          | 0/106 [00:00<?, ?it/s]"
      ]
     },
     "metadata": {},
     "output_type": "display_data"
    },
    {
     "data": {
      "application/vnd.jupyter.widget-view+json": {
       "model_id": "01ce4de20b3e4fcb84a04b50606d096c",
       "version_major": 2,
       "version_minor": 0
      },
      "text/plain": [
       "  0%|          | 0/500 [00:00<?, ?it/s]"
      ]
     },
     "metadata": {},
     "output_type": "display_data"
    },
    {
     "data": {
      "application/vnd.jupyter.widget-view+json": {
       "model_id": "b20e4fff5b4f4312ae438ecc15e92a9f",
       "version_major": 2,
       "version_minor": 0
      },
      "text/plain": [
       "  0%|          | 0/106 [00:00<?, ?it/s]"
      ]
     },
     "metadata": {},
     "output_type": "display_data"
    }
   ],
   "source": [
    "test_cluster = recommanded_movies(1, similarity_users_cluster, similarity_movies_cluster)\n",
    "test = recommanded_movies(1, similarity_users, similarity_movies)"
   ]
  },
  {
   "cell_type": "code",
   "execution_count": 129,
   "metadata": {},
   "outputs": [
    {
     "name": "stdout",
     "output_type": "stream",
     "text": [
      "                              Arg Users  Arg Movies  Mean\n",
      "Ocean's Eleven (2001)                 5           2   3.5\n",
      "Fight Club (1999)                     0          10   5.0\n",
      "Bourne Identity, The (2002)          12           0   6.0\n",
      "Catch Me If You Can (2002)            9          12  10.5\n",
      "Minority Report (2002)               21           1  11.0\n",
      "Beautiful Mind, A (2001)             34           6  20.0\n",
      "Kill Bill: Vol. 1 (2003)             15          25  20.0\n",
      "Bourne Supremacy, The (2004)         40           4  22.0\n",
      "Kill Bill: Vol. 2 (2004)             25          23  24.0\n",
      "I, Robot (2004)                      26          24  25.0\n",
      "                                 Arg Users  Arg Movies  Mean\n",
      "Batman Begins (2005)                     1           0   0.5\n",
      "Prestige, The (2006)                     5           6   5.5\n",
      "How to Train Your Dragon (2010)          9           3   6.0\n",
      "Inglourious Basterds (2009)              6           8   7.0\n",
      "Toy Story 3 (2010)                      12           2   7.0\n",
      "Star Trek (2009)                        19           1  10.0\n",
      "Kung Fu Panda (2008)                    21           4  12.5\n",
      "Django Unchained (2012)                 16          12  14.0\n",
      "District 9 (2009)                       23           7  15.0\n",
      "I, Robot (2004)                         22           9  15.5\n"
     ]
    }
   ],
   "source": [
    "print(test_cluster[:10])\n",
    "print(test[:10])"
   ]
  },
  {
   "cell_type": "code",
   "execution_count": 138,
   "metadata": {},
   "outputs": [
    {
     "data": {
      "text/html": [
       "<div>\n",
       "<style scoped>\n",
       "    .dataframe tbody tr th:only-of-type {\n",
       "        vertical-align: middle;\n",
       "    }\n",
       "\n",
       "    .dataframe tbody tr th {\n",
       "        vertical-align: top;\n",
       "    }\n",
       "\n",
       "    .dataframe thead th {\n",
       "        text-align: right;\n",
       "    }\n",
       "</style>\n",
       "<table border=\"1\" class=\"dataframe\">\n",
       "  <thead>\n",
       "    <tr style=\"text-align: right;\">\n",
       "      <th></th>\n",
       "      <th>Arg Users</th>\n",
       "      <th>Arg Movies</th>\n",
       "      <th>Mean</th>\n",
       "    </tr>\n",
       "  </thead>\n",
       "  <tbody>\n",
       "    <tr>\n",
       "      <th>Batman Begins (2005)</th>\n",
       "      <td>1</td>\n",
       "      <td>0</td>\n",
       "      <td>0.5</td>\n",
       "    </tr>\n",
       "    <tr>\n",
       "      <th>Prestige, The (2006)</th>\n",
       "      <td>5</td>\n",
       "      <td>6</td>\n",
       "      <td>5.5</td>\n",
       "    </tr>\n",
       "    <tr>\n",
       "      <th>How to Train Your Dragon (2010)</th>\n",
       "      <td>9</td>\n",
       "      <td>3</td>\n",
       "      <td>6.0</td>\n",
       "    </tr>\n",
       "    <tr>\n",
       "      <th>Inglourious Basterds (2009)</th>\n",
       "      <td>6</td>\n",
       "      <td>8</td>\n",
       "      <td>7.0</td>\n",
       "    </tr>\n",
       "    <tr>\n",
       "      <th>Toy Story 3 (2010)</th>\n",
       "      <td>12</td>\n",
       "      <td>2</td>\n",
       "      <td>7.0</td>\n",
       "    </tr>\n",
       "    <tr>\n",
       "      <th>Star Trek (2009)</th>\n",
       "      <td>19</td>\n",
       "      <td>1</td>\n",
       "      <td>10.0</td>\n",
       "    </tr>\n",
       "    <tr>\n",
       "      <th>Kung Fu Panda (2008)</th>\n",
       "      <td>21</td>\n",
       "      <td>4</td>\n",
       "      <td>12.5</td>\n",
       "    </tr>\n",
       "    <tr>\n",
       "      <th>Django Unchained (2012)</th>\n",
       "      <td>16</td>\n",
       "      <td>12</td>\n",
       "      <td>14.0</td>\n",
       "    </tr>\n",
       "    <tr>\n",
       "      <th>District 9 (2009)</th>\n",
       "      <td>23</td>\n",
       "      <td>7</td>\n",
       "      <td>15.0</td>\n",
       "    </tr>\n",
       "    <tr>\n",
       "      <th>I, Robot (2004)</th>\n",
       "      <td>22</td>\n",
       "      <td>9</td>\n",
       "      <td>15.5</td>\n",
       "    </tr>\n",
       "  </tbody>\n",
       "</table>\n",
       "</div>"
      ],
      "text/plain": [
       "                                 Arg Users  Arg Movies  Mean\n",
       "Batman Begins (2005)                     1           0   0.5\n",
       "Prestige, The (2006)                     5           6   5.5\n",
       "How to Train Your Dragon (2010)          9           3   6.0\n",
       "Inglourious Basterds (2009)              6           8   7.0\n",
       "Toy Story 3 (2010)                      12           2   7.0\n",
       "Star Trek (2009)                        19           1  10.0\n",
       "Kung Fu Panda (2008)                    21           4  12.5\n",
       "Django Unchained (2012)                 16          12  14.0\n",
       "District 9 (2009)                       23           7  15.0\n",
       "I, Robot (2004)                         22           9  15.5"
      ]
     },
     "execution_count": 138,
     "metadata": {},
     "output_type": "execute_result"
    }
   ],
   "source": [
    "test[:10]"
   ]
  }
 ],
 "metadata": {
  "kernelspec": {
   "display_name": "Python 3.8.3 64-bit",
   "language": "python",
   "name": "python3"
  },
  "language_info": {
   "codemirror_mode": {
    "name": "ipython",
    "version": 3
   },
   "file_extension": ".py",
   "mimetype": "text/x-python",
   "name": "python",
   "nbconvert_exporter": "python",
   "pygments_lexer": "ipython3",
   "version": "3.8.3"
  },
  "orig_nbformat": 4,
  "vscode": {
   "interpreter": {
    "hash": "570feb405e2e27c949193ac68f46852414290d515b0ba6e5d90d076ed2284471"
   }
  }
 },
 "nbformat": 4,
 "nbformat_minor": 2
}
