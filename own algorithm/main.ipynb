{
 "cells": [
  {
   "cell_type": "markdown",
   "metadata": {},
   "source": [
    "# Importing modules"
   ]
  },
  {
   "cell_type": "code",
   "execution_count": 1,
   "metadata": {},
   "outputs": [],
   "source": [
    "import matplotlib.pyplot as plt\n",
    "import seaborn as sbn\n",
    "\n",
    "import numpy as np\n",
    "import pandas as pd\n",
    "\n",
    "from tqdm.notebook import tqdm\n",
    "\n",
    "from skfuzzy.cluster import cmeans\n",
    "from sklearn.metrics.pairwise import cosine_similarity"
   ]
  },
  {
   "cell_type": "markdown",
   "metadata": {},
   "source": [
    "# Fuzzy C means Class"
   ]
  },
  {
   "cell_type": "code",
   "execution_count": 2,
   "metadata": {},
   "outputs": [],
   "source": [
    "class FCmeans():\n",
    "    #Constructor\n",
    "    def __init__(self, n_clusters : int, m : int = 2, error : float = 10**-9, max_iter : int = 300, init : np.ndarray = None, seed : int = None):\n",
    "        self.n_clusters = n_clusters    #Number of cluster\n",
    "        self.m = m                      #Array exponentiation applied to the membership function u_old at each iteration, where U_new = u_old ** m.\n",
    "        self.error = error              #Stopping criterion; stop early if the norm of (u[p] - u[p-1]) < error\n",
    "        self.max_iter = max_iter        #Maximum number of iterations allowed.\n",
    "        self.init = init                #Initial fuzzy c-partitioned matrix. If none provided, algorithm is randomly initialized.\n",
    "        self.seed = seed                #Sets random seed of init\n",
    "\n",
    "\n",
    "    def _dist(A, B):\n",
    "        \"\"\"Compute the euclidean distance between two matrices\"\"\"\n",
    "        return np.sqrt(np.einsum(\"ijk->ij\", (A[:, None, :] - B) ** 2))\n",
    "\n",
    "\n",
    "    def fit(self, data : np.ndarray):\n",
    "        \"\"\"\n",
    "        Train the fuzzy-c-means model\n",
    "\n",
    "        Parameters\n",
    "        ----------\n",
    "        data : array-like, shape = [n_samples, n_features]\n",
    "            Training instances to cluster.\n",
    "        \"\"\"\n",
    "        fcm = cmeans(data.T, self.n_clusters, self.m, self.error, self.max_iter, init=self.init, seed=self.seed)\n",
    "        self.centers = fcm[0]               #Cluster centers\n",
    "        self.membership = fcm[1].T          #Final fuzzy c-partitioned matrix\n",
    "        self.init_membership = fcm[2].T     #Initial guess at fuzzy c-partitioned matrix\n",
    "        self.dist = fcm[3]                  #Final Euclidian distance matrix\n",
    "        self.inertia = fcm[4]               #Objective function history\n",
    "        self.n_iter = fcm[5]+1              #Number of iterations run\n",
    "        self.coeff = fcm[6]                 #Final fuzzy partition coefficient\n",
    "\n",
    "\n",
    "    def soft_predict(self, X: np.ndarray) -> np.ndarray:\n",
    "        \"\"\"\n",
    "        Soft predict of FCM \n",
    "\n",
    "        Parameters\n",
    "        ----------\n",
    "        data : array, shape = [n_samples, n_features]\n",
    "            New data to predict.\n",
    "\n",
    "        Returns\n",
    "        -------\n",
    "        array, shape = [n_samples, n_clusters]\n",
    "            Fuzzy partition array, returned as an array with n_samples rows\n",
    "            and n_clusters columns.\n",
    "        \"\"\"\n",
    "        temp = FCmeans._dist(X, self.centers) ** float(2 / (self.m - 1))\n",
    "        denominator_ = temp.reshape((X.shape[0], 1, -1)).repeat(temp.shape[-1], axis=1)\n",
    "        denominator_ = temp[:, :, np.newaxis] / denominator_\n",
    "        return 1 / denominator_.sum(2)\n",
    "\n",
    "\n",
    "    def predict(self, data : np.ndarray):\n",
    "        \"\"\"\n",
    "        Predict the closest cluster each sample in X belongs to.\n",
    "\n",
    "        Parameters\n",
    "        ----------\n",
    "        data : array, shape = [n_samples, n_features]\n",
    "            New data to predict.\n",
    "\n",
    "        Returns\n",
    "        -------\n",
    "        labels : array, shape = [n_samples,]\n",
    "            Index of the cluster each sample belongs to.\n",
    "        \"\"\"\n",
    "        return self.soft_predict(data).argmax(axis=-1)"
   ]
  },
  {
   "cell_type": "markdown",
   "metadata": {},
   "source": [
    "# 2 - Get all files needed"
   ]
  },
  {
   "cell_type": "code",
   "execution_count": 3,
   "metadata": {},
   "outputs": [],
   "source": [
    "data_folder = \"../../Dataset/Movie/\""
   ]
  },
  {
   "cell_type": "code",
   "execution_count": 4,
   "metadata": {},
   "outputs": [
    {
     "data": {
      "text/plain": [
       "(25000095, 3)"
      ]
     },
     "execution_count": 4,
     "metadata": {},
     "output_type": "execute_result"
    }
   ],
   "source": [
    "rating = pd.read_csv(f\"{data_folder}ratings.csv\").drop([\"timestamp\"], axis=1)\n",
    "movie = pd.read_csv(f\"{data_folder}movies.csv\")\n",
    "\n",
    "data = pd.merge(movie, rating, on=\"movieId\").drop([\"genres\", \"movieId\"], axis=1)\n",
    "data.shape"
   ]
  },
  {
   "cell_type": "markdown",
   "metadata": {},
   "source": [
    "# 3 - Transforming data"
   ]
  },
  {
   "cell_type": "code",
   "execution_count": 5,
   "metadata": {},
   "outputs": [
    {
     "data": {
      "text/plain": [
       "(10944751, 3)"
      ]
     },
     "execution_count": 5,
     "metadata": {},
     "output_type": "execute_result"
    }
   ],
   "source": [
    "#On garde les NB_FILM films les plus notés\n",
    "NB_FILM = 500\n",
    "keep_title = data[\"title\"].value_counts().sort_values(ascending=False)[:NB_FILM].index\n",
    "data_title = data[data[\"title\"].isin(keep_title)]\n",
    "data_title.shape"
   ]
  },
  {
   "cell_type": "code",
   "execution_count": 6,
   "metadata": {},
   "outputs": [],
   "source": [
    "#On garde les users qui ont données une note sur au moins THRESH_USER % des films\n",
    "THRESH_USER = 0.40\n",
    "keep_user = data_title[\"userId\"].value_counts()/NB_FILM >= THRESH_USER\n",
    "data_title_user = data_title[data_title[\"userId\"].isin(keep_user[keep_user].index)]"
   ]
  },
  {
   "cell_type": "code",
   "execution_count": 7,
   "metadata": {},
   "outputs": [
    {
     "data": {
      "text/plain": [
       "(10103, 500)"
      ]
     },
     "execution_count": 7,
     "metadata": {},
     "output_type": "execute_result"
    }
   ],
   "source": [
    "#On fait notre pivot table\n",
    "user_title_df = data_title_user.pivot_table(index=\"userId\", columns=\"title\", values=\"rating\")\n",
    "user_title_df.to_csv(f\"{data_folder}test_for_users.csv\")\n",
    "user_title_df.shape"
   ]
  },
  {
   "cell_type": "markdown",
   "metadata": {},
   "source": [
    "# Algo"
   ]
  },
  {
   "cell_type": "code",
   "execution_count": 16,
   "metadata": {},
   "outputs": [],
   "source": [
    "def normalization_min_max(row):\n",
    "    return (row - row.mean())/(row.max() - row.min())"
   ]
  },
  {
   "cell_type": "code",
   "execution_count": 17,
   "metadata": {},
   "outputs": [],
   "source": [
    "for_users_data = user_title_df.fillna(0).apply(normalization_min_max, axis=1)\n",
    "for_movies_data = user_title_df.fillna(0).apply(normalization_min_max, axis=0)"
   ]
  },
  {
   "cell_type": "code",
   "execution_count": 18,
   "metadata": {},
   "outputs": [],
   "source": [
    "#Création de la matrice de cosinus distance\n",
    "all_users = user_title_df.index\n",
    "cos = cosine_similarity(for_users_data)\n",
    "similarity_users = pd.DataFrame(cos, index=all_users, columns=all_users)\n",
    "np.fill_diagonal(similarity_users.values, 0)\n",
    "\n",
    "\n",
    "#Création de la matrice de cosinus distance\n",
    "all_movies = user_title_df.columns\n",
    "cos = cosine_similarity(for_movies_data.T)\n",
    "similarity_movies= pd.DataFrame(cos, index=all_movies, columns=all_movies)\n",
    "np.fill_diagonal(similarity_movies.values, 0)\n",
    "\n",
    "\n",
    "del(cos)"
   ]
  },
  {
   "cell_type": "code",
   "execution_count": 19,
   "metadata": {},
   "outputs": [],
   "source": [
    "#On devine la note en fonction des candidtats similaires\n",
    "def guess_rate(user, title, N):\n",
    "    similar_mat = similarity_users\n",
    "    all_similar_users = similar_mat.loc[user].sort_values(ascending=False).index\n",
    "    user_title_mat = for_users_data\n",
    "    \n",
    "    rate = 0\n",
    "    weight = 0\n",
    "    k = 0\n",
    "    i = 0\n",
    "\n",
    "    while (k < N):\n",
    "        similar_user = all_similar_users[i]\n",
    "        r = user_title_mat.loc[similar_user, title]\n",
    "\n",
    "        if not (pd.isnull(r)):\n",
    "            w = similar_mat.loc[similar_user, user]\n",
    "            rate += w*r\n",
    "            weight += w\n",
    "            k += 1\n",
    "\n",
    "        i += 1\n",
    "\n",
    "    return rate/weight"
   ]
  },
  {
   "cell_type": "code",
   "execution_count": 20,
   "metadata": {},
   "outputs": [],
   "source": [
    "def get_similar_movies_from_users(user_id, N):\n",
    "    all_rates = []\n",
    "    keep_movies = []\n",
    "\n",
    "    for movie in tqdm(user_title_df.columns):\n",
    "        if (pd.isnull(user_title_df.loc[user_id, movie])):\n",
    "            all_rates.append(guess_rate(user_id, movie, N))\n",
    "            keep_movies.append(movie)\n",
    "\n",
    "    return pd.Series(all_rates, keep_movies).sort_values(ascending=False)"
   ]
  },
  {
   "cell_type": "code",
   "execution_count": 21,
   "metadata": {},
   "outputs": [],
   "source": [
    "def get_similar_movies_from_movies(user_id):\n",
    "    similar_movies = pd.DataFrame()\n",
    "\n",
    "    movies_rates = user_title_df.loc[user_id].dropna()\n",
    "    movies = movies_rates.index\n",
    "    rates = movies_rates.values\n",
    "    user = [(movies[i], rates[i]) for i in range(len(rates))]\n",
    "\n",
    "    for movie, rate in tqdm(user):\n",
    "        movie_list = (similarity_movies.loc[:, movie]*(rate-2.5)).sort_values(ascending=False)\n",
    "        similar_movies = similar_movies.append(movie_list)\n",
    "\n",
    "    \n",
    "    similar_movies = similar_movies.T.drop([movie for movie, rate in user], axis=0)\n",
    "    return similar_movies.sum(axis=1).sort_values(ascending=False)"
   ]
  },
  {
   "cell_type": "code",
   "execution_count": 22,
   "metadata": {},
   "outputs": [],
   "source": [
    "def recommanded_movies(user_id):\n",
    "    get_users = get_similar_movies_from_users(user_id, 15)\n",
    "    get_movies = get_similar_movies_from_movies(user_id)\n",
    "\n",
    "    arg_movies = []\n",
    "    for title in get_users.index:\n",
    "        arg_movies.append(int(np.argwhere(get_movies.index == title)))\n",
    "\n",
    "    recommanded = pd.DataFrame(index=get_users.index, columns=[\"Arg Users\", \"Arg Movies\"], data=np.array([range(len(arg_movies)), arg_movies]).T)\n",
    "    recommanded[\"Mean\"] = recommanded.mean(axis=1)\n",
    "\n",
    "    return recommanded.sort_values(by=\"Mean\")"
   ]
  },
  {
   "cell_type": "code",
   "execution_count": 23,
   "metadata": {},
   "outputs": [
    {
     "data": {
      "application/vnd.jupyter.widget-view+json": {
       "model_id": "3bf98b598924493b954970c460f54b8f",
       "version_major": 2,
       "version_minor": 0
      },
      "text/plain": [
       "  0%|          | 0/500 [00:00<?, ?it/s]"
      ]
     },
     "metadata": {},
     "output_type": "display_data"
    },
    {
     "data": {
      "application/vnd.jupyter.widget-view+json": {
       "model_id": "5ca5065b01ae476db6d748ecc46cee06",
       "version_major": 2,
       "version_minor": 0
      },
      "text/plain": [
       "  0%|          | 0/252 [00:00<?, ?it/s]"
      ]
     },
     "metadata": {},
     "output_type": "display_data"
    },
    {
     "data": {
      "text/html": [
       "<div>\n",
       "<style scoped>\n",
       "    .dataframe tbody tr th:only-of-type {\n",
       "        vertical-align: middle;\n",
       "    }\n",
       "\n",
       "    .dataframe tbody tr th {\n",
       "        vertical-align: top;\n",
       "    }\n",
       "\n",
       "    .dataframe thead th {\n",
       "        text-align: right;\n",
       "    }\n",
       "</style>\n",
       "<table border=\"1\" class=\"dataframe\">\n",
       "  <thead>\n",
       "    <tr style=\"text-align: right;\">\n",
       "      <th></th>\n",
       "      <th>Arg Users</th>\n",
       "      <th>Arg Movies</th>\n",
       "      <th>Mean</th>\n",
       "    </tr>\n",
       "  </thead>\n",
       "  <tbody>\n",
       "    <tr>\n",
       "      <th>Graduate, The (1967)</th>\n",
       "      <td>9</td>\n",
       "      <td>0</td>\n",
       "      <td>4.5</td>\n",
       "    </tr>\n",
       "    <tr>\n",
       "      <th>Raiders of the Lost Ark (Indiana Jones and the Raiders of the Lost Ark) (1981)</th>\n",
       "      <td>1</td>\n",
       "      <td>16</td>\n",
       "      <td>8.5</td>\n",
       "    </tr>\n",
       "    <tr>\n",
       "      <th>Quiz Show (1994)</th>\n",
       "      <td>20</td>\n",
       "      <td>1</td>\n",
       "      <td>10.5</td>\n",
       "    </tr>\n",
       "    <tr>\n",
       "      <th>One Flew Over the Cuckoo's Nest (1975)</th>\n",
       "      <td>8</td>\n",
       "      <td>18</td>\n",
       "      <td>13.0</td>\n",
       "    </tr>\n",
       "    <tr>\n",
       "      <th>Close Encounters of the Third Kind (1977)</th>\n",
       "      <td>31</td>\n",
       "      <td>2</td>\n",
       "      <td>16.5</td>\n",
       "    </tr>\n",
       "    <tr>\n",
       "      <th>...</th>\n",
       "      <td>...</td>\n",
       "      <td>...</td>\n",
       "      <td>...</td>\n",
       "    </tr>\n",
       "    <tr>\n",
       "      <th>Edge of Tomorrow (2014)</th>\n",
       "      <td>232</td>\n",
       "      <td>244</td>\n",
       "      <td>238.0</td>\n",
       "    </tr>\n",
       "    <tr>\n",
       "      <th>Taken (2008)</th>\n",
       "      <td>246</td>\n",
       "      <td>233</td>\n",
       "      <td>239.5</td>\n",
       "    </tr>\n",
       "    <tr>\n",
       "      <th>Shutter Island (2010)</th>\n",
       "      <td>245</td>\n",
       "      <td>239</td>\n",
       "      <td>242.0</td>\n",
       "    </tr>\n",
       "    <tr>\n",
       "      <th>Pirates of the Caribbean: At World's End (2007)</th>\n",
       "      <td>243</td>\n",
       "      <td>243</td>\n",
       "      <td>243.0</td>\n",
       "    </tr>\n",
       "    <tr>\n",
       "      <th>Interstellar (2014)</th>\n",
       "      <td>239</td>\n",
       "      <td>247</td>\n",
       "      <td>243.0</td>\n",
       "    </tr>\n",
       "  </tbody>\n",
       "</table>\n",
       "<p>248 rows × 3 columns</p>\n",
       "</div>"
      ],
      "text/plain": [
       "                                                    Arg Users  Arg Movies  \\\n",
       "Graduate, The (1967)                                        9           0   \n",
       "Raiders of the Lost Ark (Indiana Jones and the ...          1          16   \n",
       "Quiz Show (1994)                                           20           1   \n",
       "One Flew Over the Cuckoo's Nest (1975)                      8          18   \n",
       "Close Encounters of the Third Kind (1977)                  31           2   \n",
       "...                                                       ...         ...   \n",
       "Edge of Tomorrow (2014)                                   232         244   \n",
       "Taken (2008)                                              246         233   \n",
       "Shutter Island (2010)                                     245         239   \n",
       "Pirates of the Caribbean: At World's End (2007)           243         243   \n",
       "Interstellar (2014)                                       239         247   \n",
       "\n",
       "                                                     Mean  \n",
       "Graduate, The (1967)                                  4.5  \n",
       "Raiders of the Lost Ark (Indiana Jones and the ...    8.5  \n",
       "Quiz Show (1994)                                     10.5  \n",
       "One Flew Over the Cuckoo's Nest (1975)               13.0  \n",
       "Close Encounters of the Third Kind (1977)            16.5  \n",
       "...                                                   ...  \n",
       "Edge of Tomorrow (2014)                             238.0  \n",
       "Taken (2008)                                        239.5  \n",
       "Shutter Island (2010)                               242.0  \n",
       "Pirates of the Caribbean: At World's End (2007)     243.0  \n",
       "Interstellar (2014)                                 243.0  \n",
       "\n",
       "[248 rows x 3 columns]"
      ]
     },
     "execution_count": 23,
     "metadata": {},
     "output_type": "execute_result"
    }
   ],
   "source": [
    "recommanded_movies(12)"
   ]
  }
 ],
 "metadata": {
  "kernelspec": {
   "display_name": "Python 3.8.3 64-bit",
   "language": "python",
   "name": "python3"
  },
  "language_info": {
   "codemirror_mode": {
    "name": "ipython",
    "version": 3
   },
   "file_extension": ".py",
   "mimetype": "text/x-python",
   "name": "python",
   "nbconvert_exporter": "python",
   "pygments_lexer": "ipython3",
   "version": "3.8.3"
  },
  "orig_nbformat": 4,
  "vscode": {
   "interpreter": {
    "hash": "570feb405e2e27c949193ac68f46852414290d515b0ba6e5d90d076ed2284471"
   }
  }
 },
 "nbformat": 4,
 "nbformat_minor": 2
}
