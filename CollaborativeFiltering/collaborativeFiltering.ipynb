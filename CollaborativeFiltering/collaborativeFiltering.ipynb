{
 "cells": [
  {
   "cell_type": "markdown",
   "metadata": {},
   "source": [
    "# 0 - Instalation of modules"
   ]
  },
  {
   "cell_type": "code",
   "execution_count": null,
   "metadata": {},
   "outputs": [],
   "source": [
    "#Run this cell to have the progress bar\n",
    "!pip install tqdm\n",
    "!pip install ipywidgets\n",
    "!jupyter nbextension enable --py widgetsnbextension"
   ]
  },
  {
   "cell_type": "code",
   "execution_count": 123,
   "metadata": {},
   "outputs": [],
   "source": [
    "%reset"
   ]
  },
  {
   "cell_type": "markdown",
   "metadata": {},
   "source": [
    "# 1 - Importing modules"
   ]
  },
  {
   "cell_type": "code",
   "execution_count": 1,
   "metadata": {},
   "outputs": [],
   "source": [
    "import pandas as pd\n",
    "import numpy as np\n",
    "from tqdm.notebook import tqdm\n",
    "from sklearn.metrics.pairwise import cosine_similarity\n",
    "import matplotlib.pyplot as plt"
   ]
  },
  {
   "cell_type": "markdown",
   "metadata": {},
   "source": [
    "# 2 - Get all files needed"
   ]
  },
  {
   "cell_type": "code",
   "execution_count": 2,
   "metadata": {},
   "outputs": [],
   "source": [
    "data_folder = \"../../Dataset/Movie/\""
   ]
  },
  {
   "cell_type": "code",
   "execution_count": 3,
   "metadata": {},
   "outputs": [
    {
     "data": {
      "text/plain": [
       "(25000095, 3)"
      ]
     },
     "execution_count": 3,
     "metadata": {},
     "output_type": "execute_result"
    }
   ],
   "source": [
    "rating = pd.read_csv(f\"{data_folder}ratings.csv\").drop([\"timestamp\"], axis=1)\n",
    "movie = pd.read_csv(f\"{data_folder}movies.csv\")\n",
    "\n",
    "data = pd.merge(movie, rating, on=\"movieId\").drop([\"genres\", \"movieId\"], axis=1)\n",
    "data.shape"
   ]
  },
  {
   "cell_type": "markdown",
   "metadata": {},
   "source": [
    "# 3 - Transforming data"
   ]
  },
  {
   "cell_type": "code",
   "execution_count": 4,
   "metadata": {},
   "outputs": [
    {
     "data": {
      "text/plain": [
       "(10944751, 3)"
      ]
     },
     "execution_count": 4,
     "metadata": {},
     "output_type": "execute_result"
    }
   ],
   "source": [
    "#On garde les NB_FILM films les plus notés\n",
    "NB_FILM = 500\n",
    "keep_title = data[\"title\"].value_counts().sort_values(ascending=False)[:NB_FILM].index\n",
    "data_title = data[data[\"title\"].isin(keep_title)]\n",
    "data_title.shape"
   ]
  },
  {
   "cell_type": "code",
   "execution_count": 5,
   "metadata": {},
   "outputs": [],
   "source": [
    "#On garde les users qui ont données une note sur au moins THRESH_USER % des films\n",
    "THRESH_USER = 0.40\n",
    "keep_user = data_title[\"userId\"].value_counts()/NB_FILM >= THRESH_USER\n",
    "data_title_user = data_title[data_title[\"userId\"].isin(keep_user[keep_user].index)]"
   ]
  },
  {
   "cell_type": "code",
   "execution_count": 6,
   "metadata": {},
   "outputs": [
    {
     "data": {
      "text/plain": [
       "(10103, 500)"
      ]
     },
     "execution_count": 6,
     "metadata": {},
     "output_type": "execute_result"
    }
   ],
   "source": [
    "#On fait notre pivot table\n",
    "user_title_df = data_title_user.pivot_table(index=\"userId\", columns=\"title\", values=\"rating\")\n",
    "user_title_df.to_csv(f\"{data_folder}test_for_users.csv\")\n",
    "user_title_df.shape"
   ]
  },
  {
   "cell_type": "markdown",
   "metadata": {},
   "source": [
    "# 4 - Colaborative filtering"
   ]
  },
  {
   "cell_type": "code",
   "execution_count": 77,
   "metadata": {},
   "outputs": [
    {
     "data": {
      "text/plain": [
       "(10103, 500)"
      ]
     },
     "execution_count": 77,
     "metadata": {},
     "output_type": "execute_result"
    }
   ],
   "source": [
    "#Récupérer les données si elles sont en local\n",
    "user_title_df = pd.read_csv(f\"{data_folder}test_for_users.csv\", index_col=0)\n",
    "user_title_df.shape"
   ]
  },
  {
   "cell_type": "code",
   "execution_count": 78,
   "metadata": {},
   "outputs": [],
   "source": [
    "#Standardisation des lignes pour supprimer les biais\n",
    "def normalization_mean(row):\n",
    "    return row - row.mean()\n",
    "\n",
    "def normalization_min_max(row):\n",
    "    return (row - row.mean())/(row.max() - row.min())\n",
    "\n",
    "def normalization_std(row):\n",
    "    return (row - row.mean())/row.std()  "
   ]
  },
  {
   "cell_type": "markdown",
   "metadata": {},
   "source": [
    "## 4.1 - Users to users"
   ]
  },
  {
   "cell_type": "code",
   "execution_count": 79,
   "metadata": {},
   "outputs": [],
   "source": [
    "for_users_data = {}\n",
    "for_users_data[\"min_max\"] = user_title_df.fillna(0).apply(normalization_min_max, axis=1)\n",
    "for_users_data[\"mean\"] = user_title_df.fillna(0).apply(normalization_mean, axis=1)\n",
    "for_users_data[\"std\"] = user_title_df.fillna(0).apply(normalization_std, axis=1)"
   ]
  },
  {
   "cell_type": "code",
   "execution_count": 80,
   "metadata": {},
   "outputs": [],
   "source": [
    "#Création de la matrice de cosinus distance\n",
    "all_users = user_title_df.index\n",
    "similarity_users = {\"Cosinus\" : {}, \"Pearson\" : {}}\n",
    "\n",
    "for method in for_users_data.keys():\n",
    "    cos = cosine_similarity(for_users_data[method])\n",
    "    similarity_users[\"Cosinus\"][method] = pd.DataFrame(cos, index=all_users, columns=all_users)\n",
    "    np.fill_diagonal(similarity_users[\"Cosinus\"][method].values, 0)\n",
    "\n",
    "    corr = np.corrcoef(for_users_data[method])\n",
    "    similarity_users[\"Pearson\"][method] = pd.DataFrame(corr, index=all_users, columns=all_users)\n",
    "    np.fill_diagonal(similarity_users[\"Pearson\"][method].values, 0)\n",
    "\n",
    "del(cos)\n",
    "del(corr)"
   ]
  },
  {
   "cell_type": "code",
   "execution_count": 81,
   "metadata": {},
   "outputs": [],
   "source": [
    "#On devine la note en fonction des candidtats similaires\n",
    "def guess_rate(user, title, distance, method, N):\n",
    "    similar_mat = similarity_users[distance][method]\n",
    "    all_similar_users = similar_mat.loc[user].sort_values(ascending=False).index\n",
    "    user_title_mat = for_users_data[method]\n",
    "    \n",
    "    rate = 0\n",
    "    weight = 0\n",
    "    k = 0\n",
    "    i = 0\n",
    "\n",
    "    while (k < N):\n",
    "        similar_user = all_similar_users[i]\n",
    "        r = user_title_mat.loc[similar_user, title]\n",
    "\n",
    "        if not (pd.isnull(r)):\n",
    "            w = similar_mat.loc[similar_user, user]\n",
    "            rate += w*r\n",
    "            weight += w\n",
    "            k += 1\n",
    "\n",
    "        i += 1\n",
    "\n",
    "    return rate/weight"
   ]
  },
  {
   "cell_type": "code",
   "execution_count": 82,
   "metadata": {},
   "outputs": [],
   "source": [
    "def get_similar_movies_from_users(user_id, distance, method, N):\n",
    "    all_rates = []\n",
    "    keep_movies = []\n",
    "\n",
    "    for movie in tqdm(user_title_df.columns):\n",
    "        if (pd.isnull(user_title_df.loc[user_id, movie])):\n",
    "            all_rates.append(guess_rate(user_id, movie, distance, method, N))\n",
    "            keep_movies.append(movie)\n",
    "\n",
    "    return pd.Series(all_rates, keep_movies).sort_values(ascending=False)"
   ]
  },
  {
   "cell_type": "code",
   "execution_count": 13,
   "metadata": {},
   "outputs": [
    {
     "data": {
      "application/vnd.jupyter.widget-view+json": {
       "model_id": "f9bf6fe133d54c4aaa6b4a6fb5828d3f",
       "version_major": 2,
       "version_minor": 0
      },
      "text/plain": [
       "  0%|          | 0/500 [00:00<?, ?it/s]"
      ]
     },
     "metadata": {},
     "output_type": "display_data"
    },
    {
     "data": {
      "application/vnd.jupyter.widget-view+json": {
       "model_id": "3ec16268b34747eaa302e1f49d24d811",
       "version_major": 2,
       "version_minor": 0
      },
      "text/plain": [
       "  0%|          | 0/500 [00:00<?, ?it/s]"
      ]
     },
     "metadata": {},
     "output_type": "display_data"
    },
    {
     "data": {
      "application/vnd.jupyter.widget-view+json": {
       "model_id": "0b4b6c8c5bd148dd8673e8b973bf4a44",
       "version_major": 2,
       "version_minor": 0
      },
      "text/plain": [
       "  0%|          | 0/500 [00:00<?, ?it/s]"
      ]
     },
     "metadata": {},
     "output_type": "display_data"
    },
    {
     "data": {
      "application/vnd.jupyter.widget-view+json": {
       "model_id": "b9e9574473294150958c306f9698f921",
       "version_major": 2,
       "version_minor": 0
      },
      "text/plain": [
       "  0%|          | 0/500 [00:03<?, ?it/s]"
      ]
     },
     "metadata": {},
     "output_type": "display_data"
    },
    {
     "data": {
      "application/vnd.jupyter.widget-view+json": {
       "model_id": "cb8bc24f20c24e6d8bb10e97f4af7d27",
       "version_major": 2,
       "version_minor": 0
      },
      "text/plain": [
       "  0%|          | 0/500 [00:00<?, ?it/s]"
      ]
     },
     "metadata": {},
     "output_type": "display_data"
    },
    {
     "data": {
      "application/vnd.jupyter.widget-view+json": {
       "model_id": "5762d0f7d26144abbbe8c7a49b6f6d4c",
       "version_major": 2,
       "version_minor": 0
      },
      "text/plain": [
       "  0%|          | 0/500 [00:00<?, ?it/s]"
      ]
     },
     "metadata": {},
     "output_type": "display_data"
    }
   ],
   "source": [
    "similar_movies = {\"Cosinus\" : {\"min_max\" : [], \"mean\" : [], \"std\" : []}, \"Pearson\" : {\"min_max\" : [], \"mean\" : [], \"std\" : []}}\n",
    "\n",
    "for distance in similar_movies.keys():\n",
    "    for method in similar_movies[distance].keys():\n",
    "        similar_movies[distance][method] = get_similar_movies_from_users(12, distance, method, 10).index"
   ]
  },
  {
   "cell_type": "code",
   "execution_count": 14,
   "metadata": {},
   "outputs": [
    {
     "data": {
      "text/plain": [
       "True"
      ]
     },
     "execution_count": 14,
     "metadata": {},
     "output_type": "execute_result"
    }
   ],
   "source": [
    "cos_recommanded = pd.DataFrame.from_dict(similar_movies[\"Cosinus\"])\n",
    "corr_recommanded = pd.DataFrame.from_dict(similar_movies[\"Pearson\"])\n",
    "((cos_recommanded == corr_recommanded).all()).all()\n",
    "#Aucune différence entre Cosinus et Pearson"
   ]
  },
  {
   "cell_type": "code",
   "execution_count": 15,
   "metadata": {},
   "outputs": [
    {
     "data": {
      "text/plain": [
       "39.91935483870967"
      ]
     },
     "execution_count": 15,
     "metadata": {},
     "output_type": "execute_result"
    }
   ],
   "source": [
    "(cos_recommanded[\"min_max\"] == cos_recommanded[\"mean\"]).all()       #100% pareil\n",
    "np.mean(cos_recommanded[\"min_max\"] == cos_recommanded[\"std\"])*100   #39.91% pareil"
   ]
  },
  {
   "cell_type": "code",
   "execution_count": 16,
   "metadata": {},
   "outputs": [
    {
     "data": {
      "text/plain": [
       "2.4563758389261743"
      ]
     },
     "execution_count": 16,
     "metadata": {},
     "output_type": "execute_result"
    }
   ],
   "source": [
    "k = 0\n",
    "arg_diff = []\n",
    "for movie in cos_recommanded[\"mean\"].values:\n",
    "    arg = np.where(cos_recommanded[\"std\"] == movie)[0][0]\n",
    "    if (arg != k):\n",
    "        arg_diff.append(abs(k-arg))\n",
    "    k += 1\n",
    "np.mean(arg_diff)\n",
    "#Il n'y a que 2/3 places de différences entre chaque films"
   ]
  },
  {
   "cell_type": "code",
   "execution_count": 17,
   "metadata": {},
   "outputs": [
    {
     "data": {
      "application/vnd.jupyter.widget-view+json": {
       "model_id": "f5970292c2e9431d89dace6ebee7a022",
       "version_major": 2,
       "version_minor": 0
      },
      "text/plain": [
       "  0%|          | 0/99 [00:00<?, ?it/s]"
      ]
     },
     "metadata": {},
     "output_type": "display_data"
    }
   ],
   "source": [
    "#On compare les deux méthodes\n",
    "from time import time\n",
    "\n",
    "NB_USER = 20\n",
    "NB_MOVIE = 20\n",
    "MAX = 100\n",
    "STEP = 2\n",
    "\n",
    "stats = {}\n",
    "\n",
    "for N in tqdm([i*STEP for i in range(1, MAX)]):\n",
    "    for distance in [\"Cosinus\", \"Pearson\"]:\n",
    "        stats[distance] = {\"min_max\" : [], \"mean\" : [], \"std\" : []}\n",
    "\n",
    "        for user_id in user_title_df.index[:NB_USER]:\n",
    "            all_rated_movies = user_title_df.loc[user_id].dropna()[:NB_MOVIE]\n",
    "\n",
    "            for movie in all_rated_movies.index:\n",
    "                for method in [\"min_max\", \"mean\", \"std\"]:\n",
    "                    start = time()\n",
    "                    rate = guess_rate(user_id, movie, distance, method, N)\n",
    "                    stats[distance][method].append(time() - start)"
   ]
  },
  {
   "cell_type": "code",
   "execution_count": 18,
   "metadata": {},
   "outputs": [
    {
     "data": {
      "image/png": "[encoded data removed]",
      "text/plain": [
       "<Figure size 1080x360 with 1 Axes>"
      ]
     },
     "metadata": {
      "needs_background": "light"
     },
     "output_type": "display_data"
    }
   ],
   "source": [
    "plt.figure(figsize=(15, 5))\n",
    "\n",
    "plots = []\n",
    "labels = []\n",
    "\n",
    "for distance in stats.keys():\n",
    "    for method in stats[distance].keys():\n",
    "        plots.append(stats[distance][method])\n",
    "        labels.append(f\"{distance[:3]}-{method}\")\n",
    "\n",
    "plt.boxplot(plots, labels=labels, showfliers=False)\n",
    "plt.title(\"Times comparaison\")\n",
    "plt.show()"
   ]
  },
  {
   "cell_type": "markdown",
   "metadata": {},
   "source": [
    "## 4.2 - Movie to movie"
   ]
  },
  {
   "cell_type": "code",
   "execution_count": 83,
   "metadata": {},
   "outputs": [],
   "source": [
    "for_movies_data = {}\n",
    "for_movies_data[\"min_max\"] = user_title_df.fillna(0).apply(normalization_min_max, axis=0)\n",
    "for_movies_data[\"mean\"] = user_title_df.fillna(0).apply(normalization_mean, axis=0)\n",
    "for_movies_data[\"std\"] = user_title_df.fillna(0).apply(normalization_std, axis=0)"
   ]
  },
  {
   "cell_type": "code",
   "execution_count": 84,
   "metadata": {},
   "outputs": [],
   "source": [
    "#Création de la matrice de cosinus distance\n",
    "all_movies = user_title_df.columns\n",
    "similarity_movies = {\"Cosinus\" : {}, \"Pearson\" : {}}\n",
    "\n",
    "for method in for_movies_data.keys():\n",
    "    cos = cosine_similarity(for_movies_data[method].T)\n",
    "    similarity_movies[\"Cosinus\"][method] = pd.DataFrame(cos, index=all_movies, columns=all_movies)\n",
    "    np.fill_diagonal(similarity_movies[\"Cosinus\"][method].values, 0)\n",
    "\n",
    "    corr = np.corrcoef(for_movies_data[method].T)\n",
    "    similarity_movies[\"Pearson\"][method] = pd.DataFrame(corr, index=all_movies, columns=all_movies)\n",
    "    np.fill_diagonal(similarity_movies[\"Pearson\"][method].values, 0)\n",
    "\n",
    "del(cos)\n",
    "del(corr)"
   ]
  },
  {
   "cell_type": "code",
   "execution_count": 85,
   "metadata": {},
   "outputs": [],
   "source": [
    "def get_similar_movies_from_movies(user_id, distance, method):\n",
    "    similar_movies = pd.DataFrame()\n",
    "\n",
    "    movies_rates = user_title_df.loc[user_id].dropna()\n",
    "    movies = movies_rates.index\n",
    "    rates = movies_rates.values\n",
    "    user = [(movies[i], rates[i]) for i in range(len(rates))]\n",
    "\n",
    "    for movie, rate in tqdm(user):\n",
    "        movie_list = (similarity_movies[distance][method].loc[:, movie]*(rate-2.5)).sort_values(ascending=False)\n",
    "        similar_movies = similar_movies.append(movie_list)\n",
    "\n",
    "    \n",
    "    similar_movies = similar_movies.T.drop([movie for movie, rate in user], axis=0)\n",
    "    return similar_movies.sum(axis=1).sort_values(ascending=False)"
   ]
  },
  {
   "cell_type": "code",
   "execution_count": 14,
   "metadata": {},
   "outputs": [
    {
     "data": {
      "application/vnd.jupyter.widget-view+json": {
       "model_id": "533caf73bc694794b13449725ad0dbf0",
       "version_major": 2,
       "version_minor": 0
      },
      "text/plain": [
       "  0%|          | 0/252 [00:00<?, ?it/s]"
      ]
     },
     "metadata": {},
     "output_type": "display_data"
    },
    {
     "data": {
      "application/vnd.jupyter.widget-view+json": {
       "model_id": "bdbd3fb4b8004c679d9187b5aebf7fe9",
       "version_major": 2,
       "version_minor": 0
      },
      "text/plain": [
       "  0%|          | 0/252 [00:00<?, ?it/s]"
      ]
     },
     "metadata": {},
     "output_type": "display_data"
    },
    {
     "data": {
      "application/vnd.jupyter.widget-view+json": {
       "model_id": "4d98e889450341afa8720860b267def2",
       "version_major": 2,
       "version_minor": 0
      },
      "text/plain": [
       "  0%|          | 0/252 [00:00<?, ?it/s]"
      ]
     },
     "metadata": {},
     "output_type": "display_data"
    },
    {
     "data": {
      "application/vnd.jupyter.widget-view+json": {
       "model_id": "abb04cd8751848c29e95b6f5d0a771f7",
       "version_major": 2,
       "version_minor": 0
      },
      "text/plain": [
       "  0%|          | 0/252 [00:00<?, ?it/s]"
      ]
     },
     "metadata": {},
     "output_type": "display_data"
    },
    {
     "data": {
      "application/vnd.jupyter.widget-view+json": {
       "model_id": "aeea766e94f148f4aaff1a94d2d10fcf",
       "version_major": 2,
       "version_minor": 0
      },
      "text/plain": [
       "  0%|          | 0/252 [00:00<?, ?it/s]"
      ]
     },
     "metadata": {},
     "output_type": "display_data"
    },
    {
     "data": {
      "application/vnd.jupyter.widget-view+json": {
       "model_id": "265a6826dcb54629853a4c260462f2bd",
       "version_major": 2,
       "version_minor": 0
      },
      "text/plain": [
       "  0%|          | 0/252 [00:00<?, ?it/s]"
      ]
     },
     "metadata": {},
     "output_type": "display_data"
    }
   ],
   "source": [
    "similar_movies = {\"Cosinus\" : {\"min_max\" : [], \"mean\" : [], \"std\" : []}, \"Pearson\" : {\"min_max\" : [], \"mean\" : [], \"std\" : []}}\n",
    "\n",
    "for distance in similar_movies.keys():\n",
    "    for method in similar_movies[distance].keys():\n",
    "        similar_movies[distance][method] = get_similar_movies_from_movies(12, distance, method).index"
   ]
  },
  {
   "cell_type": "code",
   "execution_count": 16,
   "metadata": {},
   "outputs": [
    {
     "data": {
      "text/plain": [
       "True"
      ]
     },
     "execution_count": 16,
     "metadata": {},
     "output_type": "execute_result"
    }
   ],
   "source": [
    "cos_recommanded = pd.DataFrame.from_dict(similar_movies[\"Cosinus\"])\n",
    "corr_recommanded = pd.DataFrame.from_dict(similar_movies[\"Pearson\"])\n",
    "((cos_recommanded == corr_recommanded).all()).all()\n",
    "#Aucune différence entre Cosinus et Pearson"
   ]
  },
  {
   "cell_type": "code",
   "execution_count": 20,
   "metadata": {},
   "outputs": [
    {
     "data": {
      "text/plain": [
       "True"
      ]
     },
     "execution_count": 20,
     "metadata": {},
     "output_type": "execute_result"
    }
   ],
   "source": [
    "(cos_recommanded[\"min_max\"] == cos_recommanded[\"mean\"]).all() \n",
    "(cos_recommanded[\"min_max\"] == cos_recommanded[\"std\"]).all()\n",
    "#Aucune différence"
   ]
  },
  {
   "cell_type": "markdown",
   "metadata": {},
   "source": [
    "## 4.3 - Mix"
   ]
  },
  {
   "cell_type": "code",
   "execution_count": 86,
   "metadata": {},
   "outputs": [],
   "source": [
    "def recommanded_movies_2(user_id):\n",
    "    distance = \"Cosinus\"\n",
    "    method = \"min_max\"\n",
    "\n",
    "    get_users = get_similar_movies_from_users(user_id, distance, method, 15)\n",
    "    get_movies = get_similar_movies_from_movies(user_id, distance, method)\n",
    "    get_users.name = \"User Values\"\n",
    "    get_movies.name = \"Movie Values\"\n",
    "\n",
    "    df = pd.merge(get_users, get_movies, left_index=True, right_index=True)\n",
    "    df[\"Somme\"] = df[\"User Values\"] + df[\"Movie Values\"]\n",
    "\n",
    "    return df.sort_values(\"Somme\", ascending=False)\n",
    "        "
   ]
  },
  {
   "cell_type": "code",
   "execution_count": 87,
   "metadata": {},
   "outputs": [],
   "source": [
    "def recommanded_movies(user_id):\n",
    "    distance = \"Cosinus\"\n",
    "    method = \"min_max\"\n",
    "    \n",
    "    get_users = get_similar_movies_from_users(user_id, distance, method, 15)\n",
    "    get_movies = get_similar_movies_from_movies(user_id, distance, method)\n",
    "\n",
    "    arg_movies = []\n",
    "    for title in get_users.index:\n",
    "        arg_movies.append(int(np.argwhere(get_movies.index == title)))\n",
    "\n",
    "    recommanded = pd.DataFrame(index=get_users.index, columns=[\"Arg Users\", \"Arg Movies\"], data=np.array([range(len(arg_movies)), arg_movies]).T)\n",
    "    recommanded[\"Mean\"] = recommanded.mean(axis=1)\n",
    "\n",
    "    return recommanded.sort_values(by=\"Mean\")"
   ]
  },
  {
   "cell_type": "code",
   "execution_count": 88,
   "metadata": {},
   "outputs": [
    {
     "data": {
      "application/vnd.jupyter.widget-view+json": {
       "model_id": "133767f9d3ba44e09bc709a364ca5ff0",
       "version_major": 2,
       "version_minor": 0
      },
      "text/plain": [
       "  0%|          | 0/500 [00:00<?, ?it/s]"
      ]
     },
     "metadata": {},
     "output_type": "display_data"
    },
    {
     "data": {
      "application/vnd.jupyter.widget-view+json": {
       "model_id": "a0d2f56677cb4e1fb9d1e19f19a52d2b",
       "version_major": 2,
       "version_minor": 0
      },
      "text/plain": [
       "  0%|          | 0/252 [00:00<?, ?it/s]"
      ]
     },
     "metadata": {},
     "output_type": "display_data"
    },
    {
     "data": {
      "application/vnd.jupyter.widget-view+json": {
       "model_id": "f9dd0f5350db4ffa8d284b2ed82450c3",
       "version_major": 2,
       "version_minor": 0
      },
      "text/plain": [
       "  0%|          | 0/500 [00:00<?, ?it/s]"
      ]
     },
     "metadata": {},
     "output_type": "display_data"
    },
    {
     "data": {
      "application/vnd.jupyter.widget-view+json": {
       "model_id": "945b01312fd04e5b847e917070b781c0",
       "version_major": 2,
       "version_minor": 0
      },
      "text/plain": [
       "  0%|          | 0/252 [00:00<?, ?it/s]"
      ]
     },
     "metadata": {},
     "output_type": "display_data"
    },
    {
     "data": {
      "text/plain": [
       "23.382716049382715"
      ]
     },
     "execution_count": 88,
     "metadata": {},
     "output_type": "execute_result"
    }
   ],
   "source": [
    "test1 = recommanded_movies_2(12)\n",
    "test2 = recommanded_movies(12)\n",
    "\n",
    "k = 0\n",
    "arg_diff = []\n",
    "for movie in test1.index:\n",
    "    arg = np.where(test2.index == movie)[0][0]\n",
    "    if (arg != k):\n",
    "        arg_diff.append(abs(k-arg))\n",
    "    k += 1\n",
    "np.mean(arg_diff)\n",
    "#Il y a que 23 places de différences, en moyenne, entre chaque films"
   ]
  },
  {
   "cell_type": "code",
   "execution_count": 91,
   "metadata": {},
   "outputs": [
    {
     "data": {
      "text/html": [
       "<div>\n",
       "<style scoped>\n",
       "    .dataframe tbody tr th:only-of-type {\n",
       "        vertical-align: middle;\n",
       "    }\n",
       "\n",
       "    .dataframe tbody tr th {\n",
       "        vertical-align: top;\n",
       "    }\n",
       "\n",
       "    .dataframe thead th {\n",
       "        text-align: right;\n",
       "    }\n",
       "</style>\n",
       "<table border=\"1\" class=\"dataframe\">\n",
       "  <thead>\n",
       "    <tr style=\"text-align: right;\">\n",
       "      <th></th>\n",
       "      <th>Arg Users</th>\n",
       "      <th>Arg Movies</th>\n",
       "      <th>Mean</th>\n",
       "    </tr>\n",
       "  </thead>\n",
       "  <tbody>\n",
       "    <tr>\n",
       "      <th>Graduate, The (1967)</th>\n",
       "      <td>9</td>\n",
       "      <td>0</td>\n",
       "      <td>4.5</td>\n",
       "    </tr>\n",
       "    <tr>\n",
       "      <th>Raiders of the Lost Ark (Indiana Jones and the Raiders of the Lost Ark) (1981)</th>\n",
       "      <td>1</td>\n",
       "      <td>16</td>\n",
       "      <td>8.5</td>\n",
       "    </tr>\n",
       "    <tr>\n",
       "      <th>Quiz Show (1994)</th>\n",
       "      <td>20</td>\n",
       "      <td>1</td>\n",
       "      <td>10.5</td>\n",
       "    </tr>\n",
       "    <tr>\n",
       "      <th>One Flew Over the Cuckoo's Nest (1975)</th>\n",
       "      <td>8</td>\n",
       "      <td>18</td>\n",
       "      <td>13.0</td>\n",
       "    </tr>\n",
       "    <tr>\n",
       "      <th>Close Encounters of the Third Kind (1977)</th>\n",
       "      <td>31</td>\n",
       "      <td>2</td>\n",
       "      <td>16.5</td>\n",
       "    </tr>\n",
       "    <tr>\n",
       "      <th>...</th>\n",
       "      <td>...</td>\n",
       "      <td>...</td>\n",
       "      <td>...</td>\n",
       "    </tr>\n",
       "    <tr>\n",
       "      <th>Edge of Tomorrow (2014)</th>\n",
       "      <td>232</td>\n",
       "      <td>244</td>\n",
       "      <td>238.0</td>\n",
       "    </tr>\n",
       "    <tr>\n",
       "      <th>Taken (2008)</th>\n",
       "      <td>246</td>\n",
       "      <td>233</td>\n",
       "      <td>239.5</td>\n",
       "    </tr>\n",
       "    <tr>\n",
       "      <th>Shutter Island (2010)</th>\n",
       "      <td>245</td>\n",
       "      <td>239</td>\n",
       "      <td>242.0</td>\n",
       "    </tr>\n",
       "    <tr>\n",
       "      <th>Pirates of the Caribbean: At World's End (2007)</th>\n",
       "      <td>243</td>\n",
       "      <td>243</td>\n",
       "      <td>243.0</td>\n",
       "    </tr>\n",
       "    <tr>\n",
       "      <th>Interstellar (2014)</th>\n",
       "      <td>239</td>\n",
       "      <td>247</td>\n",
       "      <td>243.0</td>\n",
       "    </tr>\n",
       "  </tbody>\n",
       "</table>\n",
       "<p>248 rows × 3 columns</p>\n",
       "</div>"
      ],
      "text/plain": [
       "                                                    Arg Users  Arg Movies  \\\n",
       "Graduate, The (1967)                                        9           0   \n",
       "Raiders of the Lost Ark (Indiana Jones and the ...          1          16   \n",
       "Quiz Show (1994)                                           20           1   \n",
       "One Flew Over the Cuckoo's Nest (1975)                      8          18   \n",
       "Close Encounters of the Third Kind (1977)                  31           2   \n",
       "...                                                       ...         ...   \n",
       "Edge of Tomorrow (2014)                                   232         244   \n",
       "Taken (2008)                                              246         233   \n",
       "Shutter Island (2010)                                     245         239   \n",
       "Pirates of the Caribbean: At World's End (2007)           243         243   \n",
       "Interstellar (2014)                                       239         247   \n",
       "\n",
       "                                                     Mean  \n",
       "Graduate, The (1967)                                  4.5  \n",
       "Raiders of the Lost Ark (Indiana Jones and the ...    8.5  \n",
       "Quiz Show (1994)                                     10.5  \n",
       "One Flew Over the Cuckoo's Nest (1975)               13.0  \n",
       "Close Encounters of the Third Kind (1977)            16.5  \n",
       "...                                                   ...  \n",
       "Edge of Tomorrow (2014)                             238.0  \n",
       "Taken (2008)                                        239.5  \n",
       "Shutter Island (2010)                               242.0  \n",
       "Pirates of the Caribbean: At World's End (2007)     243.0  \n",
       "Interstellar (2014)                                 243.0  \n",
       "\n",
       "[248 rows x 3 columns]"
      ]
     },
     "execution_count": 91,
     "metadata": {},
     "output_type": "execute_result"
    }
   ],
   "source": [
    "test2"
   ]
  },
  {
   "cell_type": "code",
   "execution_count": 25,
   "metadata": {},
   "outputs": [
    {
     "data": {
      "text/html": [
       "<div>\n",
       "<style scoped>\n",
       "    .dataframe tbody tr th:only-of-type {\n",
       "        vertical-align: middle;\n",
       "    }\n",
       "\n",
       "    .dataframe tbody tr th {\n",
       "        vertical-align: top;\n",
       "    }\n",
       "\n",
       "    .dataframe thead th {\n",
       "        text-align: right;\n",
       "    }\n",
       "</style>\n",
       "<table border=\"1\" class=\"dataframe\">\n",
       "  <thead>\n",
       "    <tr style=\"text-align: right;\">\n",
       "      <th></th>\n",
       "      <th>F1</th>\n",
       "      <th>F2</th>\n",
       "      <th>F3</th>\n",
       "      <th>F4</th>\n",
       "    </tr>\n",
       "  </thead>\n",
       "  <tbody>\n",
       "    <tr>\n",
       "      <th>U1</th>\n",
       "      <td>4.0</td>\n",
       "      <td>1.5</td>\n",
       "      <td>3.5</td>\n",
       "      <td>5.0</td>\n",
       "    </tr>\n",
       "    <tr>\n",
       "      <th>U2</th>\n",
       "      <td>1.0</td>\n",
       "      <td>4.0</td>\n",
       "      <td>2.5</td>\n",
       "      <td>2.5</td>\n",
       "    </tr>\n",
       "    <tr>\n",
       "      <th>U3</th>\n",
       "      <td>3.5</td>\n",
       "      <td>1.0</td>\n",
       "      <td>4.5</td>\n",
       "      <td>4.0</td>\n",
       "    </tr>\n",
       "    <tr>\n",
       "      <th>U4</th>\n",
       "      <td>2.0</td>\n",
       "      <td>5.0</td>\n",
       "      <td>1.0</td>\n",
       "      <td>2.0</td>\n",
       "    </tr>\n",
       "  </tbody>\n",
       "</table>\n",
       "</div>"
      ],
      "text/plain": [
       "     F1   F2   F3   F4\n",
       "U1  4.0  1.5  3.5  5.0\n",
       "U2  1.0  4.0  2.5  2.5\n",
       "U3  3.5  1.0  4.5  4.0\n",
       "U4  2.0  5.0  1.0  2.0"
      ]
     },
     "execution_count": 25,
     "metadata": {},
     "output_type": "execute_result"
    }
   ],
   "source": [
    "df = pd.DataFrame(np.array([[4, 1.5, 3.5, 5], [1, 4, 2.5, 2.5], [3.5, 1, 4.5, 4], [2, 5, 1, 2]]), index=[f\"U{i}\" for i in range(1, 5)], columns=[f\"F{i}\" for i in range(1, 5)])\n",
    "df"
   ]
  },
  {
   "cell_type": "code",
   "execution_count": 29,
   "metadata": {},
   "outputs": [
    {
     "data": {
      "text/html": [
       "<div>\n",
       "<style scoped>\n",
       "    .dataframe tbody tr th:only-of-type {\n",
       "        vertical-align: middle;\n",
       "    }\n",
       "\n",
       "    .dataframe tbody tr th {\n",
       "        vertical-align: top;\n",
       "    }\n",
       "\n",
       "    .dataframe thead th {\n",
       "        text-align: right;\n",
       "    }\n",
       "</style>\n",
       "<table border=\"1\" class=\"dataframe\">\n",
       "  <thead>\n",
       "    <tr style=\"text-align: right;\">\n",
       "      <th></th>\n",
       "      <th>U1</th>\n",
       "      <th>U2</th>\n",
       "      <th>U3</th>\n",
       "      <th>U4</th>\n",
       "    </tr>\n",
       "  </thead>\n",
       "  <tbody>\n",
       "    <tr>\n",
       "      <th>U1</th>\n",
       "      <td>1.00</td>\n",
       "      <td>0.77</td>\n",
       "      <td>0.98</td>\n",
       "      <td>0.67</td>\n",
       "    </tr>\n",
       "    <tr>\n",
       "      <th>U2</th>\n",
       "      <td>0.77</td>\n",
       "      <td>1.00</td>\n",
       "      <td>0.75</td>\n",
       "      <td>0.93</td>\n",
       "    </tr>\n",
       "    <tr>\n",
       "      <th>U3</th>\n",
       "      <td>0.98</td>\n",
       "      <td>0.75</td>\n",
       "      <td>1.00</td>\n",
       "      <td>0.60</td>\n",
       "    </tr>\n",
       "    <tr>\n",
       "      <th>U4</th>\n",
       "      <td>0.67</td>\n",
       "      <td>0.93</td>\n",
       "      <td>0.60</td>\n",
       "      <td>1.00</td>\n",
       "    </tr>\n",
       "  </tbody>\n",
       "</table>\n",
       "</div>"
      ],
      "text/plain": [
       "      U1    U2    U3    U4\n",
       "U1  1.00  0.77  0.98  0.67\n",
       "U2  0.77  1.00  0.75  0.93\n",
       "U3  0.98  0.75  1.00  0.60\n",
       "U4  0.67  0.93  0.60  1.00"
      ]
     },
     "execution_count": 29,
     "metadata": {},
     "output_type": "execute_result"
    }
   ],
   "source": [
    "cos = pd.DataFrame(np.round(cosine_similarity(df), 2), index=[f\"U{i}\" for i in range(1, 5)], columns=[f\"U{i}\" for i in range(1, 5)])\n",
    "cos"
   ]
  },
  {
   "cell_type": "code",
   "execution_count": null,
   "metadata": {},
   "outputs": [],
   "source": []
  }
 ],
 "metadata": {
  "kernelspec": {
   "display_name": "Python 3.8.3 64-bit",
   "language": "python",
   "name": "python3"
  },
  "language_info": {
   "codemirror_mode": {
    "name": "ipython",
    "version": 3
   },
   "file_extension": ".py",
   "mimetype": "text/x-python",
   "name": "python",
   "nbconvert_exporter": "python",
   "pygments_lexer": "ipython3",
   "version": "3.8.3"
  },
  "orig_nbformat": 4,
  "vscode": {
   "interpreter": {
    "hash": "570feb405e2e27c949193ac68f46852414290d515b0ba6e5d90d076ed2284471"
   }
  }
 },
 "nbformat": 4,
 "nbformat_minor": 2
}
