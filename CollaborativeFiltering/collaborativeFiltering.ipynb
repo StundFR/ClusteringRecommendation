{
 "cells": [
  {
   "cell_type": "markdown",
   "metadata": {},
   "source": [
    "# 0 - Instalation of modules"
   ]
  },
  {
   "cell_type": "code",
   "execution_count": null,
   "metadata": {},
   "outputs": [],
   "source": [
    "#Run this cell to have the progress bar\n",
    "%pip install tqdm\n",
    "%pip install ipywidgets\n",
    "%jupyter nbextension enable --py widgetsnbextension\n",
    "%pip install scikit-learn"
   ]
  },
  {
   "cell_type": "markdown",
   "metadata": {},
   "source": [
    "# 1 - Importing modules"
   ]
  },
  {
   "cell_type": "code",
   "execution_count": 1,
   "metadata": {},
   "outputs": [],
   "source": [
    "import pandas as pd\n",
    "import numpy as np\n",
    "from tqdm.notebook import tqdm\n",
    "from sklearn.metrics.pairwise import cosine_similarity as cos_dist\n",
    "import matplotlib.pyplot as plt"
   ]
  },
  {
   "cell_type": "markdown",
   "metadata": {},
   "source": [
    "# 2 - Get all files needed"
   ]
  },
  {
   "cell_type": "code",
   "execution_count": 2,
   "metadata": {},
   "outputs": [],
   "source": [
    "#Change the dataset path to fit with your directory management\n",
    "data_folder = \"../../Dataset/Movie/\""
   ]
  },
  {
   "cell_type": "code",
   "execution_count": 40,
   "metadata": {},
   "outputs": [
    {
     "data": {
      "text/plain": [
       "(25000095, 3)"
      ]
     },
     "execution_count": 40,
     "metadata": {},
     "output_type": "execute_result"
    }
   ],
   "source": [
    "rating = pd.read_csv(f\"{data_folder}ratings.csv\").drop([\"timestamp\"], axis=1)\n",
    "movie = pd.read_csv(f\"{data_folder}movies.csv\")\n",
    "\n",
    "data = pd.merge(movie, rating, on=\"movieId\").drop([\"genres\", \"movieId\"], axis=1)\n",
    "data.shape"
   ]
  },
  {
   "cell_type": "markdown",
   "metadata": {},
   "source": [
    "# 3 - Transforming data"
   ]
  },
  {
   "cell_type": "code",
   "execution_count": 41,
   "metadata": {},
   "outputs": [
    {
     "data": {
      "text/plain": [
       "(10944751, 3)"
      ]
     },
     "execution_count": 41,
     "metadata": {},
     "output_type": "execute_result"
    }
   ],
   "source": [
    "#We keep only the NB_FILM most rated movies\n",
    "NB_FILM = 500\n",
    "keep_title = data[\"title\"].value_counts().sort_values(ascending=False)[:NB_FILM].index\n",
    "data_title = data[data[\"title\"].isin(keep_title)]\n",
    "data_title.shape"
   ]
  },
  {
   "cell_type": "code",
   "execution_count": 42,
   "metadata": {},
   "outputs": [],
   "source": [
    "#We keep only users that rated at least THRESH_USER % of movies\n",
    "THRESH_USER = 0.40\n",
    "keep_user = data_title[\"userId\"].value_counts()/NB_FILM >= THRESH_USER\n",
    "data_title_user = data_title[data_title[\"userId\"].isin(keep_user[keep_user].index)]"
   ]
  },
  {
   "cell_type": "code",
   "execution_count": 43,
   "metadata": {},
   "outputs": [
    {
     "data": {
      "text/plain": [
       "(10103, 500)"
      ]
     },
     "execution_count": 43,
     "metadata": {},
     "output_type": "execute_result"
    }
   ],
   "source": [
    "#Pivot table\n",
    "user_title_df = data_title_user.pivot_table(index=\"userId\", columns=\"title\", values=\"rating\")\n",
    "user_title_df.to_csv(f\"{data_folder}test_for_users.csv\")\n",
    "user_title_df.shape"
   ]
  },
  {
   "cell_type": "code",
   "execution_count": 3,
   "metadata": {},
   "outputs": [
    {
     "data": {
      "text/plain": [
       "(10103, 500)"
      ]
     },
     "execution_count": 3,
     "metadata": {},
     "output_type": "execute_result"
    }
   ],
   "source": [
    "#If data are already in local files, we can get it.\n",
    "user_title_df = pd.read_csv(f\"{data_folder}test_for_users.csv\", index_col=0)\n",
    "user_title_df.shape"
   ]
  },
  {
   "cell_type": "markdown",
   "metadata": {},
   "source": [
    "# 4 - Colaborative filtering"
   ]
  },
  {
   "cell_type": "code",
   "execution_count": 4,
   "metadata": {},
   "outputs": [],
   "source": [
    "#Standardization of row\n",
    "def normalization_mean(row):\n",
    "    return row - row.mean()\n",
    "\n",
    "def normalization_min_max(row):\n",
    "    return (row - row.mean())/(row.max() - row.min())\n",
    "\n",
    "def normalization_std(row):\n",
    "    return (row - row.mean())/row.std()  \n",
    "\n",
    "#Cosine distance between [0,1]\n",
    "def cosine_similarity(X):\n",
    "    return (cos_dist(X)+1)/2"
   ]
  },
  {
   "cell_type": "markdown",
   "metadata": {},
   "source": [
    "## 4.1 - Users to users"
   ]
  },
  {
   "cell_type": "code",
   "execution_count": 5,
   "metadata": {},
   "outputs": [],
   "source": [
    "#We applied all standardization to data, for different tests.\n",
    "for_users_data = {}\n",
    "for_users_data[\"min_max\"] = user_title_df.fillna(0).apply(normalization_min_max, axis=1)\n",
    "for_users_data[\"mean\"] = user_title_df.fillna(0).apply(normalization_mean, axis=1)\n",
    "for_users_data[\"std\"] = user_title_df.fillna(0).apply(normalization_std, axis=1)"
   ]
  },
  {
   "cell_type": "code",
   "execution_count": 6,
   "metadata": {},
   "outputs": [],
   "source": [
    "#Creation of the distance matrix with multiple distance methods\n",
    "all_users = user_title_df.index\n",
    "similarity_users = {\"Cosinus\" : {}, \"Pearson\" : {}}\n",
    "\n",
    "for method in for_users_data.keys():\n",
    "    cos = cosine_similarity(for_users_data[method])\n",
    "    similarity_users[\"Cosinus\"][method] = pd.DataFrame(cos, index=all_users, columns=all_users)\n",
    "    np.fill_diagonal(similarity_users[\"Cosinus\"][method].values, 0)\n",
    "\n",
    "    corr = (np.corrcoef(for_users_data[method])+1)/2\n",
    "    similarity_users[\"Pearson\"][method] = pd.DataFrame(corr, index=all_users, columns=all_users)\n",
    "    np.fill_diagonal(similarity_users[\"Pearson\"][method].values, 0)\n",
    "\n",
    "del(cos)\n",
    "del(corr)"
   ]
  },
  {
   "cell_type": "code",
   "execution_count": 7,
   "metadata": {},
   "outputs": [],
   "source": [
    "#Guess rate of movie for specific user\n",
    "def guess_rate(user, title, distance, method, N):\n",
    "    similar_mat = similarity_users[distance][method]\n",
    "    all_similar_users = similar_mat.loc[user].sort_values(ascending=False).index\n",
    "    user_title_mat = for_users_data[method]\n",
    "    \n",
    "    rate = 0\n",
    "    weight = 0\n",
    "    k = 0\n",
    "    i = 0\n",
    "\n",
    "    while (k < N):\n",
    "        similar_user = all_similar_users[i]\n",
    "        r = user_title_mat.loc[similar_user, title]\n",
    "\n",
    "        if not (pd.isnull(r)):\n",
    "            w = similar_mat.loc[similar_user, user]\n",
    "            rate += w*r\n",
    "            weight += w\n",
    "            k += 1\n",
    "\n",
    "        i += 1\n",
    "\n",
    "    return rate/weight"
   ]
  },
  {
   "cell_type": "code",
   "execution_count": 8,
   "metadata": {},
   "outputs": [],
   "source": [
    "#Get all the similar movies for specific user\n",
    "def get_similar_movies_from_users(user_id, distance, method, N):\n",
    "    all_rates = []\n",
    "    keep_movies = []\n",
    "\n",
    "    for movie in tqdm(user_title_df.columns):\n",
    "        if (pd.isnull(user_title_df.loc[user_id, movie])):\n",
    "            all_rates.append(guess_rate(user_id, movie, distance, method, N))\n",
    "            keep_movies.append(movie)\n",
    "\n",
    "    return pd.Series(all_rates, keep_movies).sort_values(ascending=False)"
   ]
  },
  {
   "cell_type": "code",
   "execution_count": 9,
   "metadata": {},
   "outputs": [
    {
     "data": {
      "application/vnd.jupyter.widget-view+json": {
       "model_id": "83eab539d7884108ae074de2d72c45d7",
       "version_major": 2,
       "version_minor": 0
      },
      "text/plain": [
       "  0%|          | 0/500 [00:00<?, ?it/s]"
      ]
     },
     "metadata": {},
     "output_type": "display_data"
    },
    {
     "data": {
      "application/vnd.jupyter.widget-view+json": {
       "model_id": "44368dae16174073aa6cce2149baf41e",
       "version_major": 2,
       "version_minor": 0
      },
      "text/plain": [
       "  0%|          | 0/500 [00:00<?, ?it/s]"
      ]
     },
     "metadata": {},
     "output_type": "display_data"
    },
    {
     "data": {
      "application/vnd.jupyter.widget-view+json": {
       "model_id": "84c75b8a1c394cb78a2bbcd246fdea2f",
       "version_major": 2,
       "version_minor": 0
      },
      "text/plain": [
       "  0%|          | 0/500 [00:00<?, ?it/s]"
      ]
     },
     "metadata": {},
     "output_type": "display_data"
    },
    {
     "data": {
      "application/vnd.jupyter.widget-view+json": {
       "model_id": "6d1879ae8d29424ba6bf57217f46d910",
       "version_major": 2,
       "version_minor": 0
      },
      "text/plain": [
       "  0%|          | 0/500 [00:00<?, ?it/s]"
      ]
     },
     "metadata": {},
     "output_type": "display_data"
    },
    {
     "data": {
      "application/vnd.jupyter.widget-view+json": {
       "model_id": "a7f9ec66b9cb443b83746e37d44c124a",
       "version_major": 2,
       "version_minor": 0
      },
      "text/plain": [
       "  0%|          | 0/500 [00:00<?, ?it/s]"
      ]
     },
     "metadata": {},
     "output_type": "display_data"
    },
    {
     "data": {
      "application/vnd.jupyter.widget-view+json": {
       "model_id": "fa4ce6a02a3849819b7c3c1d03895653",
       "version_major": 2,
       "version_minor": 0
      },
      "text/plain": [
       "  0%|          | 0/500 [00:00<?, ?it/s]"
      ]
     },
     "metadata": {},
     "output_type": "display_data"
    }
   ],
   "source": [
    "#Test to see if there is a difference between all distance methods.\n",
    "similar_movies = {\"Cosinus\" : {\"min_max\" : [], \"mean\" : [], \"std\" : []}, \"Pearson\" : {\"min_max\" : [], \"mean\" : [], \"std\" : []}}\n",
    "\n",
    "for distance in similar_movies.keys():\n",
    "    for method in similar_movies[distance].keys():\n",
    "        similar_movies[distance][method] = get_similar_movies_from_users(12, distance, method, 10).index"
   ]
  },
  {
   "cell_type": "code",
   "execution_count": 10,
   "metadata": {},
   "outputs": [
    {
     "data": {
      "text/plain": [
       "True"
      ]
     },
     "execution_count": 10,
     "metadata": {},
     "output_type": "execute_result"
    }
   ],
   "source": [
    "cos_recommanded = pd.DataFrame.from_dict(similar_movies[\"Cosinus\"])\n",
    "corr_recommanded = pd.DataFrame.from_dict(similar_movies[\"Pearson\"])\n",
    "((cos_recommanded == corr_recommanded).all()).all()\n",
    "#There is no difference between distance methods"
   ]
  },
  {
   "cell_type": "code",
   "execution_count": 11,
   "metadata": {},
   "outputs": [
    {
     "data": {
      "text/plain": [
       "37.096774193548384"
      ]
     },
     "execution_count": 11,
     "metadata": {},
     "output_type": "execute_result"
    }
   ],
   "source": [
    "(cos_recommanded[\"min_max\"] == cos_recommanded[\"mean\"]).all()       #100% similar\n",
    "np.mean(cos_recommanded[\"min_max\"] == cos_recommanded[\"std\"])*100   #37% similar\n",
    "#Min max and mean method are similar but std method is different."
   ]
  },
  {
   "cell_type": "code",
   "execution_count": 12,
   "metadata": {},
   "outputs": [
    {
     "data": {
      "text/plain": [
       "2.641025641025641"
      ]
     },
     "execution_count": 12,
     "metadata": {},
     "output_type": "execute_result"
    }
   ],
   "source": [
    "#What is the difference between min max and std method ?\n",
    "k = 0\n",
    "arg_diff = []\n",
    "for movie in cos_recommanded[\"min_max\"].values:\n",
    "    arg = np.where(cos_recommanded[\"std\"] == movie)[0][0]\n",
    "    if (arg != k):\n",
    "        arg_diff.append(abs(k-arg))\n",
    "    k += 1\n",
    "np.mean(arg_diff)\n",
    "#There is an average difference of 2/3 places between the rankings of the two methods."
   ]
  },
  {
   "cell_type": "code",
   "execution_count": 15,
   "metadata": {},
   "outputs": [
    {
     "data": {
      "application/vnd.jupyter.widget-view+json": {
       "model_id": "0f6fa6a73b6c4fd2a3daa12c179bbd13",
       "version_major": 2,
       "version_minor": 0
      },
      "text/plain": [
       "  0%|          | 0/99 [00:00<?, ?it/s]"
      ]
     },
     "metadata": {},
     "output_type": "display_data"
    }
   ],
   "source": [
    "#We compare all the compute time for all methods and distances\n",
    "from time import time\n",
    "\n",
    "NB_USER = 20\n",
    "NB_MOVIE = 20\n",
    "MAX = 100\n",
    "STEP = 2\n",
    "\n",
    "stats = {}\n",
    "\n",
    "for N in tqdm([i*STEP for i in range(1, MAX)]):\n",
    "    for distance in [\"Cosinus\", \"Pearson\"]:\n",
    "        stats[distance] = {\"min_max\" : [], \"mean\" : [], \"std\" : []}\n",
    "\n",
    "        for user_id in user_title_df.index[:NB_USER]:\n",
    "            all_rated_movies = user_title_df.loc[user_id].dropna()[:NB_MOVIE]\n",
    "\n",
    "            for movie in all_rated_movies.index:\n",
    "                for method in [\"min_max\", \"mean\", \"std\"]:\n",
    "                    start = time()\n",
    "                    rate = guess_rate(user_id, movie, distance, method, N)\n",
    "                    stats[distance][method].append(time() - start)"
   ]
  },
  {
   "cell_type": "code",
   "execution_count": 18,
   "metadata": {},
   "outputs": [
    {
     "data": {
      "image/png": "[encoded data removed]",
      "text/plain": [
       "<Figure size 1080x360 with 1 Axes>"
      ]
     },
     "metadata": {
      "needs_background": "light"
     },
     "output_type": "display_data"
    }
   ],
   "source": [
    "plt.figure(figsize=(15, 5))\n",
    "\n",
    "plots = []\n",
    "labels = []\n",
    "\n",
    "for distance in stats.keys():\n",
    "    for method in stats[distance].keys():\n",
    "        plots.append(stats[distance][method])\n",
    "        labels.append(f\"{distance[:3]}-{method}\")\n",
    "\n",
    "plt.boxplot(plots, labels=labels, showfliers=False)\n",
    "plt.title(\"Time comparaisons\")\n",
    "plt.savefig(\"img/compute_compare.jpg\", dpi=250)\n",
    "plt.show()"
   ]
  },
  {
   "cell_type": "markdown",
   "metadata": {},
   "source": [
    "We can see that cosine method seems to compute faster than pearson distance. There no difference between standardization methods."
   ]
  },
  {
   "cell_type": "markdown",
   "metadata": {},
   "source": [
    "## 4.2 - Movie to movie"
   ]
  },
  {
   "cell_type": "code",
   "execution_count": 22,
   "metadata": {},
   "outputs": [],
   "source": [
    "#We applied all standardization to data, for different tests.\n",
    "for_movies_data = {}\n",
    "for_movies_data[\"min_max\"] = user_title_df.fillna(0).apply(normalization_min_max, axis=0)\n",
    "for_movies_data[\"mean\"] = user_title_df.fillna(0).apply(normalization_mean, axis=0)\n",
    "for_movies_data[\"std\"] = user_title_df.fillna(0).apply(normalization_std, axis=0)"
   ]
  },
  {
   "cell_type": "code",
   "execution_count": 23,
   "metadata": {},
   "outputs": [],
   "source": [
    "#Creation of the distance matrix with multiple distance methods\n",
    "all_movies = user_title_df.columns\n",
    "similarity_movies = {\"Cosinus\" : {}, \"Pearson\" : {}}\n",
    "\n",
    "for method in for_movies_data.keys():\n",
    "    cos = cosine_similarity(for_movies_data[method].T)\n",
    "    similarity_movies[\"Cosinus\"][method] = pd.DataFrame(cos, index=all_movies, columns=all_movies)\n",
    "    np.fill_diagonal(similarity_movies[\"Cosinus\"][method].values, 0)\n",
    "\n",
    "    corr = np.corrcoef(for_movies_data[method].T)\n",
    "    similarity_movies[\"Pearson\"][method] = pd.DataFrame(corr, index=all_movies, columns=all_movies)\n",
    "    np.fill_diagonal(similarity_movies[\"Pearson\"][method].values, 0)\n",
    "\n",
    "del(cos)\n",
    "del(corr)"
   ]
  },
  {
   "cell_type": "code",
   "execution_count": 24,
   "metadata": {},
   "outputs": [],
   "source": [
    "#Get all similar movies for a specific movie.\n",
    "def get_similar_movies_from_movies(user_id, distance, method):\n",
    "    similar_movies = []\n",
    "\n",
    "    movies_rates = user_title_df.loc[user_id].dropna()\n",
    "    movies = movies_rates.index\n",
    "    rates = movies_rates.values\n",
    "    user = [(movies[i], rates[i]) for i in range(len(rates))]\n",
    "\n",
    "    for movie, rate in tqdm(user):\n",
    "        movie_list = (similarity_movies[distance][method].loc[:, movie]*(rate-2.5)).sort_values(ascending=False)\n",
    "        similar_movies.append(movie_list)\n",
    "\n",
    "    similar_movies = pd.concat(similar_movies, axis=1)\n",
    "    similar_movies = similar_movies.drop([movie for movie, rate in user], axis=0)\n",
    "    return similar_movies.sum(axis=1).sort_values(ascending=False)"
   ]
  },
  {
   "cell_type": "code",
   "execution_count": 25,
   "metadata": {},
   "outputs": [
    {
     "data": {
      "application/vnd.jupyter.widget-view+json": {
       "model_id": "d61fcb1b28d04581b0223dd48357b956",
       "version_major": 2,
       "version_minor": 0
      },
      "text/plain": [
       "  0%|          | 0/252 [00:00<?, ?it/s]"
      ]
     },
     "metadata": {},
     "output_type": "display_data"
    },
    {
     "data": {
      "application/vnd.jupyter.widget-view+json": {
       "model_id": "da87a7b4d73f4af58fc394c3f561e3cb",
       "version_major": 2,
       "version_minor": 0
      },
      "text/plain": [
       "  0%|          | 0/252 [00:00<?, ?it/s]"
      ]
     },
     "metadata": {},
     "output_type": "display_data"
    },
    {
     "data": {
      "application/vnd.jupyter.widget-view+json": {
       "model_id": "be27cd8863f7425998e3910ae3abdd97",
       "version_major": 2,
       "version_minor": 0
      },
      "text/plain": [
       "  0%|          | 0/252 [00:00<?, ?it/s]"
      ]
     },
     "metadata": {},
     "output_type": "display_data"
    },
    {
     "data": {
      "application/vnd.jupyter.widget-view+json": {
       "model_id": "77f58ee2e8bf483b9c11f5fe450a0f91",
       "version_major": 2,
       "version_minor": 0
      },
      "text/plain": [
       "  0%|          | 0/252 [00:00<?, ?it/s]"
      ]
     },
     "metadata": {},
     "output_type": "display_data"
    },
    {
     "data": {
      "application/vnd.jupyter.widget-view+json": {
       "model_id": "009ebf0ae8fb4e6fb4af06942cbffa2c",
       "version_major": 2,
       "version_minor": 0
      },
      "text/plain": [
       "  0%|          | 0/252 [00:00<?, ?it/s]"
      ]
     },
     "metadata": {},
     "output_type": "display_data"
    },
    {
     "data": {
      "application/vnd.jupyter.widget-view+json": {
       "model_id": "0a786374e1a242019d869f4b5a410bdb",
       "version_major": 2,
       "version_minor": 0
      },
      "text/plain": [
       "  0%|          | 0/252 [00:00<?, ?it/s]"
      ]
     },
     "metadata": {},
     "output_type": "display_data"
    }
   ],
   "source": [
    "#Test to see if there is a difference between all distance methods.\n",
    "similar_movies = {\"Cosinus\" : {\"min_max\" : [], \"mean\" : [], \"std\" : []}, \"Pearson\" : {\"min_max\" : [], \"mean\" : [], \"std\" : []}}\n",
    "\n",
    "for distance in similar_movies.keys():\n",
    "    for method in similar_movies[distance].keys():\n",
    "        similar_movies[distance][method] = get_similar_movies_from_movies(12, distance, method).index"
   ]
  },
  {
   "cell_type": "code",
   "execution_count": 26,
   "metadata": {},
   "outputs": [
    {
     "data": {
      "text/plain": [
       "True"
      ]
     },
     "execution_count": 26,
     "metadata": {},
     "output_type": "execute_result"
    }
   ],
   "source": [
    "cos_recommanded = pd.DataFrame.from_dict(similar_movies[\"Cosinus\"])\n",
    "corr_recommanded = pd.DataFrame.from_dict(similar_movies[\"Pearson\"])\n",
    "((cos_recommanded == corr_recommanded).all()).all()\n",
    "#No difference between distance methods"
   ]
  },
  {
   "cell_type": "code",
   "execution_count": 27,
   "metadata": {},
   "outputs": [
    {
     "data": {
      "text/plain": [
       "True"
      ]
     },
     "execution_count": 27,
     "metadata": {},
     "output_type": "execute_result"
    }
   ],
   "source": [
    "(cos_recommanded[\"min_max\"] == cos_recommanded[\"mean\"]).all() \n",
    "(cos_recommanded[\"min_max\"] == cos_recommanded[\"std\"]).all()\n",
    "#No difference between standardization methods"
   ]
  },
  {
   "cell_type": "markdown",
   "metadata": {},
   "source": [
    "## 4.3 - Mix"
   ]
  },
  {
   "cell_type": "code",
   "execution_count": 28,
   "metadata": {},
   "outputs": [],
   "source": [
    "#First method to combine the two methods\n",
    "def recommanded_movies_2(user_id):\n",
    "    distance = \"Cosinus\"\n",
    "    method = \"min_max\"\n",
    "\n",
    "    get_users = get_similar_movies_from_users(user_id, distance, method, 15)\n",
    "    get_movies = get_similar_movies_from_movies(user_id, distance, method)\n",
    "    get_users.name = \"User Values\"\n",
    "    get_movies.name = \"Movie Values\"\n",
    "\n",
    "    df = pd.merge(get_users, get_movies, left_index=True, right_index=True)\n",
    "    df[\"Somme\"] = df[\"User Values\"] + df[\"Movie Values\"]\n",
    "\n",
    "    return df.sort_values(\"Somme\", ascending=False)\n",
    "        "
   ]
  },
  {
   "cell_type": "code",
   "execution_count": 29,
   "metadata": {},
   "outputs": [],
   "source": [
    "#Second method to combine the two methods\n",
    "def recommanded_movies(user_id):\n",
    "    distance = \"Cosinus\"\n",
    "    method = \"min_max\"\n",
    "    \n",
    "    get_users = get_similar_movies_from_users(user_id, distance, method, 500)\n",
    "    get_movies = get_similar_movies_from_movies(user_id, distance, method)\n",
    "\n",
    "    arg_movies = []\n",
    "    for title in get_users.index:\n",
    "        arg_movies.append(int(np.argwhere(get_movies.index == title)))\n",
    "\n",
    "    recommanded = pd.DataFrame(index=get_users.index, columns=[\"Arg Users\", \"Arg Movies\"], data=np.array([range(len(arg_movies)), arg_movies]).T)\n",
    "    recommanded[\"Mean\"] = recommanded.mean(axis=1)\n",
    "\n",
    "    return recommanded.sort_values(by=\"Mean\")"
   ]
  },
  {
   "cell_type": "code",
   "execution_count": 30,
   "metadata": {},
   "outputs": [
    {
     "data": {
      "application/vnd.jupyter.widget-view+json": {
       "model_id": "f7543393daee4964b9fa93647c7a16c3",
       "version_major": 2,
       "version_minor": 0
      },
      "text/plain": [
       "  0%|          | 0/500 [00:00<?, ?it/s]"
      ]
     },
     "metadata": {},
     "output_type": "display_data"
    },
    {
     "data": {
      "application/vnd.jupyter.widget-view+json": {
       "model_id": "9dfc6447f29e473f9105ffee7b95e5c0",
       "version_major": 2,
       "version_minor": 0
      },
      "text/plain": [
       "  0%|          | 0/252 [00:00<?, ?it/s]"
      ]
     },
     "metadata": {},
     "output_type": "display_data"
    },
    {
     "data": {
      "application/vnd.jupyter.widget-view+json": {
       "model_id": "55d97b4f128d4cad9f032bc0a6c04ce4",
       "version_major": 2,
       "version_minor": 0
      },
      "text/plain": [
       "  0%|          | 0/500 [00:00<?, ?it/s]"
      ]
     },
     "metadata": {},
     "output_type": "display_data"
    },
    {
     "data": {
      "application/vnd.jupyter.widget-view+json": {
       "model_id": "c709e2d102c041aeb3e4de47eb33c006",
       "version_major": 2,
       "version_minor": 0
      },
      "text/plain": [
       "  0%|          | 0/252 [00:00<?, ?it/s]"
      ]
     },
     "metadata": {},
     "output_type": "display_data"
    },
    {
     "data": {
      "text/plain": [
       "17.8744769874477"
      ]
     },
     "execution_count": 30,
     "metadata": {},
     "output_type": "execute_result"
    }
   ],
   "source": [
    "#Compare the two combine methods\n",
    "test1 = recommanded_movies_2(12)\n",
    "test2 = recommanded_movies(12)\n",
    "\n",
    "k = 0\n",
    "arg_diff = []\n",
    "for movie in test1.index:\n",
    "    arg = np.where(test2.index == movie)[0][0]\n",
    "    if (arg != k):\n",
    "        arg_diff.append(abs(k-arg))\n",
    "    k += 1\n",
    "np.mean(arg_diff)\n",
    "#There is an average difference of 17/18 places between the rankings of the two methods."
   ]
  },
  {
   "cell_type": "code",
   "execution_count": 31,
   "metadata": {},
   "outputs": [
    {
     "data": {
      "text/html": [
       "<div>\n",
       "<style scoped>\n",
       "    .dataframe tbody tr th:only-of-type {\n",
       "        vertical-align: middle;\n",
       "    }\n",
       "\n",
       "    .dataframe tbody tr th {\n",
       "        vertical-align: top;\n",
       "    }\n",
       "\n",
       "    .dataframe thead th {\n",
       "        text-align: right;\n",
       "    }\n",
       "</style>\n",
       "<table border=\"1\" class=\"dataframe\">\n",
       "  <thead>\n",
       "    <tr style=\"text-align: right;\">\n",
       "      <th></th>\n",
       "      <th>Arg Users</th>\n",
       "      <th>Arg Movies</th>\n",
       "      <th>Mean</th>\n",
       "    </tr>\n",
       "  </thead>\n",
       "  <tbody>\n",
       "    <tr>\n",
       "      <th>Graduate, The (1967)</th>\n",
       "      <td>5</td>\n",
       "      <td>0</td>\n",
       "      <td>2.5</td>\n",
       "    </tr>\n",
       "    <tr>\n",
       "      <th>Raiders of the Lost Ark (Indiana Jones and the Raiders of the Lost Ark) (1981)</th>\n",
       "      <td>0</td>\n",
       "      <td>16</td>\n",
       "      <td>8.0</td>\n",
       "    </tr>\n",
       "    <tr>\n",
       "      <th>One Flew Over the Cuckoo's Nest (1975)</th>\n",
       "      <td>2</td>\n",
       "      <td>18</td>\n",
       "      <td>10.0</td>\n",
       "    </tr>\n",
       "    <tr>\n",
       "      <th>Traffic (2000)</th>\n",
       "      <td>13</td>\n",
       "      <td>8</td>\n",
       "      <td>10.5</td>\n",
       "    </tr>\n",
       "    <tr>\n",
       "      <th>Chasing Amy (1997)</th>\n",
       "      <td>21</td>\n",
       "      <td>6</td>\n",
       "      <td>13.5</td>\n",
       "    </tr>\n",
       "    <tr>\n",
       "      <th>...</th>\n",
       "      <td>...</td>\n",
       "      <td>...</td>\n",
       "      <td>...</td>\n",
       "    </tr>\n",
       "    <tr>\n",
       "      <th>Wolf of Wall Street, The (2013)</th>\n",
       "      <td>239</td>\n",
       "      <td>240</td>\n",
       "      <td>239.5</td>\n",
       "    </tr>\n",
       "    <tr>\n",
       "      <th>Deadpool (2016)</th>\n",
       "      <td>246</td>\n",
       "      <td>241</td>\n",
       "      <td>243.5</td>\n",
       "    </tr>\n",
       "    <tr>\n",
       "      <th>Interstellar (2014)</th>\n",
       "      <td>244</td>\n",
       "      <td>247</td>\n",
       "      <td>245.5</td>\n",
       "    </tr>\n",
       "    <tr>\n",
       "      <th>Intouchables (2011)</th>\n",
       "      <td>245</td>\n",
       "      <td>246</td>\n",
       "      <td>245.5</td>\n",
       "    </tr>\n",
       "    <tr>\n",
       "      <th>Edge of Tomorrow (2014)</th>\n",
       "      <td>247</td>\n",
       "      <td>244</td>\n",
       "      <td>245.5</td>\n",
       "    </tr>\n",
       "  </tbody>\n",
       "</table>\n",
       "<p>248 rows × 3 columns</p>\n",
       "</div>"
      ],
      "text/plain": [
       "                                                    Arg Users  Arg Movies  \\\n",
       "Graduate, The (1967)                                        5           0   \n",
       "Raiders of the Lost Ark (Indiana Jones and the ...          0          16   \n",
       "One Flew Over the Cuckoo's Nest (1975)                      2          18   \n",
       "Traffic (2000)                                             13           8   \n",
       "Chasing Amy (1997)                                         21           6   \n",
       "...                                                       ...         ...   \n",
       "Wolf of Wall Street, The (2013)                           239         240   \n",
       "Deadpool (2016)                                           246         241   \n",
       "Interstellar (2014)                                       244         247   \n",
       "Intouchables (2011)                                       245         246   \n",
       "Edge of Tomorrow (2014)                                   247         244   \n",
       "\n",
       "                                                     Mean  \n",
       "Graduate, The (1967)                                  2.5  \n",
       "Raiders of the Lost Ark (Indiana Jones and the ...    8.0  \n",
       "One Flew Over the Cuckoo's Nest (1975)               10.0  \n",
       "Traffic (2000)                                       10.5  \n",
       "Chasing Amy (1997)                                   13.5  \n",
       "...                                                   ...  \n",
       "Wolf of Wall Street, The (2013)                     239.5  \n",
       "Deadpool (2016)                                     243.5  \n",
       "Interstellar (2014)                                 245.5  \n",
       "Intouchables (2011)                                 245.5  \n",
       "Edge of Tomorrow (2014)                             245.5  \n",
       "\n",
       "[248 rows x 3 columns]"
      ]
     },
     "execution_count": 31,
     "metadata": {},
     "output_type": "execute_result"
    }
   ],
   "source": [
    "test2"
   ]
  }
 ],
 "metadata": {
  "kernelspec": {
   "display_name": "Python 3.8.3 64-bit",
   "language": "python",
   "name": "python3"
  },
  "language_info": {
   "codemirror_mode": {
    "name": "ipython",
    "version": 3
   },
   "file_extension": ".py",
   "mimetype": "text/x-python",
   "name": "python",
   "nbconvert_exporter": "python",
   "pygments_lexer": "ipython3",
   "version": "3.8.3"
  },
  "orig_nbformat": 4,
  "vscode": {
   "interpreter": {
    "hash": "570feb405e2e27c949193ac68f46852414290d515b0ba6e5d90d076ed2284471"
   }
  }
 },
 "nbformat": 4,
 "nbformat_minor": 2
}
